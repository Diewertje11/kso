{
 "cells": [
  {
   "cell_type": "markdown",
   "id": "67c2dc7a",
   "metadata": {},
   "source": [
    "Latest update: 2022-12-06 20:35:03.967692"
   ]
  },
  {
   "cell_type": "markdown",
   "metadata": {},
   "source": [
    "<img align=\"left\" src=\"https://panoptes-uploads.zooniverse.org/project_avatar/86c23ca7-bbaa-4e84-8d8a-876819551431.png\" type=\"image/png\" height=100 width=100>\n",
    "</img>\n",
    "<h1 align=\"right\">KSO Tutorials #5: Train Object Detection models</h1>\n",
    "<h3 align=\"right\">Written by @jannesgg and @vykanton</h3>"
   ]
  },
  {
   "cell_type": "markdown",
   "metadata": {},
   "source": [
    "# 1. Set up and requirements"
   ]
  },
  {
   "cell_type": "markdown",
   "metadata": {},
   "source": [
    "### Install and import Python packages"
   ]
  },
  {
   "cell_type": "code",
   "execution_count": null,
   "metadata": {},
   "outputs": [],
   "source": [
    "from IPython.display import clear_output\n",
    "\n",
    "try:\n",
    "    import google.colab\n",
    "    import os\n",
    "\n",
    "    IN_COLAB = True\n",
    "    print(\"Running in Colab...\")\n",
    "\n",
    "    # Clone repo\n",
    "    !git clone --recurse-submodules https://github.com/ocean-data-factory-sweden/koster_yolov4.git\n",
    "    !pip install -q --upgrade pip\n",
    "    !pip install -q -r koster_yolov4/requirements.txt\n",
    "\n",
    "    # Fix libmagic issue\n",
    "    !apt-get -qq update && apt-get -qq install -y libmagic-dev > /dev/null\n",
    "\n",
    "    # Replace upsampling script with custom version\n",
    "    os.chdir(\"koster_yolov4/tutorials\")\n",
    "    !mv ../src/upsampling.py /usr/local/lib/python3.7/dist-packages/torch/nn/modules/upsampling.py\n",
    "\n",
    "    # Replace nearest neighbours script with custom version (due to relative path issue)\n",
    "    !cp ../src/nn_matching.py ../yolov5_tracker/strong_sort/sort/nn_matching.py\n",
    "    !cp ../src/track.py ../yolov5_tracker/track.py\n",
    "\n",
    "    # Enable external widgets\n",
    "    from google.colab import output\n",
    "\n",
    "    output.enable_custom_widget_manager()\n",
    "\n",
    "    # Ensure widgets are shown properly\n",
    "    !jupyter nbextension enable --user --py widgetsnbextension\n",
    "    !jupyter nbextension enable --user --py jupyter_bbox_widget\n",
    "\n",
    "    print(\"All packages are installed and ready to go!\")\n",
    "    try:\n",
    "        clear_output()\n",
    "        print(\"All packages are installed and ready to go!\")\n",
    "    except:\n",
    "        clear_output()\n",
    "        print(\"There have been some issues installing the packages!\")\n",
    "except:\n",
    "    IN_COLAB = False\n",
    "    import sys\n",
    "    import pkgutil\n",
    "\n",
    "    if pkgutil.find_loader(\"torch\") is not None:\n",
    "        !pip install -q --upgrade pip\n",
    "        !pip install -q torch==1.8.0 torchvision==0.9.0\n",
    "    # Replace nearest neighbours script with custom version (due to relative path issue)\n",
    "    #!cp ../src/nn_matching.py ../yolov5_tracker/strong_sort/sort/nn_matching.py\n",
    "    #!cp ../src/track.py ../yolov5_tracker/track.py\n",
    "    # Ensure widgets are shown properly\n",
    "    !jupyter nbextension enable --user --py widgetsnbextension\n",
    "    !jupyter nbextension enable --user --py jupyter_bbox_widget\n",
    "    clear_output()\n",
    "    print(\"Running locally... you're good to go!\")"
   ]
  },
  {
   "cell_type": "code",
   "execution_count": null,
   "metadata": {
    "id": "8x8PxQNI0UKI"
   },
   "outputs": [
    {
     "name": "stdout",
     "output_type": "stream",
     "text": [
      "Packages loaded successfully\n"
     ]
    }
   ],
   "source": [
    "# Set the directory of the libraries\n",
    "import sys, os\n",
    "\n",
    "sys.path.append(\"..\")\n",
    "\n",
    "# Enables testing changes in utils\n",
    "%load_ext autoreload\n",
    "%autoreload 2\n",
    "\n",
    "# Import required modules\n",
    "from pathlib import Path\n",
    "from ipyfilechooser import FileChooser\n",
    "import kso_utils.tutorials_utils as t_utils\n",
    "import kso_utils.server_utils as s_utils\n",
    "import kso_utils.project_utils as p_utils\n",
    "import kso_utils.t3_utils as t3\n",
    "import kso_utils.t4_utils as t4\n",
    "import kso_utils.t5_utils as t5\n",
    "import kso_utils.t6_utils as t6\n",
    "import kso_utils.t8_utils as t8\n",
    "from kso_utils.yolo_utils import frame_aggregation\n",
    "from kso_utils.zooniverse_utils import populate_agg_annotations\n",
    "import wandb\n",
    "\n",
    "# Model-specific imports\n",
    "import yolov5.train as train\n",
    "import yolov5.val as val\n",
    "import yolov5.detect as detect\n",
    "\n",
    "clear_output()\n",
    "print(\"Packages loaded successfully\")"
   ]
  },
  {
   "cell_type": "markdown",
   "metadata": {
    "id": "mcFpT7njzfGw"
   },
   "source": [
    "# 2. Train the model"
   ]
  },
  {
   "cell_type": "markdown",
   "metadata": {},
   "source": [
    "🔴 <span style=\"color:red\">&nbsp;NOTE: To be able to train your own models, you will need access to the Koster WANDB group. You may request this access by contacting jurie.germishuys@combine.se. </span>"
   ]
  },
  {
   "cell_type": "markdown",
   "metadata": {
    "id": "ZZWAWkVZzfGr"
   },
   "source": [
    "### Choose your project"
   ]
  },
  {
   "cell_type": "code",
   "execution_count": null,
   "metadata": {
    "id": "ZI0XH96WzfGs"
   },
   "outputs": [
    {
     "data": {
      "application/vnd.jupyter.widget-view+json": {
       "model_id": "60364e5dfdf24a76b20a88d82887c924",
       "version_major": 2,
       "version_minor": 0
      },
      "text/plain": [
       "Dropdown(description='Project:', options=('Template project', 'Koster_Seafloor_Obs', 'Spyfish_Aotearoa', 'SGU'…"
      ]
     },
     "metadata": {},
     "output_type": "display_data"
    }
   ],
   "source": [
    "project_name = t_utils.choose_project()"
   ]
  },
  {
   "cell_type": "code",
   "execution_count": null,
   "metadata": {
    "id": "o8ShAbg3zfGs"
   },
   "outputs": [
    {
     "name": "stderr",
     "output_type": "stream",
     "text": [
      "INFO:root:Template project loaded succesfully\n",
      "Template project loaded succesfully\n"
     ]
    }
   ],
   "source": [
    "project = p_utils.find_project(project_name=project_name.value)"
   ]
  },
  {
   "cell_type": "markdown",
   "metadata": {
    "id": "m7EK4BXjzfGu"
   },
   "source": [
    "### Configure data paths"
   ]
  },
  {
   "cell_type": "code",
   "execution_count": null,
   "metadata": {
    "id": "HvaEo7mjzfGv"
   },
   "outputs": [
    {
     "data": {
      "application/vnd.jupyter.widget-view+json": {
       "model_id": "668003197aa64e5abac5ed2aff460509",
       "version_major": 2,
       "version_minor": 0
      },
      "text/plain": [
       "FileChooser(path='.', filename='', title='HTML(value='Choose location of output')', show_hidden='False', use_d…"
      ]
     },
     "metadata": {},
     "output_type": "display_data"
    }
   ],
   "source": [
    "# Specify path containing the images and labels folders.\n",
    "output_folder = t_utils.choose_folder(\n",
    "    project.photo_folder if not project.photo_folder == \"None\" else \".\", \"output\"\n",
    ")"
   ]
  },
  {
   "cell_type": "markdown",
   "metadata": {},
   "source": [
    "🔴 <span style=\"color:red\">&nbsp;NOTE: To be able to train your own models, your data_path must contain a yml file for data and hyperparameters. See https://github.com/ultralytics/yolov5/wiki/Train-Custom-Data#11-create-datasetyaml  </span>"
   ]
  },
  {
   "cell_type": "code",
   "execution_count": 10,
   "metadata": {
    "id": "Jt2PIFLdzfGw"
   },
   "outputs": [
    {
     "name": "stderr",
     "output_type": "stream",
     "text": [
      "INFO:root:Success! Paths to data.yaml and hyps.yaml found.\n",
      "Success! Paths to data.yaml and hyps.yaml found.\n"
     ]
    }
   ],
   "source": [
    "# Fix important paths\n",
    "data_path, hyps_path = t5.setup_paths(output_folder.selected)\n",
    "project_path = str(Path(output_folder.selected, project.Project_name.lower()))"
   ]
  },
  {
   "cell_type": "markdown",
   "metadata": {},
   "source": [
    "### Choose a suitable experiment name"
   ]
  },
  {
   "cell_type": "code",
   "execution_count": 11,
   "metadata": {},
   "outputs": [
    {
     "data": {
      "application/vnd.jupyter.widget-view+json": {
       "model_id": "19aa857ede2240b08ca04cd20e41cc18",
       "version_major": 2,
       "version_minor": 0
      },
      "text/plain": [
       "Text(value='exp_name', description='Experiment name:', placeholder='Choose an experiment name', style=Descript…"
      ]
     },
     "metadata": {},
     "output_type": "display_data"
    }
   ],
   "source": [
    "exp_name = t5.choose_experiment_name()"
   ]
  },
  {
   "cell_type": "markdown",
   "metadata": {
    "id": "rTb9DFFWzfGw"
   },
   "source": [
    "### Choose model to use for training"
   ]
  },
  {
   "cell_type": "code",
   "execution_count": 12,
   "metadata": {},
   "outputs": [
    {
     "data": {
      "application/vnd.jupyter.widget-view+json": {
       "model_id": "458742de40e9478080259b3eaff6da92",
       "version_major": 2,
       "version_minor": 0
      },
      "text/plain": [
       "FileChooser(path='.', filename='', title='HTML(value='Choose location of model download')', show_hidden='False…"
      ]
     },
     "metadata": {},
     "output_type": "display_data"
    }
   ],
   "source": [
    "# Specify path to download baseline model\n",
    "download_folder = t_utils.choose_folder(\n",
    "    project.photo_folder if not project.photo_folder == \"None\" else \".\",\n",
    "    \"model download\",\n",
    ")"
   ]
  },
  {
   "cell_type": "code",
   "execution_count": 13,
   "metadata": {},
   "outputs": [
    {
     "data": {
      "application/vnd.jupyter.widget-view+json": {
       "model_id": "1ede0873d0b243baa3bd733aed18d899",
       "version_major": 2,
       "version_minor": 0
      },
      "text/plain": [
       "Dropdown(description='Select model:', layout=Layout(width='50%'), options=(('yolov5m-classifier', <ArtifactCol…"
      ]
     },
     "metadata": {},
     "output_type": "display_data"
    },
    {
     "data": {
      "application/vnd.jupyter.widget-view+json": {
       "model_id": "333f7548f9484a9d928d1673c8e6f7b7",
       "version_major": 2,
       "version_minor": 0
      },
      "text/plain": [
       "Output()"
      ]
     },
     "metadata": {},
     "output_type": "display_data"
    }
   ],
   "source": [
    "weights = t5.choose_baseline_model(download_folder.value)"
   ]
  },
  {
   "cell_type": "markdown",
   "metadata": {
    "id": "rTb9DFFWzfGw"
   },
   "source": [
    "### Train model with given configuration"
   ]
  },
  {
   "cell_type": "code",
   "execution_count": 14,
   "metadata": {},
   "outputs": [
    {
     "data": {
      "application/vnd.jupyter.widget-view+json": {
       "model_id": "fc0589d3d60d45e4abc5f024e7c175bc",
       "version_major": 2,
       "version_minor": 0
      },
      "text/plain": [
       "HBox(children=(FloatLogSlider(value=1.0, base=2.0, description='Batch size:', max=10.0, readout_format='d', st…"
      ]
     },
     "metadata": {},
     "output_type": "display_data"
    }
   ],
   "source": [
    "batch_size, epochs, conf_thres = t5.choose_train_params()"
   ]
  },
  {
   "cell_type": "code",
   "execution_count": 15,
   "metadata": {
    "id": "JtoEszUszfGw",
    "scrolled": true
   },
   "outputs": [
    {
     "name": "stderr",
     "output_type": "stream",
     "text": [
      "\u001b[34m\u001b[1mtrain: \u001b[0mweights=artifacts/baseline-yolov5:v0/yolov5m.pt, cfg=, data=/Users/jurie.germishuys/Workspace/odf/koster-uw/models/yolov5/tutorials/ml-template-data/Koster_Seafloor_Obs_14:28:20.yaml, hyp=/Users/jurie.germishuys/Workspace/odf/koster-uw/models/yolov5/tutorials/ml-template-data/hyp.yaml, epochs=1, batch_size=8, imgsz=640, rect=False, resume=False, nosave=False, noval=False, noautoanchor=False, noplots=False, evolve=None, bucket=, cache=None, image_weights=False, device=, multi_scale=False, single_cls=False, optimizer=SGD, sync_bn=False, workers=1, project=/Users/jurie.germishuys/Workspace/odf/koster-uw/models/yolov5/tutorials/ml-template-data/template project, name=exp_name, exist_ok=False, quad=False, cos_lr=False, label_smoothing=0.0, patience=100, freeze=[0], save_period=-1, seed=0, local_rank=-1, entity=koster, upload_dataset=False, bbox_interval=-1, artifact_alias=latest, img_size=[720, 540], cache_images=True\n",
      "\u001b[34m\u001b[1mgithub: \u001b[0m⚠️ YOLOv5 is out of date by 24 commits. Use `git pull` or `git clone https://github.com/ultralytics/yolov5` to update.\n",
      "YOLOv5 🚀 2022-12-6 Python-3.8.8 torch-1.8.0 CPU\n",
      "\n",
      "\u001b[34m\u001b[1mhyperparameters: \u001b[0manchor_t=4.0, box=0.05, cls=0.5, cls_pw=1.0, copy_paste=0.0, degrees=0.0, fl_gamma=0.0, fliplr=0.5, flipud=0.0, hsv_h=0.015, hsv_s=0.7, hsv_v=0.4, iou_t=0.2, lr0=0.01, lrf=0.1, mixup=0.0, momentum=0.937, mosaic=1.0, obj=1.0, obj_pw=1.0, perspective=0.0, scale=0.5, shear=0.0, translate=0.1, warmup_bias_lr=0.1, warmup_epochs=3.0, warmup_momentum=0.8, weight_decay=0.0005\n",
      "\u001b[34m\u001b[1mClearML: \u001b[0mrun 'pip install clearml' to automatically track, visualize and remotely train YOLOv5 🚀 in ClearML\n",
      "\u001b[34m\u001b[1mComet: \u001b[0mrun 'pip install comet_ml' to automatically track and visualize YOLOv5 🚀 runs in Comet\n",
      "\u001b[34m\u001b[1mTensorBoard: \u001b[0mStart with 'tensorboard --logdir /Users/jurie.germishuys/Workspace/odf/koster-uw/models/yolov5/tutorials/ml-template-data/template project', view at http://localhost:6006/\n"
     ]
    },
    {
     "data": {
      "text/html": [
       "wandb version 0.13.5 is available!  To upgrade, please run:\n",
       " $ pip install wandb --upgrade"
      ],
      "text/plain": [
       "<IPython.core.display.HTML object>"
      ]
     },
     "metadata": {},
     "output_type": "display_data"
    },
    {
     "data": {
      "text/html": [
       "Tracking run with wandb version 0.13.2"
      ],
      "text/plain": [
       "<IPython.core.display.HTML object>"
      ]
     },
     "metadata": {},
     "output_type": "display_data"
    },
    {
     "data": {
      "text/html": [
       "Run data is saved locally in <code>/Users/jurie.germishuys/Workspace/odf/koster-uw/models/yolov5/tutorials/wandb/run-20221206_153911-1nq5u3pl</code>"
      ],
      "text/plain": [
       "<IPython.core.display.HTML object>"
      ]
     },
     "metadata": {},
     "output_type": "display_data"
    },
    {
     "data": {
      "text/html": [
       "Syncing run <strong><a href=\"https://wandb.ai/koster/template%20project/runs/1nq5u3pl\" target=\"_blank\">exp_name</a></strong> to <a href=\"https://wandb.ai/koster/template%20project\" target=\"_blank\">Weights & Biases</a> (<a href=\"https://wandb.me/run\" target=\"_blank\">docs</a>)<br/>"
      ],
      "text/plain": [
       "<IPython.core.display.HTML object>"
      ]
     },
     "metadata": {},
     "output_type": "display_data"
    },
    {
     "name": "stderr",
     "output_type": "stream",
     "text": [
      "Overriding model.yaml nc=80 with nc=1\n",
      "\n",
      "                 from  n    params  module                                  arguments                     \n",
      "  0                -1  1      5280  models.common.Focus                     [3, 48, 3]                    \n",
      "  1                -1  1     41664  models.common.Conv                      [48, 96, 3, 2]                \n",
      "  2                -1  2     65280  models.common.C3                        [96, 96, 2]                   \n",
      "  3                -1  1    166272  models.common.Conv                      [96, 192, 3, 2]               \n",
      "  4                -1  6    629760  models.common.C3                        [192, 192, 6]                 \n",
      "  5                -1  1    664320  models.common.Conv                      [192, 384, 3, 2]              \n",
      "  6                -1  6   2512896  models.common.C3                        [384, 384, 6]                 \n",
      "  7                -1  1   2655744  models.common.Conv                      [384, 768, 3, 2]              \n",
      "  8                -1  1   1476864  models.common.SPP                       [768, 768, [5, 9, 13]]        \n",
      "  9                -1  2   4134912  models.common.C3                        [768, 768, 2, False]          \n",
      " 10                -1  1    295680  models.common.Conv                      [768, 384, 1, 1]              \n",
      " 11                -1  1         0  torch.nn.modules.upsampling.Upsample    [None, 2, 'nearest']          \n",
      " 12           [-1, 6]  1         0  models.common.Concat                    [1]                           \n",
      " 13                -1  2   1182720  models.common.C3                        [768, 384, 2, False]          \n",
      " 14                -1  1     74112  models.common.Conv                      [384, 192, 1, 1]              \n",
      " 15                -1  1         0  torch.nn.modules.upsampling.Upsample    [None, 2, 'nearest']          \n",
      " 16           [-1, 4]  1         0  models.common.Concat                    [1]                           \n",
      " 17                -1  2    296448  models.common.C3                        [384, 192, 2, False]          \n",
      " 18                -1  1    332160  models.common.Conv                      [192, 192, 3, 2]              \n",
      " 19          [-1, 14]  1         0  models.common.Concat                    [1]                           \n",
      " 20                -1  2   1035264  models.common.C3                        [384, 384, 2, False]          \n",
      " 21                -1  1   1327872  models.common.Conv                      [384, 384, 3, 2]              \n",
      " 22          [-1, 10]  1         0  models.common.Concat                    [1]                           \n",
      " 23                -1  2   4134912  models.common.C3                        [768, 768, 2, False]          \n",
      " 24      [17, 20, 23]  1     24246  models.yolo.Detect                      [1, [[10, 13, 16, 30, 33, 23], [30, 61, 62, 45, 59, 119], [116, 90, 156, 198, 373, 326]], [192, 384, 768]]\n",
      "Model summary: 309 layers, 21056406 parameters, 21056406 gradients\n",
      "\n",
      "Transferred 499/505 items from artifacts/baseline-yolov5:v0/yolov5m.pt\n",
      "\u001b[34m\u001b[1moptimizer:\u001b[0m SGD(lr=0.01) with parameter groups 83 weight(decay=0.0), 86 weight(decay=0.0005), 86 bias\n",
      "\u001b[34m\u001b[1mtrain: \u001b[0mScanning /Users/jurie.germishuys/Workspace/odf/koster-uw/models/yolov5/tutorials/ml-template-data/train.cache... 1 images, 0 backgrounds, 350 corrupt: 100%|██████████| 351/351 00:00\n",
      "\u001b[34m\u001b[1mtrain: \u001b[0mWARNING: /Users/jurie.germishuys/Workspace/odf/koster-uw/models/yolov5/tutorials/ml-template-data/images/000114 TMBL-ROV 2000 Säckenrevet EJ numrerade band_frame_14275.jpg: ignoring corrupt image/label: [Errno 2] No such file or directory: '/Users/jurie.germishuys/Workspace/odf/koster-uw/models/yolov5/tutorials/ml-template-data/images/000114 TMBL-ROV 2000 Säckenrevet EJ numrerade band_frame_14275.jpg'\n",
      "\u001b[34m\u001b[1mtrain: \u001b[0mWARNING: /Users/jurie.germishuys/Workspace/odf/koster-uw/models/yolov5/tutorials/ml-template-data/images/000114 TMBL-ROV 2000 Säckenrevet EJ numrerade band_frame_17250.jpg: ignoring corrupt image/label: [Errno 2] No such file or directory: '/Users/jurie.germishuys/Workspace/odf/koster-uw/models/yolov5/tutorials/ml-template-data/images/000114 TMBL-ROV 2000 Säckenrevet EJ numrerade band_frame_17250.jpg'\n",
      "\u001b[34m\u001b[1mtrain: \u001b[0mWARNING: /Users/jurie.germishuys/Workspace/odf/koster-uw/models/yolov5/tutorials/ml-template-data/images/000114 TMBL-ROV 2000 Säckenrevet EJ numrerade band_frame_17275.jpg: ignoring corrupt image/label: [Errno 2] No such file or directory: '/Users/jurie.germishuys/Workspace/odf/koster-uw/models/yolov5/tutorials/ml-template-data/images/000114 TMBL-ROV 2000 Säckenrevet EJ numrerade band_frame_17275.jpg'\n",
      "\u001b[34m\u001b[1mtrain: \u001b[0mWARNING: /Users/jurie.germishuys/Workspace/odf/koster-uw/models/yolov5/tutorials/ml-template-data/images/000114 TMBL-ROV 2000 Säckenrevet EJ numrerade band_frame_27775.jpg: ignoring corrupt image/label: [Errno 2] No such file or directory: '/Users/jurie.germishuys/Workspace/odf/koster-uw/models/yolov5/tutorials/ml-template-data/images/000114 TMBL-ROV 2000 Säckenrevet EJ numrerade band_frame_27775.jpg'\n",
      "\u001b[34m\u001b[1mtrain: \u001b[0mWARNING: /Users/jurie.germishuys/Workspace/odf/koster-uw/models/yolov5/tutorials/ml-template-data/images/000114 TMBL-ROV 2000 Säckenrevet EJ numrerade band_frame_33000.jpg: ignoring corrupt image/label: [Errno 2] No such file or directory: '/Users/jurie.germishuys/Workspace/odf/koster-uw/models/yolov5/tutorials/ml-template-data/images/000114 TMBL-ROV 2000 Säckenrevet EJ numrerade band_frame_33000.jpg'\n",
      "\u001b[34m\u001b[1mtrain: \u001b[0mWARNING: /Users/jurie.germishuys/Workspace/odf/koster-uw/models/yolov5/tutorials/ml-template-data/images/000114 TMBL-ROV 2000 Säckenrevet EJ numrerade band_frame_35250.jpg: ignoring corrupt image/label: [Errno 2] No such file or directory: '/Users/jurie.germishuys/Workspace/odf/koster-uw/models/yolov5/tutorials/ml-template-data/images/000114 TMBL-ROV 2000 Säckenrevet EJ numrerade band_frame_35250.jpg'\n",
      "\u001b[34m\u001b[1mtrain: \u001b[0mWARNING: /Users/jurie.germishuys/Workspace/odf/koster-uw/models/yolov5/tutorials/ml-template-data/images/000114 TMBL-ROV 2000 Säckenrevet EJ numrerade band_frame_35275.jpg: ignoring corrupt image/label: [Errno 2] No such file or directory: '/Users/jurie.germishuys/Workspace/odf/koster-uw/models/yolov5/tutorials/ml-template-data/images/000114 TMBL-ROV 2000 Säckenrevet EJ numrerade band_frame_35275.jpg'\n",
      "\u001b[34m\u001b[1mtrain: \u001b[0mWARNING: /Users/jurie.germishuys/Workspace/odf/koster-uw/models/yolov5/tutorials/ml-template-data/images/000114 TMBL-ROV 2000 Säckenrevet EJ numrerade band_frame_42000.jpg: ignoring corrupt image/label: [Errno 2] No such file or directory: '/Users/jurie.germishuys/Workspace/odf/koster-uw/models/yolov5/tutorials/ml-template-data/images/000114 TMBL-ROV 2000 Säckenrevet EJ numrerade band_frame_42000.jpg'\n",
      "\u001b[34m\u001b[1mtrain: \u001b[0mWARNING: /Users/jurie.germishuys/Workspace/odf/koster-uw/models/yolov5/tutorials/ml-template-data/images/000114 TMBL-ROV 2000 Säckenrevet EJ numrerade band_frame_42025.jpg: ignoring corrupt image/label: [Errno 2] No such file or directory: '/Users/jurie.germishuys/Workspace/odf/koster-uw/models/yolov5/tutorials/ml-template-data/images/000114 TMBL-ROV 2000 Säckenrevet EJ numrerade band_frame_42025.jpg'\n",
      "\u001b[34m\u001b[1mtrain: \u001b[0mWARNING: /Users/jurie.germishuys/Workspace/odf/koster-uw/models/yolov5/tutorials/ml-template-data/images/000114 TMBL-ROV 2000 Säckenrevet EJ numrerade band_frame_4500.jpg: ignoring corrupt image/label: [Errno 2] No such file or directory: '/Users/jurie.germishuys/Workspace/odf/koster-uw/models/yolov5/tutorials/ml-template-data/images/000114 TMBL-ROV 2000 Säckenrevet EJ numrerade band_frame_4500.jpg'\n",
      "\u001b[34m\u001b[1mtrain: \u001b[0mWARNING: /Users/jurie.germishuys/Workspace/odf/koster-uw/models/yolov5/tutorials/ml-template-data/images/000114 TMBL-ROV 2000 Säckenrevet EJ numrerade band_frame_46500.jpg: ignoring corrupt image/label: [Errno 2] No such file or directory: '/Users/jurie.germishuys/Workspace/odf/koster-uw/models/yolov5/tutorials/ml-template-data/images/000114 TMBL-ROV 2000 Säckenrevet EJ numrerade band_frame_46500.jpg'\n",
      "\u001b[34m\u001b[1mtrain: \u001b[0mWARNING: /Users/jurie.germishuys/Workspace/odf/koster-uw/models/yolov5/tutorials/ml-template-data/images/000114 TMBL-ROV 2000 Säckenrevet EJ numrerade band_frame_49525.jpg: ignoring corrupt image/label: [Errno 2] No such file or directory: '/Users/jurie.germishuys/Workspace/odf/koster-uw/models/yolov5/tutorials/ml-template-data/images/000114 TMBL-ROV 2000 Säckenrevet EJ numrerade band_frame_49525.jpg'\n",
      "\u001b[34m\u001b[1mtrain: \u001b[0mWARNING: /Users/jurie.germishuys/Workspace/odf/koster-uw/models/yolov5/tutorials/ml-template-data/images/000114 TMBL-ROV 2000 Säckenrevet EJ numrerade band_frame_50275.jpg: ignoring corrupt image/label: [Errno 2] No such file or directory: '/Users/jurie.germishuys/Workspace/odf/koster-uw/models/yolov5/tutorials/ml-template-data/images/000114 TMBL-ROV 2000 Säckenrevet EJ numrerade band_frame_50275.jpg'\n",
      "\u001b[34m\u001b[1mtrain: \u001b[0mWARNING: /Users/jurie.germishuys/Workspace/odf/koster-uw/models/yolov5/tutorials/ml-template-data/images/000114 TMBL-ROV 2000 Säckenrevet EJ numrerade band_frame_50300.jpg: ignoring corrupt image/label: [Errno 2] No such file or directory: '/Users/jurie.germishuys/Workspace/odf/koster-uw/models/yolov5/tutorials/ml-template-data/images/000114 TMBL-ROV 2000 Säckenrevet EJ numrerade band_frame_50300.jpg'\n",
      "\u001b[34m\u001b[1mtrain: \u001b[0mWARNING: /Users/jurie.germishuys/Workspace/odf/koster-uw/models/yolov5/tutorials/ml-template-data/images/000114 TMBL-ROV 2000 Säckenrevet EJ numrerade band_frame_51025.jpg: ignoring corrupt image/label: [Errno 2] No such file or directory: '/Users/jurie.germishuys/Workspace/odf/koster-uw/models/yolov5/tutorials/ml-template-data/images/000114 TMBL-ROV 2000 Säckenrevet EJ numrerade band_frame_51025.jpg'\n",
      "\u001b[34m\u001b[1mtrain: \u001b[0mWARNING: /Users/jurie.germishuys/Workspace/odf/koster-uw/models/yolov5/tutorials/ml-template-data/images/000114 TMBL-ROV 2000 Säckenrevet EJ numrerade band_frame_5250.jpg: ignoring corrupt image/label: [Errno 2] No such file or directory: '/Users/jurie.germishuys/Workspace/odf/koster-uw/models/yolov5/tutorials/ml-template-data/images/000114 TMBL-ROV 2000 Säckenrevet EJ numrerade band_frame_5250.jpg'\n",
      "\u001b[34m\u001b[1mtrain: \u001b[0mWARNING: /Users/jurie.germishuys/Workspace/odf/koster-uw/models/yolov5/tutorials/ml-template-data/images/000114 TMBL-ROV 2000 Säckenrevet EJ numrerade band_frame_57750.jpg: ignoring corrupt image/label: [Errno 2] No such file or directory: '/Users/jurie.germishuys/Workspace/odf/koster-uw/models/yolov5/tutorials/ml-template-data/images/000114 TMBL-ROV 2000 Säckenrevet EJ numrerade band_frame_57750.jpg'\n",
      "\u001b[34m\u001b[1mtrain: \u001b[0mWARNING: /Users/jurie.germishuys/Workspace/odf/koster-uw/models/yolov5/tutorials/ml-template-data/images/000114 TMBL-ROV 2000 Säckenrevet EJ numrerade band_frame_57775.jpg: ignoring corrupt image/label: [Errno 2] No such file or directory: '/Users/jurie.germishuys/Workspace/odf/koster-uw/models/yolov5/tutorials/ml-template-data/images/000114 TMBL-ROV 2000 Säckenrevet EJ numrerade band_frame_57775.jpg'\n",
      "\u001b[34m\u001b[1mtrain: \u001b[0mWARNING: /Users/jurie.germishuys/Workspace/odf/koster-uw/models/yolov5/tutorials/ml-template-data/images/000114 TMBL-ROV 2000 Säckenrevet EJ numrerade band_frame_58500.jpg: ignoring corrupt image/label: [Errno 2] No such file or directory: '/Users/jurie.germishuys/Workspace/odf/koster-uw/models/yolov5/tutorials/ml-template-data/images/000114 TMBL-ROV 2000 Säckenrevet EJ numrerade band_frame_58500.jpg'\n",
      "\u001b[34m\u001b[1mtrain: \u001b[0mWARNING: /Users/jurie.germishuys/Workspace/odf/koster-uw/models/yolov5/tutorials/ml-template-data/images/000114 TMBL-ROV 2000 Säckenrevet EJ numrerade band_frame_58525.jpg: ignoring corrupt image/label: [Errno 2] No such file or directory: '/Users/jurie.germishuys/Workspace/odf/koster-uw/models/yolov5/tutorials/ml-template-data/images/000114 TMBL-ROV 2000 Säckenrevet EJ numrerade band_frame_58525.jpg'\n",
      "\u001b[34m\u001b[1mtrain: \u001b[0mWARNING: /Users/jurie.germishuys/Workspace/odf/koster-uw/models/yolov5/tutorials/ml-template-data/images/000114 TMBL-ROV 2000 Säckenrevet Tape 55_frame_100525.jpg: ignoring corrupt image/label: [Errno 2] No such file or directory: '/Users/jurie.germishuys/Workspace/odf/koster-uw/models/yolov5/tutorials/ml-template-data/images/000114 TMBL-ROV 2000 Säckenrevet Tape 55_frame_100525.jpg'\n",
      "\u001b[34m\u001b[1mtrain: \u001b[0mWARNING: /Users/jurie.germishuys/Workspace/odf/koster-uw/models/yolov5/tutorials/ml-template-data/images/000114 TMBL-ROV 2000 Säckenrevet Tape 55_frame_100550.jpg: ignoring corrupt image/label: [Errno 2] No such file or directory: '/Users/jurie.germishuys/Workspace/odf/koster-uw/models/yolov5/tutorials/ml-template-data/images/000114 TMBL-ROV 2000 Säckenrevet Tape 55_frame_100550.jpg'\n",
      "\u001b[34m\u001b[1mtrain: \u001b[0mWARNING: /Users/jurie.germishuys/Workspace/odf/koster-uw/models/yolov5/tutorials/ml-template-data/images/000114 TMBL-ROV 2000 Säckenrevet Tape 55_frame_11250.jpg: ignoring corrupt image/label: [Errno 2] No such file or directory: '/Users/jurie.germishuys/Workspace/odf/koster-uw/models/yolov5/tutorials/ml-template-data/images/000114 TMBL-ROV 2000 Säckenrevet Tape 55_frame_11250.jpg'\n",
      "\u001b[34m\u001b[1mtrain: \u001b[0mWARNING: /Users/jurie.germishuys/Workspace/odf/koster-uw/models/yolov5/tutorials/ml-template-data/images/000114 TMBL-ROV 2000 Säckenrevet Tape 55_frame_11275.jpg: ignoring corrupt image/label: [Errno 2] No such file or directory: '/Users/jurie.germishuys/Workspace/odf/koster-uw/models/yolov5/tutorials/ml-template-data/images/000114 TMBL-ROV 2000 Säckenrevet Tape 55_frame_11275.jpg'\n",
      "\u001b[34m\u001b[1mtrain: \u001b[0mWARNING: /Users/jurie.germishuys/Workspace/odf/koster-uw/models/yolov5/tutorials/ml-template-data/images/000114 TMBL-ROV 2000 Säckenrevet Tape 55_frame_12750.jpg: ignoring corrupt image/label: [Errno 2] No such file or directory: '/Users/jurie.germishuys/Workspace/odf/koster-uw/models/yolov5/tutorials/ml-template-data/images/000114 TMBL-ROV 2000 Säckenrevet Tape 55_frame_12750.jpg'\n",
      "\u001b[34m\u001b[1mtrain: \u001b[0mWARNING: /Users/jurie.germishuys/Workspace/odf/koster-uw/models/yolov5/tutorials/ml-template-data/images/000114 TMBL-ROV 2000 Säckenrevet Tape 55_frame_131250.jpg: ignoring corrupt image/label: [Errno 2] No such file or directory: '/Users/jurie.germishuys/Workspace/odf/koster-uw/models/yolov5/tutorials/ml-template-data/images/000114 TMBL-ROV 2000 Säckenrevet Tape 55_frame_131250.jpg'\n",
      "\u001b[34m\u001b[1mtrain: \u001b[0mWARNING: /Users/jurie.germishuys/Workspace/odf/koster-uw/models/yolov5/tutorials/ml-template-data/images/000114 TMBL-ROV 2000 Säckenrevet Tape 55_frame_132000.jpg: ignoring corrupt image/label: [Errno 2] No such file or directory: '/Users/jurie.germishuys/Workspace/odf/koster-uw/models/yolov5/tutorials/ml-template-data/images/000114 TMBL-ROV 2000 Säckenrevet Tape 55_frame_132000.jpg'\n",
      "\u001b[34m\u001b[1mtrain: \u001b[0mWARNING: /Users/jurie.germishuys/Workspace/odf/koster-uw/models/yolov5/tutorials/ml-template-data/images/000114 TMBL-ROV 2000 Säckenrevet Tape 55_frame_132025.jpg: ignoring corrupt image/label: [Errno 2] No such file or directory: '/Users/jurie.germishuys/Workspace/odf/koster-uw/models/yolov5/tutorials/ml-template-data/images/000114 TMBL-ROV 2000 Säckenrevet Tape 55_frame_132025.jpg'\n",
      "\u001b[34m\u001b[1mtrain: \u001b[0mWARNING: /Users/jurie.germishuys/Workspace/odf/koster-uw/models/yolov5/tutorials/ml-template-data/images/000114 TMBL-ROV 2000 Säckenrevet Tape 55_frame_132750.jpg: ignoring corrupt image/label: [Errno 2] No such file or directory: '/Users/jurie.germishuys/Workspace/odf/koster-uw/models/yolov5/tutorials/ml-template-data/images/000114 TMBL-ROV 2000 Säckenrevet Tape 55_frame_132750.jpg'\n",
      "\u001b[34m\u001b[1mtrain: \u001b[0mWARNING: /Users/jurie.germishuys/Workspace/odf/koster-uw/models/yolov5/tutorials/ml-template-data/images/000114 TMBL-ROV 2000 Säckenrevet Tape 55_frame_132775.jpg: ignoring corrupt image/label: [Errno 2] No such file or directory: '/Users/jurie.germishuys/Workspace/odf/koster-uw/models/yolov5/tutorials/ml-template-data/images/000114 TMBL-ROV 2000 Säckenrevet Tape 55_frame_132775.jpg'\n",
      "\u001b[34m\u001b[1mtrain: \u001b[0mWARNING: /Users/jurie.germishuys/Workspace/odf/koster-uw/models/yolov5/tutorials/ml-template-data/images/000114 TMBL-ROV 2000 Säckenrevet Tape 55_frame_133500.jpg: ignoring corrupt image/label: [Errno 2] No such file or directory: '/Users/jurie.germishuys/Workspace/odf/koster-uw/models/yolov5/tutorials/ml-template-data/images/000114 TMBL-ROV 2000 Säckenrevet Tape 55_frame_133500.jpg'\n",
      "\u001b[34m\u001b[1mtrain: \u001b[0mWARNING: /Users/jurie.germishuys/Workspace/odf/koster-uw/models/yolov5/tutorials/ml-template-data/images/000114 TMBL-ROV 2000 Säckenrevet Tape 55_frame_133525.jpg: ignoring corrupt image/label: [Errno 2] No such file or directory: '/Users/jurie.germishuys/Workspace/odf/koster-uw/models/yolov5/tutorials/ml-template-data/images/000114 TMBL-ROV 2000 Säckenrevet Tape 55_frame_133525.jpg'\n",
      "\u001b[34m\u001b[1mtrain: \u001b[0mWARNING: /Users/jurie.germishuys/Workspace/odf/koster-uw/models/yolov5/tutorials/ml-template-data/images/000114 TMBL-ROV 2000 Säckenrevet Tape 55_frame_13500.jpg: ignoring corrupt image/label: [Errno 2] No such file or directory: '/Users/jurie.germishuys/Workspace/odf/koster-uw/models/yolov5/tutorials/ml-template-data/images/000114 TMBL-ROV 2000 Säckenrevet Tape 55_frame_13500.jpg'\n",
      "\u001b[34m\u001b[1mtrain: \u001b[0mWARNING: /Users/jurie.germishuys/Workspace/odf/koster-uw/models/yolov5/tutorials/ml-template-data/images/000114 TMBL-ROV 2000 Säckenrevet Tape 55_frame_149250.jpg: ignoring corrupt image/label: [Errno 2] No such file or directory: '/Users/jurie.germishuys/Workspace/odf/koster-uw/models/yolov5/tutorials/ml-template-data/images/000114 TMBL-ROV 2000 Säckenrevet Tape 55_frame_149250.jpg'\n",
      "\u001b[34m\u001b[1mtrain: \u001b[0mWARNING: /Users/jurie.germishuys/Workspace/odf/koster-uw/models/yolov5/tutorials/ml-template-data/images/000114 TMBL-ROV 2000 Säckenrevet Tape 55_frame_15000.jpg: ignoring corrupt image/label: [Errno 2] No such file or directory: '/Users/jurie.germishuys/Workspace/odf/koster-uw/models/yolov5/tutorials/ml-template-data/images/000114 TMBL-ROV 2000 Säckenrevet Tape 55_frame_15000.jpg'\n",
      "\u001b[34m\u001b[1mtrain: \u001b[0mWARNING: /Users/jurie.germishuys/Workspace/odf/koster-uw/models/yolov5/tutorials/ml-template-data/images/000114 TMBL-ROV 2000 Säckenrevet Tape 55_frame_15025.jpg: ignoring corrupt image/label: [Errno 2] No such file or directory: '/Users/jurie.germishuys/Workspace/odf/koster-uw/models/yolov5/tutorials/ml-template-data/images/000114 TMBL-ROV 2000 Säckenrevet Tape 55_frame_15025.jpg'\n",
      "\u001b[34m\u001b[1mtrain: \u001b[0mWARNING: /Users/jurie.germishuys/Workspace/odf/koster-uw/models/yolov5/tutorials/ml-template-data/images/000114 TMBL-ROV 2000 Säckenrevet Tape 55_frame_16525.jpg: ignoring corrupt image/label: [Errno 2] No such file or directory: '/Users/jurie.germishuys/Workspace/odf/koster-uw/models/yolov5/tutorials/ml-template-data/images/000114 TMBL-ROV 2000 Säckenrevet Tape 55_frame_16525.jpg'\n",
      "\u001b[34m\u001b[1mtrain: \u001b[0mWARNING: /Users/jurie.germishuys/Workspace/odf/koster-uw/models/yolov5/tutorials/ml-template-data/images/000114 TMBL-ROV 2000 Säckenrevet Tape 55_frame_171837.jpg: ignoring corrupt image/label: [Errno 2] No such file or directory: '/Users/jurie.germishuys/Workspace/odf/koster-uw/models/yolov5/tutorials/ml-template-data/images/000114 TMBL-ROV 2000 Säckenrevet Tape 55_frame_171837.jpg'\n",
      "\u001b[34m\u001b[1mtrain: \u001b[0mWARNING: /Users/jurie.germishuys/Workspace/odf/koster-uw/models/yolov5/tutorials/ml-template-data/images/000114 TMBL-ROV 2000 Säckenrevet Tape 55_frame_173250.jpg: ignoring corrupt image/label: [Errno 2] No such file or directory: '/Users/jurie.germishuys/Workspace/odf/koster-uw/models/yolov5/tutorials/ml-template-data/images/000114 TMBL-ROV 2000 Säckenrevet Tape 55_frame_173250.jpg'\n",
      "\u001b[34m\u001b[1mtrain: \u001b[0mWARNING: /Users/jurie.germishuys/Workspace/odf/koster-uw/models/yolov5/tutorials/ml-template-data/images/000114 TMBL-ROV 2000 Säckenrevet Tape 55_frame_173275.jpg: ignoring corrupt image/label: [Errno 2] No such file or directory: '/Users/jurie.germishuys/Workspace/odf/koster-uw/models/yolov5/tutorials/ml-template-data/images/000114 TMBL-ROV 2000 Säckenrevet Tape 55_frame_173275.jpg'\n",
      "\u001b[34m\u001b[1mtrain: \u001b[0mWARNING: /Users/jurie.germishuys/Workspace/odf/koster-uw/models/yolov5/tutorials/ml-template-data/images/000114 TMBL-ROV 2000 Säckenrevet Tape 55_frame_17350.jpg: ignoring corrupt image/label: [Errno 2] No such file or directory: '/Users/jurie.germishuys/Workspace/odf/koster-uw/models/yolov5/tutorials/ml-template-data/images/000114 TMBL-ROV 2000 Säckenrevet Tape 55_frame_17350.jpg'\n",
      "\u001b[34m\u001b[1mtrain: \u001b[0mWARNING: /Users/jurie.germishuys/Workspace/odf/koster-uw/models/yolov5/tutorials/ml-template-data/images/000114 TMBL-ROV 2000 Säckenrevet Tape 55_frame_17375.jpg: ignoring corrupt image/label: [Errno 2] No such file or directory: '/Users/jurie.germishuys/Workspace/odf/koster-uw/models/yolov5/tutorials/ml-template-data/images/000114 TMBL-ROV 2000 Säckenrevet Tape 55_frame_17375.jpg'\n",
      "\u001b[34m\u001b[1mtrain: \u001b[0mWARNING: /Users/jurie.germishuys/Workspace/odf/koster-uw/models/yolov5/tutorials/ml-template-data/images/000114 TMBL-ROV 2000 Säckenrevet Tape 55_frame_174000.jpg: ignoring corrupt image/label: [Errno 2] No such file or directory: '/Users/jurie.germishuys/Workspace/odf/koster-uw/models/yolov5/tutorials/ml-template-data/images/000114 TMBL-ROV 2000 Säckenrevet Tape 55_frame_174000.jpg'\n",
      "\u001b[34m\u001b[1mtrain: \u001b[0mWARNING: /Users/jurie.germishuys/Workspace/odf/koster-uw/models/yolov5/tutorials/ml-template-data/images/000114 TMBL-ROV 2000 Säckenrevet Tape 55_frame_174025.jpg: ignoring corrupt image/label: [Errno 2] No such file or directory: '/Users/jurie.germishuys/Workspace/odf/koster-uw/models/yolov5/tutorials/ml-template-data/images/000114 TMBL-ROV 2000 Säckenrevet Tape 55_frame_174025.jpg'\n",
      "\u001b[34m\u001b[1mtrain: \u001b[0mWARNING: /Users/jurie.germishuys/Workspace/odf/koster-uw/models/yolov5/tutorials/ml-template-data/images/000114 TMBL-ROV 2000 Säckenrevet Tape 55_frame_174775.jpg: ignoring corrupt image/label: [Errno 2] No such file or directory: '/Users/jurie.germishuys/Workspace/odf/koster-uw/models/yolov5/tutorials/ml-template-data/images/000114 TMBL-ROV 2000 Säckenrevet Tape 55_frame_174775.jpg'\n",
      "\u001b[34m\u001b[1mtrain: \u001b[0mWARNING: /Users/jurie.germishuys/Workspace/odf/koster-uw/models/yolov5/tutorials/ml-template-data/images/000114 TMBL-ROV 2000 Säckenrevet Tape 55_frame_175500.jpg: ignoring corrupt image/label: [Errno 2] No such file or directory: '/Users/jurie.germishuys/Workspace/odf/koster-uw/models/yolov5/tutorials/ml-template-data/images/000114 TMBL-ROV 2000 Säckenrevet Tape 55_frame_175500.jpg'\n",
      "\u001b[34m\u001b[1mtrain: \u001b[0mWARNING: /Users/jurie.germishuys/Workspace/odf/koster-uw/models/yolov5/tutorials/ml-template-data/images/000114 TMBL-ROV 2000 Säckenrevet Tape 55_frame_175525.jpg: ignoring corrupt image/label: [Errno 2] No such file or directory: '/Users/jurie.germishuys/Workspace/odf/koster-uw/models/yolov5/tutorials/ml-template-data/images/000114 TMBL-ROV 2000 Säckenrevet Tape 55_frame_175525.jpg'\n",
      "\u001b[34m\u001b[1mtrain: \u001b[0mWARNING: /Users/jurie.germishuys/Workspace/odf/koster-uw/models/yolov5/tutorials/ml-template-data/images/000114 TMBL-ROV 2000 Säckenrevet Tape 55_frame_180000.jpg: ignoring corrupt image/label: [Errno 2] No such file or directory: '/Users/jurie.germishuys/Workspace/odf/koster-uw/models/yolov5/tutorials/ml-template-data/images/000114 TMBL-ROV 2000 Säckenrevet Tape 55_frame_180000.jpg'\n",
      "\u001b[34m\u001b[1mtrain: \u001b[0mWARNING: /Users/jurie.germishuys/Workspace/odf/koster-uw/models/yolov5/tutorials/ml-template-data/images/000114 TMBL-ROV 2000 Säckenrevet Tape 55_frame_180025.jpg: ignoring corrupt image/label: [Errno 2] No such file or directory: '/Users/jurie.germishuys/Workspace/odf/koster-uw/models/yolov5/tutorials/ml-template-data/images/000114 TMBL-ROV 2000 Säckenrevet Tape 55_frame_180025.jpg'\n",
      "\u001b[34m\u001b[1mtrain: \u001b[0mWARNING: /Users/jurie.germishuys/Workspace/odf/koster-uw/models/yolov5/tutorials/ml-template-data/images/000114 TMBL-ROV 2000 Säckenrevet Tape 55_frame_183750.jpg: ignoring corrupt image/label: [Errno 2] No such file or directory: '/Users/jurie.germishuys/Workspace/odf/koster-uw/models/yolov5/tutorials/ml-template-data/images/000114 TMBL-ROV 2000 Säckenrevet Tape 55_frame_183750.jpg'\n",
      "\u001b[34m\u001b[1mtrain: \u001b[0mWARNING: /Users/jurie.germishuys/Workspace/odf/koster-uw/models/yolov5/tutorials/ml-template-data/images/000114 TMBL-ROV 2000 Säckenrevet Tape 55_frame_183775.jpg: ignoring corrupt image/label: [Errno 2] No such file or directory: '/Users/jurie.germishuys/Workspace/odf/koster-uw/models/yolov5/tutorials/ml-template-data/images/000114 TMBL-ROV 2000 Säckenrevet Tape 55_frame_183775.jpg'\n",
      "\u001b[34m\u001b[1mtrain: \u001b[0mWARNING: /Users/jurie.germishuys/Workspace/odf/koster-uw/models/yolov5/tutorials/ml-template-data/images/000114 TMBL-ROV 2000 Säckenrevet Tape 55_frame_186000.jpg: ignoring corrupt image/label: [Errno 2] No such file or directory: '/Users/jurie.germishuys/Workspace/odf/koster-uw/models/yolov5/tutorials/ml-template-data/images/000114 TMBL-ROV 2000 Säckenrevet Tape 55_frame_186000.jpg'\n",
      "\u001b[34m\u001b[1mtrain: \u001b[0mWARNING: /Users/jurie.germishuys/Workspace/odf/koster-uw/models/yolov5/tutorials/ml-template-data/images/000114 TMBL-ROV 2000 Säckenrevet Tape 55_frame_186025.jpg: ignoring corrupt image/label: [Errno 2] No such file or directory: '/Users/jurie.germishuys/Workspace/odf/koster-uw/models/yolov5/tutorials/ml-template-data/images/000114 TMBL-ROV 2000 Säckenrevet Tape 55_frame_186025.jpg'\n",
      "\u001b[34m\u001b[1mtrain: \u001b[0mWARNING: /Users/jurie.germishuys/Workspace/odf/koster-uw/models/yolov5/tutorials/ml-template-data/images/000114 TMBL-ROV 2000 Säckenrevet Tape 55_frame_187500.jpg: ignoring corrupt image/label: [Errno 2] No such file or directory: '/Users/jurie.germishuys/Workspace/odf/koster-uw/models/yolov5/tutorials/ml-template-data/images/000114 TMBL-ROV 2000 Säckenrevet Tape 55_frame_187500.jpg'\n",
      "\u001b[34m\u001b[1mtrain: \u001b[0mWARNING: /Users/jurie.germishuys/Workspace/odf/koster-uw/models/yolov5/tutorials/ml-template-data/images/000114 TMBL-ROV 2000 Säckenrevet Tape 55_frame_187525.jpg: ignoring corrupt image/label: [Errno 2] No such file or directory: '/Users/jurie.germishuys/Workspace/odf/koster-uw/models/yolov5/tutorials/ml-template-data/images/000114 TMBL-ROV 2000 Säckenrevet Tape 55_frame_187525.jpg'\n",
      "\u001b[34m\u001b[1mtrain: \u001b[0mWARNING: /Users/jurie.germishuys/Workspace/odf/koster-uw/models/yolov5/tutorials/ml-template-data/images/000114 TMBL-ROV 2000 Säckenrevet Tape 55_frame_189000.jpg: ignoring corrupt image/label: [Errno 2] No such file or directory: '/Users/jurie.germishuys/Workspace/odf/koster-uw/models/yolov5/tutorials/ml-template-data/images/000114 TMBL-ROV 2000 Säckenrevet Tape 55_frame_189000.jpg'\n",
      "\u001b[34m\u001b[1mtrain: \u001b[0mWARNING: /Users/jurie.germishuys/Workspace/odf/koster-uw/models/yolov5/tutorials/ml-template-data/images/000114 TMBL-ROV 2000 Säckenrevet Tape 55_frame_189025.jpg: ignoring corrupt image/label: [Errno 2] No such file or directory: '/Users/jurie.germishuys/Workspace/odf/koster-uw/models/yolov5/tutorials/ml-template-data/images/000114 TMBL-ROV 2000 Säckenrevet Tape 55_frame_189025.jpg'\n",
      "\u001b[34m\u001b[1mtrain: \u001b[0mWARNING: /Users/jurie.germishuys/Workspace/odf/koster-uw/models/yolov5/tutorials/ml-template-data/images/000114 TMBL-ROV 2000 Säckenrevet Tape 55_frame_190525.jpg: ignoring corrupt image/label: [Errno 2] No such file or directory: '/Users/jurie.germishuys/Workspace/odf/koster-uw/models/yolov5/tutorials/ml-template-data/images/000114 TMBL-ROV 2000 Säckenrevet Tape 55_frame_190525.jpg'\n",
      "\u001b[34m\u001b[1mtrain: \u001b[0mWARNING: /Users/jurie.germishuys/Workspace/odf/koster-uw/models/yolov5/tutorials/ml-template-data/images/000114 TMBL-ROV 2000 Säckenrevet Tape 55_frame_195000.jpg: ignoring corrupt image/label: [Errno 2] No such file or directory: '/Users/jurie.germishuys/Workspace/odf/koster-uw/models/yolov5/tutorials/ml-template-data/images/000114 TMBL-ROV 2000 Säckenrevet Tape 55_frame_195000.jpg'\n",
      "\u001b[34m\u001b[1mtrain: \u001b[0mWARNING: /Users/jurie.germishuys/Workspace/odf/koster-uw/models/yolov5/tutorials/ml-template-data/images/000114 TMBL-ROV 2000 Säckenrevet Tape 55_frame_208500.jpg: ignoring corrupt image/label: [Errno 2] No such file or directory: '/Users/jurie.germishuys/Workspace/odf/koster-uw/models/yolov5/tutorials/ml-template-data/images/000114 TMBL-ROV 2000 Säckenrevet Tape 55_frame_208500.jpg'\n",
      "\u001b[34m\u001b[1mtrain: \u001b[0mWARNING: /Users/jurie.germishuys/Workspace/odf/koster-uw/models/yolov5/tutorials/ml-template-data/images/000114 TMBL-ROV 2000 Säckenrevet Tape 55_frame_208525.jpg: ignoring corrupt image/label: [Errno 2] No such file or directory: '/Users/jurie.germishuys/Workspace/odf/koster-uw/models/yolov5/tutorials/ml-template-data/images/000114 TMBL-ROV 2000 Säckenrevet Tape 55_frame_208525.jpg'\n",
      "\u001b[34m\u001b[1mtrain: \u001b[0mWARNING: /Users/jurie.germishuys/Workspace/odf/koster-uw/models/yolov5/tutorials/ml-template-data/images/000114 TMBL-ROV 2000 Säckenrevet Tape 55_frame_209250.jpg: ignoring corrupt image/label: [Errno 2] No such file or directory: '/Users/jurie.germishuys/Workspace/odf/koster-uw/models/yolov5/tutorials/ml-template-data/images/000114 TMBL-ROV 2000 Säckenrevet Tape 55_frame_209250.jpg'\n",
      "\u001b[34m\u001b[1mtrain: \u001b[0mWARNING: /Users/jurie.germishuys/Workspace/odf/koster-uw/models/yolov5/tutorials/ml-template-data/images/000114 TMBL-ROV 2000 Säckenrevet Tape 55_frame_209275.jpg: ignoring corrupt image/label: [Errno 2] No such file or directory: '/Users/jurie.germishuys/Workspace/odf/koster-uw/models/yolov5/tutorials/ml-template-data/images/000114 TMBL-ROV 2000 Säckenrevet Tape 55_frame_209275.jpg'\n",
      "\u001b[34m\u001b[1mtrain: \u001b[0mWARNING: /Users/jurie.germishuys/Workspace/odf/koster-uw/models/yolov5/tutorials/ml-template-data/images/000114 TMBL-ROV 2000 Säckenrevet Tape 55_frame_213775.jpg: ignoring corrupt image/label: [Errno 2] No such file or directory: '/Users/jurie.germishuys/Workspace/odf/koster-uw/models/yolov5/tutorials/ml-template-data/images/000114 TMBL-ROV 2000 Säckenrevet Tape 55_frame_213775.jpg'\n",
      "\u001b[34m\u001b[1mtrain: \u001b[0mWARNING: /Users/jurie.germishuys/Workspace/odf/koster-uw/models/yolov5/tutorials/ml-template-data/images/000114 TMBL-ROV 2000 Säckenrevet Tape 55_frame_222000.jpg: ignoring corrupt image/label: [Errno 2] No such file or directory: '/Users/jurie.germishuys/Workspace/odf/koster-uw/models/yolov5/tutorials/ml-template-data/images/000114 TMBL-ROV 2000 Säckenrevet Tape 55_frame_222000.jpg'\n",
      "\u001b[34m\u001b[1mtrain: \u001b[0mWARNING: /Users/jurie.germishuys/Workspace/odf/koster-uw/models/yolov5/tutorials/ml-template-data/images/000114 TMBL-ROV 2000 Säckenrevet Tape 55_frame_222025.jpg: ignoring corrupt image/label: [Errno 2] No such file or directory: '/Users/jurie.germishuys/Workspace/odf/koster-uw/models/yolov5/tutorials/ml-template-data/images/000114 TMBL-ROV 2000 Säckenrevet Tape 55_frame_222025.jpg'\n",
      "\u001b[34m\u001b[1mtrain: \u001b[0mWARNING: /Users/jurie.germishuys/Workspace/odf/koster-uw/models/yolov5/tutorials/ml-template-data/images/000114 TMBL-ROV 2000 Säckenrevet Tape 55_frame_224250.jpg: ignoring corrupt image/label: [Errno 2] No such file or directory: '/Users/jurie.germishuys/Workspace/odf/koster-uw/models/yolov5/tutorials/ml-template-data/images/000114 TMBL-ROV 2000 Säckenrevet Tape 55_frame_224250.jpg'\n",
      "\u001b[34m\u001b[1mtrain: \u001b[0mWARNING: /Users/jurie.germishuys/Workspace/odf/koster-uw/models/yolov5/tutorials/ml-template-data/images/000114 TMBL-ROV 2000 Säckenrevet Tape 55_frame_224275.jpg: ignoring corrupt image/label: [Errno 2] No such file or directory: '/Users/jurie.germishuys/Workspace/odf/koster-uw/models/yolov5/tutorials/ml-template-data/images/000114 TMBL-ROV 2000 Säckenrevet Tape 55_frame_224275.jpg'\n",
      "\u001b[34m\u001b[1mtrain: \u001b[0mWARNING: /Users/jurie.germishuys/Workspace/odf/koster-uw/models/yolov5/tutorials/ml-template-data/images/000114 TMBL-ROV 2000 Säckenrevet Tape 55_frame_56275.jpg: ignoring corrupt image/label: [Errno 2] No such file or directory: '/Users/jurie.germishuys/Workspace/odf/koster-uw/models/yolov5/tutorials/ml-template-data/images/000114 TMBL-ROV 2000 Säckenrevet Tape 55_frame_56275.jpg'\n",
      "\u001b[34m\u001b[1mtrain: \u001b[0mWARNING: /Users/jurie.germishuys/Workspace/odf/koster-uw/models/yolov5/tutorials/ml-template-data/images/000114 TMBL-ROV 2000 Säckenrevet Tape 55_frame_72125.jpg: ignoring corrupt image/label: [Errno 2] No such file or directory: '/Users/jurie.germishuys/Workspace/odf/koster-uw/models/yolov5/tutorials/ml-template-data/images/000114 TMBL-ROV 2000 Säckenrevet Tape 55_frame_72125.jpg'\n",
      "\u001b[34m\u001b[1mtrain: \u001b[0mWARNING: /Users/jurie.germishuys/Workspace/odf/koster-uw/models/yolov5/tutorials/ml-template-data/images/000114 TMBL-ROV 2000 Säckenrevet Tape 55_frame_73512.jpg: ignoring corrupt image/label: [Errno 2] No such file or directory: '/Users/jurie.germishuys/Workspace/odf/koster-uw/models/yolov5/tutorials/ml-template-data/images/000114 TMBL-ROV 2000 Säckenrevet Tape 55_frame_73512.jpg'\n",
      "\u001b[34m\u001b[1mtrain: \u001b[0mWARNING: /Users/jurie.germishuys/Workspace/odf/koster-uw/models/yolov5/tutorials/ml-template-data/images/000114 TMBL-ROV 2000 Säckenrevet Tape 55_frame_73537.jpg: ignoring corrupt image/label: [Errno 2] No such file or directory: '/Users/jurie.germishuys/Workspace/odf/koster-uw/models/yolov5/tutorials/ml-template-data/images/000114 TMBL-ROV 2000 Säckenrevet Tape 55_frame_73537.jpg'\n",
      "\u001b[34m\u001b[1mtrain: \u001b[0mWARNING: /Users/jurie.germishuys/Workspace/odf/koster-uw/models/yolov5/tutorials/ml-template-data/images/000203 TMBL-ROV 2000 Säcken EJ numrerade band_frame_2250.jpg: ignoring corrupt image/label: [Errno 2] No such file or directory: '/Users/jurie.germishuys/Workspace/odf/koster-uw/models/yolov5/tutorials/ml-template-data/images/000203 TMBL-ROV 2000 Säcken EJ numrerade band_frame_2250.jpg'\n",
      "\u001b[34m\u001b[1mtrain: \u001b[0mWARNING: /Users/jurie.germishuys/Workspace/odf/koster-uw/models/yolov5/tutorials/ml-template-data/images/000203 TMBL-ROV 2000 Säcken EJ numrerade band_frame_2275.jpg: ignoring corrupt image/label: [Errno 2] No such file or directory: '/Users/jurie.germishuys/Workspace/odf/koster-uw/models/yolov5/tutorials/ml-template-data/images/000203 TMBL-ROV 2000 Säcken EJ numrerade band_frame_2275.jpg'\n",
      "\u001b[34m\u001b[1mtrain: \u001b[0mWARNING: /Users/jurie.germishuys/Workspace/odf/koster-uw/models/yolov5/tutorials/ml-template-data/images/000203 TMBL-ROV 2000 Säcken EJ numrerade band_frame_3750.jpg: ignoring corrupt image/label: [Errno 2] No such file or directory: '/Users/jurie.germishuys/Workspace/odf/koster-uw/models/yolov5/tutorials/ml-template-data/images/000203 TMBL-ROV 2000 Säcken EJ numrerade band_frame_3750.jpg'\n",
      "\u001b[34m\u001b[1mtrain: \u001b[0mWARNING: /Users/jurie.germishuys/Workspace/odf/koster-uw/models/yolov5/tutorials/ml-template-data/images/000203 TMBL-ROV 2000 Säcken EJ numrerade band_frame_3775.jpg: ignoring corrupt image/label: [Errno 2] No such file or directory: '/Users/jurie.germishuys/Workspace/odf/koster-uw/models/yolov5/tutorials/ml-template-data/images/000203 TMBL-ROV 2000 Säcken EJ numrerade band_frame_3775.jpg'\n",
      "\u001b[34m\u001b[1mtrain: \u001b[0mWARNING: /Users/jurie.germishuys/Workspace/odf/koster-uw/models/yolov5/tutorials/ml-template-data/images/000203 TMBL-ROV 2000 Säcken EJ numrerade band_frame_5350.jpg: ignoring corrupt image/label: [Errno 2] No such file or directory: '/Users/jurie.germishuys/Workspace/odf/koster-uw/models/yolov5/tutorials/ml-template-data/images/000203 TMBL-ROV 2000 Säcken EJ numrerade band_frame_5350.jpg'\n",
      "\u001b[34m\u001b[1mtrain: \u001b[0mWARNING: /Users/jurie.germishuys/Workspace/odf/koster-uw/models/yolov5/tutorials/ml-template-data/images/000203 TMBL-ROV 2000 Säcken EJ numrerade band_frame_5375.jpg: ignoring corrupt image/label: [Errno 2] No such file or directory: '/Users/jurie.germishuys/Workspace/odf/koster-uw/models/yolov5/tutorials/ml-template-data/images/000203 TMBL-ROV 2000 Säcken EJ numrerade band_frame_5375.jpg'\n",
      "\u001b[34m\u001b[1mtrain: \u001b[0mWARNING: /Users/jurie.germishuys/Workspace/odf/koster-uw/models/yolov5/tutorials/ml-template-data/images/000203 TMBL-ROV 2000 Säcken EJ numrerade band_frame_9775.jpg: ignoring corrupt image/label: [Errno 2] No such file or directory: '/Users/jurie.germishuys/Workspace/odf/koster-uw/models/yolov5/tutorials/ml-template-data/images/000203 TMBL-ROV 2000 Säcken EJ numrerade band_frame_9775.jpg'\n",
      "\u001b[34m\u001b[1mtrain: \u001b[0mWARNING: /Users/jurie.germishuys/Workspace/odf/koster-uw/models/yolov5/tutorials/ml-template-data/images/000203 TMBL-ROV 2000 Säcken Tape 56_frame_12775.jpg: ignoring corrupt image/label: [Errno 2] No such file or directory: '/Users/jurie.germishuys/Workspace/odf/koster-uw/models/yolov5/tutorials/ml-template-data/images/000203 TMBL-ROV 2000 Säcken Tape 56_frame_12775.jpg'\n",
      "\u001b[34m\u001b[1mtrain: \u001b[0mWARNING: /Users/jurie.germishuys/Workspace/odf/koster-uw/models/yolov5/tutorials/ml-template-data/images/000203 TMBL-ROV 2000 Säcken Tape 56_frame_12800.jpg: ignoring corrupt image/label: [Errno 2] No such file or directory: '/Users/jurie.germishuys/Workspace/odf/koster-uw/models/yolov5/tutorials/ml-template-data/images/000203 TMBL-ROV 2000 Säcken Tape 56_frame_12800.jpg'\n",
      "\u001b[34m\u001b[1mtrain: \u001b[0mWARNING: /Users/jurie.germishuys/Workspace/odf/koster-uw/models/yolov5/tutorials/ml-template-data/images/000203 TMBL-ROV 2000 Säcken Tape 56_frame_35275.jpg: ignoring corrupt image/label: [Errno 2] No such file or directory: '/Users/jurie.germishuys/Workspace/odf/koster-uw/models/yolov5/tutorials/ml-template-data/images/000203 TMBL-ROV 2000 Säcken Tape 56_frame_35275.jpg'\n",
      "\u001b[34m\u001b[1mtrain: \u001b[0mWARNING: /Users/jurie.germishuys/Workspace/odf/koster-uw/models/yolov5/tutorials/ml-template-data/images/000203 TMBL-ROV 2000 Säcken Tape 56_frame_48150.jpg: ignoring corrupt image/label: [Errno 2] No such file or directory: '/Users/jurie.germishuys/Workspace/odf/koster-uw/models/yolov5/tutorials/ml-template-data/images/000203 TMBL-ROV 2000 Säcken Tape 56_frame_48150.jpg'\n",
      "\u001b[34m\u001b[1mtrain: \u001b[0mWARNING: /Users/jurie.germishuys/Workspace/odf/koster-uw/models/yolov5/tutorials/ml-template-data/images/000203 TMBL-ROV 2000 Säcken revet EJ numrerade band_frame_12000.jpg: ignoring corrupt image/label: [Errno 2] No such file or directory: '/Users/jurie.germishuys/Workspace/odf/koster-uw/models/yolov5/tutorials/ml-template-data/images/000203 TMBL-ROV 2000 Säcken revet EJ numrerade band_frame_12000.jpg'\n",
      "\u001b[34m\u001b[1mtrain: \u001b[0mWARNING: /Users/jurie.germishuys/Workspace/odf/koster-uw/models/yolov5/tutorials/ml-template-data/images/000203 TMBL-ROV 2000 Säcken revet EJ numrerade band_frame_12750.jpg: ignoring corrupt image/label: [Errno 2] No such file or directory: '/Users/jurie.germishuys/Workspace/odf/koster-uw/models/yolov5/tutorials/ml-template-data/images/000203 TMBL-ROV 2000 Säcken revet EJ numrerade band_frame_12750.jpg'\n",
      "\u001b[34m\u001b[1mtrain: \u001b[0mWARNING: /Users/jurie.germishuys/Workspace/odf/koster-uw/models/yolov5/tutorials/ml-template-data/images/000203 TMBL-ROV 2000 Säcken revet EJ numrerade band_frame_12775.jpg: ignoring corrupt image/label: [Errno 2] No such file or directory: '/Users/jurie.germishuys/Workspace/odf/koster-uw/models/yolov5/tutorials/ml-template-data/images/000203 TMBL-ROV 2000 Säcken revet EJ numrerade band_frame_12775.jpg'\n",
      "\u001b[34m\u001b[1mtrain: \u001b[0mWARNING: /Users/jurie.germishuys/Workspace/odf/koster-uw/models/yolov5/tutorials/ml-template-data/images/000203 TMBL-ROV 2000 Säcken revet EJ numrerade band_frame_1525.jpg: ignoring corrupt image/label: [Errno 2] No such file or directory: '/Users/jurie.germishuys/Workspace/odf/koster-uw/models/yolov5/tutorials/ml-template-data/images/000203 TMBL-ROV 2000 Säcken revet EJ numrerade band_frame_1525.jpg'\n",
      "\u001b[34m\u001b[1mtrain: \u001b[0mWARNING: /Users/jurie.germishuys/Workspace/odf/koster-uw/models/yolov5/tutorials/ml-template-data/images/000203 TMBL-ROV 2000 Säcken revet EJ numrerade band_frame_17250.jpg: ignoring corrupt image/label: [Errno 2] No such file or directory: '/Users/jurie.germishuys/Workspace/odf/koster-uw/models/yolov5/tutorials/ml-template-data/images/000203 TMBL-ROV 2000 Säcken revet EJ numrerade band_frame_17250.jpg'\n",
      "\u001b[34m\u001b[1mtrain: \u001b[0mWARNING: /Users/jurie.germishuys/Workspace/odf/koster-uw/models/yolov5/tutorials/ml-template-data/images/000203 TMBL-ROV 2000 Säcken revet EJ numrerade band_frame_21775.jpg: ignoring corrupt image/label: [Errno 2] No such file or directory: '/Users/jurie.germishuys/Workspace/odf/koster-uw/models/yolov5/tutorials/ml-template-data/images/000203 TMBL-ROV 2000 Säcken revet EJ numrerade band_frame_21775.jpg'\n",
      "\u001b[34m\u001b[1mtrain: \u001b[0mWARNING: /Users/jurie.germishuys/Workspace/odf/koster-uw/models/yolov5/tutorials/ml-template-data/images/000203 TMBL-ROV 2000 Säcken revet EJ numrerade band_frame_22500.jpg: ignoring corrupt image/label: [Errno 2] No such file or directory: '/Users/jurie.germishuys/Workspace/odf/koster-uw/models/yolov5/tutorials/ml-template-data/images/000203 TMBL-ROV 2000 Säcken revet EJ numrerade band_frame_22500.jpg'\n",
      "\u001b[34m\u001b[1mtrain: \u001b[0mWARNING: /Users/jurie.germishuys/Workspace/odf/koster-uw/models/yolov5/tutorials/ml-template-data/images/000203 TMBL-ROV 2000 Säcken revet EJ numrerade band_frame_22525.jpg: ignoring corrupt image/label: [Errno 2] No such file or directory: '/Users/jurie.germishuys/Workspace/odf/koster-uw/models/yolov5/tutorials/ml-template-data/images/000203 TMBL-ROV 2000 Säcken revet EJ numrerade band_frame_22525.jpg'\n",
      "\u001b[34m\u001b[1mtrain: \u001b[0mWARNING: /Users/jurie.germishuys/Workspace/odf/koster-uw/models/yolov5/tutorials/ml-template-data/images/000203 TMBL-ROV 2000 Säcken revet EJ numrerade band_frame_23275.jpg: ignoring corrupt image/label: [Errno 2] No such file or directory: '/Users/jurie.germishuys/Workspace/odf/koster-uw/models/yolov5/tutorials/ml-template-data/images/000203 TMBL-ROV 2000 Säcken revet EJ numrerade band_frame_23275.jpg'\n",
      "\u001b[34m\u001b[1mtrain: \u001b[0mWARNING: /Users/jurie.germishuys/Workspace/odf/koster-uw/models/yolov5/tutorials/ml-template-data/images/000203 TMBL-ROV 2000 Säcken revet EJ numrerade band_frame_24750.jpg: ignoring corrupt image/label: [Errno 2] No such file or directory: '/Users/jurie.germishuys/Workspace/odf/koster-uw/models/yolov5/tutorials/ml-template-data/images/000203 TMBL-ROV 2000 Säcken revet EJ numrerade band_frame_24750.jpg'\n",
      "\u001b[34m\u001b[1mtrain: \u001b[0mWARNING: /Users/jurie.germishuys/Workspace/odf/koster-uw/models/yolov5/tutorials/ml-template-data/images/000203 TMBL-ROV 2000 Säcken revet EJ numrerade band_frame_24775.jpg: ignoring corrupt image/label: [Errno 2] No such file or directory: '/Users/jurie.germishuys/Workspace/odf/koster-uw/models/yolov5/tutorials/ml-template-data/images/000203 TMBL-ROV 2000 Säcken revet EJ numrerade band_frame_24775.jpg'\n",
      "\u001b[34m\u001b[1mtrain: \u001b[0mWARNING: /Users/jurie.germishuys/Workspace/odf/koster-uw/models/yolov5/tutorials/ml-template-data/images/000203 TMBL-ROV 2000 Säcken revet EJ numrerade band_frame_25500.jpg: ignoring corrupt image/label: [Errno 2] No such file or directory: '/Users/jurie.germishuys/Workspace/odf/koster-uw/models/yolov5/tutorials/ml-template-data/images/000203 TMBL-ROV 2000 Säcken revet EJ numrerade band_frame_25500.jpg'\n",
      "\u001b[34m\u001b[1mtrain: \u001b[0mWARNING: /Users/jurie.germishuys/Workspace/odf/koster-uw/models/yolov5/tutorials/ml-template-data/images/000203 TMBL-ROV 2000 Säcken revet EJ numrerade band_frame_25525.jpg: ignoring corrupt image/label: [Errno 2] No such file or directory: '/Users/jurie.germishuys/Workspace/odf/koster-uw/models/yolov5/tutorials/ml-template-data/images/000203 TMBL-ROV 2000 Säcken revet EJ numrerade band_frame_25525.jpg'\n",
      "\u001b[34m\u001b[1mtrain: \u001b[0mWARNING: /Users/jurie.germishuys/Workspace/odf/koster-uw/models/yolov5/tutorials/ml-template-data/images/000203 TMBL-ROV 2000 Säcken revet EJ numrerade band_frame_26287.jpg: ignoring corrupt image/label: [Errno 2] No such file or directory: '/Users/jurie.germishuys/Workspace/odf/koster-uw/models/yolov5/tutorials/ml-template-data/images/000203 TMBL-ROV 2000 Säcken revet EJ numrerade band_frame_26287.jpg'\n",
      "\u001b[34m\u001b[1mtrain: \u001b[0mWARNING: /Users/jurie.germishuys/Workspace/odf/koster-uw/models/yolov5/tutorials/ml-template-data/images/000203 TMBL-ROV 2000 Säcken revet EJ numrerade band_frame_27000.jpg: ignoring corrupt image/label: [Errno 2] No such file or directory: '/Users/jurie.germishuys/Workspace/odf/koster-uw/models/yolov5/tutorials/ml-template-data/images/000203 TMBL-ROV 2000 Säcken revet EJ numrerade band_frame_27000.jpg'\n",
      "\u001b[34m\u001b[1mtrain: \u001b[0mWARNING: /Users/jurie.germishuys/Workspace/odf/koster-uw/models/yolov5/tutorials/ml-template-data/images/000203 TMBL-ROV 2000 Säcken revet EJ numrerade band_frame_27025.jpg: ignoring corrupt image/label: [Errno 2] No such file or directory: '/Users/jurie.germishuys/Workspace/odf/koster-uw/models/yolov5/tutorials/ml-template-data/images/000203 TMBL-ROV 2000 Säcken revet EJ numrerade band_frame_27025.jpg'\n",
      "\u001b[34m\u001b[1mtrain: \u001b[0mWARNING: /Users/jurie.germishuys/Workspace/odf/koster-uw/models/yolov5/tutorials/ml-template-data/images/000203 TMBL-ROV 2000 Säcken revet EJ numrerade band_frame_29250.jpg: ignoring corrupt image/label: [Errno 2] No such file or directory: '/Users/jurie.germishuys/Workspace/odf/koster-uw/models/yolov5/tutorials/ml-template-data/images/000203 TMBL-ROV 2000 Säcken revet EJ numrerade band_frame_29250.jpg'\n",
      "\u001b[34m\u001b[1mtrain: \u001b[0mWARNING: /Users/jurie.germishuys/Workspace/odf/koster-uw/models/yolov5/tutorials/ml-template-data/images/000203 TMBL-ROV 2000 Säcken revet EJ numrerade band_frame_29275.jpg: ignoring corrupt image/label: [Errno 2] No such file or directory: '/Users/jurie.germishuys/Workspace/odf/koster-uw/models/yolov5/tutorials/ml-template-data/images/000203 TMBL-ROV 2000 Säcken revet EJ numrerade band_frame_29275.jpg'\n",
      "\u001b[34m\u001b[1mtrain: \u001b[0mWARNING: /Users/jurie.germishuys/Workspace/odf/koster-uw/models/yolov5/tutorials/ml-template-data/images/000203 TMBL-ROV 2000 Säcken revet EJ numrerade band_frame_3000.jpg: ignoring corrupt image/label: [Errno 2] No such file or directory: '/Users/jurie.germishuys/Workspace/odf/koster-uw/models/yolov5/tutorials/ml-template-data/images/000203 TMBL-ROV 2000 Säcken revet EJ numrerade band_frame_3000.jpg'\n",
      "\u001b[34m\u001b[1mtrain: \u001b[0mWARNING: /Users/jurie.germishuys/Workspace/odf/koster-uw/models/yolov5/tutorials/ml-template-data/images/000203 TMBL-ROV 2000 Säcken revet EJ numrerade band_frame_3025.jpg: ignoring corrupt image/label: [Errno 2] No such file or directory: '/Users/jurie.germishuys/Workspace/odf/koster-uw/models/yolov5/tutorials/ml-template-data/images/000203 TMBL-ROV 2000 Säcken revet EJ numrerade band_frame_3025.jpg'\n",
      "\u001b[34m\u001b[1mtrain: \u001b[0mWARNING: /Users/jurie.germishuys/Workspace/odf/koster-uw/models/yolov5/tutorials/ml-template-data/images/000203 TMBL-ROV 2000 Säcken revet EJ numrerade band_frame_36025.jpg: ignoring corrupt image/label: [Errno 2] No such file or directory: '/Users/jurie.germishuys/Workspace/odf/koster-uw/models/yolov5/tutorials/ml-template-data/images/000203 TMBL-ROV 2000 Säcken revet EJ numrerade band_frame_36025.jpg'\n",
      "\u001b[34m\u001b[1mtrain: \u001b[0mWARNING: /Users/jurie.germishuys/Workspace/odf/koster-uw/models/yolov5/tutorials/ml-template-data/images/000203 TMBL-ROV 2000 Säcken revet EJ numrerade band_frame_37550.jpg: ignoring corrupt image/label: [Errno 2] No such file or directory: '/Users/jurie.germishuys/Workspace/odf/koster-uw/models/yolov5/tutorials/ml-template-data/images/000203 TMBL-ROV 2000 Säcken revet EJ numrerade band_frame_37550.jpg'\n",
      "\u001b[34m\u001b[1mtrain: \u001b[0mWARNING: /Users/jurie.germishuys/Workspace/odf/koster-uw/models/yolov5/tutorials/ml-template-data/images/000203 TMBL-ROV 2000 Säcken revet EJ numrerade band_frame_38250.jpg: ignoring corrupt image/label: [Errno 2] No such file or directory: '/Users/jurie.germishuys/Workspace/odf/koster-uw/models/yolov5/tutorials/ml-template-data/images/000203 TMBL-ROV 2000 Säcken revet EJ numrerade band_frame_38250.jpg'\n",
      "\u001b[34m\u001b[1mtrain: \u001b[0mWARNING: /Users/jurie.germishuys/Workspace/odf/koster-uw/models/yolov5/tutorials/ml-template-data/images/000203 TMBL-ROV 2000 Säcken revet EJ numrerade band_frame_38275.jpg: ignoring corrupt image/label: [Errno 2] No such file or directory: '/Users/jurie.germishuys/Workspace/odf/koster-uw/models/yolov5/tutorials/ml-template-data/images/000203 TMBL-ROV 2000 Säcken revet EJ numrerade band_frame_38275.jpg'\n",
      "\u001b[34m\u001b[1mtrain: \u001b[0mWARNING: /Users/jurie.germishuys/Workspace/odf/koster-uw/models/yolov5/tutorials/ml-template-data/images/000203 TMBL-ROV 2000 Säcken revet EJ numrerade band_frame_40500.jpg: ignoring corrupt image/label: [Errno 2] No such file or directory: '/Users/jurie.germishuys/Workspace/odf/koster-uw/models/yolov5/tutorials/ml-template-data/images/000203 TMBL-ROV 2000 Säcken revet EJ numrerade band_frame_40500.jpg'\n",
      "\u001b[34m\u001b[1mtrain: \u001b[0mWARNING: /Users/jurie.germishuys/Workspace/odf/koster-uw/models/yolov5/tutorials/ml-template-data/images/000203 TMBL-ROV 2000 Säcken revet EJ numrerade band_frame_40525.jpg: ignoring corrupt image/label: [Errno 2] No such file or directory: '/Users/jurie.germishuys/Workspace/odf/koster-uw/models/yolov5/tutorials/ml-template-data/images/000203 TMBL-ROV 2000 Säcken revet EJ numrerade band_frame_40525.jpg'\n",
      "\u001b[34m\u001b[1mtrain: \u001b[0mWARNING: /Users/jurie.germishuys/Workspace/odf/koster-uw/models/yolov5/tutorials/ml-template-data/images/000203 TMBL-ROV 2000 Säcken revet EJ numrerade band_frame_42762.jpg: ignoring corrupt image/label: [Errno 2] No such file or directory: '/Users/jurie.germishuys/Workspace/odf/koster-uw/models/yolov5/tutorials/ml-template-data/images/000203 TMBL-ROV 2000 Säcken revet EJ numrerade band_frame_42762.jpg'\n",
      "\u001b[34m\u001b[1mtrain: \u001b[0mWARNING: /Users/jurie.germishuys/Workspace/odf/koster-uw/models/yolov5/tutorials/ml-template-data/images/000203 TMBL-ROV 2000 Säcken revet EJ numrerade band_frame_42787.jpg: ignoring corrupt image/label: [Errno 2] No such file or directory: '/Users/jurie.germishuys/Workspace/odf/koster-uw/models/yolov5/tutorials/ml-template-data/images/000203 TMBL-ROV 2000 Säcken revet EJ numrerade band_frame_42787.jpg'\n",
      "\u001b[34m\u001b[1mtrain: \u001b[0mWARNING: /Users/jurie.germishuys/Workspace/odf/koster-uw/models/yolov5/tutorials/ml-template-data/images/000203 TMBL-ROV 2000 Säcken revet EJ numrerade band_frame_48750.jpg: ignoring corrupt image/label: [Errno 2] No such file or directory: '/Users/jurie.germishuys/Workspace/odf/koster-uw/models/yolov5/tutorials/ml-template-data/images/000203 TMBL-ROV 2000 Säcken revet EJ numrerade band_frame_48750.jpg'\n",
      "\u001b[34m\u001b[1mtrain: \u001b[0mWARNING: /Users/jurie.germishuys/Workspace/odf/koster-uw/models/yolov5/tutorials/ml-template-data/images/000203 TMBL-ROV 2000 Säcken revet EJ numrerade band_frame_48775.jpg: ignoring corrupt image/label: [Errno 2] No such file or directory: '/Users/jurie.germishuys/Workspace/odf/koster-uw/models/yolov5/tutorials/ml-template-data/images/000203 TMBL-ROV 2000 Säcken revet EJ numrerade band_frame_48775.jpg'\n",
      "\u001b[34m\u001b[1mtrain: \u001b[0mWARNING: /Users/jurie.germishuys/Workspace/odf/koster-uw/models/yolov5/tutorials/ml-template-data/images/000203 TMBL-ROV 2000 Säcken revet EJ numrerade band_frame_51750.jpg: ignoring corrupt image/label: [Errno 2] No such file or directory: '/Users/jurie.germishuys/Workspace/odf/koster-uw/models/yolov5/tutorials/ml-template-data/images/000203 TMBL-ROV 2000 Säcken revet EJ numrerade band_frame_51750.jpg'\n",
      "\u001b[34m\u001b[1mtrain: \u001b[0mWARNING: /Users/jurie.germishuys/Workspace/odf/koster-uw/models/yolov5/tutorials/ml-template-data/images/000203 TMBL-ROV 2000 Säcken revet EJ numrerade band_frame_51775.jpg: ignoring corrupt image/label: [Errno 2] No such file or directory: '/Users/jurie.germishuys/Workspace/odf/koster-uw/models/yolov5/tutorials/ml-template-data/images/000203 TMBL-ROV 2000 Säcken revet EJ numrerade band_frame_51775.jpg'\n",
      "\u001b[34m\u001b[1mtrain: \u001b[0mWARNING: /Users/jurie.germishuys/Workspace/odf/koster-uw/models/yolov5/tutorials/ml-template-data/images/000203 TMBL-ROV 2000 Säcken revet EJ numrerade band_frame_5250.jpg: ignoring corrupt image/label: [Errno 2] No such file or directory: '/Users/jurie.germishuys/Workspace/odf/koster-uw/models/yolov5/tutorials/ml-template-data/images/000203 TMBL-ROV 2000 Säcken revet EJ numrerade band_frame_5250.jpg'\n",
      "\u001b[34m\u001b[1mtrain: \u001b[0mWARNING: /Users/jurie.germishuys/Workspace/odf/koster-uw/models/yolov5/tutorials/ml-template-data/images/000203 TMBL-ROV 2000 Säcken revet EJ numrerade band_frame_5275.jpg: ignoring corrupt image/label: [Errno 2] No such file or directory: '/Users/jurie.germishuys/Workspace/odf/koster-uw/models/yolov5/tutorials/ml-template-data/images/000203 TMBL-ROV 2000 Säcken revet EJ numrerade band_frame_5275.jpg'\n",
      "\u001b[34m\u001b[1mtrain: \u001b[0mWARNING: /Users/jurie.germishuys/Workspace/odf/koster-uw/models/yolov5/tutorials/ml-template-data/images/000203 TMBL-ROV 2000 Säcken revet EJ numrerade band_frame_53262.jpg: ignoring corrupt image/label: [Errno 2] No such file or directory: '/Users/jurie.germishuys/Workspace/odf/koster-uw/models/yolov5/tutorials/ml-template-data/images/000203 TMBL-ROV 2000 Säcken revet EJ numrerade band_frame_53262.jpg'\n",
      "\u001b[34m\u001b[1mtrain: \u001b[0mWARNING: /Users/jurie.germishuys/Workspace/odf/koster-uw/models/yolov5/tutorials/ml-template-data/images/000203 TMBL-ROV 2000 Säcken revet EJ numrerade band_frame_57025.jpg: ignoring corrupt image/label: [Errno 2] No such file or directory: '/Users/jurie.germishuys/Workspace/odf/koster-uw/models/yolov5/tutorials/ml-template-data/images/000203 TMBL-ROV 2000 Säcken revet EJ numrerade band_frame_57025.jpg'\n",
      "\u001b[34m\u001b[1mtrain: \u001b[0mWARNING: /Users/jurie.germishuys/Workspace/odf/koster-uw/models/yolov5/tutorials/ml-template-data/images/000203 TMBL-ROV 2000 Säcken revet EJ numrerade band_frame_57750.jpg: ignoring corrupt image/label: [Errno 2] No such file or directory: '/Users/jurie.germishuys/Workspace/odf/koster-uw/models/yolov5/tutorials/ml-template-data/images/000203 TMBL-ROV 2000 Säcken revet EJ numrerade band_frame_57750.jpg'\n",
      "\u001b[34m\u001b[1mtrain: \u001b[0mWARNING: /Users/jurie.germishuys/Workspace/odf/koster-uw/models/yolov5/tutorials/ml-template-data/images/000203 TMBL-ROV 2000 Säcken revet EJ numrerade band_frame_57775.jpg: ignoring corrupt image/label: [Errno 2] No such file or directory: '/Users/jurie.germishuys/Workspace/odf/koster-uw/models/yolov5/tutorials/ml-template-data/images/000203 TMBL-ROV 2000 Säcken revet EJ numrerade band_frame_57775.jpg'\n",
      "\u001b[34m\u001b[1mtrain: \u001b[0mWARNING: /Users/jurie.germishuys/Workspace/odf/koster-uw/models/yolov5/tutorials/ml-template-data/images/000203 TMBL-ROV 2000 Säcken revet EJ numrerade band_frame_59250.jpg: ignoring corrupt image/label: [Errno 2] No such file or directory: '/Users/jurie.germishuys/Workspace/odf/koster-uw/models/yolov5/tutorials/ml-template-data/images/000203 TMBL-ROV 2000 Säcken revet EJ numrerade band_frame_59250.jpg'\n",
      "\u001b[34m\u001b[1mtrain: \u001b[0mWARNING: /Users/jurie.germishuys/Workspace/odf/koster-uw/models/yolov5/tutorials/ml-template-data/images/000203 TMBL-ROV 2000 Säcken revet EJ numrerade band_frame_750.jpg: ignoring corrupt image/label: [Errno 2] No such file or directory: '/Users/jurie.germishuys/Workspace/odf/koster-uw/models/yolov5/tutorials/ml-template-data/images/000203 TMBL-ROV 2000 Säcken revet EJ numrerade band_frame_750.jpg'\n",
      "\u001b[34m\u001b[1mtrain: \u001b[0mWARNING: /Users/jurie.germishuys/Workspace/odf/koster-uw/models/yolov5/tutorials/ml-template-data/images/000203 TMBL-ROV 2000 Säckenrevet Tape 56_frame_101250.jpg: ignoring corrupt image/label: [Errno 2] No such file or directory: '/Users/jurie.germishuys/Workspace/odf/koster-uw/models/yolov5/tutorials/ml-template-data/images/000203 TMBL-ROV 2000 Säckenrevet Tape 56_frame_101250.jpg'\n",
      "\u001b[34m\u001b[1mtrain: \u001b[0mWARNING: /Users/jurie.germishuys/Workspace/odf/koster-uw/models/yolov5/tutorials/ml-template-data/images/000203 TMBL-ROV 2000 Säckenrevet Tape 56_frame_101275.jpg: ignoring corrupt image/label: [Errno 2] No such file or directory: '/Users/jurie.germishuys/Workspace/odf/koster-uw/models/yolov5/tutorials/ml-template-data/images/000203 TMBL-ROV 2000 Säckenrevet Tape 56_frame_101275.jpg'\n",
      "\u001b[34m\u001b[1mtrain: \u001b[0mWARNING: /Users/jurie.germishuys/Workspace/odf/koster-uw/models/yolov5/tutorials/ml-template-data/images/000203 TMBL-ROV 2000 Säckenrevet Tape 56_frame_102775.jpg: ignoring corrupt image/label: [Errno 2] No such file or directory: '/Users/jurie.germishuys/Workspace/odf/koster-uw/models/yolov5/tutorials/ml-template-data/images/000203 TMBL-ROV 2000 Säckenrevet Tape 56_frame_102775.jpg'\n",
      "\u001b[34m\u001b[1mtrain: \u001b[0mWARNING: /Users/jurie.germishuys/Workspace/odf/koster-uw/models/yolov5/tutorials/ml-template-data/images/000203 TMBL-ROV 2000 Säckenrevet Tape 56_frame_106500.jpg: ignoring corrupt image/label: [Errno 2] No such file or directory: '/Users/jurie.germishuys/Workspace/odf/koster-uw/models/yolov5/tutorials/ml-template-data/images/000203 TMBL-ROV 2000 Säckenrevet Tape 56_frame_106500.jpg'\n",
      "\u001b[34m\u001b[1mtrain: \u001b[0mWARNING: /Users/jurie.germishuys/Workspace/odf/koster-uw/models/yolov5/tutorials/ml-template-data/images/000203 TMBL-ROV 2000 Säckenrevet Tape 56_frame_106525.jpg: ignoring corrupt image/label: [Errno 2] No such file or directory: '/Users/jurie.germishuys/Workspace/odf/koster-uw/models/yolov5/tutorials/ml-template-data/images/000203 TMBL-ROV 2000 Säckenrevet Tape 56_frame_106525.jpg'\n",
      "\u001b[34m\u001b[1mtrain: \u001b[0mWARNING: /Users/jurie.germishuys/Workspace/odf/koster-uw/models/yolov5/tutorials/ml-template-data/images/000203 TMBL-ROV 2000 Säckenrevet Tape 56_frame_107250.jpg: ignoring corrupt image/label: [Errno 2] No such file or directory: '/Users/jurie.germishuys/Workspace/odf/koster-uw/models/yolov5/tutorials/ml-template-data/images/000203 TMBL-ROV 2000 Säckenrevet Tape 56_frame_107250.jpg'\n",
      "\u001b[34m\u001b[1mtrain: \u001b[0mWARNING: /Users/jurie.germishuys/Workspace/odf/koster-uw/models/yolov5/tutorials/ml-template-data/images/000203 TMBL-ROV 2000 Säckenrevet Tape 56_frame_107275.jpg: ignoring corrupt image/label: [Errno 2] No such file or directory: '/Users/jurie.germishuys/Workspace/odf/koster-uw/models/yolov5/tutorials/ml-template-data/images/000203 TMBL-ROV 2000 Säckenrevet Tape 56_frame_107275.jpg'\n",
      "\u001b[34m\u001b[1mtrain: \u001b[0mWARNING: /Users/jurie.germishuys/Workspace/odf/koster-uw/models/yolov5/tutorials/ml-template-data/images/000203 TMBL-ROV 2000 Säckenrevet Tape 56_frame_110250.jpg: ignoring corrupt image/label: [Errno 2] No such file or directory: '/Users/jurie.germishuys/Workspace/odf/koster-uw/models/yolov5/tutorials/ml-template-data/images/000203 TMBL-ROV 2000 Säckenrevet Tape 56_frame_110250.jpg'\n",
      "\u001b[34m\u001b[1mtrain: \u001b[0mWARNING: /Users/jurie.germishuys/Workspace/odf/koster-uw/models/yolov5/tutorials/ml-template-data/images/000203 TMBL-ROV 2000 Säckenrevet Tape 56_frame_110275.jpg: ignoring corrupt image/label: [Errno 2] No such file or directory: '/Users/jurie.germishuys/Workspace/odf/koster-uw/models/yolov5/tutorials/ml-template-data/images/000203 TMBL-ROV 2000 Säckenrevet Tape 56_frame_110275.jpg'\n",
      "\u001b[34m\u001b[1mtrain: \u001b[0mWARNING: /Users/jurie.germishuys/Workspace/odf/koster-uw/models/yolov5/tutorials/ml-template-data/images/000203 TMBL-ROV 2000 Säckenrevet Tape 56_frame_15912.jpg: ignoring corrupt image/label: [Errno 2] No such file or directory: '/Users/jurie.germishuys/Workspace/odf/koster-uw/models/yolov5/tutorials/ml-template-data/images/000203 TMBL-ROV 2000 Säckenrevet Tape 56_frame_15912.jpg'\n",
      "\u001b[34m\u001b[1mtrain: \u001b[0mWARNING: /Users/jurie.germishuys/Workspace/odf/koster-uw/models/yolov5/tutorials/ml-template-data/images/000203 TMBL-ROV 2000 Säckenrevet Tape 56_frame_23475.jpg: ignoring corrupt image/label: [Errno 2] No such file or directory: '/Users/jurie.germishuys/Workspace/odf/koster-uw/models/yolov5/tutorials/ml-template-data/images/000203 TMBL-ROV 2000 Säckenrevet Tape 56_frame_23475.jpg'\n",
      "\u001b[34m\u001b[1mtrain: \u001b[0mWARNING: /Users/jurie.germishuys/Workspace/odf/koster-uw/models/yolov5/tutorials/ml-template-data/images/000203 TMBL-ROV 2000 Säckenrevet Tape 56_frame_23500.jpg: ignoring corrupt image/label: [Errno 2] No such file or directory: '/Users/jurie.germishuys/Workspace/odf/koster-uw/models/yolov5/tutorials/ml-template-data/images/000203 TMBL-ROV 2000 Säckenrevet Tape 56_frame_23500.jpg'\n",
      "\u001b[34m\u001b[1mtrain: \u001b[0mWARNING: /Users/jurie.germishuys/Workspace/odf/koster-uw/models/yolov5/tutorials/ml-template-data/images/000203 TMBL-ROV 2000 Säckenrevet Tape 56_frame_24750.jpg: ignoring corrupt image/label: [Errno 2] No such file or directory: '/Users/jurie.germishuys/Workspace/odf/koster-uw/models/yolov5/tutorials/ml-template-data/images/000203 TMBL-ROV 2000 Säckenrevet Tape 56_frame_24750.jpg'\n",
      "\u001b[34m\u001b[1mtrain: \u001b[0mWARNING: /Users/jurie.germishuys/Workspace/odf/koster-uw/models/yolov5/tutorials/ml-template-data/images/000203 TMBL-ROV 2000 Säckenrevet Tape 56_frame_24775.jpg: ignoring corrupt image/label: [Errno 2] No such file or directory: '/Users/jurie.germishuys/Workspace/odf/koster-uw/models/yolov5/tutorials/ml-template-data/images/000203 TMBL-ROV 2000 Säckenrevet Tape 56_frame_24775.jpg'\n",
      "\u001b[34m\u001b[1mtrain: \u001b[0mWARNING: /Users/jurie.germishuys/Workspace/odf/koster-uw/models/yolov5/tutorials/ml-template-data/images/000203 TMBL-ROV 2000 Säckenrevet Tape 56_frame_26250.jpg: ignoring corrupt image/label: [Errno 2] No such file or directory: '/Users/jurie.germishuys/Workspace/odf/koster-uw/models/yolov5/tutorials/ml-template-data/images/000203 TMBL-ROV 2000 Säckenrevet Tape 56_frame_26250.jpg'\n",
      "\u001b[34m\u001b[1mtrain: \u001b[0mWARNING: /Users/jurie.germishuys/Workspace/odf/koster-uw/models/yolov5/tutorials/ml-template-data/images/000203 TMBL-ROV 2000 Säckenrevet Tape 56_frame_27000.jpg: ignoring corrupt image/label: [Errno 2] No such file or directory: '/Users/jurie.germishuys/Workspace/odf/koster-uw/models/yolov5/tutorials/ml-template-data/images/000203 TMBL-ROV 2000 Säckenrevet Tape 56_frame_27000.jpg'\n",
      "\u001b[34m\u001b[1mtrain: \u001b[0mWARNING: /Users/jurie.germishuys/Workspace/odf/koster-uw/models/yolov5/tutorials/ml-template-data/images/000203 TMBL-ROV 2000 Säckenrevet Tape 56_frame_27025.jpg: ignoring corrupt image/label: [Errno 2] No such file or directory: '/Users/jurie.germishuys/Workspace/odf/koster-uw/models/yolov5/tutorials/ml-template-data/images/000203 TMBL-ROV 2000 Säckenrevet Tape 56_frame_27025.jpg'\n",
      "\u001b[34m\u001b[1mtrain: \u001b[0mWARNING: /Users/jurie.germishuys/Workspace/odf/koster-uw/models/yolov5/tutorials/ml-template-data/images/000203 TMBL-ROV 2000 Säckenrevet Tape 56_frame_29250.jpg: ignoring corrupt image/label: [Errno 2] No such file or directory: '/Users/jurie.germishuys/Workspace/odf/koster-uw/models/yolov5/tutorials/ml-template-data/images/000203 TMBL-ROV 2000 Säckenrevet Tape 56_frame_29250.jpg'\n",
      "\u001b[34m\u001b[1mtrain: \u001b[0mWARNING: /Users/jurie.germishuys/Workspace/odf/koster-uw/models/yolov5/tutorials/ml-template-data/images/000203 TMBL-ROV 2000 Säckenrevet Tape 56_frame_32250.jpg: ignoring corrupt image/label: [Errno 2] No such file or directory: '/Users/jurie.germishuys/Workspace/odf/koster-uw/models/yolov5/tutorials/ml-template-data/images/000203 TMBL-ROV 2000 Säckenrevet Tape 56_frame_32250.jpg'\n",
      "\u001b[34m\u001b[1mtrain: \u001b[0mWARNING: /Users/jurie.germishuys/Workspace/odf/koster-uw/models/yolov5/tutorials/ml-template-data/images/000203 TMBL-ROV 2000 Säckenrevet Tape 56_frame_32275.jpg: ignoring corrupt image/label: [Errno 2] No such file or directory: '/Users/jurie.germishuys/Workspace/odf/koster-uw/models/yolov5/tutorials/ml-template-data/images/000203 TMBL-ROV 2000 Säckenrevet Tape 56_frame_32275.jpg'\n",
      "\u001b[34m\u001b[1mtrain: \u001b[0mWARNING: /Users/jurie.germishuys/Workspace/odf/koster-uw/models/yolov5/tutorials/ml-template-data/images/000203 TMBL-ROV 2000 Säckenrevet Tape 56_frame_33000.jpg: ignoring corrupt image/label: [Errno 2] No such file or directory: '/Users/jurie.germishuys/Workspace/odf/koster-uw/models/yolov5/tutorials/ml-template-data/images/000203 TMBL-ROV 2000 Säckenrevet Tape 56_frame_33000.jpg'\n",
      "\u001b[34m\u001b[1mtrain: \u001b[0mWARNING: /Users/jurie.germishuys/Workspace/odf/koster-uw/models/yolov5/tutorials/ml-template-data/images/000203 TMBL-ROV 2000 Säckenrevet Tape 56_frame_33025.jpg: ignoring corrupt image/label: [Errno 2] No such file or directory: '/Users/jurie.germishuys/Workspace/odf/koster-uw/models/yolov5/tutorials/ml-template-data/images/000203 TMBL-ROV 2000 Säckenrevet Tape 56_frame_33025.jpg'\n",
      "\u001b[34m\u001b[1mtrain: \u001b[0mWARNING: /Users/jurie.germishuys/Workspace/odf/koster-uw/models/yolov5/tutorials/ml-template-data/images/000203 TMBL-ROV 2000 Säckenrevet Tape 56_frame_33750.jpg: ignoring corrupt image/label: [Errno 2] No such file or directory: '/Users/jurie.germishuys/Workspace/odf/koster-uw/models/yolov5/tutorials/ml-template-data/images/000203 TMBL-ROV 2000 Säckenrevet Tape 56_frame_33750.jpg'\n",
      "\u001b[34m\u001b[1mtrain: \u001b[0mWARNING: /Users/jurie.germishuys/Workspace/odf/koster-uw/models/yolov5/tutorials/ml-template-data/images/000203 TMBL-ROV 2000 Säckenrevet Tape 56_frame_35250.jpg: ignoring corrupt image/label: [Errno 2] No such file or directory: '/Users/jurie.germishuys/Workspace/odf/koster-uw/models/yolov5/tutorials/ml-template-data/images/000203 TMBL-ROV 2000 Säckenrevet Tape 56_frame_35250.jpg'\n",
      "\u001b[34m\u001b[1mtrain: \u001b[0mWARNING: /Users/jurie.germishuys/Workspace/odf/koster-uw/models/yolov5/tutorials/ml-template-data/images/000203 TMBL-ROV 2000 Säckenrevet Tape 56_frame_36000.jpg: ignoring corrupt image/label: [Errno 2] No such file or directory: '/Users/jurie.germishuys/Workspace/odf/koster-uw/models/yolov5/tutorials/ml-template-data/images/000203 TMBL-ROV 2000 Säckenrevet Tape 56_frame_36000.jpg'\n",
      "\u001b[34m\u001b[1mtrain: \u001b[0mWARNING: /Users/jurie.germishuys/Workspace/odf/koster-uw/models/yolov5/tutorials/ml-template-data/images/000203 TMBL-ROV 2000 Säckenrevet Tape 56_frame_36025.jpg: ignoring corrupt image/label: [Errno 2] No such file or directory: '/Users/jurie.germishuys/Workspace/odf/koster-uw/models/yolov5/tutorials/ml-template-data/images/000203 TMBL-ROV 2000 Säckenrevet Tape 56_frame_36025.jpg'\n",
      "\u001b[34m\u001b[1mtrain: \u001b[0mWARNING: /Users/jurie.germishuys/Workspace/odf/koster-uw/models/yolov5/tutorials/ml-template-data/images/000203 TMBL-ROV 2000 Säckenrevet Tape 56_frame_36750.jpg: ignoring corrupt image/label: [Errno 2] No such file or directory: '/Users/jurie.germishuys/Workspace/odf/koster-uw/models/yolov5/tutorials/ml-template-data/images/000203 TMBL-ROV 2000 Säckenrevet Tape 56_frame_36750.jpg'\n",
      "\u001b[34m\u001b[1mtrain: \u001b[0mWARNING: /Users/jurie.germishuys/Workspace/odf/koster-uw/models/yolov5/tutorials/ml-template-data/images/000203 TMBL-ROV 2000 Säckenrevet Tape 56_frame_36775.jpg: ignoring corrupt image/label: [Errno 2] No such file or directory: '/Users/jurie.germishuys/Workspace/odf/koster-uw/models/yolov5/tutorials/ml-template-data/images/000203 TMBL-ROV 2000 Säckenrevet Tape 56_frame_36775.jpg'\n",
      "\u001b[34m\u001b[1mtrain: \u001b[0mWARNING: /Users/jurie.germishuys/Workspace/odf/koster-uw/models/yolov5/tutorials/ml-template-data/images/000203 TMBL-ROV 2000 Säckenrevet Tape 56_frame_37525.jpg: ignoring corrupt image/label: [Errno 2] No such file or directory: '/Users/jurie.germishuys/Workspace/odf/koster-uw/models/yolov5/tutorials/ml-template-data/images/000203 TMBL-ROV 2000 Säckenrevet Tape 56_frame_37525.jpg'\n",
      "\u001b[34m\u001b[1mtrain: \u001b[0mWARNING: /Users/jurie.germishuys/Workspace/odf/koster-uw/models/yolov5/tutorials/ml-template-data/images/000203 TMBL-ROV 2000 Säckenrevet Tape 56_frame_38250.jpg: ignoring corrupt image/label: [Errno 2] No such file or directory: '/Users/jurie.germishuys/Workspace/odf/koster-uw/models/yolov5/tutorials/ml-template-data/images/000203 TMBL-ROV 2000 Säckenrevet Tape 56_frame_38250.jpg'\n",
      "\u001b[34m\u001b[1mtrain: \u001b[0mWARNING: /Users/jurie.germishuys/Workspace/odf/koster-uw/models/yolov5/tutorials/ml-template-data/images/000203 TMBL-ROV 2000 Säckenrevet Tape 56_frame_42000.jpg: ignoring corrupt image/label: [Errno 2] No such file or directory: '/Users/jurie.germishuys/Workspace/odf/koster-uw/models/yolov5/tutorials/ml-template-data/images/000203 TMBL-ROV 2000 Säckenrevet Tape 56_frame_42000.jpg'\n",
      "\u001b[34m\u001b[1mtrain: \u001b[0mWARNING: /Users/jurie.germishuys/Workspace/odf/koster-uw/models/yolov5/tutorials/ml-template-data/images/000203 TMBL-ROV 2000 Säckenrevet Tape 56_frame_42025.jpg: ignoring corrupt image/label: [Errno 2] No such file or directory: '/Users/jurie.germishuys/Workspace/odf/koster-uw/models/yolov5/tutorials/ml-template-data/images/000203 TMBL-ROV 2000 Säckenrevet Tape 56_frame_42025.jpg'\n",
      "\u001b[34m\u001b[1mtrain: \u001b[0mWARNING: /Users/jurie.germishuys/Workspace/odf/koster-uw/models/yolov5/tutorials/ml-template-data/images/000203 TMBL-ROV 2000 Säckenrevet Tape 56_frame_49500.jpg: ignoring corrupt image/label: [Errno 2] No such file or directory: '/Users/jurie.germishuys/Workspace/odf/koster-uw/models/yolov5/tutorials/ml-template-data/images/000203 TMBL-ROV 2000 Säckenrevet Tape 56_frame_49500.jpg'\n",
      "\u001b[34m\u001b[1mtrain: \u001b[0mWARNING: /Users/jurie.germishuys/Workspace/odf/koster-uw/models/yolov5/tutorials/ml-template-data/images/000203 TMBL-ROV 2000 Säckenrevet Tape 56_frame_51000.jpg: ignoring corrupt image/label: [Errno 2] No such file or directory: '/Users/jurie.germishuys/Workspace/odf/koster-uw/models/yolov5/tutorials/ml-template-data/images/000203 TMBL-ROV 2000 Säckenrevet Tape 56_frame_51000.jpg'\n",
      "\u001b[34m\u001b[1mtrain: \u001b[0mWARNING: /Users/jurie.germishuys/Workspace/odf/koster-uw/models/yolov5/tutorials/ml-template-data/images/000203 TMBL-ROV 2000 Säckenrevet Tape 56_frame_51025.jpg: ignoring corrupt image/label: [Errno 2] No such file or directory: '/Users/jurie.germishuys/Workspace/odf/koster-uw/models/yolov5/tutorials/ml-template-data/images/000203 TMBL-ROV 2000 Säckenrevet Tape 56_frame_51025.jpg'\n",
      "\u001b[34m\u001b[1mtrain: \u001b[0mWARNING: /Users/jurie.germishuys/Workspace/odf/koster-uw/models/yolov5/tutorials/ml-template-data/images/000203 TMBL-ROV 2000 Säckenrevet Tape 56_frame_52500.jpg: ignoring corrupt image/label: [Errno 2] No such file or directory: '/Users/jurie.germishuys/Workspace/odf/koster-uw/models/yolov5/tutorials/ml-template-data/images/000203 TMBL-ROV 2000 Säckenrevet Tape 56_frame_52500.jpg'\n",
      "\u001b[34m\u001b[1mtrain: \u001b[0mWARNING: /Users/jurie.germishuys/Workspace/odf/koster-uw/models/yolov5/tutorials/ml-template-data/images/000203 TMBL-ROV 2000 Säckenrevet Tape 56_frame_52525.jpg: ignoring corrupt image/label: [Errno 2] No such file or directory: '/Users/jurie.germishuys/Workspace/odf/koster-uw/models/yolov5/tutorials/ml-template-data/images/000203 TMBL-ROV 2000 Säckenrevet Tape 56_frame_52525.jpg'\n",
      "\u001b[34m\u001b[1mtrain: \u001b[0mWARNING: /Users/jurie.germishuys/Workspace/odf/koster-uw/models/yolov5/tutorials/ml-template-data/images/000203 TMBL-ROV 2000 Säckenrevet Tape 56_frame_53262.jpg: ignoring corrupt image/label: [Errno 2] No such file or directory: '/Users/jurie.germishuys/Workspace/odf/koster-uw/models/yolov5/tutorials/ml-template-data/images/000203 TMBL-ROV 2000 Säckenrevet Tape 56_frame_53262.jpg'\n",
      "\u001b[34m\u001b[1mtrain: \u001b[0mWARNING: /Users/jurie.germishuys/Workspace/odf/koster-uw/models/yolov5/tutorials/ml-template-data/images/000203 TMBL-ROV 2000 Säckenrevet Tape 56_frame_53287.jpg: ignoring corrupt image/label: [Errno 2] No such file or directory: '/Users/jurie.germishuys/Workspace/odf/koster-uw/models/yolov5/tutorials/ml-template-data/images/000203 TMBL-ROV 2000 Säckenrevet Tape 56_frame_53287.jpg'\n",
      "\u001b[34m\u001b[1mtrain: \u001b[0mWARNING: /Users/jurie.germishuys/Workspace/odf/koster-uw/models/yolov5/tutorials/ml-template-data/images/000203 TMBL-ROV 2000 Säckenrevet Tape 56_frame_54775.jpg: ignoring corrupt image/label: [Errno 2] No such file or directory: '/Users/jurie.germishuys/Workspace/odf/koster-uw/models/yolov5/tutorials/ml-template-data/images/000203 TMBL-ROV 2000 Säckenrevet Tape 56_frame_54775.jpg'\n",
      "\u001b[34m\u001b[1mtrain: \u001b[0mWARNING: /Users/jurie.germishuys/Workspace/odf/koster-uw/models/yolov5/tutorials/ml-template-data/images/000203 TMBL-ROV 2000 Säckenrevet Tape 56_frame_55500.jpg: ignoring corrupt image/label: [Errno 2] No such file or directory: '/Users/jurie.germishuys/Workspace/odf/koster-uw/models/yolov5/tutorials/ml-template-data/images/000203 TMBL-ROV 2000 Säckenrevet Tape 56_frame_55500.jpg'\n",
      "\u001b[34m\u001b[1mtrain: \u001b[0mWARNING: /Users/jurie.germishuys/Workspace/odf/koster-uw/models/yolov5/tutorials/ml-template-data/images/000203 TMBL-ROV 2000 Säckenrevet Tape 56_frame_55525.jpg: ignoring corrupt image/label: [Errno 2] No such file or directory: '/Users/jurie.germishuys/Workspace/odf/koster-uw/models/yolov5/tutorials/ml-template-data/images/000203 TMBL-ROV 2000 Säckenrevet Tape 56_frame_55525.jpg'\n",
      "\u001b[34m\u001b[1mtrain: \u001b[0mWARNING: /Users/jurie.germishuys/Workspace/odf/koster-uw/models/yolov5/tutorials/ml-template-data/images/000203 TMBL-ROV 2000 Säckenrevet Tape 56_frame_57000.jpg: ignoring corrupt image/label: [Errno 2] No such file or directory: '/Users/jurie.germishuys/Workspace/odf/koster-uw/models/yolov5/tutorials/ml-template-data/images/000203 TMBL-ROV 2000 Säckenrevet Tape 56_frame_57000.jpg'\n",
      "\u001b[34m\u001b[1mtrain: \u001b[0mWARNING: /Users/jurie.germishuys/Workspace/odf/koster-uw/models/yolov5/tutorials/ml-template-data/images/000203 TMBL-ROV 2000 Säckenrevet Tape 56_frame_58500.jpg: ignoring corrupt image/label: [Errno 2] No such file or directory: '/Users/jurie.germishuys/Workspace/odf/koster-uw/models/yolov5/tutorials/ml-template-data/images/000203 TMBL-ROV 2000 Säckenrevet Tape 56_frame_58500.jpg'\n",
      "\u001b[34m\u001b[1mtrain: \u001b[0mWARNING: /Users/jurie.germishuys/Workspace/odf/koster-uw/models/yolov5/tutorials/ml-template-data/images/000203 TMBL-ROV 2000 Säckenrevet Tape 56_frame_58512.jpg: ignoring corrupt image/label: [Errno 2] No such file or directory: '/Users/jurie.germishuys/Workspace/odf/koster-uw/models/yolov5/tutorials/ml-template-data/images/000203 TMBL-ROV 2000 Säckenrevet Tape 56_frame_58512.jpg'\n",
      "\u001b[34m\u001b[1mtrain: \u001b[0mWARNING: /Users/jurie.germishuys/Workspace/odf/koster-uw/models/yolov5/tutorials/ml-template-data/images/000203 TMBL-ROV 2000 Säckenrevet Tape 56_frame_62250.jpg: ignoring corrupt image/label: [Errno 2] No such file or directory: '/Users/jurie.germishuys/Workspace/odf/koster-uw/models/yolov5/tutorials/ml-template-data/images/000203 TMBL-ROV 2000 Säckenrevet Tape 56_frame_62250.jpg'\n",
      "\u001b[34m\u001b[1mtrain: \u001b[0mWARNING: /Users/jurie.germishuys/Workspace/odf/koster-uw/models/yolov5/tutorials/ml-template-data/images/000203 TMBL-ROV 2000 Säckenrevet Tape 56_frame_62275.jpg: ignoring corrupt image/label: [Errno 2] No such file or directory: '/Users/jurie.germishuys/Workspace/odf/koster-uw/models/yolov5/tutorials/ml-template-data/images/000203 TMBL-ROV 2000 Säckenrevet Tape 56_frame_62275.jpg'\n",
      "\u001b[34m\u001b[1mtrain: \u001b[0mWARNING: /Users/jurie.germishuys/Workspace/odf/koster-uw/models/yolov5/tutorials/ml-template-data/images/000203 TMBL-ROV 2000 Säckenrevet Tape 56_frame_63000.jpg: ignoring corrupt image/label: [Errno 2] No such file or directory: '/Users/jurie.germishuys/Workspace/odf/koster-uw/models/yolov5/tutorials/ml-template-data/images/000203 TMBL-ROV 2000 Säckenrevet Tape 56_frame_63000.jpg'\n",
      "\u001b[34m\u001b[1mtrain: \u001b[0mWARNING: /Users/jurie.germishuys/Workspace/odf/koster-uw/models/yolov5/tutorials/ml-template-data/images/000203 TMBL-ROV 2000 Säckenrevet Tape 56_frame_67500.jpg: ignoring corrupt image/label: [Errno 2] No such file or directory: '/Users/jurie.germishuys/Workspace/odf/koster-uw/models/yolov5/tutorials/ml-template-data/images/000203 TMBL-ROV 2000 Säckenrevet Tape 56_frame_67500.jpg'\n",
      "\u001b[34m\u001b[1mtrain: \u001b[0mWARNING: /Users/jurie.germishuys/Workspace/odf/koster-uw/models/yolov5/tutorials/ml-template-data/images/000203 TMBL-ROV 2000 Säckenrevet Tape 56_frame_70500.jpg: ignoring corrupt image/label: [Errno 2] No such file or directory: '/Users/jurie.germishuys/Workspace/odf/koster-uw/models/yolov5/tutorials/ml-template-data/images/000203 TMBL-ROV 2000 Säckenrevet Tape 56_frame_70500.jpg'\n",
      "\u001b[34m\u001b[1mtrain: \u001b[0mWARNING: /Users/jurie.germishuys/Workspace/odf/koster-uw/models/yolov5/tutorials/ml-template-data/images/000203 TMBL-ROV 2000 Säckenrevet Tape 56_frame_72025.jpg: ignoring corrupt image/label: [Errno 2] No such file or directory: '/Users/jurie.germishuys/Workspace/odf/koster-uw/models/yolov5/tutorials/ml-template-data/images/000203 TMBL-ROV 2000 Säckenrevet Tape 56_frame_72025.jpg'\n",
      "\u001b[34m\u001b[1mtrain: \u001b[0mWARNING: /Users/jurie.germishuys/Workspace/odf/koster-uw/models/yolov5/tutorials/ml-template-data/images/000203 TMBL-ROV 2000 Säckenrevet Tape 56_frame_75000.jpg: ignoring corrupt image/label: [Errno 2] No such file or directory: '/Users/jurie.germishuys/Workspace/odf/koster-uw/models/yolov5/tutorials/ml-template-data/images/000203 TMBL-ROV 2000 Säckenrevet Tape 56_frame_75000.jpg'\n",
      "\u001b[34m\u001b[1mtrain: \u001b[0mWARNING: /Users/jurie.germishuys/Workspace/odf/koster-uw/models/yolov5/tutorials/ml-template-data/images/000203 TMBL-ROV 2000 Säckenrevet Tape 56_frame_75025.jpg: ignoring corrupt image/label: [Errno 2] No such file or directory: '/Users/jurie.germishuys/Workspace/odf/koster-uw/models/yolov5/tutorials/ml-template-data/images/000203 TMBL-ROV 2000 Säckenrevet Tape 56_frame_75025.jpg'\n",
      "\u001b[34m\u001b[1mtrain: \u001b[0mWARNING: /Users/jurie.germishuys/Workspace/odf/koster-uw/models/yolov5/tutorials/ml-template-data/images/000203 TMBL-ROV 2000 Säckenrevet Tape 56_frame_80250.jpg: ignoring corrupt image/label: [Errno 2] No such file or directory: '/Users/jurie.germishuys/Workspace/odf/koster-uw/models/yolov5/tutorials/ml-template-data/images/000203 TMBL-ROV 2000 Säckenrevet Tape 56_frame_80250.jpg'\n",
      "\u001b[34m\u001b[1mtrain: \u001b[0mWARNING: /Users/jurie.germishuys/Workspace/odf/koster-uw/models/yolov5/tutorials/ml-template-data/images/000203 TMBL-ROV 2000 Säckenrevet Tape 56_frame_82500.jpg: ignoring corrupt image/label: [Errno 2] No such file or directory: '/Users/jurie.germishuys/Workspace/odf/koster-uw/models/yolov5/tutorials/ml-template-data/images/000203 TMBL-ROV 2000 Säckenrevet Tape 56_frame_82500.jpg'\n",
      "\u001b[34m\u001b[1mtrain: \u001b[0mWARNING: /Users/jurie.germishuys/Workspace/odf/koster-uw/models/yolov5/tutorials/ml-template-data/images/000203 TMBL-ROV 2000 Säckenrevet Tape 56_frame_82525.jpg: ignoring corrupt image/label: [Errno 2] No such file or directory: '/Users/jurie.germishuys/Workspace/odf/koster-uw/models/yolov5/tutorials/ml-template-data/images/000203 TMBL-ROV 2000 Säckenrevet Tape 56_frame_82525.jpg'\n",
      "\u001b[34m\u001b[1mtrain: \u001b[0mWARNING: /Users/jurie.germishuys/Workspace/odf/koster-uw/models/yolov5/tutorials/ml-template-data/images/000203 TMBL-ROV 2000 Säckenrevet Tape 56_frame_84000.jpg: ignoring corrupt image/label: [Errno 2] No such file or directory: '/Users/jurie.germishuys/Workspace/odf/koster-uw/models/yolov5/tutorials/ml-template-data/images/000203 TMBL-ROV 2000 Säckenrevet Tape 56_frame_84000.jpg'\n",
      "\u001b[34m\u001b[1mtrain: \u001b[0mWARNING: /Users/jurie.germishuys/Workspace/odf/koster-uw/models/yolov5/tutorials/ml-template-data/images/000203 TMBL-ROV 2000 Säckenrevet Tape 56_frame_84025.jpg: ignoring corrupt image/label: [Errno 2] No such file or directory: '/Users/jurie.germishuys/Workspace/odf/koster-uw/models/yolov5/tutorials/ml-template-data/images/000203 TMBL-ROV 2000 Säckenrevet Tape 56_frame_84025.jpg'\n",
      "\u001b[34m\u001b[1mtrain: \u001b[0mWARNING: /Users/jurie.germishuys/Workspace/odf/koster-uw/models/yolov5/tutorials/ml-template-data/images/000203 TMBL-ROV 2000 Säckenrevet Tape 56_frame_84787.jpg: ignoring corrupt image/label: [Errno 2] No such file or directory: '/Users/jurie.germishuys/Workspace/odf/koster-uw/models/yolov5/tutorials/ml-template-data/images/000203 TMBL-ROV 2000 Säckenrevet Tape 56_frame_84787.jpg'\n",
      "\u001b[34m\u001b[1mtrain: \u001b[0mWARNING: /Users/jurie.germishuys/Workspace/odf/koster-uw/models/yolov5/tutorials/ml-template-data/images/000203 TMBL-ROV 2000 Säckenrevet Tape 56_frame_87025.jpg: ignoring corrupt image/label: [Errno 2] No such file or directory: '/Users/jurie.germishuys/Workspace/odf/koster-uw/models/yolov5/tutorials/ml-template-data/images/000203 TMBL-ROV 2000 Säckenrevet Tape 56_frame_87025.jpg'\n",
      "\u001b[34m\u001b[1mtrain: \u001b[0mWARNING: /Users/jurie.germishuys/Workspace/odf/koster-uw/models/yolov5/tutorials/ml-template-data/images/000203 TMBL-ROV 2000 Säckenrevet Tape 56_frame_93000.jpg: ignoring corrupt image/label: [Errno 2] No such file or directory: '/Users/jurie.germishuys/Workspace/odf/koster-uw/models/yolov5/tutorials/ml-template-data/images/000203 TMBL-ROV 2000 Säckenrevet Tape 56_frame_93000.jpg'\n",
      "\u001b[34m\u001b[1mtrain: \u001b[0mWARNING: /Users/jurie.germishuys/Workspace/odf/koster-uw/models/yolov5/tutorials/ml-template-data/images/000203 TMBL-ROV 2000 Säckenrevet Tape 56_frame_94525.jpg: ignoring corrupt image/label: [Errno 2] No such file or directory: '/Users/jurie.germishuys/Workspace/odf/koster-uw/models/yolov5/tutorials/ml-template-data/images/000203 TMBL-ROV 2000 Säckenrevet Tape 56_frame_94525.jpg'\n",
      "\u001b[34m\u001b[1mtrain: \u001b[0mWARNING: /Users/jurie.germishuys/Workspace/odf/koster-uw/models/yolov5/tutorials/ml-template-data/images/000203 TMBL-ROV 2000 Säckenrevet Tape 56_frame_96775.jpg: ignoring corrupt image/label: [Errno 2] No such file or directory: '/Users/jurie.germishuys/Workspace/odf/koster-uw/models/yolov5/tutorials/ml-template-data/images/000203 TMBL-ROV 2000 Säckenrevet Tape 56_frame_96775.jpg'\n",
      "\u001b[34m\u001b[1mtrain: \u001b[0mWARNING: /Users/jurie.germishuys/Workspace/odf/koster-uw/models/yolov5/tutorials/ml-template-data/images/010424 Säckenrevet alfa Tape 74_frame_10525.jpg: ignoring corrupt image/label: [Errno 2] No such file or directory: '/Users/jurie.germishuys/Workspace/odf/koster-uw/models/yolov5/tutorials/ml-template-data/images/010424 Säckenrevet alfa Tape 74_frame_10525.jpg'\n",
      "\u001b[34m\u001b[1mtrain: \u001b[0mWARNING: /Users/jurie.germishuys/Workspace/odf/koster-uw/models/yolov5/tutorials/ml-template-data/images/010424 Säckenrevet alfa Tape 74_frame_11262.jpg: ignoring corrupt image/label: [Errno 2] No such file or directory: '/Users/jurie.germishuys/Workspace/odf/koster-uw/models/yolov5/tutorials/ml-template-data/images/010424 Säckenrevet alfa Tape 74_frame_11262.jpg'\n",
      "\u001b[34m\u001b[1mtrain: \u001b[0mWARNING: /Users/jurie.germishuys/Workspace/odf/koster-uw/models/yolov5/tutorials/ml-template-data/images/010424 Säckenrevet alfa Tape 74_frame_126800.jpg: ignoring corrupt image/label: [Errno 2] No such file or directory: '/Users/jurie.germishuys/Workspace/odf/koster-uw/models/yolov5/tutorials/ml-template-data/images/010424 Säckenrevet alfa Tape 74_frame_126800.jpg'\n",
      "\u001b[34m\u001b[1mtrain: \u001b[0mWARNING: /Users/jurie.germishuys/Workspace/odf/koster-uw/models/yolov5/tutorials/ml-template-data/images/010424 Säckenrevet alfa Tape 74_frame_14250.jpg: ignoring corrupt image/label: [Errno 2] No such file or directory: '/Users/jurie.germishuys/Workspace/odf/koster-uw/models/yolov5/tutorials/ml-template-data/images/010424 Säckenrevet alfa Tape 74_frame_14250.jpg'\n",
      "\u001b[34m\u001b[1mtrain: \u001b[0mWARNING: /Users/jurie.germishuys/Workspace/odf/koster-uw/models/yolov5/tutorials/ml-template-data/images/010424 Säckenrevet alfa Tape 74_frame_14275.jpg: ignoring corrupt image/label: [Errno 2] No such file or directory: '/Users/jurie.germishuys/Workspace/odf/koster-uw/models/yolov5/tutorials/ml-template-data/images/010424 Säckenrevet alfa Tape 74_frame_14275.jpg'\n",
      "\u001b[34m\u001b[1mtrain: \u001b[0mWARNING: /Users/jurie.germishuys/Workspace/odf/koster-uw/models/yolov5/tutorials/ml-template-data/images/010424 Säckenrevet alfa Tape 74_frame_15775.jpg: ignoring corrupt image/label: [Errno 2] No such file or directory: '/Users/jurie.germishuys/Workspace/odf/koster-uw/models/yolov5/tutorials/ml-template-data/images/010424 Säckenrevet alfa Tape 74_frame_15775.jpg'\n",
      "\u001b[34m\u001b[1mtrain: \u001b[0mWARNING: /Users/jurie.germishuys/Workspace/odf/koster-uw/models/yolov5/tutorials/ml-template-data/images/010424 Säckenrevet alfa Tape 74_frame_18000.jpg: ignoring corrupt image/label: [Errno 2] No such file or directory: '/Users/jurie.germishuys/Workspace/odf/koster-uw/models/yolov5/tutorials/ml-template-data/images/010424 Säckenrevet alfa Tape 74_frame_18000.jpg'\n",
      "\u001b[34m\u001b[1mtrain: \u001b[0mWARNING: /Users/jurie.germishuys/Workspace/odf/koster-uw/models/yolov5/tutorials/ml-template-data/images/010424 Säckenrevet alfa Tape 74_frame_18025.jpg: ignoring corrupt image/label: [Errno 2] No such file or directory: '/Users/jurie.germishuys/Workspace/odf/koster-uw/models/yolov5/tutorials/ml-template-data/images/010424 Säckenrevet alfa Tape 74_frame_18025.jpg'\n",
      "\u001b[34m\u001b[1mtrain: \u001b[0mWARNING: /Users/jurie.germishuys/Workspace/odf/koster-uw/models/yolov5/tutorials/ml-template-data/images/010424 Säckenrevet alfa Tape 74_frame_21750.jpg: ignoring corrupt image/label: [Errno 2] No such file or directory: '/Users/jurie.germishuys/Workspace/odf/koster-uw/models/yolov5/tutorials/ml-template-data/images/010424 Säckenrevet alfa Tape 74_frame_21750.jpg'\n",
      "\u001b[34m\u001b[1mtrain: \u001b[0mWARNING: /Users/jurie.germishuys/Workspace/odf/koster-uw/models/yolov5/tutorials/ml-template-data/images/010424 Säckenrevet alfa Tape 74_frame_36000.jpg: ignoring corrupt image/label: [Errno 2] No such file or directory: '/Users/jurie.germishuys/Workspace/odf/koster-uw/models/yolov5/tutorials/ml-template-data/images/010424 Säckenrevet alfa Tape 74_frame_36000.jpg'\n",
      "\u001b[34m\u001b[1mtrain: \u001b[0mWARNING: /Users/jurie.germishuys/Workspace/odf/koster-uw/models/yolov5/tutorials/ml-template-data/images/010424 Säckenrevet alfa Tape 74_frame_36025.jpg: ignoring corrupt image/label: [Errno 2] No such file or directory: '/Users/jurie.germishuys/Workspace/odf/koster-uw/models/yolov5/tutorials/ml-template-data/images/010424 Säckenrevet alfa Tape 74_frame_36025.jpg'\n",
      "\u001b[34m\u001b[1mtrain: \u001b[0mWARNING: /Users/jurie.germishuys/Workspace/odf/koster-uw/models/yolov5/tutorials/ml-template-data/images/010424 Säckenrevet alfa Tape 74_frame_37500.jpg: ignoring corrupt image/label: [Errno 2] No such file or directory: '/Users/jurie.germishuys/Workspace/odf/koster-uw/models/yolov5/tutorials/ml-template-data/images/010424 Säckenrevet alfa Tape 74_frame_37500.jpg'\n",
      "\u001b[34m\u001b[1mtrain: \u001b[0mWARNING: /Users/jurie.germishuys/Workspace/odf/koster-uw/models/yolov5/tutorials/ml-template-data/images/010424 Säckenrevet alfa Tape 74_frame_39800.jpg: ignoring corrupt image/label: [Errno 2] No such file or directory: '/Users/jurie.germishuys/Workspace/odf/koster-uw/models/yolov5/tutorials/ml-template-data/images/010424 Säckenrevet alfa Tape 74_frame_39800.jpg'\n",
      "\u001b[34m\u001b[1mtrain: \u001b[0mWARNING: /Users/jurie.germishuys/Workspace/odf/koster-uw/models/yolov5/tutorials/ml-template-data/images/010424 Säckenrevet alfa Tape 74_frame_40600.jpg: ignoring corrupt image/label: [Errno 2] No such file or directory: '/Users/jurie.germishuys/Workspace/odf/koster-uw/models/yolov5/tutorials/ml-template-data/images/010424 Säckenrevet alfa Tape 74_frame_40600.jpg'\n",
      "\u001b[34m\u001b[1mtrain: \u001b[0mWARNING: /Users/jurie.germishuys/Workspace/odf/koster-uw/models/yolov5/tutorials/ml-template-data/images/010424 Säckenrevet alfa Tape 74_frame_40625.jpg: ignoring corrupt image/label: [Errno 2] No such file or directory: '/Users/jurie.germishuys/Workspace/odf/koster-uw/models/yolov5/tutorials/ml-template-data/images/010424 Säckenrevet alfa Tape 74_frame_40625.jpg'\n",
      "\u001b[34m\u001b[1mtrain: \u001b[0mWARNING: /Users/jurie.germishuys/Workspace/odf/koster-uw/models/yolov5/tutorials/ml-template-data/images/010424 Säckenrevet alfa Tape 74_frame_41250.jpg: ignoring corrupt image/label: [Errno 2] No such file or directory: '/Users/jurie.germishuys/Workspace/odf/koster-uw/models/yolov5/tutorials/ml-template-data/images/010424 Säckenrevet alfa Tape 74_frame_41250.jpg'\n",
      "\u001b[34m\u001b[1mtrain: \u001b[0mWARNING: /Users/jurie.germishuys/Workspace/odf/koster-uw/models/yolov5/tutorials/ml-template-data/images/010424 Säckenrevet alfa Tape 74_frame_41275.jpg: ignoring corrupt image/label: [Errno 2] No such file or directory: '/Users/jurie.germishuys/Workspace/odf/koster-uw/models/yolov5/tutorials/ml-template-data/images/010424 Säckenrevet alfa Tape 74_frame_41275.jpg'\n",
      "\u001b[34m\u001b[1mtrain: \u001b[0mWARNING: /Users/jurie.germishuys/Workspace/odf/koster-uw/models/yolov5/tutorials/ml-template-data/images/010424 Säckenrevet alfa Tape 74_frame_42000.jpg: ignoring corrupt image/label: [Errno 2] No such file or directory: '/Users/jurie.germishuys/Workspace/odf/koster-uw/models/yolov5/tutorials/ml-template-data/images/010424 Säckenrevet alfa Tape 74_frame_42000.jpg'\n",
      "\u001b[34m\u001b[1mtrain: \u001b[0mWARNING: /Users/jurie.germishuys/Workspace/odf/koster-uw/models/yolov5/tutorials/ml-template-data/images/010424 Säckenrevet alfa Tape 74_frame_42025.jpg: ignoring corrupt image/label: [Errno 2] No such file or directory: '/Users/jurie.germishuys/Workspace/odf/koster-uw/models/yolov5/tutorials/ml-template-data/images/010424 Säckenrevet alfa Tape 74_frame_42025.jpg'\n",
      "\u001b[34m\u001b[1mtrain: \u001b[0mWARNING: /Users/jurie.germishuys/Workspace/odf/koster-uw/models/yolov5/tutorials/ml-template-data/images/010424 Säckenrevet alfa Tape 74_frame_43500.jpg: ignoring corrupt image/label: [Errno 2] No such file or directory: '/Users/jurie.germishuys/Workspace/odf/koster-uw/models/yolov5/tutorials/ml-template-data/images/010424 Säckenrevet alfa Tape 74_frame_43500.jpg'\n",
      "\u001b[34m\u001b[1mtrain: \u001b[0mWARNING: /Users/jurie.germishuys/Workspace/odf/koster-uw/models/yolov5/tutorials/ml-template-data/images/010424 Säckenrevet alfa Tape 74_frame_48750.jpg: ignoring corrupt image/label: [Errno 2] No such file or directory: '/Users/jurie.germishuys/Workspace/odf/koster-uw/models/yolov5/tutorials/ml-template-data/images/010424 Säckenrevet alfa Tape 74_frame_48750.jpg'\n",
      "\u001b[34m\u001b[1mtrain: \u001b[0mWARNING: /Users/jurie.germishuys/Workspace/odf/koster-uw/models/yolov5/tutorials/ml-template-data/images/010424 Säckenrevet alfa Tape 74_frame_48775.jpg: ignoring corrupt image/label: [Errno 2] No such file or directory: '/Users/jurie.germishuys/Workspace/odf/koster-uw/models/yolov5/tutorials/ml-template-data/images/010424 Säckenrevet alfa Tape 74_frame_48775.jpg'\n",
      "\u001b[34m\u001b[1mtrain: \u001b[0mWARNING: /Users/jurie.germishuys/Workspace/odf/koster-uw/models/yolov5/tutorials/ml-template-data/images/010424 Säckenrevet alfa Tape 74_frame_55500.jpg: ignoring corrupt image/label: [Errno 2] No such file or directory: '/Users/jurie.germishuys/Workspace/odf/koster-uw/models/yolov5/tutorials/ml-template-data/images/010424 Säckenrevet alfa Tape 74_frame_55500.jpg'\n",
      "\u001b[34m\u001b[1mtrain: \u001b[0mWARNING: /Users/jurie.germishuys/Workspace/odf/koster-uw/models/yolov5/tutorials/ml-template-data/images/010424 Säckenrevet alfa Tape 74_frame_58500.jpg: ignoring corrupt image/label: [Errno 2] No such file or directory: '/Users/jurie.germishuys/Workspace/odf/koster-uw/models/yolov5/tutorials/ml-template-data/images/010424 Säckenrevet alfa Tape 74_frame_58500.jpg'\n",
      "\u001b[34m\u001b[1mtrain: \u001b[0mWARNING: /Users/jurie.germishuys/Workspace/odf/koster-uw/models/yolov5/tutorials/ml-template-data/images/010424 Säckenrevet alfa Tape 74_frame_58525.jpg: ignoring corrupt image/label: [Errno 2] No such file or directory: '/Users/jurie.germishuys/Workspace/odf/koster-uw/models/yolov5/tutorials/ml-template-data/images/010424 Säckenrevet alfa Tape 74_frame_58525.jpg'\n",
      "\u001b[34m\u001b[1mtrain: \u001b[0mWARNING: /Users/jurie.germishuys/Workspace/odf/koster-uw/models/yolov5/tutorials/ml-template-data/images/010424 Säckenrevet alfa Tape 74_frame_59400.jpg: ignoring corrupt image/label: [Errno 2] No such file or directory: '/Users/jurie.germishuys/Workspace/odf/koster-uw/models/yolov5/tutorials/ml-template-data/images/010424 Säckenrevet alfa Tape 74_frame_59400.jpg'\n",
      "\u001b[34m\u001b[1mtrain: \u001b[0mWARNING: /Users/jurie.germishuys/Workspace/odf/koster-uw/models/yolov5/tutorials/ml-template-data/images/010424 Säckenrevet alfa Tape 74_frame_65250.jpg: ignoring corrupt image/label: [Errno 2] No such file or directory: '/Users/jurie.germishuys/Workspace/odf/koster-uw/models/yolov5/tutorials/ml-template-data/images/010424 Säckenrevet alfa Tape 74_frame_65250.jpg'\n",
      "\u001b[34m\u001b[1mtrain: \u001b[0mWARNING: /Users/jurie.germishuys/Workspace/odf/koster-uw/models/yolov5/tutorials/ml-template-data/images/010424 Säckenrevet alfa Tape 74_frame_65275.jpg: ignoring corrupt image/label: [Errno 2] No such file or directory: '/Users/jurie.germishuys/Workspace/odf/koster-uw/models/yolov5/tutorials/ml-template-data/images/010424 Säckenrevet alfa Tape 74_frame_65275.jpg'\n",
      "\u001b[34m\u001b[1mtrain: \u001b[0mWARNING: /Users/jurie.germishuys/Workspace/odf/koster-uw/models/yolov5/tutorials/ml-template-data/images/010424 Säckenrevet alfa Tape 74_frame_69025.jpg: ignoring corrupt image/label: [Errno 2] No such file or directory: '/Users/jurie.germishuys/Workspace/odf/koster-uw/models/yolov5/tutorials/ml-template-data/images/010424 Säckenrevet alfa Tape 74_frame_69025.jpg'\n",
      "\u001b[34m\u001b[1mtrain: \u001b[0mWARNING: /Users/jurie.germishuys/Workspace/odf/koster-uw/models/yolov5/tutorials/ml-template-data/images/010424 Säckenrevet alfa Tape 74_frame_72000.jpg: ignoring corrupt image/label: [Errno 2] No such file or directory: '/Users/jurie.germishuys/Workspace/odf/koster-uw/models/yolov5/tutorials/ml-template-data/images/010424 Säckenrevet alfa Tape 74_frame_72000.jpg'\n",
      "\u001b[34m\u001b[1mtrain: \u001b[0mWARNING: /Users/jurie.germishuys/Workspace/odf/koster-uw/models/yolov5/tutorials/ml-template-data/images/010424 Säckenrevet alfa Tape 74_frame_85500.jpg: ignoring corrupt image/label: [Errno 2] No such file or directory: '/Users/jurie.germishuys/Workspace/odf/koster-uw/models/yolov5/tutorials/ml-template-data/images/010424 Säckenrevet alfa Tape 74_frame_85500.jpg'\n",
      "\u001b[34m\u001b[1mtrain: \u001b[0mWARNING: /Users/jurie.germishuys/Workspace/odf/koster-uw/models/yolov5/tutorials/ml-template-data/images/010424 Säckenrevet alfa Tape 74_frame_85525.jpg: ignoring corrupt image/label: [Errno 2] No such file or directory: '/Users/jurie.germishuys/Workspace/odf/koster-uw/models/yolov5/tutorials/ml-template-data/images/010424 Säckenrevet alfa Tape 74_frame_85525.jpg'\n",
      "\u001b[34m\u001b[1mtrain: \u001b[0mWARNING: /Users/jurie.germishuys/Workspace/odf/koster-uw/models/yolov5/tutorials/ml-template-data/images/010424 Säckenrevet alfa Tape 74_frame_99900.jpg: ignoring corrupt image/label: [Errno 2] No such file or directory: '/Users/jurie.germishuys/Workspace/odf/koster-uw/models/yolov5/tutorials/ml-template-data/images/010424 Säckenrevet alfa Tape 74_frame_99900.jpg'\n",
      "\u001b[34m\u001b[1mtrain: \u001b[0mWARNING: /Users/jurie.germishuys/Workspace/odf/koster-uw/models/yolov5/tutorials/ml-template-data/images/010424 Säckenrevet beta Tape 74_frame_32250.jpg: ignoring corrupt image/label: [Errno 2] No such file or directory: '/Users/jurie.germishuys/Workspace/odf/koster-uw/models/yolov5/tutorials/ml-template-data/images/010424 Säckenrevet beta Tape 74_frame_32250.jpg'\n",
      "\u001b[34m\u001b[1mtrain: \u001b[0mWARNING: /Users/jurie.germishuys/Workspace/odf/koster-uw/models/yolov5/tutorials/ml-template-data/images/010424 Säckenrevet beta Tape 74_frame_32275.jpg: ignoring corrupt image/label: [Errno 2] No such file or directory: '/Users/jurie.germishuys/Workspace/odf/koster-uw/models/yolov5/tutorials/ml-template-data/images/010424 Säckenrevet beta Tape 74_frame_32275.jpg'\n",
      "\u001b[34m\u001b[1mtrain: \u001b[0mWARNING: /Users/jurie.germishuys/Workspace/odf/koster-uw/models/yolov5/tutorials/ml-template-data/images/010424 Säckenrevet beta Tape 74_frame_35262.jpg: ignoring corrupt image/label: [Errno 2] No such file or directory: '/Users/jurie.germishuys/Workspace/odf/koster-uw/models/yolov5/tutorials/ml-template-data/images/010424 Säckenrevet beta Tape 74_frame_35262.jpg'\n",
      "\u001b[34m\u001b[1mtrain: \u001b[0mWARNING: /Users/jurie.germishuys/Workspace/odf/koster-uw/models/yolov5/tutorials/ml-template-data/images/010424 Säckenrevet beta Tape 74_frame_35287.jpg: ignoring corrupt image/label: [Errno 2] No such file or directory: '/Users/jurie.germishuys/Workspace/odf/koster-uw/models/yolov5/tutorials/ml-template-data/images/010424 Säckenrevet beta Tape 74_frame_35287.jpg'\n",
      "\u001b[34m\u001b[1mtrain: \u001b[0mWARNING: /Users/jurie.germishuys/Workspace/odf/koster-uw/models/yolov5/tutorials/ml-template-data/images/010424 Säckenrevet beta Tape 74_frame_45000.jpg: ignoring corrupt image/label: [Errno 2] No such file or directory: '/Users/jurie.germishuys/Workspace/odf/koster-uw/models/yolov5/tutorials/ml-template-data/images/010424 Säckenrevet beta Tape 74_frame_45000.jpg'\n",
      "\u001b[34m\u001b[1mtrain: \u001b[0mWARNING: /Users/jurie.germishuys/Workspace/odf/koster-uw/models/yolov5/tutorials/ml-template-data/images/010424 Säckenrevet beta Tape 74_frame_45025.jpg: ignoring corrupt image/label: [Errno 2] No such file or directory: '/Users/jurie.germishuys/Workspace/odf/koster-uw/models/yolov5/tutorials/ml-template-data/images/010424 Säckenrevet beta Tape 74_frame_45025.jpg'\n",
      "\u001b[34m\u001b[1mtrain: \u001b[0mWARNING: /Users/jurie.germishuys/Workspace/odf/koster-uw/models/yolov5/tutorials/ml-template-data/images/010424 Säckenrevet beta Tape 74_frame_46500.jpg: ignoring corrupt image/label: [Errno 2] No such file or directory: '/Users/jurie.germishuys/Workspace/odf/koster-uw/models/yolov5/tutorials/ml-template-data/images/010424 Säckenrevet beta Tape 74_frame_46500.jpg'\n",
      "\u001b[34m\u001b[1mtrain: \u001b[0mWARNING: /Users/jurie.germishuys/Workspace/odf/koster-uw/models/yolov5/tutorials/ml-template-data/images/010424 Säckenrevet beta Tape 74_frame_46525.jpg: ignoring corrupt image/label: [Errno 2] No such file or directory: '/Users/jurie.germishuys/Workspace/odf/koster-uw/models/yolov5/tutorials/ml-template-data/images/010424 Säckenrevet beta Tape 74_frame_46525.jpg'\n",
      "\u001b[34m\u001b[1mtrain: \u001b[0mWARNING: /Users/jurie.germishuys/Workspace/odf/koster-uw/models/yolov5/tutorials/ml-template-data/images/010424 Säckenrevet beta Tape 74_frame_47250.jpg: ignoring corrupt image/label: [Errno 2] No such file or directory: '/Users/jurie.germishuys/Workspace/odf/koster-uw/models/yolov5/tutorials/ml-template-data/images/010424 Säckenrevet beta Tape 74_frame_47250.jpg'\n",
      "\u001b[34m\u001b[1mtrain: \u001b[0mWARNING: /Users/jurie.germishuys/Workspace/odf/koster-uw/models/yolov5/tutorials/ml-template-data/images/010424 Säckenrevet beta Tape 74_frame_47275.jpg: ignoring corrupt image/label: [Errno 2] No such file or directory: '/Users/jurie.germishuys/Workspace/odf/koster-uw/models/yolov5/tutorials/ml-template-data/images/010424 Säckenrevet beta Tape 74_frame_47275.jpg'\n",
      "\u001b[34m\u001b[1mtrain: \u001b[0mWARNING: /Users/jurie.germishuys/Workspace/odf/koster-uw/models/yolov5/tutorials/ml-template-data/images/010424 Säckenrevet beta Tape 74_frame_52500.jpg: ignoring corrupt image/label: [Errno 2] No such file or directory: '/Users/jurie.germishuys/Workspace/odf/koster-uw/models/yolov5/tutorials/ml-template-data/images/010424 Säckenrevet beta Tape 74_frame_52500.jpg'\n",
      "\u001b[34m\u001b[1mtrain: \u001b[0mWARNING: /Users/jurie.germishuys/Workspace/odf/koster-uw/models/yolov5/tutorials/ml-template-data/images/010424 Säckenrevet beta Tape 74_frame_52525.jpg: ignoring corrupt image/label: [Errno 2] No such file or directory: '/Users/jurie.germishuys/Workspace/odf/koster-uw/models/yolov5/tutorials/ml-template-data/images/010424 Säckenrevet beta Tape 74_frame_52525.jpg'\n",
      "\u001b[34m\u001b[1mtrain: \u001b[0mWARNING: /Users/jurie.germishuys/Workspace/odf/koster-uw/models/yolov5/tutorials/ml-template-data/images/010424 Säckenrevet beta Tape 74_frame_55500.jpg: ignoring corrupt image/label: [Errno 2] No such file or directory: '/Users/jurie.germishuys/Workspace/odf/koster-uw/models/yolov5/tutorials/ml-template-data/images/010424 Säckenrevet beta Tape 74_frame_55500.jpg'\n",
      "\u001b[34m\u001b[1mtrain: \u001b[0mWARNING: /Users/jurie.germishuys/Workspace/odf/koster-uw/models/yolov5/tutorials/ml-template-data/images/010424 Säckenrevet beta Tape 74_frame_55525.jpg: ignoring corrupt image/label: [Errno 2] No such file or directory: '/Users/jurie.germishuys/Workspace/odf/koster-uw/models/yolov5/tutorials/ml-template-data/images/010424 Säckenrevet beta Tape 74_frame_55525.jpg'\n",
      "\u001b[34m\u001b[1mtrain: \u001b[0mWARNING: /Users/jurie.germishuys/Workspace/odf/koster-uw/models/yolov5/tutorials/ml-template-data/images/010424 Säckenrevet beta Tape 74_frame_57000.jpg: ignoring corrupt image/label: [Errno 2] No such file or directory: '/Users/jurie.germishuys/Workspace/odf/koster-uw/models/yolov5/tutorials/ml-template-data/images/010424 Säckenrevet beta Tape 74_frame_57000.jpg'\n",
      "\u001b[34m\u001b[1mtrain: \u001b[0mWARNING: /Users/jurie.germishuys/Workspace/odf/koster-uw/models/yolov5/tutorials/ml-template-data/images/010424 Säckenrevet beta Tape 74_frame_57200.jpg: ignoring corrupt image/label: [Errno 2] No such file or directory: '/Users/jurie.germishuys/Workspace/odf/koster-uw/models/yolov5/tutorials/ml-template-data/images/010424 Säckenrevet beta Tape 74_frame_57200.jpg'\n",
      "\u001b[34m\u001b[1mtrain: \u001b[0mWARNING: /Users/jurie.germishuys/Workspace/odf/koster-uw/models/yolov5/tutorials/ml-template-data/images/010424 Säckenrevet beta Tape 74_frame_59287.jpg: ignoring corrupt image/label: [Errno 2] No such file or directory: '/Users/jurie.germishuys/Workspace/odf/koster-uw/models/yolov5/tutorials/ml-template-data/images/010424 Säckenrevet beta Tape 74_frame_59287.jpg'\n",
      "\u001b[34m\u001b[1mtrain: \u001b[0mWARNING: /Users/jurie.germishuys/Workspace/odf/koster-uw/models/yolov5/tutorials/ml-template-data/images/010424 Säckenrevet beta Tape 74_frame_84775.jpg: ignoring corrupt image/label: [Errno 2] No such file or directory: '/Users/jurie.germishuys/Workspace/odf/koster-uw/models/yolov5/tutorials/ml-template-data/images/010424 Säckenrevet beta Tape 74_frame_84775.jpg'\n",
      "\u001b[34m\u001b[1mtrain: \u001b[0mWARNING: /Users/jurie.germishuys/Workspace/odf/koster-uw/models/yolov5/tutorials/ml-template-data/images/010424 Säckenrevet beta Tape 74_frame_87750.jpg: ignoring corrupt image/label: [Errno 2] No such file or directory: '/Users/jurie.germishuys/Workspace/odf/koster-uw/models/yolov5/tutorials/ml-template-data/images/010424 Säckenrevet beta Tape 74_frame_87750.jpg'\n",
      "\u001b[34m\u001b[1mtrain: \u001b[0mWARNING: /Users/jurie.germishuys/Workspace/odf/koster-uw/models/yolov5/tutorials/ml-template-data/images/020130 TMBL-ROV 2002 Säcken transekt 1_frame_12750.jpg: ignoring corrupt image/label: [Errno 2] No such file or directory: '/Users/jurie.germishuys/Workspace/odf/koster-uw/models/yolov5/tutorials/ml-template-data/images/020130 TMBL-ROV 2002 Säcken transekt 1_frame_12750.jpg'\n",
      "\u001b[34m\u001b[1mtrain: \u001b[0mWARNING: /Users/jurie.germishuys/Workspace/odf/koster-uw/models/yolov5/tutorials/ml-template-data/images/020130 TMBL-ROV 2002 Säcken transekt 1_frame_13525.jpg: ignoring corrupt image/label: [Errno 2] No such file or directory: '/Users/jurie.germishuys/Workspace/odf/koster-uw/models/yolov5/tutorials/ml-template-data/images/020130 TMBL-ROV 2002 Säcken transekt 1_frame_13525.jpg'\n",
      "\u001b[34m\u001b[1mtrain: \u001b[0mWARNING: /Users/jurie.germishuys/Workspace/odf/koster-uw/models/yolov5/tutorials/ml-template-data/images/020628 TMBL-ROV 2002 O Hollanderberget Säcken_frame_112525.jpg: ignoring corrupt image/label: [Errno 2] No such file or directory: '/Users/jurie.germishuys/Workspace/odf/koster-uw/models/yolov5/tutorials/ml-template-data/images/020628 TMBL-ROV 2002 O Hollanderberget Säcken_frame_112525.jpg'\n",
      "\u001b[34m\u001b[1mtrain: \u001b[0mWARNING: /Users/jurie.germishuys/Workspace/odf/koster-uw/models/yolov5/tutorials/ml-template-data/images/030317-18 TMBL-ROV 2003 Säckenrevet_frame_113275.jpg: ignoring corrupt image/label: [Errno 2] No such file or directory: '/Users/jurie.germishuys/Workspace/odf/koster-uw/models/yolov5/tutorials/ml-template-data/images/030317-18 TMBL-ROV 2003 Säckenrevet_frame_113275.jpg'\n",
      "\u001b[34m\u001b[1mtrain: \u001b[0mWARNING: /Users/jurie.germishuys/Workspace/odf/koster-uw/models/yolov5/tutorials/ml-template-data/images/030317-18 TMBL-ROV 2003 Säckenrevet_frame_114000.jpg: ignoring corrupt image/label: [Errno 2] No such file or directory: '/Users/jurie.germishuys/Workspace/odf/koster-uw/models/yolov5/tutorials/ml-template-data/images/030317-18 TMBL-ROV 2003 Säckenrevet_frame_114000.jpg'\n",
      "\u001b[34m\u001b[1mtrain: \u001b[0mWARNING: /Users/jurie.germishuys/Workspace/odf/koster-uw/models/yolov5/tutorials/ml-template-data/images/030317-18 TMBL-ROV 2003 Säckenrevet_frame_114025.jpg: ignoring corrupt image/label: [Errno 2] No such file or directory: '/Users/jurie.germishuys/Workspace/odf/koster-uw/models/yolov5/tutorials/ml-template-data/images/030317-18 TMBL-ROV 2003 Säckenrevet_frame_114025.jpg'\n",
      "\u001b[34m\u001b[1mtrain: \u001b[0mWARNING: /Users/jurie.germishuys/Workspace/odf/koster-uw/models/yolov5/tutorials/ml-template-data/images/030317-18 TMBL-ROV 2003 Säckenrevet_frame_115500.jpg: ignoring corrupt image/label: [Errno 2] No such file or directory: '/Users/jurie.germishuys/Workspace/odf/koster-uw/models/yolov5/tutorials/ml-template-data/images/030317-18 TMBL-ROV 2003 Säckenrevet_frame_115500.jpg'\n",
      "\u001b[34m\u001b[1mtrain: \u001b[0mWARNING: /Users/jurie.germishuys/Workspace/odf/koster-uw/models/yolov5/tutorials/ml-template-data/images/030317-18 TMBL-ROV 2003 Säckenrevet_frame_115525.jpg: ignoring corrupt image/label: [Errno 2] No such file or directory: '/Users/jurie.germishuys/Workspace/odf/koster-uw/models/yolov5/tutorials/ml-template-data/images/030317-18 TMBL-ROV 2003 Säckenrevet_frame_115525.jpg'\n",
      "\u001b[34m\u001b[1mtrain: \u001b[0mWARNING: /Users/jurie.germishuys/Workspace/odf/koster-uw/models/yolov5/tutorials/ml-template-data/images/030317-18 TMBL-ROV 2003 Säckenrevet_frame_116250.jpg: ignoring corrupt image/label: [Errno 2] No such file or directory: '/Users/jurie.germishuys/Workspace/odf/koster-uw/models/yolov5/tutorials/ml-template-data/images/030317-18 TMBL-ROV 2003 Säckenrevet_frame_116250.jpg'\n",
      "\u001b[34m\u001b[1mtrain: \u001b[0mWARNING: /Users/jurie.germishuys/Workspace/odf/koster-uw/models/yolov5/tutorials/ml-template-data/images/030317-18 TMBL-ROV 2003 Säckenrevet_frame_118500.jpg: ignoring corrupt image/label: [Errno 2] No such file or directory: '/Users/jurie.germishuys/Workspace/odf/koster-uw/models/yolov5/tutorials/ml-template-data/images/030317-18 TMBL-ROV 2003 Säckenrevet_frame_118500.jpg'\n",
      "\u001b[34m\u001b[1mtrain: \u001b[0mWARNING: /Users/jurie.germishuys/Workspace/odf/koster-uw/models/yolov5/tutorials/ml-template-data/images/030317-18 TMBL-ROV 2003 Säckenrevet_frame_118525.jpg: ignoring corrupt image/label: [Errno 2] No such file or directory: '/Users/jurie.germishuys/Workspace/odf/koster-uw/models/yolov5/tutorials/ml-template-data/images/030317-18 TMBL-ROV 2003 Säckenrevet_frame_118525.jpg'\n",
      "\u001b[34m\u001b[1mtrain: \u001b[0mWARNING: /Users/jurie.germishuys/Workspace/odf/koster-uw/models/yolov5/tutorials/ml-template-data/images/030317-18 TMBL-ROV 2003 Säckenrevet_frame_121525.jpg: ignoring corrupt image/label: [Errno 2] No such file or directory: '/Users/jurie.germishuys/Workspace/odf/koster-uw/models/yolov5/tutorials/ml-template-data/images/030317-18 TMBL-ROV 2003 Säckenrevet_frame_121525.jpg'\n",
      "\u001b[34m\u001b[1mtrain: \u001b[0mWARNING: /Users/jurie.germishuys/Workspace/odf/koster-uw/models/yolov5/tutorials/ml-template-data/images/030317-18 TMBL-ROV 2003 Säckenrevet_frame_122250.jpg: ignoring corrupt image/label: [Errno 2] No such file or directory: '/Users/jurie.germishuys/Workspace/odf/koster-uw/models/yolov5/tutorials/ml-template-data/images/030317-18 TMBL-ROV 2003 Säckenrevet_frame_122250.jpg'\n",
      "\u001b[34m\u001b[1mtrain: \u001b[0mWARNING: /Users/jurie.germishuys/Workspace/odf/koster-uw/models/yolov5/tutorials/ml-template-data/images/030317-18 TMBL-ROV 2003 Säckenrevet_frame_122275.jpg: ignoring corrupt image/label: [Errno 2] No such file or directory: '/Users/jurie.germishuys/Workspace/odf/koster-uw/models/yolov5/tutorials/ml-template-data/images/030317-18 TMBL-ROV 2003 Säckenrevet_frame_122275.jpg'\n",
      "\u001b[34m\u001b[1mtrain: \u001b[0mWARNING: /Users/jurie.germishuys/Workspace/odf/koster-uw/models/yolov5/tutorials/ml-template-data/images/030317-18 TMBL-ROV 2003 Säckenrevet_frame_16525.jpg: ignoring corrupt image/label: [Errno 2] No such file or directory: '/Users/jurie.germishuys/Workspace/odf/koster-uw/models/yolov5/tutorials/ml-template-data/images/030317-18 TMBL-ROV 2003 Säckenrevet_frame_16525.jpg'\n",
      "\u001b[34m\u001b[1mtrain: \u001b[0mWARNING: /Users/jurie.germishuys/Workspace/odf/koster-uw/models/yolov5/tutorials/ml-template-data/images/030317-18 TMBL-ROV 2003 Säckenrevet_frame_36750.jpg: ignoring corrupt image/label: [Errno 2] No such file or directory: '/Users/jurie.germishuys/Workspace/odf/koster-uw/models/yolov5/tutorials/ml-template-data/images/030317-18 TMBL-ROV 2003 Säckenrevet_frame_36750.jpg'\n",
      "\u001b[34m\u001b[1mtrain: \u001b[0mWARNING: /Users/jurie.germishuys/Workspace/odf/koster-uw/models/yolov5/tutorials/ml-template-data/images/030317-18 TMBL-ROV 2003 Säckenrevet_frame_36775.jpg: ignoring corrupt image/label: [Errno 2] No such file or directory: '/Users/jurie.germishuys/Workspace/odf/koster-uw/models/yolov5/tutorials/ml-template-data/images/030317-18 TMBL-ROV 2003 Säckenrevet_frame_36775.jpg'\n",
      "\u001b[34m\u001b[1mtrain: \u001b[0mWARNING: /Users/jurie.germishuys/Workspace/odf/koster-uw/models/yolov5/tutorials/ml-template-data/images/030317-18 TMBL-ROV 2003 Säckenrevet_frame_58725.jpg: ignoring corrupt image/label: [Errno 2] No such file or directory: '/Users/jurie.germishuys/Workspace/odf/koster-uw/models/yolov5/tutorials/ml-template-data/images/030317-18 TMBL-ROV 2003 Säckenrevet_frame_58725.jpg'\n",
      "\u001b[34m\u001b[1mtrain: \u001b[0mWARNING: /Users/jurie.germishuys/Workspace/odf/koster-uw/models/yolov5/tutorials/ml-template-data/images/030317-18 TMBL-ROV 2003 Säckenrevet_frame_59250.jpg: ignoring corrupt image/label: [Errno 2] No such file or directory: '/Users/jurie.germishuys/Workspace/odf/koster-uw/models/yolov5/tutorials/ml-template-data/images/030317-18 TMBL-ROV 2003 Säckenrevet_frame_59250.jpg'\n",
      "\u001b[34m\u001b[1mtrain: \u001b[0mWARNING: /Users/jurie.germishuys/Workspace/odf/koster-uw/models/yolov5/tutorials/ml-template-data/images/030317-18 TMBL-ROV 2003 Säckenrevet_frame_60000.jpg: ignoring corrupt image/label: [Errno 2] No such file or directory: '/Users/jurie.germishuys/Workspace/odf/koster-uw/models/yolov5/tutorials/ml-template-data/images/030317-18 TMBL-ROV 2003 Säckenrevet_frame_60000.jpg'\n",
      "\u001b[34m\u001b[1mtrain: \u001b[0mWARNING: /Users/jurie.germishuys/Workspace/odf/koster-uw/models/yolov5/tutorials/ml-template-data/images/030317-18 TMBL-ROV 2003 Säckenrevet_frame_60025.jpg: ignoring corrupt image/label: [Errno 2] No such file or directory: '/Users/jurie.germishuys/Workspace/odf/koster-uw/models/yolov5/tutorials/ml-template-data/images/030317-18 TMBL-ROV 2003 Säckenrevet_frame_60025.jpg'\n",
      "\u001b[34m\u001b[1mtrain: \u001b[0mWARNING: /Users/jurie.germishuys/Workspace/odf/koster-uw/models/yolov5/tutorials/ml-template-data/images/030317-18 TMBL-ROV 2003 Säckenrevet_frame_60775.jpg: ignoring corrupt image/label: [Errno 2] No such file or directory: '/Users/jurie.germishuys/Workspace/odf/koster-uw/models/yolov5/tutorials/ml-template-data/images/030317-18 TMBL-ROV 2003 Säckenrevet_frame_60775.jpg'\n",
      "\u001b[34m\u001b[1mtrain: \u001b[0mWARNING: /Users/jurie.germishuys/Workspace/odf/koster-uw/models/yolov5/tutorials/ml-template-data/images/030317-18 TMBL-ROV 2003 Säckenrevet_frame_7500.jpg: ignoring corrupt image/label: [Errno 2] No such file or directory: '/Users/jurie.germishuys/Workspace/odf/koster-uw/models/yolov5/tutorials/ml-template-data/images/030317-18 TMBL-ROV 2003 Säckenrevet_frame_7500.jpg'\n",
      "\u001b[34m\u001b[1mtrain: \u001b[0mWARNING: /Users/jurie.germishuys/Workspace/odf/koster-uw/models/yolov5/tutorials/ml-template-data/images/030317-18 TMBL-ROV 2003 Säckenrevet_frame_7525.jpg: ignoring corrupt image/label: [Errno 2] No such file or directory: '/Users/jurie.germishuys/Workspace/odf/koster-uw/models/yolov5/tutorials/ml-template-data/images/030317-18 TMBL-ROV 2003 Säckenrevet_frame_7525.jpg'\n",
      "\u001b[34m\u001b[1mtrain: \u001b[0mWARNING: /Users/jurie.germishuys/Workspace/odf/koster-uw/models/yolov5/tutorials/ml-template-data/images/030317-18 TMBL-ROV 2003 Säckenrevet_frame_76500.jpg: ignoring corrupt image/label: [Errno 2] No such file or directory: '/Users/jurie.germishuys/Workspace/odf/koster-uw/models/yolov5/tutorials/ml-template-data/images/030317-18 TMBL-ROV 2003 Säckenrevet_frame_76500.jpg'\n",
      "\u001b[34m\u001b[1mtrain: \u001b[0mWARNING: /Users/jurie.germishuys/Workspace/odf/koster-uw/models/yolov5/tutorials/ml-template-data/images/030317-18 TMBL-ROV 2003 Säckenrevet_frame_76525.jpg: ignoring corrupt image/label: [Errno 2] No such file or directory: '/Users/jurie.germishuys/Workspace/odf/koster-uw/models/yolov5/tutorials/ml-template-data/images/030317-18 TMBL-ROV 2003 Säckenrevet_frame_76525.jpg'\n",
      "\u001b[34m\u001b[1mtrain: \u001b[0mWARNING: /Users/jurie.germishuys/Workspace/odf/koster-uw/models/yolov5/tutorials/ml-template-data/images/030317-18 TMBL-ROV 2003 Säckenrevet_frame_78000.jpg: ignoring corrupt image/label: [Errno 2] No such file or directory: '/Users/jurie.germishuys/Workspace/odf/koster-uw/models/yolov5/tutorials/ml-template-data/images/030317-18 TMBL-ROV 2003 Säckenrevet_frame_78000.jpg'\n",
      "\u001b[34m\u001b[1mtrain: \u001b[0mWARNING: /Users/jurie.germishuys/Workspace/odf/koster-uw/models/yolov5/tutorials/ml-template-data/images/030317-18 TMBL-ROV 2003 Säckenrevet_frame_9000.jpg: ignoring corrupt image/label: [Errno 2] No such file or directory: '/Users/jurie.germishuys/Workspace/odf/koster-uw/models/yolov5/tutorials/ml-template-data/images/030317-18 TMBL-ROV 2003 Säckenrevet_frame_9000.jpg'\n",
      "\u001b[34m\u001b[1mtrain: \u001b[0mWARNING: /Users/jurie.germishuys/Workspace/odf/koster-uw/models/yolov5/tutorials/ml-template-data/images/030317-18 TMBL-ROV 2003 Säckenrevet_frame_9025.jpg: ignoring corrupt image/label: [Errno 2] No such file or directory: '/Users/jurie.germishuys/Workspace/odf/koster-uw/models/yolov5/tutorials/ml-template-data/images/030317-18 TMBL-ROV 2003 Säckenrevet_frame_9025.jpg'\n",
      "\u001b[34m\u001b[1mtrain: \u001b[0mWARNING: /Users/jurie.germishuys/Workspace/odf/koster-uw/models/yolov5/tutorials/ml-template-data/images/030325 TMBL-ROV 2003 Säckenrevet bioerosion_frame_145500.jpg: ignoring corrupt image/label: [Errno 2] No such file or directory: '/Users/jurie.germishuys/Workspace/odf/koster-uw/models/yolov5/tutorials/ml-template-data/images/030325 TMBL-ROV 2003 Säckenrevet bioerosion_frame_145500.jpg'\n",
      "\u001b[34m\u001b[1mtrain: \u001b[0mWARNING: /Users/jurie.germishuys/Workspace/odf/koster-uw/models/yolov5/tutorials/ml-template-data/images/030325 TMBL-ROV 2003 Säckenrevet bioerosion_frame_145525.jpg: ignoring corrupt image/label: [Errno 2] No such file or directory: '/Users/jurie.germishuys/Workspace/odf/koster-uw/models/yolov5/tutorials/ml-template-data/images/030325 TMBL-ROV 2003 Säckenrevet bioerosion_frame_145525.jpg'\n",
      "\u001b[34m\u001b[1mtrain: \u001b[0mWARNING: /Users/jurie.germishuys/Workspace/odf/koster-uw/models/yolov5/tutorials/ml-template-data/images/030325 TMBL-ROV 2003 Säckenrevet bioerosion_frame_162000.jpg: ignoring corrupt image/label: [Errno 2] No such file or directory: '/Users/jurie.germishuys/Workspace/odf/koster-uw/models/yolov5/tutorials/ml-template-data/images/030325 TMBL-ROV 2003 Säckenrevet bioerosion_frame_162000.jpg'\n",
      "\u001b[34m\u001b[1mtrain: \u001b[0mWARNING: /Users/jurie.germishuys/Workspace/odf/koster-uw/models/yolov5/tutorials/ml-template-data/images/030325 TMBL-ROV 2003 Säckenrevet bioerosion_frame_162025.jpg: ignoring corrupt image/label: [Errno 2] No such file or directory: '/Users/jurie.germishuys/Workspace/odf/koster-uw/models/yolov5/tutorials/ml-template-data/images/030325 TMBL-ROV 2003 Säckenrevet bioerosion_frame_162025.jpg'\n",
      "\u001b[34m\u001b[1mtrain: \u001b[0mWARNING: /Users/jurie.germishuys/Workspace/odf/koster-uw/models/yolov5/tutorials/ml-template-data/images/030325 TMBL-ROV 2003 Säckenrevet bioerosion_frame_162775.jpg: ignoring corrupt image/label: [Errno 2] No such file or directory: '/Users/jurie.germishuys/Workspace/odf/koster-uw/models/yolov5/tutorials/ml-template-data/images/030325 TMBL-ROV 2003 Säckenrevet bioerosion_frame_162775.jpg'\n",
      "\u001b[34m\u001b[1mtrain: \u001b[0mWARNING: /Users/jurie.germishuys/Workspace/odf/koster-uw/models/yolov5/tutorials/ml-template-data/images/030325 TMBL-ROV 2003 Säckenrevet bioerosion_frame_165750.jpg: ignoring corrupt image/label: [Errno 2] No such file or directory: '/Users/jurie.germishuys/Workspace/odf/koster-uw/models/yolov5/tutorials/ml-template-data/images/030325 TMBL-ROV 2003 Säckenrevet bioerosion_frame_165750.jpg'\n",
      "\u001b[34m\u001b[1mtrain: \u001b[0mWARNING: /Users/jurie.germishuys/Workspace/odf/koster-uw/models/yolov5/tutorials/ml-template-data/images/030325 TMBL-ROV 2003 Säckenrevet bioerosion_frame_165775.jpg: ignoring corrupt image/label: [Errno 2] No such file or directory: '/Users/jurie.germishuys/Workspace/odf/koster-uw/models/yolov5/tutorials/ml-template-data/images/030325 TMBL-ROV 2003 Säckenrevet bioerosion_frame_165775.jpg'\n",
      "\u001b[34m\u001b[1mtrain: \u001b[0mWARNING: /Users/jurie.germishuys/Workspace/odf/koster-uw/models/yolov5/tutorials/ml-template-data/images/030325 TMBL-ROV 2003 Säckenrevet bioerosion_frame_166500.jpg: ignoring corrupt image/label: [Errno 2] No such file or directory: '/Users/jurie.germishuys/Workspace/odf/koster-uw/models/yolov5/tutorials/ml-template-data/images/030325 TMBL-ROV 2003 Säckenrevet bioerosion_frame_166500.jpg'\n",
      "\u001b[34m\u001b[1mtrain: \u001b[0mWARNING: /Users/jurie.germishuys/Workspace/odf/koster-uw/models/yolov5/tutorials/ml-template-data/images/030325 TMBL-ROV 2003 Säckenrevet bioerosion_frame_167250.jpg: ignoring corrupt image/label: [Errno 2] No such file or directory: '/Users/jurie.germishuys/Workspace/odf/koster-uw/models/yolov5/tutorials/ml-template-data/images/030325 TMBL-ROV 2003 Säckenrevet bioerosion_frame_167250.jpg'\n",
      "\u001b[34m\u001b[1mtrain: \u001b[0mWARNING: /Users/jurie.germishuys/Workspace/odf/koster-uw/models/yolov5/tutorials/ml-template-data/images/030325 TMBL-ROV 2003 Säckenrevet bioerosion_frame_167275.jpg: ignoring corrupt image/label: [Errno 2] No such file or directory: '/Users/jurie.germishuys/Workspace/odf/koster-uw/models/yolov5/tutorials/ml-template-data/images/030325 TMBL-ROV 2003 Säckenrevet bioerosion_frame_167275.jpg'\n",
      "\u001b[34m\u001b[1mtrain: \u001b[0mWARNING: /Users/jurie.germishuys/Workspace/odf/koster-uw/models/yolov5/tutorials/ml-template-data/images/030325 TMBL-ROV 2003 Säckenrevet bioerosion_frame_168750.jpg: ignoring corrupt image/label: [Errno 2] No such file or directory: '/Users/jurie.germishuys/Workspace/odf/koster-uw/models/yolov5/tutorials/ml-template-data/images/030325 TMBL-ROV 2003 Säckenrevet bioerosion_frame_168750.jpg'\n",
      "\u001b[34m\u001b[1mtrain: \u001b[0mWARNING: /Users/jurie.germishuys/Workspace/odf/koster-uw/models/yolov5/tutorials/ml-template-data/images/030325 TMBL-ROV 2003 Säckenrevet bioerosion_frame_168775.jpg: ignoring corrupt image/label: [Errno 2] No such file or directory: '/Users/jurie.germishuys/Workspace/odf/koster-uw/models/yolov5/tutorials/ml-template-data/images/030325 TMBL-ROV 2003 Säckenrevet bioerosion_frame_168775.jpg'\n",
      "\u001b[34m\u001b[1mtrain: \u001b[0mWARNING: /Users/jurie.germishuys/Workspace/odf/koster-uw/models/yolov5/tutorials/ml-template-data/images/030325 TMBL-ROV 2003 Säckenrevet bioerosion_frame_73500.jpg: ignoring corrupt image/label: [Errno 2] No such file or directory: '/Users/jurie.germishuys/Workspace/odf/koster-uw/models/yolov5/tutorials/ml-template-data/images/030325 TMBL-ROV 2003 Säckenrevet bioerosion_frame_73500.jpg'\n",
      "\u001b[34m\u001b[1mtrain: \u001b[0mWARNING: /Users/jurie.germishuys/Workspace/odf/koster-uw/models/yolov5/tutorials/ml-template-data/images/030325 TMBL-ROV 2003 Säckenrevet bioerosion_frame_74300.jpg: ignoring corrupt image/label: [Errno 2] No such file or directory: '/Users/jurie.germishuys/Workspace/odf/koster-uw/models/yolov5/tutorials/ml-template-data/images/030325 TMBL-ROV 2003 Säckenrevet bioerosion_frame_74300.jpg'\n",
      "\u001b[34m\u001b[1mtrain: \u001b[0mWARNING: /Users/jurie.germishuys/Workspace/odf/koster-uw/models/yolov5/tutorials/ml-template-data/images/030325 TMBL-ROV 2003 Säckenrevet bioerosion_frame_76525.jpg: ignoring corrupt image/label: [Errno 2] No such file or directory: '/Users/jurie.germishuys/Workspace/odf/koster-uw/models/yolov5/tutorials/ml-template-data/images/030325 TMBL-ROV 2003 Säckenrevet bioerosion_frame_76525.jpg'\n",
      "\u001b[34m\u001b[1mtrain: \u001b[0mWARNING: /Users/jurie.germishuys/Workspace/odf/koster-uw/models/yolov5/tutorials/ml-template-data/images/030325 TMBL-ROV 2003 Säckenrevet bioerosion_frame_76550.jpg: ignoring corrupt image/label: [Errno 2] No such file or directory: '/Users/jurie.germishuys/Workspace/odf/koster-uw/models/yolov5/tutorials/ml-template-data/images/030325 TMBL-ROV 2003 Säckenrevet bioerosion_frame_76550.jpg'\n",
      "\u001b[34m\u001b[1mtrain: \u001b[0mWARNING: /Users/jurie.germishuys/Workspace/odf/koster-uw/models/yolov5/tutorials/ml-template-data/images/030325 TMBL-ROV 2003 Säckenrevet bioerosion_frame_77250.jpg: ignoring corrupt image/label: [Errno 2] No such file or directory: '/Users/jurie.germishuys/Workspace/odf/koster-uw/models/yolov5/tutorials/ml-template-data/images/030325 TMBL-ROV 2003 Säckenrevet bioerosion_frame_77250.jpg'\n",
      "\u001b[34m\u001b[1mtrain: \u001b[0mWARNING: /Users/jurie.germishuys/Workspace/odf/koster-uw/models/yolov5/tutorials/ml-template-data/images/030325 TMBL-ROV 2003 Säckenrevet bioerosion_frame_79500.jpg: ignoring corrupt image/label: [Errno 2] No such file or directory: '/Users/jurie.germishuys/Workspace/odf/koster-uw/models/yolov5/tutorials/ml-template-data/images/030325 TMBL-ROV 2003 Säckenrevet bioerosion_frame_79500.jpg'\n",
      "\u001b[34m\u001b[1mtrain: \u001b[0mWARNING: /Users/jurie.germishuys/Workspace/odf/koster-uw/models/yolov5/tutorials/ml-template-data/images/030325 TMBL-ROV 2003 Säckenrevet bioerosion_frame_79525.jpg: ignoring corrupt image/label: [Errno 2] No such file or directory: '/Users/jurie.germishuys/Workspace/odf/koster-uw/models/yolov5/tutorials/ml-template-data/images/030325 TMBL-ROV 2003 Säckenrevet bioerosion_frame_79525.jpg'\n",
      "\u001b[34m\u001b[1mtrain: \u001b[0mWARNING: /Users/jurie.germishuys/Workspace/odf/koster-uw/models/yolov5/tutorials/ml-template-data/images/040220 TMBL-ROV 2004 Säckenrevet alfa_frame_16550.jpg: ignoring corrupt image/label: [Errno 2] No such file or directory: '/Users/jurie.germishuys/Workspace/odf/koster-uw/models/yolov5/tutorials/ml-template-data/images/040220 TMBL-ROV 2004 Säckenrevet alfa_frame_16550.jpg'\n",
      "\u001b[34m\u001b[1mtrain: \u001b[0mWARNING: /Users/jurie.germishuys/Workspace/odf/koster-uw/models/yolov5/tutorials/ml-template-data/images/040220 TMBL-ROV 2004 Säckenrevet alfa_frame_18750.jpg: ignoring corrupt image/label: [Errno 2] No such file or directory: '/Users/jurie.germishuys/Workspace/odf/koster-uw/models/yolov5/tutorials/ml-template-data/images/040220 TMBL-ROV 2004 Säckenrevet alfa_frame_18750.jpg'\n",
      "\u001b[34m\u001b[1mtrain: \u001b[0mWARNING: /Users/jurie.germishuys/Workspace/odf/koster-uw/models/yolov5/tutorials/ml-template-data/images/040220 TMBL-ROV 2004 Säckenrevet alfa_frame_18775.jpg: ignoring corrupt image/label: [Errno 2] No such file or directory: '/Users/jurie.germishuys/Workspace/odf/koster-uw/models/yolov5/tutorials/ml-template-data/images/040220 TMBL-ROV 2004 Säckenrevet alfa_frame_18775.jpg'\n",
      "\u001b[34m\u001b[1mtrain: \u001b[0mWARNING: /Users/jurie.germishuys/Workspace/odf/koster-uw/models/yolov5/tutorials/ml-template-data/images/040220 TMBL-ROV 2004 Säckenrevet alfa_frame_23250.jpg: ignoring corrupt image/label: [Errno 2] No such file or directory: '/Users/jurie.germishuys/Workspace/odf/koster-uw/models/yolov5/tutorials/ml-template-data/images/040220 TMBL-ROV 2004 Säckenrevet alfa_frame_23250.jpg'\n",
      "\u001b[34m\u001b[1mtrain: \u001b[0mWARNING: /Users/jurie.germishuys/Workspace/odf/koster-uw/models/yolov5/tutorials/ml-template-data/images/040220 TMBL-ROV 2004 Säckenrevet alfa_frame_23275.jpg: ignoring corrupt image/label: [Errno 2] No such file or directory: '/Users/jurie.germishuys/Workspace/odf/koster-uw/models/yolov5/tutorials/ml-template-data/images/040220 TMBL-ROV 2004 Säckenrevet alfa_frame_23275.jpg'\n",
      "\u001b[34m\u001b[1mtrain: \u001b[0mWARNING: /Users/jurie.germishuys/Workspace/odf/koster-uw/models/yolov5/tutorials/ml-template-data/images/040220 TMBL-ROV 2004 Säckenrevet alfa_frame_30850.jpg: ignoring corrupt image/label: [Errno 2] No such file or directory: '/Users/jurie.germishuys/Workspace/odf/koster-uw/models/yolov5/tutorials/ml-template-data/images/040220 TMBL-ROV 2004 Säckenrevet alfa_frame_30850.jpg'\n",
      "\u001b[34m\u001b[1mtrain: \u001b[0mWARNING: /Users/jurie.germishuys/Workspace/odf/koster-uw/models/yolov5/tutorials/ml-template-data/images/040220 TMBL-ROV 2004 Säckenrevet alfa_frame_30875.jpg: ignoring corrupt image/label: [Errno 2] No such file or directory: '/Users/jurie.germishuys/Workspace/odf/koster-uw/models/yolov5/tutorials/ml-template-data/images/040220 TMBL-ROV 2004 Säckenrevet alfa_frame_30875.jpg'\n",
      "\u001b[34m\u001b[1mtrain: \u001b[0mWARNING: /Users/jurie.germishuys/Workspace/odf/koster-uw/models/yolov5/tutorials/ml-template-data/images/040220 TMBL-ROV 2004 Säckenrevet alfa_frame_36750.jpg: ignoring corrupt image/label: [Errno 2] No such file or directory: '/Users/jurie.germishuys/Workspace/odf/koster-uw/models/yolov5/tutorials/ml-template-data/images/040220 TMBL-ROV 2004 Säckenrevet alfa_frame_36750.jpg'\n",
      "\u001b[34m\u001b[1mtrain: \u001b[0mWARNING: /Users/jurie.germishuys/Workspace/odf/koster-uw/models/yolov5/tutorials/ml-template-data/images/040220 TMBL-ROV 2004 Säckenrevet alfa_frame_36775.jpg: ignoring corrupt image/label: [Errno 2] No such file or directory: '/Users/jurie.germishuys/Workspace/odf/koster-uw/models/yolov5/tutorials/ml-template-data/images/040220 TMBL-ROV 2004 Säckenrevet alfa_frame_36775.jpg'\n",
      "\u001b[34m\u001b[1mtrain: \u001b[0mWARNING: /Users/jurie.germishuys/Workspace/odf/koster-uw/models/yolov5/tutorials/ml-template-data/images/040220 TMBL-ROV 2004 Säckenrevet alfa_frame_39750.jpg: ignoring corrupt image/label: [Errno 2] No such file or directory: '/Users/jurie.germishuys/Workspace/odf/koster-uw/models/yolov5/tutorials/ml-template-data/images/040220 TMBL-ROV 2004 Säckenrevet alfa_frame_39750.jpg'\n",
      "\u001b[34m\u001b[1mtrain: \u001b[0mWARNING: /Users/jurie.germishuys/Workspace/odf/koster-uw/models/yolov5/tutorials/ml-template-data/images/040220 TMBL-ROV 2004 Säckenrevet alfa_frame_39775.jpg: ignoring corrupt image/label: [Errno 2] No such file or directory: '/Users/jurie.germishuys/Workspace/odf/koster-uw/models/yolov5/tutorials/ml-template-data/images/040220 TMBL-ROV 2004 Säckenrevet alfa_frame_39775.jpg'\n",
      "\u001b[34m\u001b[1mtrain: \u001b[0mWARNING: /Users/jurie.germishuys/Workspace/odf/koster-uw/models/yolov5/tutorials/ml-template-data/images/040220 TMBL-ROV 2004 Säckenrevet alfa_frame_45750.jpg: ignoring corrupt image/label: [Errno 2] No such file or directory: '/Users/jurie.germishuys/Workspace/odf/koster-uw/models/yolov5/tutorials/ml-template-data/images/040220 TMBL-ROV 2004 Säckenrevet alfa_frame_45750.jpg'\n",
      "\u001b[34m\u001b[1mtrain: \u001b[0mWARNING: /Users/jurie.germishuys/Workspace/odf/koster-uw/models/yolov5/tutorials/ml-template-data/images/040220 TMBL-ROV 2004 Säckenrevet alfa_frame_45775.jpg: ignoring corrupt image/label: [Errno 2] No such file or directory: '/Users/jurie.germishuys/Workspace/odf/koster-uw/models/yolov5/tutorials/ml-template-data/images/040220 TMBL-ROV 2004 Säckenrevet alfa_frame_45775.jpg'\n",
      "\u001b[34m\u001b[1mtrain: \u001b[0mWARNING: /Users/jurie.germishuys/Workspace/odf/koster-uw/models/yolov5/tutorials/ml-template-data/images/040220 TMBL-ROV 2004 Säckenrevet alfa_frame_63775.jpg: ignoring corrupt image/label: [Errno 2] No such file or directory: '/Users/jurie.germishuys/Workspace/odf/koster-uw/models/yolov5/tutorials/ml-template-data/images/040220 TMBL-ROV 2004 Säckenrevet alfa_frame_63775.jpg'\n",
      "\u001b[34m\u001b[1mtrain: \u001b[0mWARNING: /Users/jurie.germishuys/Workspace/odf/koster-uw/models/yolov5/tutorials/ml-template-data/images/040220 TMBL-ROV 2004 Säckenrevet alfa_frame_73500.jpg: ignoring corrupt image/label: [Errno 2] No such file or directory: '/Users/jurie.germishuys/Workspace/odf/koster-uw/models/yolov5/tutorials/ml-template-data/images/040220 TMBL-ROV 2004 Säckenrevet alfa_frame_73500.jpg'\n",
      "\u001b[34m\u001b[1mtrain: \u001b[0mWARNING: /Users/jurie.germishuys/Workspace/odf/koster-uw/models/yolov5/tutorials/ml-template-data/images/040220 TMBL-ROV 2004 Säckenrevet alfa_frame_74250.jpg: ignoring corrupt image/label: [Errno 2] No such file or directory: '/Users/jurie.germishuys/Workspace/odf/koster-uw/models/yolov5/tutorials/ml-template-data/images/040220 TMBL-ROV 2004 Säckenrevet alfa_frame_74250.jpg'\n",
      "\u001b[34m\u001b[1mtrain: \u001b[0mWARNING: /Users/jurie.germishuys/Workspace/odf/koster-uw/models/yolov5/tutorials/ml-template-data/images/040220 TMBL-ROV 2004 Säckenrevet alfa_frame_79500.jpg: ignoring corrupt image/label: [Errno 2] No such file or directory: '/Users/jurie.germishuys/Workspace/odf/koster-uw/models/yolov5/tutorials/ml-template-data/images/040220 TMBL-ROV 2004 Säckenrevet alfa_frame_79500.jpg'\n",
      "\u001b[34m\u001b[1mtrain: \u001b[0mWARNING: /Users/jurie.germishuys/Workspace/odf/koster-uw/models/yolov5/tutorials/ml-template-data/images/040220 TMBL-ROV 2004 Säckenrevet alfa_frame_79525.jpg: ignoring corrupt image/label: [Errno 2] No such file or directory: '/Users/jurie.germishuys/Workspace/odf/koster-uw/models/yolov5/tutorials/ml-template-data/images/040220 TMBL-ROV 2004 Säckenrevet alfa_frame_79525.jpg'\n",
      "\u001b[34m\u001b[1mtrain: \u001b[0mWARNING: /Users/jurie.germishuys/Workspace/odf/koster-uw/models/yolov5/tutorials/ml-template-data/images/040220 TMBL-ROV 2004 Säckenrevet alfa_frame_93750.jpg: ignoring corrupt image/label: [Errno 2] No such file or directory: '/Users/jurie.germishuys/Workspace/odf/koster-uw/models/yolov5/tutorials/ml-template-data/images/040220 TMBL-ROV 2004 Säckenrevet alfa_frame_93750.jpg'\n",
      "\u001b[34m\u001b[1mtrain: \u001b[0mWARNING: /Users/jurie.germishuys/Workspace/odf/koster-uw/models/yolov5/tutorials/ml-template-data/images/040220 TMBL-ROV 2004 Säckenrevet alfa_frame_93775.jpg: ignoring corrupt image/label: [Errno 2] No such file or directory: '/Users/jurie.germishuys/Workspace/odf/koster-uw/models/yolov5/tutorials/ml-template-data/images/040220 TMBL-ROV 2004 Säckenrevet alfa_frame_93775.jpg'\n",
      "\u001b[34m\u001b[1mtrain: \u001b[0mWARNING: /Users/jurie.germishuys/Workspace/odf/koster-uw/models/yolov5/tutorials/ml-template-data/images/040220 TMBL-ROV 2004 Säckenrevet alfa_frame_94500.jpg: ignoring corrupt image/label: [Errno 2] No such file or directory: '/Users/jurie.germishuys/Workspace/odf/koster-uw/models/yolov5/tutorials/ml-template-data/images/040220 TMBL-ROV 2004 Säckenrevet alfa_frame_94500.jpg'\n",
      "\u001b[34m\u001b[1mtrain: \u001b[0mWARNING: /Users/jurie.germishuys/Workspace/odf/koster-uw/models/yolov5/tutorials/ml-template-data/images/040220 TMBL-ROV 2004 Säckenrevet alfa_frame_9750.jpg: ignoring corrupt image/label: [Errno 2] No such file or directory: '/Users/jurie.germishuys/Workspace/odf/koster-uw/models/yolov5/tutorials/ml-template-data/images/040220 TMBL-ROV 2004 Säckenrevet alfa_frame_9750.jpg'\n",
      "\u001b[34m\u001b[1mtrain: \u001b[0mWARNING: /Users/jurie.germishuys/Workspace/odf/koster-uw/models/yolov5/tutorials/ml-template-data/images/040220 TMBL-ROV 2004 Säckenrevet alfa_frame_9775.jpg: ignoring corrupt image/label: [Errno 2] No such file or directory: '/Users/jurie.germishuys/Workspace/odf/koster-uw/models/yolov5/tutorials/ml-template-data/images/040220 TMBL-ROV 2004 Säckenrevet alfa_frame_9775.jpg'\n",
      "\u001b[34m\u001b[1mtrain: \u001b[0mWARNING: /Users/jurie.germishuys/Workspace/odf/koster-uw/models/yolov5/tutorials/ml-template-data/images/040522 TMBL-ROV 2004 Säckenrevet_frame_101275.jpg: ignoring corrupt image/label: [Errno 2] No such file or directory: '/Users/jurie.germishuys/Workspace/odf/koster-uw/models/yolov5/tutorials/ml-template-data/images/040522 TMBL-ROV 2004 Säckenrevet_frame_101275.jpg'\n",
      "\u001b[34m\u001b[1mtrain: \u001b[0mWARNING: /Users/jurie.germishuys/Workspace/odf/koster-uw/models/yolov5/tutorials/ml-template-data/images/040522 TMBL-ROV 2004 Säckenrevet_frame_14250.jpg: ignoring corrupt image/label: [Errno 2] No such file or directory: '/Users/jurie.germishuys/Workspace/odf/koster-uw/models/yolov5/tutorials/ml-template-data/images/040522 TMBL-ROV 2004 Säckenrevet_frame_14250.jpg'\n",
      "\u001b[34m\u001b[1mtrain: \u001b[0mWARNING: /Users/jurie.germishuys/Workspace/odf/koster-uw/models/yolov5/tutorials/ml-template-data/images/040522 TMBL-ROV 2004 Säckenrevet_frame_14275.jpg: ignoring corrupt image/label: [Errno 2] No such file or directory: '/Users/jurie.germishuys/Workspace/odf/koster-uw/models/yolov5/tutorials/ml-template-data/images/040522 TMBL-ROV 2004 Säckenrevet_frame_14275.jpg'\n",
      "\u001b[34m\u001b[1mtrain: \u001b[0mWARNING: /Users/jurie.germishuys/Workspace/odf/koster-uw/models/yolov5/tutorials/ml-template-data/images/040522 TMBL-ROV 2004 Säckenrevet_frame_16500.jpg: ignoring corrupt image/label: [Errno 2] No such file or directory: '/Users/jurie.germishuys/Workspace/odf/koster-uw/models/yolov5/tutorials/ml-template-data/images/040522 TMBL-ROV 2004 Säckenrevet_frame_16500.jpg'\n",
      "\u001b[34m\u001b[1mtrain: \u001b[0mWARNING: /Users/jurie.germishuys/Workspace/odf/koster-uw/models/yolov5/tutorials/ml-template-data/images/040522 TMBL-ROV 2004 Säckenrevet_frame_16525.jpg: ignoring corrupt image/label: [Errno 2] No such file or directory: '/Users/jurie.germishuys/Workspace/odf/koster-uw/models/yolov5/tutorials/ml-template-data/images/040522 TMBL-ROV 2004 Säckenrevet_frame_16525.jpg'\n",
      "\u001b[34m\u001b[1mtrain: \u001b[0mWARNING: /Users/jurie.germishuys/Workspace/odf/koster-uw/models/yolov5/tutorials/ml-template-data/images/040522 TMBL-ROV 2004 Säckenrevet_frame_17250.jpg: ignoring corrupt image/label: [Errno 2] No such file or directory: '/Users/jurie.germishuys/Workspace/odf/koster-uw/models/yolov5/tutorials/ml-template-data/images/040522 TMBL-ROV 2004 Säckenrevet_frame_17250.jpg'\n",
      "\u001b[34m\u001b[1mtrain: \u001b[0mWARNING: /Users/jurie.germishuys/Workspace/odf/koster-uw/models/yolov5/tutorials/ml-template-data/images/040522 TMBL-ROV 2004 Säckenrevet_frame_17275.jpg: ignoring corrupt image/label: [Errno 2] No such file or directory: '/Users/jurie.germishuys/Workspace/odf/koster-uw/models/yolov5/tutorials/ml-template-data/images/040522 TMBL-ROV 2004 Säckenrevet_frame_17275.jpg'\n",
      "\u001b[34m\u001b[1mtrain: \u001b[0mWARNING: /Users/jurie.germishuys/Workspace/odf/koster-uw/models/yolov5/tutorials/ml-template-data/images/040522 TMBL-ROV 2004 Säckenrevet_frame_18775.jpg: ignoring corrupt image/label: [Errno 2] No such file or directory: '/Users/jurie.germishuys/Workspace/odf/koster-uw/models/yolov5/tutorials/ml-template-data/images/040522 TMBL-ROV 2004 Säckenrevet_frame_18775.jpg'\n",
      "\u001b[34m\u001b[1mtrain: \u001b[0mWARNING: /Users/jurie.germishuys/Workspace/odf/koster-uw/models/yolov5/tutorials/ml-template-data/images/040522 TMBL-ROV 2004 Säckenrevet_frame_61525.jpg: ignoring corrupt image/label: [Errno 2] No such file or directory: '/Users/jurie.germishuys/Workspace/odf/koster-uw/models/yolov5/tutorials/ml-template-data/images/040522 TMBL-ROV 2004 Säckenrevet_frame_61525.jpg'\n",
      "\u001b[34m\u001b[1mtrain: \u001b[0mWARNING: /Users/jurie.germishuys/Workspace/odf/koster-uw/models/yolov5/tutorials/ml-template-data/images/040522 TMBL-ROV 2004 Säckenrevet_frame_91525.jpg: ignoring corrupt image/label: [Errno 2] No such file or directory: '/Users/jurie.germishuys/Workspace/odf/koster-uw/models/yolov5/tutorials/ml-template-data/images/040522 TMBL-ROV 2004 Säckenrevet_frame_91525.jpg'\n",
      "\u001b[34m\u001b[1mtrain: \u001b[0mWARNING: /Users/jurie.germishuys/Workspace/odf/koster-uw/models/yolov5/tutorials/ml-template-data/images/990506 TMBL-ROV 1999 Revet Säcken 2 Tape 42_frame_11250.jpg: ignoring corrupt image/label: [Errno 2] No such file or directory: '/Users/jurie.germishuys/Workspace/odf/koster-uw/models/yolov5/tutorials/ml-template-data/images/990506 TMBL-ROV 1999 Revet Säcken 2 Tape 42_frame_11250.jpg'\n",
      "\u001b[34m\u001b[1mtrain: \u001b[0mWARNING: /Users/jurie.germishuys/Workspace/odf/koster-uw/models/yolov5/tutorials/ml-template-data/images/990506 TMBL-ROV 1999 Revet Säcken 2 Tape 42_frame_123800.jpg: ignoring corrupt image/label: [Errno 2] No such file or directory: '/Users/jurie.germishuys/Workspace/odf/koster-uw/models/yolov5/tutorials/ml-template-data/images/990506 TMBL-ROV 1999 Revet Säcken 2 Tape 42_frame_123800.jpg'\n",
      "\u001b[34m\u001b[1mtrain: \u001b[0mWARNING: /Users/jurie.germishuys/Workspace/odf/koster-uw/models/yolov5/tutorials/ml-template-data/images/990506 TMBL-ROV 1999 Revet Säcken 2 Tape 42_frame_13587.jpg: ignoring corrupt image/label: [Errno 2] No such file or directory: '/Users/jurie.germishuys/Workspace/odf/koster-uw/models/yolov5/tutorials/ml-template-data/images/990506 TMBL-ROV 1999 Revet Säcken 2 Tape 42_frame_13587.jpg'\n",
      "\u001b[34m\u001b[1mtrain: \u001b[0mWARNING: /Users/jurie.germishuys/Workspace/odf/koster-uw/models/yolov5/tutorials/ml-template-data/images/990506 TMBL-ROV 1999 Revet Säcken 2 Tape 42_frame_13612.jpg: ignoring corrupt image/label: [Errno 2] No such file or directory: '/Users/jurie.germishuys/Workspace/odf/koster-uw/models/yolov5/tutorials/ml-template-data/images/990506 TMBL-ROV 1999 Revet Säcken 2 Tape 42_frame_13612.jpg'\n",
      "\u001b[34m\u001b[1mtrain: \u001b[0mWARNING: /Users/jurie.germishuys/Workspace/odf/koster-uw/models/yolov5/tutorials/ml-template-data/images/990506 TMBL-ROV 1999 Revet Säcken 2 Tape 42_frame_141100.jpg: ignoring corrupt image/label: [Errno 2] No such file or directory: '/Users/jurie.germishuys/Workspace/odf/koster-uw/models/yolov5/tutorials/ml-template-data/images/990506 TMBL-ROV 1999 Revet Säcken 2 Tape 42_frame_141100.jpg'\n",
      "\u001b[34m\u001b[1mtrain: \u001b[0mWARNING: /Users/jurie.germishuys/Workspace/odf/koster-uw/models/yolov5/tutorials/ml-template-data/images/990506 TMBL-ROV 1999 Revet Säcken 2 Tape 42_frame_14275.jpg: ignoring corrupt image/label: [Errno 2] No such file or directory: '/Users/jurie.germishuys/Workspace/odf/koster-uw/models/yolov5/tutorials/ml-template-data/images/990506 TMBL-ROV 1999 Revet Säcken 2 Tape 42_frame_14275.jpg'\n",
      "\u001b[34m\u001b[1mtrain: \u001b[0mWARNING: /Users/jurie.germishuys/Workspace/odf/koster-uw/models/yolov5/tutorials/ml-template-data/images/990506 TMBL-ROV 1999 Revet Säcken 2 Tape 42_frame_150025.jpg: ignoring corrupt image/label: [Errno 2] No such file or directory: '/Users/jurie.germishuys/Workspace/odf/koster-uw/models/yolov5/tutorials/ml-template-data/images/990506 TMBL-ROV 1999 Revet Säcken 2 Tape 42_frame_150025.jpg'\n",
      "\u001b[34m\u001b[1mtrain: \u001b[0mWARNING: /Users/jurie.germishuys/Workspace/odf/koster-uw/models/yolov5/tutorials/ml-template-data/images/990506 TMBL-ROV 1999 Revet Säcken 2 Tape 42_frame_15775.jpg: ignoring corrupt image/label: [Errno 2] No such file or directory: '/Users/jurie.germishuys/Workspace/odf/koster-uw/models/yolov5/tutorials/ml-template-data/images/990506 TMBL-ROV 1999 Revet Säcken 2 Tape 42_frame_15775.jpg'\n",
      "\u001b[34m\u001b[1mtrain: \u001b[0mWARNING: /Users/jurie.germishuys/Workspace/odf/koster-uw/models/yolov5/tutorials/ml-template-data/images/990506 TMBL-ROV 1999 Revet Säcken 2 Tape 42_frame_21925.jpg: ignoring corrupt image/label: [Errno 2] No such file or directory: '/Users/jurie.germishuys/Workspace/odf/koster-uw/models/yolov5/tutorials/ml-template-data/images/990506 TMBL-ROV 1999 Revet Säcken 2 Tape 42_frame_21925.jpg'\n",
      "\u001b[34m\u001b[1mtrain: \u001b[0mWARNING: /Users/jurie.germishuys/Workspace/odf/koster-uw/models/yolov5/tutorials/ml-template-data/images/990506 TMBL-ROV 1999 Revet Säcken 2 Tape 42_frame_27050.jpg: ignoring corrupt image/label: [Errno 2] No such file or directory: '/Users/jurie.germishuys/Workspace/odf/koster-uw/models/yolov5/tutorials/ml-template-data/images/990506 TMBL-ROV 1999 Revet Säcken 2 Tape 42_frame_27050.jpg'\n",
      "\u001b[34m\u001b[1mtrain: \u001b[0mWARNING: /Users/jurie.germishuys/Workspace/odf/koster-uw/models/yolov5/tutorials/ml-template-data/images/990506 TMBL-ROV 1999 Revet Säcken 2 Tape 42_frame_27075.jpg: ignoring corrupt image/label: [Errno 2] No such file or directory: '/Users/jurie.germishuys/Workspace/odf/koster-uw/models/yolov5/tutorials/ml-template-data/images/990506 TMBL-ROV 1999 Revet Säcken 2 Tape 42_frame_27075.jpg'\n",
      "\u001b[34m\u001b[1mtrain: \u001b[0mWARNING: /Users/jurie.germishuys/Workspace/odf/koster-uw/models/yolov5/tutorials/ml-template-data/images/990506 TMBL-ROV 1999 Revet Säcken 2 Tape 42_frame_30000.jpg: ignoring corrupt image/label: [Errno 2] No such file or directory: '/Users/jurie.germishuys/Workspace/odf/koster-uw/models/yolov5/tutorials/ml-template-data/images/990506 TMBL-ROV 1999 Revet Säcken 2 Tape 42_frame_30000.jpg'\n",
      "\u001b[34m\u001b[1mtrain: \u001b[0mWARNING: /Users/jurie.germishuys/Workspace/odf/koster-uw/models/yolov5/tutorials/ml-template-data/images/990506 TMBL-ROV 1999 Revet Säcken 2 Tape 42_frame_32250.jpg: ignoring corrupt image/label: [Errno 2] No such file or directory: '/Users/jurie.germishuys/Workspace/odf/koster-uw/models/yolov5/tutorials/ml-template-data/images/990506 TMBL-ROV 1999 Revet Säcken 2 Tape 42_frame_32250.jpg'\n",
      "\u001b[34m\u001b[1mtrain: \u001b[0mWARNING: /Users/jurie.germishuys/Workspace/odf/koster-uw/models/yolov5/tutorials/ml-template-data/images/990506 TMBL-ROV 1999 Revet Säcken 2 Tape 42_frame_32300.jpg: ignoring corrupt image/label: [Errno 2] No such file or directory: '/Users/jurie.germishuys/Workspace/odf/koster-uw/models/yolov5/tutorials/ml-template-data/images/990506 TMBL-ROV 1999 Revet Säcken 2 Tape 42_frame_32300.jpg'\n",
      "\u001b[34m\u001b[1mtrain: \u001b[0mWARNING: /Users/jurie.germishuys/Workspace/odf/koster-uw/models/yolov5/tutorials/ml-template-data/images/990506 TMBL-ROV 1999 Revet Säcken 2 Tape 42_frame_6025.jpg: ignoring corrupt image/label: [Errno 2] No such file or directory: '/Users/jurie.germishuys/Workspace/odf/koster-uw/models/yolov5/tutorials/ml-template-data/images/990506 TMBL-ROV 1999 Revet Säcken 2 Tape 42_frame_6025.jpg'\n",
      "\u001b[34m\u001b[1mtrain: \u001b[0mWARNING: /Users/jurie.germishuys/Workspace/odf/koster-uw/models/yolov5/tutorials/ml-template-data/images/990506 TMBL-ROV 1999 Revet Säcken 2 Tape 42_frame_61500.jpg: ignoring corrupt image/label: [Errno 2] No such file or directory: '/Users/jurie.germishuys/Workspace/odf/koster-uw/models/yolov5/tutorials/ml-template-data/images/990506 TMBL-ROV 1999 Revet Säcken 2 Tape 42_frame_61500.jpg'\n",
      "\u001b[34m\u001b[1mtrain: \u001b[0mWARNING: /Users/jurie.germishuys/Workspace/odf/koster-uw/models/yolov5/tutorials/ml-template-data/images/990506 TMBL-ROV 1999 Revet Säcken 2 Tape 42_frame_61525.jpg: ignoring corrupt image/label: [Errno 2] No such file or directory: '/Users/jurie.germishuys/Workspace/odf/koster-uw/models/yolov5/tutorials/ml-template-data/images/990506 TMBL-ROV 1999 Revet Säcken 2 Tape 42_frame_61525.jpg'\n",
      "\u001b[34m\u001b[1mtrain: \u001b[0mWARNING: /Users/jurie.germishuys/Workspace/odf/koster-uw/models/yolov5/tutorials/ml-template-data/images/990506 TMBL-ROV 1999 Revet Säcken 2 Tape 42_frame_66750.jpg: ignoring corrupt image/label: [Errno 2] No such file or directory: '/Users/jurie.germishuys/Workspace/odf/koster-uw/models/yolov5/tutorials/ml-template-data/images/990506 TMBL-ROV 1999 Revet Säcken 2 Tape 42_frame_66750.jpg'\n",
      "\u001b[34m\u001b[1mtrain: \u001b[0mWARNING: /Users/jurie.germishuys/Workspace/odf/koster-uw/models/yolov5/tutorials/ml-template-data/images/990506 TMBL-ROV 1999 Revet Säcken 2 Tape 42_frame_66775.jpg: ignoring corrupt image/label: [Errno 2] No such file or directory: '/Users/jurie.germishuys/Workspace/odf/koster-uw/models/yolov5/tutorials/ml-template-data/images/990506 TMBL-ROV 1999 Revet Säcken 2 Tape 42_frame_66775.jpg'\n",
      "\u001b[34m\u001b[1mtrain: \u001b[0mWARNING: /Users/jurie.germishuys/Workspace/odf/koster-uw/models/yolov5/tutorials/ml-template-data/images/990506 TMBL-ROV 1999 Revet Säcken 2 Tape 42_frame_6750.jpg: ignoring corrupt image/label: [Errno 2] No such file or directory: '/Users/jurie.germishuys/Workspace/odf/koster-uw/models/yolov5/tutorials/ml-template-data/images/990506 TMBL-ROV 1999 Revet Säcken 2 Tape 42_frame_6750.jpg'\n",
      "\u001b[34m\u001b[1mtrain: \u001b[0mWARNING: /Users/jurie.germishuys/Workspace/odf/koster-uw/models/yolov5/tutorials/ml-template-data/images/990506 TMBL-ROV 1999 Revet Säcken 2 Tape 42_frame_7550.jpg: ignoring corrupt image/label: [Errno 2] No such file or directory: '/Users/jurie.germishuys/Workspace/odf/koster-uw/models/yolov5/tutorials/ml-template-data/images/990506 TMBL-ROV 1999 Revet Säcken 2 Tape 42_frame_7550.jpg'\n",
      "\u001b[34m\u001b[1mtrain: \u001b[0mWARNING: /Users/jurie.germishuys/Workspace/odf/koster-uw/models/yolov5/tutorials/ml-template-data/images/990506 TMBL-ROV 1999 Revet Säcken 2 Tape 42_frame_93000.jpg: ignoring corrupt image/label: [Errno 2] No such file or directory: '/Users/jurie.germishuys/Workspace/odf/koster-uw/models/yolov5/tutorials/ml-template-data/images/990506 TMBL-ROV 1999 Revet Säcken 2 Tape 42_frame_93000.jpg'\n",
      "\u001b[34m\u001b[1mtrain: \u001b[0mWARNING: /Users/jurie.germishuys/Workspace/odf/koster-uw/models/yolov5/tutorials/ml-template-data/images/990506 TMBL-ROV 1999 Revet Säcken 2 Tape 42_frame_93025.jpg: ignoring corrupt image/label: [Errno 2] No such file or directory: '/Users/jurie.germishuys/Workspace/odf/koster-uw/models/yolov5/tutorials/ml-template-data/images/990506 TMBL-ROV 1999 Revet Säcken 2 Tape 42_frame_93025.jpg'\n",
      "\u001b[34m\u001b[1mtrain: \u001b[0mWARNING: /Users/jurie.germishuys/Workspace/odf/koster-uw/models/yolov5/tutorials/ml-template-data/images/990506 TMBL-ROV 1999 Revet Säcken Tape 42_SELECTWS_frame_30775.jpg: ignoring corrupt image/label: [Errno 2] No such file or directory: '/Users/jurie.germishuys/Workspace/odf/koster-uw/models/yolov5/tutorials/ml-template-data/images/990506 TMBL-ROV 1999 Revet Säcken Tape 42_SELECTWS_frame_30775.jpg'\n",
      "\u001b[34m\u001b[1mtrain: \u001b[0mWARNING: /Users/jurie.germishuys/Workspace/odf/koster-uw/models/yolov5/tutorials/ml-template-data/images/990506 TMBL-ROV 1999 Revet Säcken Tape 42_SELECTWS_frame_33162.jpg: ignoring corrupt image/label: [Errno 2] No such file or directory: '/Users/jurie.germishuys/Workspace/odf/koster-uw/models/yolov5/tutorials/ml-template-data/images/990506 TMBL-ROV 1999 Revet Säcken Tape 42_SELECTWS_frame_33162.jpg'\n",
      "\u001b[34m\u001b[1mtrain: \u001b[0mWARNING: /Users/jurie.germishuys/Workspace/odf/koster-uw/models/yolov5/tutorials/ml-template-data/images/990506 TMBL-ROV 1999 Revet Säcken Tape 42_SELECTWS_frame_42025.jpg: ignoring corrupt image/label: [Errno 2] No such file or directory: '/Users/jurie.germishuys/Workspace/odf/koster-uw/models/yolov5/tutorials/ml-template-data/images/990506 TMBL-ROV 1999 Revet Säcken Tape 42_SELECTWS_frame_42025.jpg'\n",
      "\u001b[34m\u001b[1mtrain: \u001b[0mWARNING: /Users/jurie.germishuys/Workspace/odf/koster-uw/models/yolov5/tutorials/ml-template-data/images/990506 TMBL-ROV 1999 Revet Säcken Tape 42_SELECTWS_frame_57875.jpg: ignoring corrupt image/label: [Errno 2] No such file or directory: '/Users/jurie.germishuys/Workspace/odf/koster-uw/models/yolov5/tutorials/ml-template-data/images/990506 TMBL-ROV 1999 Revet Säcken Tape 42_SELECTWS_frame_57875.jpg'\n",
      "\u001b[34m\u001b[1mtrain: \u001b[0mWARNING: /Users/jurie.germishuys/Workspace/odf/koster-uw/models/yolov5/tutorials/ml-template-data/images/990506 TMBL-ROV 1999 Revet Säcken Tape 42_SELECTWS_frame_73725.jpg: ignoring corrupt image/label: [Errno 2] No such file or directory: '/Users/jurie.germishuys/Workspace/odf/koster-uw/models/yolov5/tutorials/ml-template-data/images/990506 TMBL-ROV 1999 Revet Säcken Tape 42_SELECTWS_frame_73725.jpg'\n",
      "\u001b[34m\u001b[1mtrain: \u001b[0mWARNING: /Users/jurie.germishuys/Workspace/odf/koster-uw/models/yolov5/tutorials/ml-template-data/images/990506 TMBL-ROV 1999 Revet Säcken Tape 42_SELECTWS_frame_76725.jpg: ignoring corrupt image/label: [Errno 2] No such file or directory: '/Users/jurie.germishuys/Workspace/odf/koster-uw/models/yolov5/tutorials/ml-template-data/images/990506 TMBL-ROV 1999 Revet Säcken Tape 42_SELECTWS_frame_76725.jpg'\n",
      "\u001b[34m\u001b[1mtrain: \u001b[0mWARNING: /Users/jurie.germishuys/Workspace/odf/koster-uw/models/yolov5/tutorials/ml-template-data/images/990506 TMBL-ROV 1999 Revet Säcken Tape 42_SELECTWS_frame_825.jpg: ignoring corrupt image/label: [Errno 2] No such file or directory: '/Users/jurie.germishuys/Workspace/odf/koster-uw/models/yolov5/tutorials/ml-template-data/images/990506 TMBL-ROV 1999 Revet Säcken Tape 42_SELECTWS_frame_825.jpg'\n",
      "\u001b[34m\u001b[1mtrain: \u001b[0mWARNING: /Users/jurie.germishuys/Workspace/odf/koster-uw/models/yolov5/tutorials/ml-template-data/images/990813 TMBL-ROV 1999 Storö-Torsö Utsidan rannan tape 48_frame_76537.jpg: ignoring corrupt image/label: [Errno 2] No such file or directory: '/Users/jurie.germishuys/Workspace/odf/koster-uw/models/yolov5/tutorials/ml-template-data/images/990813 TMBL-ROV 1999 Storö-Torsö Utsidan rannan tape 48_frame_76537.jpg'\n",
      "\u001b[34m\u001b[1mval: \u001b[0mScanning /Users/jurie.germishuys/Workspace/odf/koster-uw/models/yolov5/tutorials/ml-template-data/valid.cache... 1 images, 0 backgrounds, 87 corrupt: 100%|██████████| 88/88 00:00\n",
      "\u001b[34m\u001b[1mval: \u001b[0mWARNING: /Users/jurie.germishuys/Workspace/odf/koster-uw/models/yolov5/tutorials/ml-template-data/images/000114 TMBL-ROV 2000 Säckenrevet EJ numrerade band_frame_14250.jpg: ignoring corrupt image/label: [Errno 2] No such file or directory: '/Users/jurie.germishuys/Workspace/odf/koster-uw/models/yolov5/tutorials/ml-template-data/images/000114 TMBL-ROV 2000 Säckenrevet EJ numrerade band_frame_14250.jpg'\n",
      "\u001b[34m\u001b[1mval: \u001b[0mWARNING: /Users/jurie.germishuys/Workspace/odf/koster-uw/models/yolov5/tutorials/ml-template-data/images/000114 TMBL-ROV 2000 Säckenrevet EJ numrerade band_frame_27750.jpg: ignoring corrupt image/label: [Errno 2] No such file or directory: '/Users/jurie.germishuys/Workspace/odf/koster-uw/models/yolov5/tutorials/ml-template-data/images/000114 TMBL-ROV 2000 Säckenrevet EJ numrerade band_frame_27750.jpg'\n",
      "\u001b[34m\u001b[1mval: \u001b[0mWARNING: /Users/jurie.germishuys/Workspace/odf/koster-uw/models/yolov5/tutorials/ml-template-data/images/000114 TMBL-ROV 2000 Säckenrevet EJ numrerade band_frame_4525.jpg: ignoring corrupt image/label: [Errno 2] No such file or directory: '/Users/jurie.germishuys/Workspace/odf/koster-uw/models/yolov5/tutorials/ml-template-data/images/000114 TMBL-ROV 2000 Säckenrevet EJ numrerade band_frame_4525.jpg'\n",
      "\u001b[34m\u001b[1mval: \u001b[0mWARNING: /Users/jurie.germishuys/Workspace/odf/koster-uw/models/yolov5/tutorials/ml-template-data/images/000114 TMBL-ROV 2000 Säckenrevet EJ numrerade band_frame_46525.jpg: ignoring corrupt image/label: [Errno 2] No such file or directory: '/Users/jurie.germishuys/Workspace/odf/koster-uw/models/yolov5/tutorials/ml-template-data/images/000114 TMBL-ROV 2000 Säckenrevet EJ numrerade band_frame_46525.jpg'\n",
      "\u001b[34m\u001b[1mval: \u001b[0mWARNING: /Users/jurie.germishuys/Workspace/odf/koster-uw/models/yolov5/tutorials/ml-template-data/images/000114 TMBL-ROV 2000 Säckenrevet EJ numrerade band_frame_49500.jpg: ignoring corrupt image/label: [Errno 2] No such file or directory: '/Users/jurie.germishuys/Workspace/odf/koster-uw/models/yolov5/tutorials/ml-template-data/images/000114 TMBL-ROV 2000 Säckenrevet EJ numrerade band_frame_49500.jpg'\n",
      "\u001b[34m\u001b[1mval: \u001b[0mWARNING: /Users/jurie.germishuys/Workspace/odf/koster-uw/models/yolov5/tutorials/ml-template-data/images/000114 TMBL-ROV 2000 Säckenrevet EJ numrerade band_frame_51000.jpg: ignoring corrupt image/label: [Errno 2] No such file or directory: '/Users/jurie.germishuys/Workspace/odf/koster-uw/models/yolov5/tutorials/ml-template-data/images/000114 TMBL-ROV 2000 Säckenrevet EJ numrerade band_frame_51000.jpg'\n",
      "\u001b[34m\u001b[1mval: \u001b[0mWARNING: /Users/jurie.germishuys/Workspace/odf/koster-uw/models/yolov5/tutorials/ml-template-data/images/000114 TMBL-ROV 2000 Säckenrevet EJ numrerade band_frame_57875.jpg: ignoring corrupt image/label: [Errno 2] No such file or directory: '/Users/jurie.germishuys/Workspace/odf/koster-uw/models/yolov5/tutorials/ml-template-data/images/000114 TMBL-ROV 2000 Säckenrevet EJ numrerade band_frame_57875.jpg'\n",
      "\u001b[34m\u001b[1mval: \u001b[0mWARNING: /Users/jurie.germishuys/Workspace/odf/koster-uw/models/yolov5/tutorials/ml-template-data/images/000114 TMBL-ROV 2000 Säckenrevet Tape 55_frame_105800.jpg: ignoring corrupt image/label: [Errno 2] No such file or directory: '/Users/jurie.germishuys/Workspace/odf/koster-uw/models/yolov5/tutorials/ml-template-data/images/000114 TMBL-ROV 2000 Säckenrevet Tape 55_frame_105800.jpg'\n",
      "\u001b[34m\u001b[1mval: \u001b[0mWARNING: /Users/jurie.germishuys/Workspace/odf/koster-uw/models/yolov5/tutorials/ml-template-data/images/000114 TMBL-ROV 2000 Säckenrevet Tape 55_frame_128350.jpg: ignoring corrupt image/label: [Errno 2] No such file or directory: '/Users/jurie.germishuys/Workspace/odf/koster-uw/models/yolov5/tutorials/ml-template-data/images/000114 TMBL-ROV 2000 Säckenrevet Tape 55_frame_128350.jpg'\n",
      "\u001b[34m\u001b[1mval: \u001b[0mWARNING: /Users/jurie.germishuys/Workspace/odf/koster-uw/models/yolov5/tutorials/ml-template-data/images/000114 TMBL-ROV 2000 Säckenrevet Tape 55_frame_131275.jpg: ignoring corrupt image/label: [Errno 2] No such file or directory: '/Users/jurie.germishuys/Workspace/odf/koster-uw/models/yolov5/tutorials/ml-template-data/images/000114 TMBL-ROV 2000 Säckenrevet Tape 55_frame_131275.jpg'\n",
      "\u001b[34m\u001b[1mval: \u001b[0mWARNING: /Users/jurie.germishuys/Workspace/odf/koster-uw/models/yolov5/tutorials/ml-template-data/images/000114 TMBL-ROV 2000 Säckenrevet Tape 55_frame_13525.jpg: ignoring corrupt image/label: [Errno 2] No such file or directory: '/Users/jurie.germishuys/Workspace/odf/koster-uw/models/yolov5/tutorials/ml-template-data/images/000114 TMBL-ROV 2000 Säckenrevet Tape 55_frame_13525.jpg'\n",
      "\u001b[34m\u001b[1mval: \u001b[0mWARNING: /Users/jurie.germishuys/Workspace/odf/koster-uw/models/yolov5/tutorials/ml-template-data/images/000114 TMBL-ROV 2000 Säckenrevet Tape 55_frame_149275.jpg: ignoring corrupt image/label: [Errno 2] No such file or directory: '/Users/jurie.germishuys/Workspace/odf/koster-uw/models/yolov5/tutorials/ml-template-data/images/000114 TMBL-ROV 2000 Säckenrevet Tape 55_frame_149275.jpg'\n",
      "\u001b[34m\u001b[1mval: \u001b[0mWARNING: /Users/jurie.germishuys/Workspace/odf/koster-uw/models/yolov5/tutorials/ml-template-data/images/000114 TMBL-ROV 2000 Säckenrevet Tape 55_frame_150875.jpg: ignoring corrupt image/label: [Errno 2] No such file or directory: '/Users/jurie.germishuys/Workspace/odf/koster-uw/models/yolov5/tutorials/ml-template-data/images/000114 TMBL-ROV 2000 Säckenrevet Tape 55_frame_150875.jpg'\n",
      "\u001b[34m\u001b[1mval: \u001b[0mWARNING: /Users/jurie.germishuys/Workspace/odf/koster-uw/models/yolov5/tutorials/ml-template-data/images/000114 TMBL-ROV 2000 Säckenrevet Tape 55_frame_16500.jpg: ignoring corrupt image/label: [Errno 2] No such file or directory: '/Users/jurie.germishuys/Workspace/odf/koster-uw/models/yolov5/tutorials/ml-template-data/images/000114 TMBL-ROV 2000 Säckenrevet Tape 55_frame_16500.jpg'\n",
      "\u001b[34m\u001b[1mval: \u001b[0mWARNING: /Users/jurie.germishuys/Workspace/odf/koster-uw/models/yolov5/tutorials/ml-template-data/images/000114 TMBL-ROV 2000 Säckenrevet Tape 55_frame_171862.jpg: ignoring corrupt image/label: [Errno 2] No such file or directory: '/Users/jurie.germishuys/Workspace/odf/koster-uw/models/yolov5/tutorials/ml-template-data/images/000114 TMBL-ROV 2000 Säckenrevet Tape 55_frame_171862.jpg'\n",
      "\u001b[34m\u001b[1mval: \u001b[0mWARNING: /Users/jurie.germishuys/Workspace/odf/koster-uw/models/yolov5/tutorials/ml-template-data/images/000114 TMBL-ROV 2000 Säckenrevet Tape 55_frame_188250.jpg: ignoring corrupt image/label: [Errno 2] No such file or directory: '/Users/jurie.germishuys/Workspace/odf/koster-uw/models/yolov5/tutorials/ml-template-data/images/000114 TMBL-ROV 2000 Säckenrevet Tape 55_frame_188250.jpg'\n",
      "\u001b[34m\u001b[1mval: \u001b[0mWARNING: /Users/jurie.germishuys/Workspace/odf/koster-uw/models/yolov5/tutorials/ml-template-data/images/000114 TMBL-ROV 2000 Säckenrevet Tape 55_frame_188275.jpg: ignoring corrupt image/label: [Errno 2] No such file or directory: '/Users/jurie.germishuys/Workspace/odf/koster-uw/models/yolov5/tutorials/ml-template-data/images/000114 TMBL-ROV 2000 Säckenrevet Tape 55_frame_188275.jpg'\n",
      "\u001b[34m\u001b[1mval: \u001b[0mWARNING: /Users/jurie.germishuys/Workspace/odf/koster-uw/models/yolov5/tutorials/ml-template-data/images/000114 TMBL-ROV 2000 Säckenrevet Tape 55_frame_190500.jpg: ignoring corrupt image/label: [Errno 2] No such file or directory: '/Users/jurie.germishuys/Workspace/odf/koster-uw/models/yolov5/tutorials/ml-template-data/images/000114 TMBL-ROV 2000 Säckenrevet Tape 55_frame_190500.jpg'\n",
      "\u001b[34m\u001b[1mval: \u001b[0mWARNING: /Users/jurie.germishuys/Workspace/odf/koster-uw/models/yolov5/tutorials/ml-template-data/images/000114 TMBL-ROV 2000 Säckenrevet Tape 55_frame_195025.jpg: ignoring corrupt image/label: [Errno 2] No such file or directory: '/Users/jurie.germishuys/Workspace/odf/koster-uw/models/yolov5/tutorials/ml-template-data/images/000114 TMBL-ROV 2000 Säckenrevet Tape 55_frame_195025.jpg'\n",
      "\u001b[34m\u001b[1mval: \u001b[0mWARNING: /Users/jurie.germishuys/Workspace/odf/koster-uw/models/yolov5/tutorials/ml-template-data/images/000114 TMBL-ROV 2000 Säckenrevet Tape 55_frame_213750.jpg: ignoring corrupt image/label: [Errno 2] No such file or directory: '/Users/jurie.germishuys/Workspace/odf/koster-uw/models/yolov5/tutorials/ml-template-data/images/000114 TMBL-ROV 2000 Säckenrevet Tape 55_frame_213750.jpg'\n",
      "\u001b[34m\u001b[1mval: \u001b[0mWARNING: /Users/jurie.germishuys/Workspace/odf/koster-uw/models/yolov5/tutorials/ml-template-data/images/000203 TMBL-ROV 2000 Säckenrevet Tape 56_frame_25525.jpg: ignoring corrupt image/label: [Errno 2] No such file or directory: '/Users/jurie.germishuys/Workspace/odf/koster-uw/models/yolov5/tutorials/ml-template-data/images/000203 TMBL-ROV 2000 Säckenrevet Tape 56_frame_25525.jpg'\n",
      "\u001b[34m\u001b[1mval: \u001b[0mWARNING: /Users/jurie.germishuys/Workspace/odf/koster-uw/models/yolov5/tutorials/ml-template-data/images/000203 TMBL-ROV 2000 Säckenrevet Tape 56_frame_26275.jpg: ignoring corrupt image/label: [Errno 2] No such file or directory: '/Users/jurie.germishuys/Workspace/odf/koster-uw/models/yolov5/tutorials/ml-template-data/images/000203 TMBL-ROV 2000 Säckenrevet Tape 56_frame_26275.jpg'\n",
      "\u001b[34m\u001b[1mval: \u001b[0mWARNING: /Users/jurie.germishuys/Workspace/odf/koster-uw/models/yolov5/tutorials/ml-template-data/images/000203 TMBL-ROV 2000 Säckenrevet Tape 56_frame_29275.jpg: ignoring corrupt image/label: [Errno 2] No such file or directory: '/Users/jurie.germishuys/Workspace/odf/koster-uw/models/yolov5/tutorials/ml-template-data/images/000203 TMBL-ROV 2000 Säckenrevet Tape 56_frame_29275.jpg'\n",
      "\u001b[34m\u001b[1mval: \u001b[0mWARNING: /Users/jurie.germishuys/Workspace/odf/koster-uw/models/yolov5/tutorials/ml-template-data/images/000203 TMBL-ROV 2000 Säckenrevet Tape 56_frame_33775.jpg: ignoring corrupt image/label: [Errno 2] No such file or directory: '/Users/jurie.germishuys/Workspace/odf/koster-uw/models/yolov5/tutorials/ml-template-data/images/000203 TMBL-ROV 2000 Säckenrevet Tape 56_frame_33775.jpg'\n",
      "\u001b[34m\u001b[1mval: \u001b[0mWARNING: /Users/jurie.germishuys/Workspace/odf/koster-uw/models/yolov5/tutorials/ml-template-data/images/000203 TMBL-ROV 2000 Säckenrevet Tape 56_frame_38275.jpg: ignoring corrupt image/label: [Errno 2] No such file or directory: '/Users/jurie.germishuys/Workspace/odf/koster-uw/models/yolov5/tutorials/ml-template-data/images/000203 TMBL-ROV 2000 Säckenrevet Tape 56_frame_38275.jpg'\n",
      "\u001b[34m\u001b[1mval: \u001b[0mWARNING: /Users/jurie.germishuys/Workspace/odf/koster-uw/models/yolov5/tutorials/ml-template-data/images/000203 TMBL-ROV 2000 Säckenrevet Tape 56_frame_49525.jpg: ignoring corrupt image/label: [Errno 2] No such file or directory: '/Users/jurie.germishuys/Workspace/odf/koster-uw/models/yolov5/tutorials/ml-template-data/images/000203 TMBL-ROV 2000 Säckenrevet Tape 56_frame_49525.jpg'\n",
      "\u001b[34m\u001b[1mval: \u001b[0mWARNING: /Users/jurie.germishuys/Workspace/odf/koster-uw/models/yolov5/tutorials/ml-template-data/images/000203 TMBL-ROV 2000 Säckenrevet Tape 56_frame_58525.jpg: ignoring corrupt image/label: [Errno 2] No such file or directory: '/Users/jurie.germishuys/Workspace/odf/koster-uw/models/yolov5/tutorials/ml-template-data/images/000203 TMBL-ROV 2000 Säckenrevet Tape 56_frame_58525.jpg'\n",
      "\u001b[34m\u001b[1mval: \u001b[0mWARNING: /Users/jurie.germishuys/Workspace/odf/koster-uw/models/yolov5/tutorials/ml-template-data/images/000203 TMBL-ROV 2000 Säckenrevet Tape 56_frame_58537.jpg: ignoring corrupt image/label: [Errno 2] No such file or directory: '/Users/jurie.germishuys/Workspace/odf/koster-uw/models/yolov5/tutorials/ml-template-data/images/000203 TMBL-ROV 2000 Säckenrevet Tape 56_frame_58537.jpg'\n",
      "\u001b[34m\u001b[1mval: \u001b[0mWARNING: /Users/jurie.germishuys/Workspace/odf/koster-uw/models/yolov5/tutorials/ml-template-data/images/000203 TMBL-ROV 2000 Säckenrevet Tape 56_frame_63025.jpg: ignoring corrupt image/label: [Errno 2] No such file or directory: '/Users/jurie.germishuys/Workspace/odf/koster-uw/models/yolov5/tutorials/ml-template-data/images/000203 TMBL-ROV 2000 Säckenrevet Tape 56_frame_63025.jpg'\n",
      "\u001b[34m\u001b[1mval: \u001b[0mWARNING: /Users/jurie.germishuys/Workspace/odf/koster-uw/models/yolov5/tutorials/ml-template-data/images/000203 TMBL-ROV 2000 Säckenrevet Tape 56_frame_80275.jpg: ignoring corrupt image/label: [Errno 2] No such file or directory: '/Users/jurie.germishuys/Workspace/odf/koster-uw/models/yolov5/tutorials/ml-template-data/images/000203 TMBL-ROV 2000 Säckenrevet Tape 56_frame_80275.jpg'\n",
      "\u001b[34m\u001b[1mval: \u001b[0mWARNING: /Users/jurie.germishuys/Workspace/odf/koster-uw/models/yolov5/tutorials/ml-template-data/images/000203 TMBL-ROV 2000 Säckenrevet Tape 56_frame_84762.jpg: ignoring corrupt image/label: [Errno 2] No such file or directory: '/Users/jurie.germishuys/Workspace/odf/koster-uw/models/yolov5/tutorials/ml-template-data/images/000203 TMBL-ROV 2000 Säckenrevet Tape 56_frame_84762.jpg'\n",
      "\u001b[34m\u001b[1mval: \u001b[0mWARNING: /Users/jurie.germishuys/Workspace/odf/koster-uw/models/yolov5/tutorials/ml-template-data/images/000203 TMBL-ROV 2000 Säckenrevet Tape 56_frame_91525.jpg: ignoring corrupt image/label: [Errno 2] No such file or directory: '/Users/jurie.germishuys/Workspace/odf/koster-uw/models/yolov5/tutorials/ml-template-data/images/000203 TMBL-ROV 2000 Säckenrevet Tape 56_frame_91525.jpg'\n",
      "\u001b[34m\u001b[1mval: \u001b[0mWARNING: /Users/jurie.germishuys/Workspace/odf/koster-uw/models/yolov5/tutorials/ml-template-data/images/000203 TMBL-ROV 2000 Säckenrevet Tape 56_frame_93025.jpg: ignoring corrupt image/label: [Errno 2] No such file or directory: '/Users/jurie.germishuys/Workspace/odf/koster-uw/models/yolov5/tutorials/ml-template-data/images/000203 TMBL-ROV 2000 Säckenrevet Tape 56_frame_93025.jpg'\n",
      "\u001b[34m\u001b[1mval: \u001b[0mWARNING: /Users/jurie.germishuys/Workspace/odf/koster-uw/models/yolov5/tutorials/ml-template-data/images/000203 TMBL-ROV 2000 Säckenrevet Tape 56_frame_94500.jpg: ignoring corrupt image/label: [Errno 2] No such file or directory: '/Users/jurie.germishuys/Workspace/odf/koster-uw/models/yolov5/tutorials/ml-template-data/images/000203 TMBL-ROV 2000 Säckenrevet Tape 56_frame_94500.jpg'\n",
      "\u001b[34m\u001b[1mval: \u001b[0mWARNING: /Users/jurie.germishuys/Workspace/odf/koster-uw/models/yolov5/tutorials/ml-template-data/images/000203 TMBL-ROV 2000 Säckenrevet Tape 56_frame_96800.jpg: ignoring corrupt image/label: [Errno 2] No such file or directory: '/Users/jurie.germishuys/Workspace/odf/koster-uw/models/yolov5/tutorials/ml-template-data/images/000203 TMBL-ROV 2000 Säckenrevet Tape 56_frame_96800.jpg'\n",
      "\u001b[34m\u001b[1mval: \u001b[0mWARNING: /Users/jurie.germishuys/Workspace/odf/koster-uw/models/yolov5/tutorials/ml-template-data/images/000203 TMBL-ROV 2000 Säcken EJ numrerade band_frame_9800.jpg: ignoring corrupt image/label: [Errno 2] No such file or directory: '/Users/jurie.germishuys/Workspace/odf/koster-uw/models/yolov5/tutorials/ml-template-data/images/000203 TMBL-ROV 2000 Säcken EJ numrerade band_frame_9800.jpg'\n",
      "\u001b[34m\u001b[1mval: \u001b[0mWARNING: /Users/jurie.germishuys/Workspace/odf/koster-uw/models/yolov5/tutorials/ml-template-data/images/000203 TMBL-ROV 2000 Säcken revet EJ numrerade band_frame_12025.jpg: ignoring corrupt image/label: [Errno 2] No such file or directory: '/Users/jurie.germishuys/Workspace/odf/koster-uw/models/yolov5/tutorials/ml-template-data/images/000203 TMBL-ROV 2000 Säcken revet EJ numrerade band_frame_12025.jpg'\n",
      "\u001b[34m\u001b[1mval: \u001b[0mWARNING: /Users/jurie.germishuys/Workspace/odf/koster-uw/models/yolov5/tutorials/ml-template-data/images/000203 TMBL-ROV 2000 Säcken revet EJ numrerade band_frame_1500.jpg: ignoring corrupt image/label: [Errno 2] No such file or directory: '/Users/jurie.germishuys/Workspace/odf/koster-uw/models/yolov5/tutorials/ml-template-data/images/000203 TMBL-ROV 2000 Säcken revet EJ numrerade band_frame_1500.jpg'\n",
      "\u001b[34m\u001b[1mval: \u001b[0mWARNING: /Users/jurie.germishuys/Workspace/odf/koster-uw/models/yolov5/tutorials/ml-template-data/images/000203 TMBL-ROV 2000 Säcken revet EJ numrerade band_frame_17275.jpg: ignoring corrupt image/label: [Errno 2] No such file or directory: '/Users/jurie.germishuys/Workspace/odf/koster-uw/models/yolov5/tutorials/ml-template-data/images/000203 TMBL-ROV 2000 Säcken revet EJ numrerade band_frame_17275.jpg'\n",
      "\u001b[34m\u001b[1mval: \u001b[0mWARNING: /Users/jurie.germishuys/Workspace/odf/koster-uw/models/yolov5/tutorials/ml-template-data/images/000203 TMBL-ROV 2000 Säcken revet EJ numrerade band_frame_21750.jpg: ignoring corrupt image/label: [Errno 2] No such file or directory: '/Users/jurie.germishuys/Workspace/odf/koster-uw/models/yolov5/tutorials/ml-template-data/images/000203 TMBL-ROV 2000 Säcken revet EJ numrerade band_frame_21750.jpg'\n",
      "\u001b[34m\u001b[1mval: \u001b[0mWARNING: /Users/jurie.germishuys/Workspace/odf/koster-uw/models/yolov5/tutorials/ml-template-data/images/000203 TMBL-ROV 2000 Säcken revet EJ numrerade band_frame_2275.jpg: ignoring corrupt image/label: [Errno 2] No such file or directory: '/Users/jurie.germishuys/Workspace/odf/koster-uw/models/yolov5/tutorials/ml-template-data/images/000203 TMBL-ROV 2000 Säcken revet EJ numrerade band_frame_2275.jpg'\n",
      "\u001b[34m\u001b[1mval: \u001b[0mWARNING: /Users/jurie.germishuys/Workspace/odf/koster-uw/models/yolov5/tutorials/ml-template-data/images/000203 TMBL-ROV 2000 Säcken revet EJ numrerade band_frame_23250.jpg: ignoring corrupt image/label: [Errno 2] No such file or directory: '/Users/jurie.germishuys/Workspace/odf/koster-uw/models/yolov5/tutorials/ml-template-data/images/000203 TMBL-ROV 2000 Säcken revet EJ numrerade band_frame_23250.jpg'\n",
      "\u001b[34m\u001b[1mval: \u001b[0mWARNING: /Users/jurie.germishuys/Workspace/odf/koster-uw/models/yolov5/tutorials/ml-template-data/images/000203 TMBL-ROV 2000 Säcken revet EJ numrerade band_frame_31500.jpg: ignoring corrupt image/label: [Errno 2] No such file or directory: '/Users/jurie.germishuys/Workspace/odf/koster-uw/models/yolov5/tutorials/ml-template-data/images/000203 TMBL-ROV 2000 Säcken revet EJ numrerade band_frame_31500.jpg'\n",
      "\u001b[34m\u001b[1mval: \u001b[0mWARNING: /Users/jurie.germishuys/Workspace/odf/koster-uw/models/yolov5/tutorials/ml-template-data/images/000203 TMBL-ROV 2000 Säcken revet EJ numrerade band_frame_36000.jpg: ignoring corrupt image/label: [Errno 2] No such file or directory: '/Users/jurie.germishuys/Workspace/odf/koster-uw/models/yolov5/tutorials/ml-template-data/images/000203 TMBL-ROV 2000 Säcken revet EJ numrerade band_frame_36000.jpg'\n",
      "\u001b[34m\u001b[1mval: \u001b[0mWARNING: /Users/jurie.germishuys/Workspace/odf/koster-uw/models/yolov5/tutorials/ml-template-data/images/000203 TMBL-ROV 2000 Säcken revet EJ numrerade band_frame_50250.jpg: ignoring corrupt image/label: [Errno 2] No such file or directory: '/Users/jurie.germishuys/Workspace/odf/koster-uw/models/yolov5/tutorials/ml-template-data/images/000203 TMBL-ROV 2000 Säcken revet EJ numrerade band_frame_50250.jpg'\n",
      "\u001b[34m\u001b[1mval: \u001b[0mWARNING: /Users/jurie.germishuys/Workspace/odf/koster-uw/models/yolov5/tutorials/ml-template-data/images/000203 TMBL-ROV 2000 Säcken revet EJ numrerade band_frame_53287.jpg: ignoring corrupt image/label: [Errno 2] No such file or directory: '/Users/jurie.germishuys/Workspace/odf/koster-uw/models/yolov5/tutorials/ml-template-data/images/000203 TMBL-ROV 2000 Säcken revet EJ numrerade band_frame_53287.jpg'\n",
      "\u001b[34m\u001b[1mval: \u001b[0mWARNING: /Users/jurie.germishuys/Workspace/odf/koster-uw/models/yolov5/tutorials/ml-template-data/images/000203 TMBL-ROV 2000 Säcken revet EJ numrerade band_frame_57000.jpg: ignoring corrupt image/label: [Errno 2] No such file or directory: '/Users/jurie.germishuys/Workspace/odf/koster-uw/models/yolov5/tutorials/ml-template-data/images/000203 TMBL-ROV 2000 Säcken revet EJ numrerade band_frame_57000.jpg'\n",
      "\u001b[34m\u001b[1mval: \u001b[0mWARNING: /Users/jurie.germishuys/Workspace/odf/koster-uw/models/yolov5/tutorials/ml-template-data/images/000203 TMBL-ROV 2000 Säcken revet EJ numrerade band_frame_775.jpg: ignoring corrupt image/label: [Errno 2] No such file or directory: '/Users/jurie.germishuys/Workspace/odf/koster-uw/models/yolov5/tutorials/ml-template-data/images/000203 TMBL-ROV 2000 Säcken revet EJ numrerade band_frame_775.jpg'\n",
      "\u001b[34m\u001b[1mval: \u001b[0mWARNING: /Users/jurie.germishuys/Workspace/odf/koster-uw/models/yolov5/tutorials/ml-template-data/images/010424 Säckenrevet alfa Tape 74_frame_11287.jpg: ignoring corrupt image/label: [Errno 2] No such file or directory: '/Users/jurie.germishuys/Workspace/odf/koster-uw/models/yolov5/tutorials/ml-template-data/images/010424 Säckenrevet alfa Tape 74_frame_11287.jpg'\n",
      "\u001b[34m\u001b[1mval: \u001b[0mWARNING: /Users/jurie.germishuys/Workspace/odf/koster-uw/models/yolov5/tutorials/ml-template-data/images/010424 Säckenrevet alfa Tape 74_frame_126775.jpg: ignoring corrupt image/label: [Errno 2] No such file or directory: '/Users/jurie.germishuys/Workspace/odf/koster-uw/models/yolov5/tutorials/ml-template-data/images/010424 Säckenrevet alfa Tape 74_frame_126775.jpg'\n",
      "\u001b[34m\u001b[1mval: \u001b[0mWARNING: /Users/jurie.germishuys/Workspace/odf/koster-uw/models/yolov5/tutorials/ml-template-data/images/010424 Säckenrevet alfa Tape 74_frame_15750.jpg: ignoring corrupt image/label: [Errno 2] No such file or directory: '/Users/jurie.germishuys/Workspace/odf/koster-uw/models/yolov5/tutorials/ml-template-data/images/010424 Säckenrevet alfa Tape 74_frame_15750.jpg'\n",
      "\u001b[34m\u001b[1mval: \u001b[0mWARNING: /Users/jurie.germishuys/Workspace/odf/koster-uw/models/yolov5/tutorials/ml-template-data/images/010424 Säckenrevet alfa Tape 74_frame_37525.jpg: ignoring corrupt image/label: [Errno 2] No such file or directory: '/Users/jurie.germishuys/Workspace/odf/koster-uw/models/yolov5/tutorials/ml-template-data/images/010424 Säckenrevet alfa Tape 74_frame_37525.jpg'\n",
      "\u001b[34m\u001b[1mval: \u001b[0mWARNING: /Users/jurie.germishuys/Workspace/odf/koster-uw/models/yolov5/tutorials/ml-template-data/images/010424 Säckenrevet alfa Tape 74_frame_39775.jpg: ignoring corrupt image/label: [Errno 2] No such file or directory: '/Users/jurie.germishuys/Workspace/odf/koster-uw/models/yolov5/tutorials/ml-template-data/images/010424 Säckenrevet alfa Tape 74_frame_39775.jpg'\n",
      "\u001b[34m\u001b[1mval: \u001b[0mWARNING: /Users/jurie.germishuys/Workspace/odf/koster-uw/models/yolov5/tutorials/ml-template-data/images/010424 Säckenrevet alfa Tape 74_frame_43525.jpg: ignoring corrupt image/label: [Errno 2] No such file or directory: '/Users/jurie.germishuys/Workspace/odf/koster-uw/models/yolov5/tutorials/ml-template-data/images/010424 Säckenrevet alfa Tape 74_frame_43525.jpg'\n",
      "\u001b[34m\u001b[1mval: \u001b[0mWARNING: /Users/jurie.germishuys/Workspace/odf/koster-uw/models/yolov5/tutorials/ml-template-data/images/010424 Säckenrevet alfa Tape 74_frame_59375.jpg: ignoring corrupt image/label: [Errno 2] No such file or directory: '/Users/jurie.germishuys/Workspace/odf/koster-uw/models/yolov5/tutorials/ml-template-data/images/010424 Säckenrevet alfa Tape 74_frame_59375.jpg'\n",
      "\u001b[34m\u001b[1mval: \u001b[0mWARNING: /Users/jurie.germishuys/Workspace/odf/koster-uw/models/yolov5/tutorials/ml-template-data/images/010424 Säckenrevet beta Tape 74_frame_45775.jpg: ignoring corrupt image/label: [Errno 2] No such file or directory: '/Users/jurie.germishuys/Workspace/odf/koster-uw/models/yolov5/tutorials/ml-template-data/images/010424 Säckenrevet beta Tape 74_frame_45775.jpg'\n",
      "\u001b[34m\u001b[1mval: \u001b[0mWARNING: /Users/jurie.germishuys/Workspace/odf/koster-uw/models/yolov5/tutorials/ml-template-data/images/010424 Säckenrevet beta Tape 74_frame_59262.jpg: ignoring corrupt image/label: [Errno 2] No such file or directory: '/Users/jurie.germishuys/Workspace/odf/koster-uw/models/yolov5/tutorials/ml-template-data/images/010424 Säckenrevet beta Tape 74_frame_59262.jpg'\n",
      "\u001b[34m\u001b[1mval: \u001b[0mWARNING: /Users/jurie.germishuys/Workspace/odf/koster-uw/models/yolov5/tutorials/ml-template-data/images/010424 Säckenrevet beta Tape 74_frame_87775.jpg: ignoring corrupt image/label: [Errno 2] No such file or directory: '/Users/jurie.germishuys/Workspace/odf/koster-uw/models/yolov5/tutorials/ml-template-data/images/010424 Säckenrevet beta Tape 74_frame_87775.jpg'\n",
      "\u001b[34m\u001b[1mval: \u001b[0mWARNING: /Users/jurie.germishuys/Workspace/odf/koster-uw/models/yolov5/tutorials/ml-template-data/images/020130 TMBL-ROV 2002 Säcken transekt 1_frame_12775.jpg: ignoring corrupt image/label: [Errno 2] No such file or directory: '/Users/jurie.germishuys/Workspace/odf/koster-uw/models/yolov5/tutorials/ml-template-data/images/020130 TMBL-ROV 2002 Säcken transekt 1_frame_12775.jpg'\n",
      "\u001b[34m\u001b[1mval: \u001b[0mWARNING: /Users/jurie.germishuys/Workspace/odf/koster-uw/models/yolov5/tutorials/ml-template-data/images/020130 TMBL-ROV 2002 Säcken transekt 1_frame_13500.jpg: ignoring corrupt image/label: [Errno 2] No such file or directory: '/Users/jurie.germishuys/Workspace/odf/koster-uw/models/yolov5/tutorials/ml-template-data/images/020130 TMBL-ROV 2002 Säcken transekt 1_frame_13500.jpg'\n",
      "\u001b[34m\u001b[1mval: \u001b[0mWARNING: /Users/jurie.germishuys/Workspace/odf/koster-uw/models/yolov5/tutorials/ml-template-data/images/020628 TMBL-ROV 2002 O Hollanderberget Säcken_frame_112500.jpg: ignoring corrupt image/label: [Errno 2] No such file or directory: '/Users/jurie.germishuys/Workspace/odf/koster-uw/models/yolov5/tutorials/ml-template-data/images/020628 TMBL-ROV 2002 O Hollanderberget Säcken_frame_112500.jpg'\n",
      "\u001b[34m\u001b[1mval: \u001b[0mWARNING: /Users/jurie.germishuys/Workspace/odf/koster-uw/models/yolov5/tutorials/ml-template-data/images/030317-18 TMBL-ROV 2003 Säckenrevet_frame_16500.jpg: ignoring corrupt image/label: [Errno 2] No such file or directory: '/Users/jurie.germishuys/Workspace/odf/koster-uw/models/yolov5/tutorials/ml-template-data/images/030317-18 TMBL-ROV 2003 Säckenrevet_frame_16500.jpg'\n",
      "\u001b[34m\u001b[1mval: \u001b[0mWARNING: /Users/jurie.germishuys/Workspace/odf/koster-uw/models/yolov5/tutorials/ml-template-data/images/030317-18 TMBL-ROV 2003 Säckenrevet_frame_59275.jpg: ignoring corrupt image/label: [Errno 2] No such file or directory: '/Users/jurie.germishuys/Workspace/odf/koster-uw/models/yolov5/tutorials/ml-template-data/images/030317-18 TMBL-ROV 2003 Säckenrevet_frame_59275.jpg'\n",
      "\u001b[34m\u001b[1mval: \u001b[0mWARNING: /Users/jurie.germishuys/Workspace/odf/koster-uw/models/yolov5/tutorials/ml-template-data/images/030317-18 TMBL-ROV 2003 Säckenrevet_frame_60750.jpg: ignoring corrupt image/label: [Errno 2] No such file or directory: '/Users/jurie.germishuys/Workspace/odf/koster-uw/models/yolov5/tutorials/ml-template-data/images/030317-18 TMBL-ROV 2003 Säckenrevet_frame_60750.jpg'\n",
      "\u001b[34m\u001b[1mval: \u001b[0mWARNING: /Users/jurie.germishuys/Workspace/odf/koster-uw/models/yolov5/tutorials/ml-template-data/images/030325 TMBL-ROV 2003 Säckenrevet bioerosion_frame_162750.jpg: ignoring corrupt image/label: [Errno 2] No such file or directory: '/Users/jurie.germishuys/Workspace/odf/koster-uw/models/yolov5/tutorials/ml-template-data/images/030325 TMBL-ROV 2003 Säckenrevet bioerosion_frame_162750.jpg'\n",
      "\u001b[34m\u001b[1mval: \u001b[0mWARNING: /Users/jurie.germishuys/Workspace/odf/koster-uw/models/yolov5/tutorials/ml-template-data/images/030325 TMBL-ROV 2003 Säckenrevet bioerosion_frame_166525.jpg: ignoring corrupt image/label: [Errno 2] No such file or directory: '/Users/jurie.germishuys/Workspace/odf/koster-uw/models/yolov5/tutorials/ml-template-data/images/030325 TMBL-ROV 2003 Säckenrevet bioerosion_frame_166525.jpg'\n",
      "\u001b[34m\u001b[1mval: \u001b[0mWARNING: /Users/jurie.germishuys/Workspace/odf/koster-uw/models/yolov5/tutorials/ml-template-data/images/030325 TMBL-ROV 2003 Säckenrevet bioerosion_frame_69012.jpg: ignoring corrupt image/label: [Errno 2] No such file or directory: '/Users/jurie.germishuys/Workspace/odf/koster-uw/models/yolov5/tutorials/ml-template-data/images/030325 TMBL-ROV 2003 Säckenrevet bioerosion_frame_69012.jpg'\n",
      "\u001b[34m\u001b[1mval: \u001b[0mWARNING: /Users/jurie.germishuys/Workspace/odf/koster-uw/models/yolov5/tutorials/ml-template-data/images/030325 TMBL-ROV 2003 Säckenrevet bioerosion_frame_69037.jpg: ignoring corrupt image/label: [Errno 2] No such file or directory: '/Users/jurie.germishuys/Workspace/odf/koster-uw/models/yolov5/tutorials/ml-template-data/images/030325 TMBL-ROV 2003 Säckenrevet bioerosion_frame_69037.jpg'\n",
      "\u001b[34m\u001b[1mval: \u001b[0mWARNING: /Users/jurie.germishuys/Workspace/odf/koster-uw/models/yolov5/tutorials/ml-template-data/images/030325 TMBL-ROV 2003 Säckenrevet bioerosion_frame_73525.jpg: ignoring corrupt image/label: [Errno 2] No such file or directory: '/Users/jurie.germishuys/Workspace/odf/koster-uw/models/yolov5/tutorials/ml-template-data/images/030325 TMBL-ROV 2003 Säckenrevet bioerosion_frame_73525.jpg'\n",
      "\u001b[34m\u001b[1mval: \u001b[0mWARNING: /Users/jurie.germishuys/Workspace/odf/koster-uw/models/yolov5/tutorials/ml-template-data/images/030325 TMBL-ROV 2003 Säckenrevet bioerosion_frame_74275.jpg: ignoring corrupt image/label: [Errno 2] No such file or directory: '/Users/jurie.germishuys/Workspace/odf/koster-uw/models/yolov5/tutorials/ml-template-data/images/030325 TMBL-ROV 2003 Säckenrevet bioerosion_frame_74275.jpg'\n",
      "\u001b[34m\u001b[1mval: \u001b[0mWARNING: /Users/jurie.germishuys/Workspace/odf/koster-uw/models/yolov5/tutorials/ml-template-data/images/040220 TMBL-ROV 2004 Säckenrevet alfa_frame_63750.jpg: ignoring corrupt image/label: [Errno 2] No such file or directory: '/Users/jurie.germishuys/Workspace/odf/koster-uw/models/yolov5/tutorials/ml-template-data/images/040220 TMBL-ROV 2004 Säckenrevet alfa_frame_63750.jpg'\n",
      "\u001b[34m\u001b[1mval: \u001b[0mWARNING: /Users/jurie.germishuys/Workspace/odf/koster-uw/models/yolov5/tutorials/ml-template-data/images/040220 TMBL-ROV 2004 Säckenrevet alfa_frame_94525.jpg: ignoring corrupt image/label: [Errno 2] No such file or directory: '/Users/jurie.germishuys/Workspace/odf/koster-uw/models/yolov5/tutorials/ml-template-data/images/040220 TMBL-ROV 2004 Säckenrevet alfa_frame_94525.jpg'\n",
      "\u001b[34m\u001b[1mval: \u001b[0mWARNING: /Users/jurie.germishuys/Workspace/odf/koster-uw/models/yolov5/tutorials/ml-template-data/images/040522 TMBL-ROV 2004 Säckenrevet_frame_101250.jpg: ignoring corrupt image/label: [Errno 2] No such file or directory: '/Users/jurie.germishuys/Workspace/odf/koster-uw/models/yolov5/tutorials/ml-template-data/images/040522 TMBL-ROV 2004 Säckenrevet_frame_101250.jpg'\n",
      "\u001b[34m\u001b[1mval: \u001b[0mWARNING: /Users/jurie.germishuys/Workspace/odf/koster-uw/models/yolov5/tutorials/ml-template-data/images/040522 TMBL-ROV 2004 Säckenrevet_frame_18750.jpg: ignoring corrupt image/label: [Errno 2] No such file or directory: '/Users/jurie.germishuys/Workspace/odf/koster-uw/models/yolov5/tutorials/ml-template-data/images/040522 TMBL-ROV 2004 Säckenrevet_frame_18750.jpg'\n",
      "\u001b[34m\u001b[1mval: \u001b[0mWARNING: /Users/jurie.germishuys/Workspace/odf/koster-uw/models/yolov5/tutorials/ml-template-data/images/040522 TMBL-ROV 2004 Säckenrevet_frame_4500.jpg: ignoring corrupt image/label: [Errno 2] No such file or directory: '/Users/jurie.germishuys/Workspace/odf/koster-uw/models/yolov5/tutorials/ml-template-data/images/040522 TMBL-ROV 2004 Säckenrevet_frame_4500.jpg'\n",
      "\u001b[34m\u001b[1mval: \u001b[0mWARNING: /Users/jurie.germishuys/Workspace/odf/koster-uw/models/yolov5/tutorials/ml-template-data/images/040522 TMBL-ROV 2004 Säckenrevet_frame_60750.jpg: ignoring corrupt image/label: [Errno 2] No such file or directory: '/Users/jurie.germishuys/Workspace/odf/koster-uw/models/yolov5/tutorials/ml-template-data/images/040522 TMBL-ROV 2004 Säckenrevet_frame_60750.jpg'\n",
      "\u001b[34m\u001b[1mval: \u001b[0mWARNING: /Users/jurie.germishuys/Workspace/odf/koster-uw/models/yolov5/tutorials/ml-template-data/images/040522 TMBL-ROV 2004 Säckenrevet_frame_60775.jpg: ignoring corrupt image/label: [Errno 2] No such file or directory: '/Users/jurie.germishuys/Workspace/odf/koster-uw/models/yolov5/tutorials/ml-template-data/images/040522 TMBL-ROV 2004 Säckenrevet_frame_60775.jpg'\n",
      "\u001b[34m\u001b[1mval: \u001b[0mWARNING: /Users/jurie.germishuys/Workspace/odf/koster-uw/models/yolov5/tutorials/ml-template-data/images/040522 TMBL-ROV 2004 Säckenrevet_frame_61500.jpg: ignoring corrupt image/label: [Errno 2] No such file or directory: '/Users/jurie.germishuys/Workspace/odf/koster-uw/models/yolov5/tutorials/ml-template-data/images/040522 TMBL-ROV 2004 Säckenrevet_frame_61500.jpg'\n",
      "\u001b[34m\u001b[1mval: \u001b[0mWARNING: /Users/jurie.germishuys/Workspace/odf/koster-uw/models/yolov5/tutorials/ml-template-data/images/990506 TMBL-ROV 1999 Revet Säcken 2 Tape 42_frame_11275.jpg: ignoring corrupt image/label: [Errno 2] No such file or directory: '/Users/jurie.germishuys/Workspace/odf/koster-uw/models/yolov5/tutorials/ml-template-data/images/990506 TMBL-ROV 1999 Revet Säcken 2 Tape 42_frame_11275.jpg'\n",
      "\u001b[34m\u001b[1mval: \u001b[0mWARNING: /Users/jurie.germishuys/Workspace/odf/koster-uw/models/yolov5/tutorials/ml-template-data/images/990506 TMBL-ROV 1999 Revet Säcken 2 Tape 42_frame_141075.jpg: ignoring corrupt image/label: [Errno 2] No such file or directory: '/Users/jurie.germishuys/Workspace/odf/koster-uw/models/yolov5/tutorials/ml-template-data/images/990506 TMBL-ROV 1999 Revet Säcken 2 Tape 42_frame_141075.jpg'\n",
      "\u001b[34m\u001b[1mval: \u001b[0mWARNING: /Users/jurie.germishuys/Workspace/odf/koster-uw/models/yolov5/tutorials/ml-template-data/images/990506 TMBL-ROV 1999 Revet Säcken 2 Tape 42_frame_150000.jpg: ignoring corrupt image/label: [Errno 2] No such file or directory: '/Users/jurie.germishuys/Workspace/odf/koster-uw/models/yolov5/tutorials/ml-template-data/images/990506 TMBL-ROV 1999 Revet Säcken 2 Tape 42_frame_150000.jpg'\n",
      "\u001b[34m\u001b[1mval: \u001b[0mWARNING: /Users/jurie.germishuys/Workspace/odf/koster-uw/models/yolov5/tutorials/ml-template-data/images/990506 TMBL-ROV 1999 Revet Säcken 2 Tape 42_frame_21900.jpg: ignoring corrupt image/label: [Errno 2] No such file or directory: '/Users/jurie.germishuys/Workspace/odf/koster-uw/models/yolov5/tutorials/ml-template-data/images/990506 TMBL-ROV 1999 Revet Säcken 2 Tape 42_frame_21900.jpg'\n",
      "\u001b[34m\u001b[1mval: \u001b[0mWARNING: /Users/jurie.germishuys/Workspace/odf/koster-uw/models/yolov5/tutorials/ml-template-data/images/990506 TMBL-ROV 1999 Revet Säcken 2 Tape 42_frame_30025.jpg: ignoring corrupt image/label: [Errno 2] No such file or directory: '/Users/jurie.germishuys/Workspace/odf/koster-uw/models/yolov5/tutorials/ml-template-data/images/990506 TMBL-ROV 1999 Revet Säcken 2 Tape 42_frame_30025.jpg'\n",
      "\u001b[34m\u001b[1mval: \u001b[0mWARNING: /Users/jurie.germishuys/Workspace/odf/koster-uw/models/yolov5/tutorials/ml-template-data/images/990506 TMBL-ROV 1999 Revet Säcken 2 Tape 42_frame_32275.jpg: ignoring corrupt image/label: [Errno 2] No such file or directory: '/Users/jurie.germishuys/Workspace/odf/koster-uw/models/yolov5/tutorials/ml-template-data/images/990506 TMBL-ROV 1999 Revet Säcken 2 Tape 42_frame_32275.jpg'\n",
      "\u001b[34m\u001b[1mval: \u001b[0mWARNING: /Users/jurie.germishuys/Workspace/odf/koster-uw/models/yolov5/tutorials/ml-template-data/images/990506 TMBL-ROV 1999 Revet Säcken 2 Tape 42_frame_6000.jpg: ignoring corrupt image/label: [Errno 2] No such file or directory: '/Users/jurie.germishuys/Workspace/odf/koster-uw/models/yolov5/tutorials/ml-template-data/images/990506 TMBL-ROV 1999 Revet Säcken 2 Tape 42_frame_6000.jpg'\n",
      "\u001b[34m\u001b[1mval: \u001b[0mWARNING: /Users/jurie.germishuys/Workspace/odf/koster-uw/models/yolov5/tutorials/ml-template-data/images/990506 TMBL-ROV 1999 Revet Säcken Tape 42_SELECTWS_frame_33187.jpg: ignoring corrupt image/label: [Errno 2] No such file or directory: '/Users/jurie.germishuys/Workspace/odf/koster-uw/models/yolov5/tutorials/ml-template-data/images/990506 TMBL-ROV 1999 Revet Säcken Tape 42_SELECTWS_frame_33187.jpg'\n",
      "\u001b[34m\u001b[1mval: \u001b[0mWARNING: /Users/jurie.germishuys/Workspace/odf/koster-uw/models/yolov5/tutorials/ml-template-data/images/990506 TMBL-ROV 1999 Revet Säcken Tape 42_SELECTWS_frame_800.jpg: ignoring corrupt image/label: [Errno 2] No such file or directory: '/Users/jurie.germishuys/Workspace/odf/koster-uw/models/yolov5/tutorials/ml-template-data/images/990506 TMBL-ROV 1999 Revet Säcken Tape 42_SELECTWS_frame_800.jpg'\n",
      "\n",
      "\u001b[34m\u001b[1mAutoAnchor: \u001b[0m5.00 anchors/target, 1.000 Best Possible Recall (BPR). Current anchors are a good fit to dataset ✅\n",
      "Plotting labels to /Users/jurie.germishuys/Workspace/odf/koster-uw/models/yolov5/tutorials/ml-template-data/template project/exp_name6/labels.jpg... \n",
      "Image sizes 640 train, 640 val\n",
      "Using 0 dataloader workers\n",
      "Logging results to \u001b[1m/Users/jurie.germishuys/Workspace/odf/koster-uw/models/yolov5/tutorials/ml-template-data/template project/exp_name6\u001b[0m\n",
      "Starting training for 1 epochs...\n",
      "\n",
      "      Epoch    GPU_mem   box_loss   obj_loss   cls_loss  Instances       Size\n",
      "        0/0         0G     0.0723    0.03281          0          2        640: 100%|██████████| 1/1 00:16\n"
     ]
    },
    {
     "ename": "TypeError",
     "evalue": "run() got an unexpected keyword argument 'batch_size'",
     "output_type": "error",
     "traceback": [
      "\u001b[0;31m---------------------------------------------------------------------------\u001b[0m",
      "\u001b[0;31mTypeError\u001b[0m                                 Traceback (most recent call last)",
      "Cell \u001b[0;32mIn [15], line 2\u001b[0m\n\u001b[1;32m      1\u001b[0m \u001b[38;5;66;03m# Feel free to play around with the img_size parameter, which should work well by default.\u001b[39;00m\n\u001b[0;32m----> 2\u001b[0m \u001b[43mtrain\u001b[49m\u001b[38;5;241;43m.\u001b[39;49m\u001b[43mrun\u001b[49m\u001b[43m(\u001b[49m\n\u001b[1;32m      3\u001b[0m \u001b[43m    \u001b[49m\u001b[43mentity\u001b[49m\u001b[38;5;241;43m=\u001b[39;49m\u001b[38;5;124;43m\"\u001b[39;49m\u001b[38;5;124;43mkoster\u001b[39;49m\u001b[38;5;124;43m\"\u001b[39;49m\u001b[43m,\u001b[49m\n\u001b[1;32m      4\u001b[0m \u001b[43m    \u001b[49m\u001b[43mdata\u001b[49m\u001b[38;5;241;43m=\u001b[39;49m\u001b[43mdata_path\u001b[49m\u001b[43m,\u001b[49m\n\u001b[1;32m      5\u001b[0m \u001b[43m    \u001b[49m\u001b[43mhyp\u001b[49m\u001b[38;5;241;43m=\u001b[39;49m\u001b[43mhyps_path\u001b[49m\u001b[43m,\u001b[49m\n\u001b[1;32m      6\u001b[0m \u001b[43m    \u001b[49m\u001b[43mweights\u001b[49m\u001b[38;5;241;43m=\u001b[39;49m\u001b[43mweights\u001b[49m\u001b[38;5;241;43m.\u001b[39;49m\u001b[43martifact_path\u001b[49m\u001b[43m,\u001b[49m\n\u001b[1;32m      7\u001b[0m \u001b[43m    \u001b[49m\u001b[43mproject\u001b[49m\u001b[38;5;241;43m=\u001b[39;49m\u001b[43mproject_path\u001b[49m\u001b[43m,\u001b[49m\n\u001b[1;32m      8\u001b[0m \u001b[43m    \u001b[49m\u001b[43mname\u001b[49m\u001b[38;5;241;43m=\u001b[39;49m\u001b[43mexp_name\u001b[49m\u001b[38;5;241;43m.\u001b[39;49m\u001b[43mvalue\u001b[49m\u001b[43m,\u001b[49m\n\u001b[1;32m      9\u001b[0m \u001b[43m    \u001b[49m\u001b[43mimg_size\u001b[49m\u001b[38;5;241;43m=\u001b[39;49m\u001b[43m[\u001b[49m\u001b[38;5;241;43m720\u001b[39;49m\u001b[43m,\u001b[49m\u001b[43m \u001b[49m\u001b[38;5;241;43m540\u001b[39;49m\u001b[43m]\u001b[49m\u001b[43m,\u001b[49m\n\u001b[1;32m     10\u001b[0m \u001b[43m    \u001b[49m\u001b[43mbatch_size\u001b[49m\u001b[38;5;241;43m=\u001b[39;49m\u001b[38;5;28;43mint\u001b[39;49m\u001b[43m(\u001b[49m\u001b[43mbatch_size\u001b[49m\u001b[38;5;241;43m.\u001b[39;49m\u001b[43mvalue\u001b[49m\u001b[43m)\u001b[49m\u001b[43m,\u001b[49m\n\u001b[1;32m     11\u001b[0m \u001b[43m    \u001b[49m\u001b[43mepochs\u001b[49m\u001b[38;5;241;43m=\u001b[39;49m\u001b[43mepochs\u001b[49m\u001b[38;5;241;43m.\u001b[39;49m\u001b[43mvalue\u001b[49m\u001b[43m,\u001b[49m\n\u001b[1;32m     12\u001b[0m \u001b[43m    \u001b[49m\u001b[43mworkers\u001b[49m\u001b[38;5;241;43m=\u001b[39;49m\u001b[38;5;241;43m1\u001b[39;49m\u001b[43m,\u001b[49m\n\u001b[1;32m     13\u001b[0m \u001b[43m    \u001b[49m\u001b[43msingle_cls\u001b[49m\u001b[38;5;241;43m=\u001b[39;49m\u001b[38;5;28;43;01mFalse\u001b[39;49;00m\u001b[43m,\u001b[49m\n\u001b[1;32m     14\u001b[0m \u001b[43m    \u001b[49m\u001b[43mcache_images\u001b[49m\u001b[38;5;241;43m=\u001b[39;49m\u001b[38;5;28;43;01mTrue\u001b[39;49;00m\u001b[43m,\u001b[49m\n\u001b[1;32m     15\u001b[0m \u001b[43m)\u001b[49m\n",
      "File \u001b[0;32m~/Workspace/odf/koster-uw/models/yolov5/yolov5/train.py:627\u001b[0m, in \u001b[0;36mrun\u001b[0;34m(**kwargs)\u001b[0m\n\u001b[1;32m    625\u001b[0m \u001b[39mfor\u001b[39;00m k, v \u001b[39min\u001b[39;00m kwargs\u001b[39m.\u001b[39mitems():\n\u001b[1;32m    626\u001b[0m     \u001b[39msetattr\u001b[39m(opt, k, v)\n\u001b[0;32m--> 627\u001b[0m main(opt)\n\u001b[1;32m    628\u001b[0m \u001b[39mreturn\u001b[39;00m opt\n",
      "File \u001b[0;32m~/Workspace/odf/koster-uw/models/yolov5/yolov5/train.py:527\u001b[0m, in \u001b[0;36mmain\u001b[0;34m(opt, callbacks)\u001b[0m\n\u001b[1;32m    525\u001b[0m \u001b[39m# Train\u001b[39;00m\n\u001b[1;32m    526\u001b[0m \u001b[39mif\u001b[39;00m \u001b[39mnot\u001b[39;00m opt\u001b[39m.\u001b[39mevolve:\n\u001b[0;32m--> 527\u001b[0m     train(opt\u001b[39m.\u001b[39;49mhyp, opt, device, callbacks)\n\u001b[1;32m    529\u001b[0m \u001b[39m# Evolve hyperparameters (optional)\u001b[39;00m\n\u001b[1;32m    530\u001b[0m \u001b[39melse\u001b[39;00m:\n\u001b[1;32m    531\u001b[0m     \u001b[39m# Hyperparameter evolution metadata (mutation scale 0-1, lower_limit, upper_limit)\u001b[39;00m\n\u001b[1;32m    532\u001b[0m     meta \u001b[39m=\u001b[39m {\n\u001b[1;32m    533\u001b[0m         \u001b[39m'\u001b[39m\u001b[39mlr0\u001b[39m\u001b[39m'\u001b[39m: (\u001b[39m1\u001b[39m, \u001b[39m1e-5\u001b[39m, \u001b[39m1e-1\u001b[39m),  \u001b[39m# initial learning rate (SGD=1E-2, Adam=1E-3)\u001b[39;00m\n\u001b[1;32m    534\u001b[0m         \u001b[39m'\u001b[39m\u001b[39mlrf\u001b[39m\u001b[39m'\u001b[39m: (\u001b[39m1\u001b[39m, \u001b[39m0.01\u001b[39m, \u001b[39m1.0\u001b[39m),  \u001b[39m# final OneCycleLR learning rate (lr0 * lrf)\u001b[39;00m\n\u001b[0;32m   (...)\u001b[0m\n\u001b[1;32m    560\u001b[0m         \u001b[39m'\u001b[39m\u001b[39mmixup\u001b[39m\u001b[39m'\u001b[39m: (\u001b[39m1\u001b[39m, \u001b[39m0.0\u001b[39m, \u001b[39m1.0\u001b[39m),  \u001b[39m# image mixup (probability)\u001b[39;00m\n\u001b[1;32m    561\u001b[0m         \u001b[39m'\u001b[39m\u001b[39mcopy_paste\u001b[39m\u001b[39m'\u001b[39m: (\u001b[39m1\u001b[39m, \u001b[39m0.0\u001b[39m, \u001b[39m1.0\u001b[39m)}  \u001b[39m# segment copy-paste (probability)\u001b[39;00m\n",
      "File \u001b[0;32m~/Workspace/odf/koster-uw/models/yolov5/yolov5/train.py:350\u001b[0m, in \u001b[0;36mtrain\u001b[0;34m(hyp, opt, device, callbacks)\u001b[0m\n\u001b[1;32m    348\u001b[0m final_epoch \u001b[39m=\u001b[39m (epoch \u001b[39m+\u001b[39m \u001b[39m1\u001b[39m \u001b[39m==\u001b[39m epochs) \u001b[39mor\u001b[39;00m stopper\u001b[39m.\u001b[39mpossible_stop\n\u001b[1;32m    349\u001b[0m \u001b[39mif\u001b[39;00m \u001b[39mnot\u001b[39;00m noval \u001b[39mor\u001b[39;00m final_epoch:  \u001b[39m# Calculate mAP\u001b[39;00m\n\u001b[0;32m--> 350\u001b[0m     results, maps, _ \u001b[39m=\u001b[39m validate\u001b[39m.\u001b[39;49mrun(data_dict,\n\u001b[1;32m    351\u001b[0m                                     batch_size\u001b[39m=\u001b[39;49mbatch_size \u001b[39m/\u001b[39;49m\u001b[39m/\u001b[39;49m WORLD_SIZE \u001b[39m*\u001b[39;49m \u001b[39m2\u001b[39;49m,\n\u001b[1;32m    352\u001b[0m                                     imgsz\u001b[39m=\u001b[39;49mimgsz,\n\u001b[1;32m    353\u001b[0m                                     half\u001b[39m=\u001b[39;49mamp,\n\u001b[1;32m    354\u001b[0m                                     model\u001b[39m=\u001b[39;49mema\u001b[39m.\u001b[39;49mema,\n\u001b[1;32m    355\u001b[0m                                     single_cls\u001b[39m=\u001b[39;49msingle_cls,\n\u001b[1;32m    356\u001b[0m                                     dataloader\u001b[39m=\u001b[39;49mval_loader,\n\u001b[1;32m    357\u001b[0m                                     save_dir\u001b[39m=\u001b[39;49msave_dir,\n\u001b[1;32m    358\u001b[0m                                     plots\u001b[39m=\u001b[39;49m\u001b[39mFalse\u001b[39;49;00m,\n\u001b[1;32m    359\u001b[0m                                     callbacks\u001b[39m=\u001b[39;49mcallbacks,\n\u001b[1;32m    360\u001b[0m                                     compute_loss\u001b[39m=\u001b[39;49mcompute_loss)\n\u001b[1;32m    362\u001b[0m \u001b[39m# Update best mAP\u001b[39;00m\n\u001b[1;32m    363\u001b[0m fi \u001b[39m=\u001b[39m fitness(np\u001b[39m.\u001b[39marray(results)\u001b[39m.\u001b[39mreshape(\u001b[39m1\u001b[39m, \u001b[39m-\u001b[39m\u001b[39m1\u001b[39m))  \u001b[39m# weighted combination of [P, R, mAP@.5, mAP@.5-.95]\u001b[39;00m\n",
      "File \u001b[0;32m~/miniforge_x86_64/envs/odf/lib/python3.8/site-packages/torch/autograd/grad_mode.py:27\u001b[0m, in \u001b[0;36m_DecoratorContextManager.__call__.<locals>.decorate_context\u001b[0;34m(*args, **kwargs)\u001b[0m\n\u001b[1;32m     24\u001b[0m \u001b[39m@functools\u001b[39m\u001b[39m.\u001b[39mwraps(func)\n\u001b[1;32m     25\u001b[0m \u001b[39mdef\u001b[39;00m \u001b[39mdecorate_context\u001b[39m(\u001b[39m*\u001b[39margs, \u001b[39m*\u001b[39m\u001b[39m*\u001b[39mkwargs):\n\u001b[1;32m     26\u001b[0m     \u001b[39mwith\u001b[39;00m \u001b[39mself\u001b[39m\u001b[39m.\u001b[39m\u001b[39m__class__\u001b[39m():\n\u001b[0;32m---> 27\u001b[0m         \u001b[39mreturn\u001b[39;00m func(\u001b[39m*\u001b[39;49margs, \u001b[39m*\u001b[39;49m\u001b[39m*\u001b[39;49mkwargs)\n",
      "\u001b[0;31mTypeError\u001b[0m: run() got an unexpected keyword argument 'batch_size'"
     ]
    }
   ],
   "source": [
    "# Feel free to play around with the img_size parameter, which should work well by default.\n",
    "train.run(\n",
    "    entity=\"koster\",\n",
    "    data=data_path,\n",
    "    hyp=hyps_path,\n",
    "    weights=weights.artifact_path,\n",
    "    project=project_path,\n",
    "    name=exp_name.value,\n",
    "    img_size=[720, 540],\n",
    "    batch_size=int(batch_size.value),\n",
    "    epochs=epochs.value,\n",
    "    workers=1,\n",
    "    single_cls=False,\n",
    "    cache_images=True,\n",
    ")"
   ]
  },
  {
   "cell_type": "markdown",
   "metadata": {
    "id": "PRXru5arzfGw"
   },
   "source": [
    "# 3. Evaluate model performance"
   ]
  },
  {
   "cell_type": "code",
   "execution_count": null,
   "metadata": {
    "id": "Erw0xEw3zfGw"
   },
   "outputs": [],
   "source": [
    "# Choose model\n",
    "eval_model = FileChooser(project_path)\n",
    "display(eval_model)"
   ]
  },
  {
   "cell_type": "code",
   "execution_count": null,
   "metadata": {
    "id": "Fdr9K3nHzfGw"
   },
   "outputs": [],
   "source": [
    "# Find trained model weights\n",
    "tuned_weights = f\"{Path(project_path, eval_model.selected, 'weights', 'best.pt')}\""
   ]
  },
  {
   "cell_type": "code",
   "execution_count": null,
   "metadata": {
    "id": "_Dx9tD3bzfGx"
   },
   "outputs": [],
   "source": [
    "# Evaluate YOLO Model on Unseen Test data\n",
    "val.run(\n",
    "    data=data_path,\n",
    "    weights=tuned_weights,\n",
    "    conf_thres=conf_thres.value,\n",
    "    imgsz=640,\n",
    "    half=False,\n",
    ")"
   ]
  },
  {
   "cell_type": "markdown",
   "metadata": {
    "id": "5VGC_NMazfGx"
   },
   "source": [
    "# (Optional) : 4. Enhance annotations using trained model"
   ]
  },
  {
   "cell_type": "markdown",
   "metadata": {},
   "source": [
    "Enhancement uses the trained model to increase the amount of annotations in the training data. This should only be done in cases where it is absolutely necessary as bad predictions lead to worse predictions when used to train the next iteration of the model. \n",
    "\n",
    "\n",
    "🔴 <span style=\"color:red\">&nbsp;NOTE: We recommend using a relatively high confidence threshold when enhancing trained models as low confidence predictions could significantly impact the quality of your annotated data.  </span>"
   ]
  },
  {
   "cell_type": "code",
   "execution_count": null,
   "metadata": {
    "id": "M7kV7K2EzfGx"
   },
   "outputs": [],
   "source": [
    "detect.run(\n",
    "    weights=tuned_weights,\n",
    "    source=output_folder.selected + \"/images\",\n",
    "    imgsz=[640, 640],\n",
    "    conf_thres=0.02,\n",
    "    save_txt=True,\n",
    ")"
   ]
  },
  {
   "cell_type": "markdown",
   "metadata": {},
   "source": [
    "### Choose run to use as enhanced annotations"
   ]
  },
  {
   "cell_type": "code",
   "execution_count": null,
   "metadata": {
    "id": "67uHzz1TzfGx"
   },
   "outputs": [],
   "source": [
    "runs = FileChooser(\".\")\n",
    "display(runs)"
   ]
  },
  {
   "cell_type": "code",
   "execution_count": null,
   "metadata": {
    "id": "h-sCJ8FZzfGx"
   },
   "outputs": [],
   "source": [
    "!mv {output_folder}\"/labels\" {output_folder}\"/labels_org\"\n",
    "!mv {runs.selected}\"/labels\" {output_folder}\"/labels\""
   ]
  },
  {
   "cell_type": "markdown",
   "metadata": {},
   "source": [
    "#### Once you have moved the new labels to the original label location, you can return to Step 2 and train your model again. "
   ]
  },
  {
   "cell_type": "code",
   "execution_count": null,
   "metadata": {
    "id": "8umCRoDozfGx"
   },
   "outputs": [],
   "source": [
    "# END"
   ]
  }
 ],
 "metadata": {
  "colab": {
   "authorship_tag": "ABX9TyOpvN5FDAqS18FP36kGBtHm",
   "collapsed_sections": [],
   "name": "Train_YOLO_models.ipynb",
   "provenance": []
  },
  "kernelspec": {
   "display_name": "Python 3.8.8 ('odf')",
   "language": "python",
   "name": "python3"
  },
  "language_info": {
   "codemirror_mode": {
    "name": "ipython",
    "version": 3
   },
   "file_extension": ".py",
   "mimetype": "text/x-python",
   "name": "python",
   "nbconvert_exporter": "python",
   "pygments_lexer": "ipython3",
   "version": "3.8.8"
  },
  "vscode": {
   "interpreter": {
    "hash": "9f0064b85a3bc365415745ead9abb78ac240c43fe3a2a9861333bea64f4ce941"
   }
  }
 },
 "nbformat": 4,
 "nbformat_minor": 0
}
