{
 "cells": [
  {
   "cell_type": "markdown",
   "metadata": {},
   "source": [
    "<img align=\"left\" src=\"https://panoptes-uploads.zooniverse.org/project_avatar/86c23ca7-bbaa-4e84-8d8a-876819551431.png\" type=\"image/png\" height=100 width=100>\n",
    "</img>\n",
    "<h1 align=\"right\">KSO Tutorials #6: Train machine learning models</h1>\n",
    "<h3 align=\"right\">Written by @jannesgg and @vykanton</h3>\n",
    "<h5 align=\"right\">Last updated: Nov 3rd, 2021</h5>"
   ]
  },
  {
   "cell_type": "markdown",
   "metadata": {},
   "source": [
    "# Set up and requirements"
   ]
  },
  {
   "cell_type": "markdown",
   "metadata": {},
   "source": [
    "### Import Python packages"
   ]
  },
  {
   "cell_type": "code",
   "execution_count": null,
   "metadata": {},
   "outputs": [],
   "source": [
    "# Set the directory of the libraries\n",
    "import sys\n",
    "from pathlib import Path\n",
    "sys.path.append('..')\n",
    "\n",
    "# Set to display dataframes as interactive tables\n",
    "from itables import init_notebook_mode\n",
    "init_notebook_mode(all_interactive=True)\n",
    "from ipyfilechooser import FileChooser\n",
    "\n",
    "# Import required modules\n",
    "import tutorial_utils.t6_utils as t6\n",
    "import tutorial_utils.t12_utils as t12\n",
    "from tutorial_utils.zooniverse_utils import retrieve_zoo_info, populate_subjects, populate_agg_annotations\n",
    "import getpass\n",
    "\n",
    "print(\"Packages loaded successfully\")"
   ]
  },
  {
   "cell_type": "markdown",
   "metadata": {},
   "source": [
    "### Choose a project"
   ]
  },
  {
   "cell_type": "code",
   "execution_count": null,
   "metadata": {},
   "outputs": [],
   "source": [
    "project = t12.choose_project()"
   ]
  },
  {
   "cell_type": "markdown",
   "metadata": {},
   "source": [
    "### Initiate SQL database and populate sites, movies and species"
   ]
  },
  {
   "cell_type": "code",
   "execution_count": null,
   "metadata": {},
   "outputs": [],
   "source": [
    "# Specify the path of the movies \n",
    "movies_path = \"/cephyr/NOBACKUP/groups/snic2021-6-9/movies/\"\n",
    "\n",
    "# Specify the path of the sql database\n",
    "db_path = \"koster_lab.db\"\n",
    "\n",
    "# Initiate the SQL database \n",
    "%run -i \"../db_starter/starter.py\" --movies_path $movies_path --db_path $db_path\n",
    "\n",
    "# Default weights path\n",
    "weights = \"/usr/src/app/data_dir/weights/yolov5m.pt\""
   ]
  },
  {
   "cell_type": "markdown",
   "metadata": {},
   "source": [
    "### Retrieve Zooniverse information"
   ]
  },
  {
   "cell_type": "code",
   "execution_count": null,
   "metadata": {},
   "outputs": [],
   "source": [
    "# Save your user name, password and Zooniverse project number.\n",
    "zoo_user = getpass.getpass('Enter your Zooniverse user')\n",
    "zoo_pass = getpass.getpass('Enter your Zooniverse password')"
   ]
  },
  {
   "cell_type": "code",
   "execution_count": null,
   "metadata": {},
   "outputs": [],
   "source": [
    "# Specify the Zooniverse information required throughout the tutorial\n",
    "zoo_info = [\"subjects\", \"workflows\", \"classifications\"]\n",
    "\n",
    "# Retrieve and store the Zooniverse information required throughout the tutorial in a dictionary\n",
    "zoo_info_dict = retrieve_zoo_info(zoo_user, zoo_pass, project.value, zoo_info)"
   ]
  },
  {
   "cell_type": "code",
   "execution_count": null,
   "metadata": {},
   "outputs": [],
   "source": [
    "# Populate the sql with subjects already uploaded to Zooniverse\n",
    "populate_subjects(zoo_info_dict[1][\"subjects\"], project.value, db_path)"
   ]
  },
  {
   "cell_type": "markdown",
   "metadata": {},
   "source": [
    "### Specify Zooniverse parameters for frame aggregation"
   ]
  },
  {
   "cell_type": "code",
   "execution_count": null,
   "metadata": {},
   "outputs": [],
   "source": [
    "# Display a selectable list of workflow names and a list of versions of the workflow of interest\n",
    "workflows_df = zoo_info_dict[1][\"workflows\"]\n",
    "workflow_name, subj_type = t12.choose_workflows(workflows_df)\n",
    "workflow_version = t12.choose_w_version(workflows_df, workflow_name.value)"
   ]
  },
  {
   "cell_type": "code",
   "execution_count": null,
   "metadata": {},
   "outputs": [],
   "source": [
    "# Selects the workflow id based on the workflow name\n",
    "workflow_id = workflows_df[workflows_df.display_name==workflow_name.value].workflow_id.unique()[0]\n",
    "\n",
    "# Retrieve classifications from the workflow of interest\n",
    "class_df = t12.get_classifications(workflow_id,\n",
    "                                             workflow_version.value, \n",
    "                                             'frame', \n",
    "                                             zoo_info_dict[1][\"classifications\"], \n",
    "                                             db_path)"
   ]
  },
  {
   "cell_type": "code",
   "execution_count": null,
   "metadata": {},
   "outputs": [],
   "source": [
    "# Specify the agreement threshold required among cit scientists\n",
    "agg_params = t12.choose_agg_parameters(subj_type.value)"
   ]
  },
  {
   "cell_type": "code",
   "execution_count": null,
   "metadata": {},
   "outputs": [],
   "source": [
    "agg_class_df, raw_class_df = t12.aggregrate_classifications(\n",
    "                                    class_df, 'frame', project.value, agg_params)"
   ]
  },
  {
   "cell_type": "code",
   "execution_count": null,
   "metadata": {},
   "outputs": [],
   "source": [
    "# Add annotations to db\n",
    "populate_agg_annotations(agg_class_df, 'frame', db_path)"
   ]
  },
  {
   "cell_type": "markdown",
   "metadata": {},
   "source": [
    "### Step 0: Specify important paths and training parameters"
   ]
  },
  {
   "cell_type": "code",
   "execution_count": null,
   "metadata": {},
   "outputs": [],
   "source": [
    "# Specify output path where processed data will be stored\n",
    "fc = FileChooser('.')\n",
    "display(fc)"
   ]
  },
  {
   "cell_type": "code",
   "execution_count": null,
   "metadata": {},
   "outputs": [],
   "source": [
    "# Store selected output path\n",
    "output_folder = fc.selected"
   ]
  },
  {
   "cell_type": "code",
   "execution_count": null,
   "metadata": {},
   "outputs": [],
   "source": [
    "# Choose species of interest for model training\n",
    "class_list = t6.choose_classes(db_path)"
   ]
  },
  {
   "cell_type": "code",
   "execution_count": null,
   "metadata": {},
   "outputs": [],
   "source": [
    "# Store selected classes of interest\n",
    "cl = list(class_list.value)"
   ]
  },
  {
   "cell_type": "code",
   "execution_count": null,
   "metadata": {},
   "outputs": [],
   "source": [
    "# Determine your training parameters\n",
    "percentage_test, batch_size, epochs, conf_thres = t6.choose_test_prop()"
   ]
  },
  {
   "cell_type": "markdown",
   "metadata": {},
   "source": [
    "### Step 1: Prepare the aggregated data"
   ]
  },
  {
   "cell_type": "code",
   "execution_count": null,
   "metadata": {},
   "outputs": [],
   "source": [
    "# Run the preparation script\n",
    "%run -i \"../src/prepare_zooniverse.py\" -o $output_folder -db $db_path -m $movies_path -pt $percentage_test.value \\\n",
    "     --class_list $cl --img_size 720 576"
   ]
  },
  {
   "cell_type": "markdown",
   "metadata": {},
   "source": [
    "### Step 2: Train the model with selected parameters"
   ]
  },
  {
   "cell_type": "code",
   "execution_count": null,
   "metadata": {},
   "outputs": [],
   "source": [
    "# Fix important paths\n",
    "data_path = str(Path(output_folder, \"koster.yaml\"))\n",
    "hyps_path = str(Path(\"/usr/src/app/data\", \"hyps\", \"hyp.scratch.yaml\"))\n",
    "# Choose folder that will contain the different model runs\n",
    "project_path = FileChooser('/cephyr/NOBACKUP/groups/snic2021-6-9/models/koster-ml')\n",
    "exp_name = \"test_model\"\n",
    "display(project_path)\n",
    "batch_size = int(batch_size.value)\n",
    "\n",
    "# Choose a directory to store WANDB logs locally\n",
    "main_directory = \"/cephyr/NOBACKUP/groups/snic2021-6-9/\"\n",
    "os.environ['WANDB_DIR'] = main_directory"
   ]
  },
  {
   "cell_type": "code",
   "execution_count": null,
   "metadata": {},
   "outputs": [],
   "source": [
    "# Train YOLO model\n",
    "%run -i \"/usr/src/app/train.py\" --entity koster --data $data_path --hyp $hyps_path --weights $weights  \\\n",
    "                          --project $project_path.selected --name $exp_name --batch $batch_size --epochs $epochs.value \\\n",
    "                          --single-cls --workers 4"
   ]
  },
  {
   "cell_type": "markdown",
   "metadata": {},
   "source": [
    "### Step 3: Evaluate model performance on test set"
   ]
  },
  {
   "cell_type": "code",
   "execution_count": null,
   "metadata": {},
   "outputs": [],
   "source": [
    "# Find trained model weights\n",
    "tuned_weights = f\"{Path(project_path.selected, exp_name, 'best.pt')}\""
   ]
  },
  {
   "cell_type": "code",
   "execution_count": null,
   "metadata": {},
   "outputs": [],
   "source": [
    "# Evaluate YOLOv3 Model on Unseen Test data for mAP metric\n",
    "%run -i \"/usr/src/app/test.py\" --data $data_path --weights $tuned_weights --conf-thres $conf_thres.value"
   ]
  },
  {
   "cell_type": "markdown",
   "metadata": {},
   "source": [
    "### Transfer model to web app server (for API use)"
   ]
  },
  {
   "cell_type": "code",
   "execution_count": null,
   "metadata": {},
   "outputs": [],
   "source": [
    "server_user = getpass.getpass('Enter your server user')\n",
    "server_pass = getpass.getpass('Enter your server password')"
   ]
  },
  {
   "cell_type": "code",
   "execution_count": null,
   "metadata": {},
   "outputs": [],
   "source": [
    "t6.transfer_model(\"test_model\", \"koster/koster-ml\", server_user, server_pass)"
   ]
  },
  {
   "cell_type": "code",
   "execution_count": null,
   "metadata": {},
   "outputs": [],
   "source": [
    "#END"
   ]
  }
 ],
 "metadata": {
  "kernelspec": {
   "display_name": "Python 3",
   "language": "python",
   "name": "python3"
  },
  "language_info": {
   "codemirror_mode": {
    "name": "ipython",
    "version": 3
   },
   "file_extension": ".py",
   "mimetype": "text/x-python",
   "name": "python",
   "nbconvert_exporter": "python",
   "pygments_lexer": "ipython3",
   "version": "3.8.8"
  }
 },
 "nbformat": 4,
 "nbformat_minor": 2
}
