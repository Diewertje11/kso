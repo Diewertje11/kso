{
 "cells": [
  {
   "cell_type": "markdown",
   "metadata": {},
   "source": [
    "<img align=\"left\" src=\"https://panoptes-uploads.zooniverse.org/project_avatar/86c23ca7-bbaa-4e84-8d8a-876819551431.png\" type=\"image/png\" height=100 width=100>\n",
    "</img>\n",
    "<h1 align=\"right\">KSO Tutorials #6: Train machine learning models</h1>\n",
    "<h3 align=\"right\">Written by @jannesgg and @vykanton</h3>\n",
    "<h5 align=\"right\">Last updated: March 9, 2022</h5>"
   ]
  },
  {
   "cell_type": "markdown",
   "metadata": {},
   "source": [
    "# Set up and requirements"
   ]
  },
  {
   "cell_type": "markdown",
   "metadata": {},
   "source": [
    "### Import Python packages"
   ]
  },
  {
   "cell_type": "code",
   "execution_count": 1,
   "metadata": {},
   "outputs": [],
   "source": [
    "%load_ext autoreload\n",
    "%autoreload 2"
   ]
  },
  {
   "cell_type": "code",
   "execution_count": 2,
   "metadata": {},
   "outputs": [
    {
     "data": {
      "application/javascript": [
       "require.config({\n",
       "    paths: {\n",
       "        datatables: 'https://cdn.datatables.net/1.10.19/js/jquery.dataTables.min',\n",
       "    }\n",
       "});\n",
       "\n",
       "$('head').append('<link rel=\"stylesheet\" type=\"text/css\" \\\n",
       "                href = \"https://cdn.datatables.net/1.10.19/css/jquery.dataTables.min.css\" > ');\n",
       "\n",
       "$('head').append('<style> table td { text-overflow: ellipsis; overflow: hidden; } </style>');\n",
       "\n",
       "$('head').append(`<script>\n",
       "function eval_functions(map_or_text) {\n",
       "    if (typeof map_or_text === \"string\") {\n",
       "        if (map_or_text.startsWith(\"function\")) {\n",
       "            try {\n",
       "                // Note: parenthesis are required around the whole expression for eval to return a value!\n",
       "                // See https://stackoverflow.com/a/7399078/911298.\n",
       "                //\n",
       "                // eval(\"local_fun = \" + map_or_text) would fail because local_fun is not declared\n",
       "                // (using var, let or const would work, but it would only be declared in the local scope\n",
       "                // and therefore the value could not be retrieved).\n",
       "                const func = eval(\"(\" + map_or_text + \")\");\n",
       "                if (typeof func !== \"function\") {\n",
       "                    // Note: backquotes are super convenient!\n",
       "                    // https://developer.mozilla.org/en-US/docs/Web/JavaScript/Reference/Template_literals\n",
       "                    console.error(\"Evaluated expression \" + map_or_text + \" is not a function (type is \" + typeof func + \")\");\n",
       "                    return map_or_text;\n",
       "                }\n",
       "                // Return the function\n",
       "                return func;\n",
       "            } catch (e) {\n",
       "                // Make sure to print the error with a second argument to console.error().\n",
       "                console.error(\"itables was not able to parse \" + map_or_text, e);\n",
       "            }\n",
       "        }\n",
       "    } else if (typeof map_or_text === \"object\") {\n",
       "        if (map_or_text instanceof Array) {\n",
       "            // Note: \"var\" is now superseded by \"let\" and \"const\".\n",
       "            // https://medium.com/javascript-scene/javascript-es6-var-let-or-const-ba58b8dcde75\n",
       "            const result = [];\n",
       "            // Note: \"for of\" is the best way to iterate through an iterable.\n",
       "            // https://developer.mozilla.org/en-US/docs/Web/JavaScript/Reference/Statements/for...of\n",
       "            for (const item of map_or_text) {\n",
       "                result.push(eval_functions(item));\n",
       "            }\n",
       "            return result;\n",
       "\n",
       "            // Alternatively, more functional approach in one line:\n",
       "            // return map_or_text.map(eval_functions);\n",
       "        } else {\n",
       "            const result = {};\n",
       "            // Object.keys() is safer than \"for in\" because otherwise you might have keys\n",
       "            // that aren't defined in the object itself.\n",
       "            //\n",
       "            // See https://stackoverflow.com/a/684692/911298.\n",
       "            for (const item of Object.keys(map_or_text)) {\n",
       "                result[item] = eval_functions(map_or_text[item]);\n",
       "            }\n",
       "            return result;\n",
       "        }\n",
       "    }\n",
       "\n",
       "    return map_or_text;\n",
       "}\n",
       "\n",
       "</` + 'script>');"
      ],
      "text/plain": [
       "<IPython.core.display.Javascript object>"
      ]
     },
     "metadata": {},
     "output_type": "display_data"
    },
    {
     "name": "stderr",
     "output_type": "stream",
     "text": [
      "WARNING:panoptes_client:Broken libmagic installation detected. The python-magic module is installed but can't be imported. Please check that both python-magic and the libmagic shared library are installed correctly. Uploading media other than images may not work.\n"
     ]
    },
    {
     "ename": "ModuleNotFoundError",
     "evalue": "No module named 'kso_utils.project_utils'",
     "output_type": "error",
     "traceback": [
      "\u001b[1;31m---------------------------------------------------------------------------\u001b[0m",
      "\u001b[1;31mModuleNotFoundError\u001b[0m                       Traceback (most recent call last)",
      "\u001b[1;32m~\\AppData\\Local\\Temp/ipykernel_6892/2275539967.py\u001b[0m in \u001b[0;36m<module>\u001b[1;34m\u001b[0m\n\u001b[0;32m     12\u001b[0m \u001b[1;32mimport\u001b[0m \u001b[0mkso_utils\u001b[0m\u001b[1;33m.\u001b[0m\u001b[0mtutorials_utils\u001b[0m \u001b[1;32mas\u001b[0m \u001b[0mt_utils\u001b[0m\u001b[1;33m\u001b[0m\u001b[1;33m\u001b[0m\u001b[0m\n\u001b[0;32m     13\u001b[0m \u001b[1;32mimport\u001b[0m \u001b[0mkso_utils\u001b[0m\u001b[1;33m.\u001b[0m\u001b[0mserver_utils\u001b[0m \u001b[1;32mas\u001b[0m \u001b[0ms_utils\u001b[0m\u001b[1;33m\u001b[0m\u001b[1;33m\u001b[0m\u001b[0m\n\u001b[1;32m---> 14\u001b[1;33m \u001b[1;32mimport\u001b[0m \u001b[0mkso_utils\u001b[0m\u001b[1;33m.\u001b[0m\u001b[0mproject_utils\u001b[0m \u001b[1;32mas\u001b[0m \u001b[0mp_utils\u001b[0m\u001b[1;33m\u001b[0m\u001b[1;33m\u001b[0m\u001b[0m\n\u001b[0m\u001b[0;32m     15\u001b[0m \u001b[1;32mimport\u001b[0m \u001b[0mkso_utils\u001b[0m\u001b[1;33m.\u001b[0m\u001b[0mt6_utils\u001b[0m \u001b[1;32mas\u001b[0m \u001b[0mt6\u001b[0m\u001b[1;33m\u001b[0m\u001b[1;33m\u001b[0m\u001b[0m\n\u001b[0;32m     16\u001b[0m \u001b[1;32mimport\u001b[0m \u001b[0mkso_utils\u001b[0m\u001b[1;33m.\u001b[0m\u001b[0mt12_utils\u001b[0m \u001b[1;32mas\u001b[0m \u001b[0mt12\u001b[0m\u001b[1;33m\u001b[0m\u001b[1;33m\u001b[0m\u001b[0m\n",
      "\u001b[1;31mModuleNotFoundError\u001b[0m: No module named 'kso_utils.project_utils'"
     ]
    }
   ],
   "source": [
    "# Set the directory of the libraries\n",
    "import sys, os\n",
    "from pathlib import Path\n",
    "sys.path.append('..')\n",
    "\n",
    "# Set to display dataframes as interactive tables\n",
    "from itables import init_notebook_mode\n",
    "init_notebook_mode(all_interactive=True)\n",
    "from ipyfilechooser import FileChooser\n",
    "\n",
    "# Import required modules\n",
    "import kso_utils.tutorials_utils as t_utils\n",
    "import kso_utils.server_utils as s_utils\n",
    "import kso_utils.project_utils as p_utils\n",
    "import kso_utils.t6_utils as t6\n",
    "import kso_utils.t12_utils as t12\n",
    "from src.prepare_zooniverse import frame_aggregation\n",
    "from kso_utils.zooniverse_utils import retrieve_zoo_info, populate_subjects, populate_agg_annotations\n",
    "\n",
    "# Model-specific imports\n",
    "import train\n",
    "import test\n",
    "\n",
    "print(\"Packages loaded successfully\")"
   ]
  },
  {
   "cell_type": "markdown",
   "metadata": {},
   "source": [
    "### Choose a project"
   ]
  },
  {
   "cell_type": "code",
   "execution_count": 7,
   "metadata": {},
   "outputs": [
    {
     "data": {
      "application/vnd.jupyter.widget-view+json": {
       "model_id": "70daeed4cb4e43c19dde9eb78451c3b4",
       "version_major": 2,
       "version_minor": 0
      },
      "text/plain": [
       "Dropdown(description='Project:', options=('Koster_Seafloor_Obs', 'Spyfish_Aotearoa', 'SGU'), value='Koster_Sea…"
      ]
     },
     "metadata": {},
     "output_type": "display_data"
    }
   ],
   "source": [
    "project_name = t_utils.choose_project()"
   ]
  },
  {
   "cell_type": "code",
   "execution_count": 8,
   "metadata": {},
   "outputs": [],
   "source": [
    "project = p_utils.find_project(project_name=project_name.value)"
   ]
  },
  {
   "cell_type": "markdown",
   "metadata": {},
   "source": [
    "### Initiate SQL database and populate sites, movies and species"
   ]
  },
  {
   "cell_type": "code",
   "execution_count": 86,
   "metadata": {},
   "outputs": [
    {
     "name": "stdout",
     "output_type": "stream",
     "text": [
      "Enter your username for SNIC server········\n",
      "Enter your password for SNIC server········\n",
      "Updated sites\n",
      "Updated movies\n",
      "Updated species\n"
     ]
    }
   ],
   "source": [
    "# Initiate db\n",
    "db_info_dict = t_utils.initiate_db(project)"
   ]
  },
  {
   "cell_type": "code",
   "execution_count": 87,
   "metadata": {},
   "outputs": [
    {
     "name": "stdout",
     "output_type": "stream",
     "text": [
      "Enter your Zooniverse user········\n",
      "Enter your Zooniverse password········\n"
     ]
    }
   ],
   "source": [
    "# Connect to Zooniverse project\n",
    "zoo_project = t_utils.connect_zoo_project(project)"
   ]
  },
  {
   "cell_type": "markdown",
   "metadata": {},
   "source": [
    "### Retrieve Zooniverse information"
   ]
  },
  {
   "cell_type": "code",
   "execution_count": 88,
   "metadata": {},
   "outputs": [
    {
     "name": "stdout",
     "output_type": "stream",
     "text": [
      "Retrieving subjects from Zooniverse\n",
      "subjects were retrieved successfully\n",
      "Retrieving workflows from Zooniverse\n",
      "workflows were retrieved successfully\n",
      "Retrieving classifications from Zooniverse\n",
      "classifications were retrieved successfully\n",
      "Updated subjects\n",
      "The database has a total of 4295 frame subjects and 7362 clip subjects have been updated\n"
     ]
    }
   ],
   "source": [
    "#if not \"zoo_info_dict\" in vars():\n",
    "zoo_info_dict = t_utils.retrieve__populate_zoo_info(project = project, \n",
    "                                                    db_info_dict = db_info_dict,\n",
    "                                                    zoo_project = zoo_project,\n",
    "                                                    zoo_info = [\"subjects\", \"workflows\", \"classifications\"])"
   ]
  },
  {
   "cell_type": "markdown",
   "metadata": {},
   "source": [
    "### Specify Zooniverse parameters for frame aggregation"
   ]
  },
  {
   "cell_type": "code",
   "execution_count": 27,
   "metadata": {},
   "outputs": [
    {
     "data": {
      "application/vnd.jupyter.widget-view+json": {
       "model_id": "7c7f7a9191644770833e58fe1729ae4a",
       "version_major": 2,
       "version_minor": 0
      },
      "text/plain": [
       "WidgetMaker(children=(IntText(value=0, description='Number of workflows:', style=DescriptionStyle(description_…"
      ]
     },
     "metadata": {},
     "output_type": "display_data"
    },
    {
     "data": {
      "application/vnd.jupyter.widget-view+json": {
       "model_id": "2757b0a1e6a54daea9c015697ce84ec8",
       "version_major": 2,
       "version_minor": 0
      },
      "text/plain": [
       "Output()"
      ]
     },
     "metadata": {},
     "output_type": "display_data"
    }
   ],
   "source": [
    "# Display a selectable list of workflow names and a list of versions of the workflow of interest\n",
    "workflows_df = zoo_info_dict[\"workflows\"]\n",
    "wm = t12.WidgetMaker(workflows_df)\n",
    "wm"
   ]
  },
  {
   "cell_type": "code",
   "execution_count": 89,
   "metadata": {},
   "outputs": [
    {
     "name": "stdout",
     "output_type": "stream",
     "text": [
      "      subject_ids    id https_location\n",
      "0        39431409  <NA>            NaN\n",
      "1        39431413  <NA>            NaN\n",
      "2        39431414  <NA>            NaN\n",
      "3        39431419  <NA>            NaN\n",
      "4        39431420  <NA>            NaN\n",
      "...           ...   ...            ...\n",
      "4594     59645870  <NA>            NaN\n",
      "4595     59646443  <NA>            NaN\n",
      "4596     59645310  <NA>            NaN\n",
      "4597     59645375  <NA>            NaN\n",
      "4598     59645352  <NA>            NaN\n",
      "\n",
      "[1764 rows x 3 columns]\n",
      "There are 1764 classifications out of 15022 missing subject info. Maybe the subjects have been removed from Zooniverse?\n",
      "Zooniverse classifications have been retrieved\n"
     ]
    }
   ],
   "source": [
    "# Retrieve classifications from the workflow of interest\n",
    "class_df = t12.get_classifications(wm.checks,\n",
    "                                     workflows_df, \n",
    "                                     'frame', \n",
    "                                     zoo_info_dict[\"classifications\"], \n",
    "                                     db_info_dict[\"db_path\"],\n",
    "                                     project)"
   ]
  },
  {
   "cell_type": "code",
   "execution_count": 90,
   "metadata": {},
   "outputs": [
    {
     "data": {
      "application/vnd.jupyter.widget-view+json": {
       "model_id": "25fae5d4c0cc43dd8fd3327f29f93edc",
       "version_major": 2,
       "version_minor": 0
      },
      "text/plain": [
       "FloatSlider(value=0.8, continuous_update=False, description='Aggregation threshold:', max=1.0, readout_format=…"
      ]
     },
     "metadata": {},
     "output_type": "display_data"
    },
    {
     "data": {
      "application/vnd.jupyter.widget-view+json": {
       "model_id": "ffe8bede61f74e2696ddd75833984e5f",
       "version_major": 2,
       "version_minor": 0
      },
      "text/plain": [
       "IntSlider(value=3, continuous_update=False, description='Min numbers of users:', max=15, min=1, style=SliderSt…"
      ]
     },
     "metadata": {},
     "output_type": "display_data"
    },
    {
     "data": {
      "application/vnd.jupyter.widget-view+json": {
       "model_id": "67e58baf373d4c98a50968edfe7055a9",
       "version_major": 2,
       "version_minor": 0
      },
      "text/plain": [
       "FloatSlider(value=0.8, continuous_update=False, description='Object threshold:', max=1.0, readout_format='.1f'…"
      ]
     },
     "metadata": {},
     "output_type": "display_data"
    },
    {
     "data": {
      "application/vnd.jupyter.widget-view+json": {
       "model_id": "40ff611150434ff4a7b9ca954139e126",
       "version_major": 2,
       "version_minor": 0
      },
      "text/plain": [
       "FloatSlider(value=0.5, continuous_update=False, description='IOU Epsilon:', max=1.0, readout_format='.1f', sty…"
      ]
     },
     "metadata": {},
     "output_type": "display_data"
    },
    {
     "data": {
      "application/vnd.jupyter.widget-view+json": {
       "model_id": "c3383d2f2d1446189b46a40058fc7945",
       "version_major": 2,
       "version_minor": 0
      },
      "text/plain": [
       "FloatSlider(value=0.8, continuous_update=False, description='Inter user agreement:', max=1.0, readout_format='…"
      ]
     },
     "metadata": {},
     "output_type": "display_data"
    }
   ],
   "source": [
    "# Specify the agreement threshold required among cit scientists\n",
    "agg_params = t12.choose_agg_parameters(\"frame\")"
   ]
  },
  {
   "cell_type": "code",
   "execution_count": 91,
   "metadata": {},
   "outputs": [
    {
     "name": "stdout",
     "output_type": "stream",
     "text": [
      "Aggregrating the classifications\n",
      "496 classifications aggregated out of 2027 unique subjects available\n"
     ]
    }
   ],
   "source": [
    "agg_class_df, raw_class_df = t12.aggregrate_classifications(\n",
    "                                    class_df, 'frame', project, agg_params)"
   ]
  },
  {
   "cell_type": "code",
   "execution_count": 92,
   "metadata": {},
   "outputs": [
    {
     "name": "stdout",
     "output_type": "stream",
     "text": [
      "Updated agg_annotations_frame\n"
     ]
    }
   ],
   "source": [
    "# Add annotations to db\n",
    "populate_agg_annotations(agg_class_df, 'frame', project)"
   ]
  },
  {
   "cell_type": "markdown",
   "metadata": {},
   "source": [
    "### Step 0: Specify important paths and training parameters"
   ]
  },
  {
   "cell_type": "code",
   "execution_count": 55,
   "metadata": {},
   "outputs": [
    {
     "data": {
      "application/vnd.jupyter.widget-view+json": {
       "model_id": "e39121fa75c34bb1bf1971914341e2d7",
       "version_major": 2,
       "version_minor": 0
      },
      "text/plain": [
       "FileChooser(path='.', filename='', title='HTML(value='Choose location of output')', show_hidden='False', use_d…"
      ]
     },
     "metadata": {},
     "output_type": "display_data"
    }
   ],
   "source": [
    "# Specify output path where processed data will be stored\n",
    "fc = t_utils.choose_folder(\".\", \"output\")"
   ]
  },
  {
   "cell_type": "code",
   "execution_count": 56,
   "metadata": {},
   "outputs": [],
   "source": [
    "# Store selected output path\n",
    "output_folder = fc.selected"
   ]
  },
  {
   "cell_type": "code",
   "execution_count": 57,
   "metadata": {},
   "outputs": [
    {
     "data": {
      "application/vnd.jupyter.widget-view+json": {
       "model_id": "776818c9a26b4cda9a3747e071f7c079",
       "version_major": 2,
       "version_minor": 0
      },
      "text/plain": [
       "SelectMultiple(description='Species', index=(0,), options=('Angular crab', 'Ascidians (any species)', 'Bivalve…"
      ]
     },
     "metadata": {},
     "output_type": "display_data"
    }
   ],
   "source": [
    "# Choose species of interest for model training\n",
    "class_list = t6.choose_classes(db_info_dict[\"db_path\"])"
   ]
  },
  {
   "cell_type": "code",
   "execution_count": 96,
   "metadata": {},
   "outputs": [],
   "source": [
    "# Store selected classes of interest\n",
    "cl = list(class_list.value)"
   ]
  },
  {
   "cell_type": "code",
   "execution_count": 62,
   "metadata": {},
   "outputs": [
    {
     "data": {
      "application/vnd.jupyter.widget-view+json": {
       "model_id": "b8bcdfb1c5134469854aebdb972ca1b9",
       "version_major": 2,
       "version_minor": 0
      },
      "text/plain": [
       "HBox(children=(FloatSlider(value=0.2, continuous_update=False, description='Test proportion:', max=1.0, readou…"
      ]
     },
     "metadata": {},
     "output_type": "display_data"
    }
   ],
   "source": [
    "# Determine your training parameters\n",
    "percentage_test, batch_size, epochs, conf_thres = t6.choose_test_prop()"
   ]
  },
  {
   "cell_type": "markdown",
   "metadata": {},
   "source": [
    "### Step 1: Prepare the aggregated data"
   ]
  },
  {
   "cell_type": "code",
   "execution_count": 97,
   "metadata": {},
   "outputs": [
    {
     "name": "stderr",
     "output_type": "stream",
     "text": [
      "WARNING:root:Missing filenan\n",
      "  0%|          | 0/237 [00:00<?, ?it/s]/opt/conda/lib/python3.8/site-packages/pims/pyav_reader.py:232: MethodDeprecationWarning: VideoStream.seek is deprecated.\n",
      "  self._stream.seek(timestamp + self._first_pts)\n",
      "  5%|▍         | 11/237 [00:12<04:18,  1.14s/it]\n"
     ]
    },
    {
     "ename": "IndexError",
     "evalue": "index out of range",
     "output_type": "error",
     "traceback": [
      "\u001b[0;31m---------------------------------------------------------------------------\u001b[0m",
      "\u001b[0;31mIndexError\u001b[0m                                Traceback (most recent call last)",
      "\u001b[0;32m<ipython-input-97-79c39cb4b460>\u001b[0m in \u001b[0;36m<module>\u001b[0;34m\u001b[0m\n\u001b[1;32m      1\u001b[0m \u001b[0;31m# Run the preparation script\u001b[0m\u001b[0;34m\u001b[0m\u001b[0;34m\u001b[0m\u001b[0;34m\u001b[0m\u001b[0m\n\u001b[0;32m----> 2\u001b[0;31m \u001b[0mframe_aggregation\u001b[0m\u001b[0;34m(\u001b[0m\u001b[0mproject\u001b[0m\u001b[0;34m,\u001b[0m \u001b[0mdb_info_dict\u001b[0m\u001b[0;34m,\u001b[0m \u001b[0moutput_folder\u001b[0m\u001b[0;34m,\u001b[0m \u001b[0mpercentage_test\u001b[0m\u001b[0;34m.\u001b[0m\u001b[0mvalue\u001b[0m\u001b[0;34m,\u001b[0m \u001b[0mcl\u001b[0m\u001b[0;34m,\u001b[0m \u001b[0;34m(\u001b[0m\u001b[0;36m720\u001b[0m\u001b[0;34m,\u001b[0m \u001b[0;36m540\u001b[0m\u001b[0;34m)\u001b[0m\u001b[0;34m)\u001b[0m\u001b[0;34m\u001b[0m\u001b[0;34m\u001b[0m\u001b[0m\n\u001b[0m",
      "\u001b[0;32m/usr/src/app/data_dir/latest-yolo-test/src/prepare_zooniverse.py\u001b[0m in \u001b[0;36mframe_aggregation\u001b[0;34m(project, db_info_dict, out_path, perc_test, class_list, img_size, out_format)\u001b[0m\n\u001b[1;32m    168\u001b[0m                 \u001b[0mbboxes\u001b[0m\u001b[0;34m[\u001b[0m\u001b[0mnamed_tuple\u001b[0m\u001b[0;34m]\u001b[0m\u001b[0;34m.\u001b[0m\u001b[0mextend\u001b[0m\u001b[0;34m(\u001b[0m\u001b[0mtuple\u001b[0m\u001b[0;34m(\u001b[0m\u001b[0mi\u001b[0m\u001b[0;34m[\u001b[0m\u001b[0;36m3\u001b[0m\u001b[0;34m:\u001b[0m\u001b[0;34m]\u001b[0m\u001b[0;34m)\u001b[0m \u001b[0;32mfor\u001b[0m \u001b[0mi\u001b[0m \u001b[0;32min\u001b[0m \u001b[0mgroup\u001b[0m\u001b[0;34m.\u001b[0m\u001b[0mvalues\u001b[0m\u001b[0;34m)\u001b[0m\u001b[0;34m\u001b[0m\u001b[0;34m\u001b[0m\u001b[0m\n\u001b[1;32m    169\u001b[0m                 tboxes[named_tuple].extend(\n\u001b[0;32m--> 170\u001b[0;31m                     src.frame_tracker.track_objects(\n\u001b[0m\u001b[1;32m    171\u001b[0m                         \u001b[0mvideo_dict\u001b[0m\u001b[0;34m[\u001b[0m\u001b[0mfinal_name\u001b[0m\u001b[0;34m]\u001b[0m\u001b[0;34m,\u001b[0m\u001b[0;34m\u001b[0m\u001b[0;34m\u001b[0m\u001b[0m\n\u001b[1;32m    172\u001b[0m                         \u001b[0mspecies_id\u001b[0m\u001b[0;34m,\u001b[0m\u001b[0;34m\u001b[0m\u001b[0;34m\u001b[0m\u001b[0m\n",
      "\u001b[0;32m/usr/src/app/data_dir/latest-yolo-test/src/frame_tracker.py\u001b[0m in \u001b[0;36mtrack_objects\u001b[0;34m(video, class_ids, bboxes, start_frame, last_frame)\u001b[0m\n\u001b[1;32m     55\u001b[0m \u001b[0;34m\u001b[0m\u001b[0m\n\u001b[1;32m     56\u001b[0m     \u001b[0;31m# Extract relevant frame\u001b[0m\u001b[0;34m\u001b[0m\u001b[0;34m\u001b[0m\u001b[0;34m\u001b[0m\u001b[0m\n\u001b[0;32m---> 57\u001b[0;31m     \u001b[0mframe\u001b[0m \u001b[0;34m=\u001b[0m \u001b[0mvideo\u001b[0m\u001b[0;34m[\u001b[0m\u001b[0mstart_frame\u001b[0m\u001b[0;34m]\u001b[0m  \u001b[0;31m# [0]\u001b[0m\u001b[0;34m\u001b[0m\u001b[0;34m\u001b[0m\u001b[0m\n\u001b[0m\u001b[1;32m     58\u001b[0m \u001b[0;34m\u001b[0m\u001b[0m\n\u001b[1;32m     59\u001b[0m     \u001b[0;31m# Initialize MultiTracker\u001b[0m\u001b[0;34m\u001b[0m\u001b[0;34m\u001b[0m\u001b[0;34m\u001b[0m\u001b[0m\n",
      "\u001b[0;32m/opt/conda/lib/python3.8/site-packages/slicerator/__init__.py\u001b[0m in \u001b[0;36m__getitem__\u001b[0;34m(self, i)\u001b[0m\n\u001b[1;32m    184\u001b[0m             \u001b[0;32mdef\u001b[0m \u001b[0m__getitem__\u001b[0m\u001b[0;34m(\u001b[0m\u001b[0mself\u001b[0m\u001b[0;34m,\u001b[0m \u001b[0mi\u001b[0m\u001b[0;34m)\u001b[0m\u001b[0;34m:\u001b[0m\u001b[0;34m\u001b[0m\u001b[0;34m\u001b[0m\u001b[0m\n\u001b[1;32m    185\u001b[0m                 \u001b[0;34m\"\"\"Getitem supports repeated slicing via Slicerator objects.\"\"\"\u001b[0m\u001b[0;34m\u001b[0m\u001b[0;34m\u001b[0m\u001b[0m\n\u001b[0;32m--> 186\u001b[0;31m                 \u001b[0mindices\u001b[0m\u001b[0;34m,\u001b[0m \u001b[0mnew_length\u001b[0m \u001b[0;34m=\u001b[0m \u001b[0mkey_to_indices\u001b[0m\u001b[0;34m(\u001b[0m\u001b[0mi\u001b[0m\u001b[0;34m,\u001b[0m \u001b[0mlen\u001b[0m\u001b[0;34m(\u001b[0m\u001b[0mself\u001b[0m\u001b[0;34m)\u001b[0m\u001b[0;34m)\u001b[0m\u001b[0;34m\u001b[0m\u001b[0;34m\u001b[0m\u001b[0m\n\u001b[0m\u001b[1;32m    187\u001b[0m                 \u001b[0;32mif\u001b[0m \u001b[0mnew_length\u001b[0m \u001b[0;32mis\u001b[0m \u001b[0;32mNone\u001b[0m\u001b[0;34m:\u001b[0m\u001b[0;34m\u001b[0m\u001b[0;34m\u001b[0m\u001b[0m\n\u001b[1;32m    188\u001b[0m                     \u001b[0;32mreturn\u001b[0m \u001b[0mself\u001b[0m\u001b[0;34m.\u001b[0m\u001b[0m_get\u001b[0m\u001b[0;34m(\u001b[0m\u001b[0mindices\u001b[0m\u001b[0;34m)\u001b[0m\u001b[0;34m\u001b[0m\u001b[0;34m\u001b[0m\u001b[0m\n",
      "\u001b[0;32m/opt/conda/lib/python3.8/site-packages/slicerator/__init__.py\u001b[0m in \u001b[0;36mkey_to_indices\u001b[0;34m(key, length)\u001b[0m\n\u001b[1;32m    322\u001b[0m             \u001b[0;32mreturn\u001b[0m \u001b[0mkey\u001b[0m\u001b[0;34m,\u001b[0m \u001b[0;32mNone\u001b[0m\u001b[0;34m\u001b[0m\u001b[0;34m\u001b[0m\u001b[0m\n\u001b[1;32m    323\u001b[0m         \u001b[0;32melse\u001b[0m\u001b[0;34m:\u001b[0m\u001b[0;34m\u001b[0m\u001b[0;34m\u001b[0m\u001b[0m\n\u001b[0;32m--> 324\u001b[0;31m             \u001b[0;32mraise\u001b[0m \u001b[0mIndexError\u001b[0m\u001b[0;34m(\u001b[0m\u001b[0;34m'index out of range'\u001b[0m\u001b[0;34m)\u001b[0m\u001b[0;34m\u001b[0m\u001b[0;34m\u001b[0m\u001b[0m\n\u001b[0m\u001b[1;32m    325\u001b[0m \u001b[0;34m\u001b[0m\u001b[0m\n\u001b[1;32m    326\u001b[0m     \u001b[0;31m# in all other case, just return the key and let user deal with the type.\u001b[0m\u001b[0;34m\u001b[0m\u001b[0;34m\u001b[0m\u001b[0;34m\u001b[0m\u001b[0m\n",
      "\u001b[0;31mIndexError\u001b[0m: index out of range"
     ]
    }
   ],
   "source": [
    "# Run the preparation script\n",
    "frame_aggregation(project, db_info_dict, output_folder, percentage_test.value, cl, (720, 540))"
   ]
  },
  {
   "cell_type": "markdown",
   "metadata": {},
   "source": [
    "### Step 2: Train the model with selected parameters"
   ]
  },
  {
   "cell_type": "code",
   "execution_count": 116,
   "metadata": {},
   "outputs": [
    {
     "data": {
      "application/vnd.jupyter.widget-view+json": {
       "model_id": "dd7063e880eb47ea889bd28a8ec7ca8b",
       "version_major": 2,
       "version_minor": 0
      },
      "text/plain": [
       "FileChooser(path='/cephyr/NOBACKUP/groups/snic2021-6-9/models/koster-ml', filename='', title='HTML(value='', l…"
      ]
     },
     "metadata": {},
     "output_type": "display_data"
    }
   ],
   "source": [
    "# Fix important paths\n",
    "data_path = [str(Path(output_folder, _)) for _ in os.listdir(output_folder) if _.endswith(\".yaml\") and \"hyp\" not in _][-1]\n",
    "hyps_path = str(Path(output_folder, \"hyp.yaml\"))\n",
    "weights = \"/usr/src/app/data_dir/weights/yolov5m.pt\"\n",
    "\n",
    "# Choose folder that will contain the different model runs\n",
    "project_path = FileChooser('/cephyr/NOBACKUP/groups/snic2021-6-9/models/koster-ml')\n",
    "\n",
    "# Project-specific information\n",
    "entity = \"koster\"\n",
    "exp_name = \"sgu_bm_model\"\n",
    "display(project_path)"
   ]
  },
  {
   "cell_type": "code",
   "execution_count": 12,
   "metadata": {},
   "outputs": [],
   "source": [
    "# Train model with given configuration"
   ]
  },
  {
   "cell_type": "code",
   "execution_count": 126,
   "metadata": {
    "scrolled": true
   },
   "outputs": [
    {
     "name": "stdout",
     "output_type": "stream",
     "text": [
      "\u001b[34m\u001b[1mtrain: \u001b[0mweights=/usr/src/app/data_dir/weights/yolov5m.pt, cfg=, data=/usr/src/app/data_dir/data_output/SGU_14:19:23.yaml, hyp=/usr/src/app/data_dir/data_output/hyp.yaml, epochs=100, batch_size=16, img_size=[720, 540], rect=False, resume=False, nosave=False, notest=False, noautoanchor=False, evolve=False, bucket=, cache_images=True, image_weights=False, device=, multi_scale=False, single_cls=True, adam=False, sync_bn=False, workers=4, project=/cephyr/NOBACKUP/groups/snic2021-6-9/models/sgu/, entity=koster, name=sgu_bm_model, exist_ok=False, quad=False, linear_lr=False, label_smoothing=0.0, upload_dataset=False, bbox_interval=-1, save_period=-1, artifact_alias=latest, local_rank=-1, batch=16\n",
      "\u001b[34m\u001b[1mgithub: \u001b[0mskipping check (not a git repository), for updates see https://github.com/ultralytics/yolov5\n",
      "\u001b[31m\u001b[1mrequirements:\u001b[0m /usr/src/app/data_dir/latest-yolo-test/notebooks/requirements.txt not found, check failed.\n"
     ]
    },
    {
     "name": "stderr",
     "output_type": "stream",
     "text": [
      "ERROR:wandb.jupyter:Failed to detect the name of this notebook, you can set it manually with the WANDB_NOTEBOOK_NAME environment variable to enable code saving.\n",
      "\u001b[34m\u001b[1mwandb\u001b[0m: Currently logged in as: \u001b[33mjannesg\u001b[0m (use `wandb login --relogin` to force relogin)\n",
      "\u001b[34m\u001b[1mwandb\u001b[0m: wandb version 0.12.11 is available!  To upgrade, please run:\n",
      "\u001b[34m\u001b[1mwandb\u001b[0m:  $ pip install wandb --upgrade\n"
     ]
    },
    {
     "data": {
      "text/html": [
       "\n",
       "                Tracking run with wandb version 0.11.0<br/>\n",
       "                Syncing run <strong style=\"color:#cdcd00\">sgu_bm_model105</strong> to <a href=\"https://wandb.ai\" target=\"_blank\">Weights & Biases</a> <a href=\"https://docs.wandb.com/integrations/jupyter.html\" target=\"_blank\">(Documentation)</a>.<br/>\n",
       "                Project page: <a href=\"https://wandb.ai/koster/sgu\" target=\"_blank\">https://wandb.ai/koster/sgu</a><br/>\n",
       "                Run page: <a href=\"https://wandb.ai/koster/sgu/runs/3rf5vkn1\" target=\"_blank\">https://wandb.ai/koster/sgu/runs/3rf5vkn1</a><br/>\n",
       "                Run data is saved locally in <code>/cephyr/NOBACKUP/groups/snic2021-6-9/wandb/run-20220304_154937-3rf5vkn1</code><br/><br/>\n",
       "            "
      ],
      "text/plain": [
       "<IPython.core.display.HTML object>"
      ]
     },
     "metadata": {},
     "output_type": "display_data"
    },
    {
     "name": "stdout",
     "output_type": "stream",
     "text": [
      "WARNING: --img-size 720 must be multiple of max stride 32, updating to 736\n",
      "WARNING: --img-size 540 must be multiple of max stride 32, updating to 544\n"
     ]
    },
    {
     "name": "stderr",
     "output_type": "stream",
     "text": [
      "\u001b[34m\u001b[1mtrain: \u001b[0mScanning '/usr/src/app/data_dir/data_output/train' images and labels...272 found, 0 missing, 0 empty, 0 corrupted: 100%|██████████| 272/272 [00:00<00:00, 3853.48it/s]\n",
      "\u001b[34m\u001b[1mtrain: \u001b[0mCaching images (0.3GB): 100%|██████████| 272/272 [00:00<00:00, 605.42it/s]\n",
      "\u001b[34m\u001b[1mval: \u001b[0mScanning '/usr/src/app/data_dir/data_output/valid' images and labels...68 found, 0 missing, 0 empty, 0 corrupted: 100%|██████████| 68/68 [00:00<00:00, 1269.42it/s]\n",
      "\u001b[34m\u001b[1mval: \u001b[0mCaching images (0.0GB): 100%|██████████| 68/68 [00:00<00:00, 415.58it/s]\n"
     ]
    },
    {
     "name": "stdout",
     "output_type": "stream",
     "text": [
      "Plotting labels... \n"
     ]
    },
    {
     "name": "stderr",
     "output_type": "stream",
     "text": [
      "\r",
      "  0%|          | 0/17 [00:00<?, ?it/s]"
     ]
    },
    {
     "name": "stdout",
     "output_type": "stream",
     "text": [
      "\n",
      "\u001b[34m\u001b[1mautoanchor: \u001b[0mAnalyzing anchors... anchors/target = 5.57, Best Possible Recall (BPR) = 1.0000\n"
     ]
    },
    {
     "name": "stderr",
     "output_type": "stream",
     "text": [
      "      0/99     8.29G    0.1072   0.07586         0    0.1831       131       736: 100%|██████████| 17/17 [00:11<00:00,  1.45it/s]\n",
      "               Class     Images     Labels          P          R     mAP@.5 mAP@.5:.95: 100%|██████████| 3/3 [00:00<00:00,  3.26it/s]\n"
     ]
    },
    {
     "name": "stdout",
     "output_type": "stream",
     "text": [
      "                 all         68        373    0.00517      0.252    0.00178   0.000261\n"
     ]
    },
    {
     "name": "stderr",
     "output_type": "stream",
     "text": [
      "      1/99     8.29G    0.1009   0.08137         0    0.1823       172       736: 100%|██████████| 17/17 [00:09<00:00,  1.76it/s]\n",
      "               Class     Images     Labels          P          R     mAP@.5 mAP@.5:.95: 100%|██████████| 3/3 [00:00<00:00,  3.68it/s]\n"
     ]
    },
    {
     "name": "stdout",
     "output_type": "stream",
     "text": [
      "                 all         68        373     0.0117     0.0375    0.00288   0.000436\n"
     ]
    },
    {
     "name": "stderr",
     "output_type": "stream",
     "text": [
      "      2/99     8.29G   0.09688   0.08221         0    0.1791       138       736: 100%|██████████| 17/17 [00:09<00:00,  1.77it/s]\n",
      "               Class     Images     Labels          P          R     mAP@.5 mAP@.5:.95: 100%|██████████| 3/3 [00:00<00:00,  3.93it/s]\n"
     ]
    },
    {
     "name": "stdout",
     "output_type": "stream",
     "text": [
      "                 all         68        373     0.0147     0.0885     0.0048   0.000792\n"
     ]
    },
    {
     "name": "stderr",
     "output_type": "stream",
     "text": [
      "      3/99     8.29G   0.09264   0.08467         0    0.1773       168       736: 100%|██████████| 17/17 [00:09<00:00,  1.76it/s]\n",
      "               Class     Images     Labels          P          R     mAP@.5 mAP@.5:.95: 100%|██████████| 3/3 [00:00<00:00,  4.06it/s]\n"
     ]
    },
    {
     "name": "stdout",
     "output_type": "stream",
     "text": [
      "                 all         68        373     0.0194      0.102    0.00701    0.00129\n"
     ]
    },
    {
     "name": "stderr",
     "output_type": "stream",
     "text": [
      "      4/99     8.29G   0.08984   0.08837         0    0.1782       163       736: 100%|██████████| 17/17 [00:09<00:00,  1.75it/s]\n",
      "               Class     Images     Labels          P          R     mAP@.5 mAP@.5:.95: 100%|██████████| 3/3 [00:00<00:00,  4.07it/s]\n"
     ]
    },
    {
     "name": "stdout",
     "output_type": "stream",
     "text": [
      "                 all         68        373     0.0328      0.105     0.0144    0.00299\n"
     ]
    },
    {
     "name": "stderr",
     "output_type": "stream",
     "text": [
      "      5/99     8.29G   0.08578   0.09049         0    0.1763       140       736: 100%|██████████| 17/17 [00:09<00:00,  1.74it/s]\n",
      "               Class     Images     Labels          P          R     mAP@.5 mAP@.5:.95: 100%|██████████| 3/3 [00:00<00:00,  4.28it/s]\n"
     ]
    },
    {
     "name": "stdout",
     "output_type": "stream",
     "text": [
      "                 all         68        373     0.0594     0.0992     0.0237    0.00583\n"
     ]
    },
    {
     "name": "stderr",
     "output_type": "stream",
     "text": [
      "      6/99     8.29G   0.08185   0.09106         0    0.1729       147       736: 100%|██████████| 17/17 [00:09<00:00,  1.74it/s]\n",
      "               Class     Images     Labels          P          R     mAP@.5 mAP@.5:.95: 100%|██████████| 3/3 [00:00<00:00,  4.17it/s]\n"
     ]
    },
    {
     "name": "stdout",
     "output_type": "stream",
     "text": [
      "                 all         68        373      0.117      0.198     0.0546     0.0132\n"
     ]
    },
    {
     "name": "stderr",
     "output_type": "stream",
     "text": [
      "      7/99     8.29G   0.07732   0.09196         0    0.1693       124       736: 100%|██████████| 17/17 [00:09<00:00,  1.70it/s]\n",
      "               Class     Images     Labels          P          R     mAP@.5 mAP@.5:.95: 100%|██████████| 3/3 [00:00<00:00,  4.21it/s]\n"
     ]
    },
    {
     "name": "stdout",
     "output_type": "stream",
     "text": [
      "                 all         68        373      0.122      0.201     0.0789      0.021\n"
     ]
    },
    {
     "name": "stderr",
     "output_type": "stream",
     "text": [
      "      8/99     8.29G   0.07211   0.08889         0     0.161       116       736: 100%|██████████| 17/17 [00:09<00:00,  1.73it/s]\n",
      "               Class     Images     Labels          P          R     mAP@.5 mAP@.5:.95: 100%|██████████| 3/3 [00:00<00:00,  4.03it/s]\n"
     ]
    },
    {
     "name": "stdout",
     "output_type": "stream",
     "text": [
      "                 all         68        373      0.218      0.272      0.158     0.0518\n"
     ]
    },
    {
     "name": "stderr",
     "output_type": "stream",
     "text": [
      "      9/99     8.29G   0.06542   0.09085         0    0.1563       129       736: 100%|██████████| 17/17 [00:09<00:00,  1.73it/s]\n",
      "               Class     Images     Labels          P          R     mAP@.5 mAP@.5:.95: 100%|██████████| 3/3 [00:03<00:00,  1.12s/it]\n"
     ]
    },
    {
     "name": "stdout",
     "output_type": "stream",
     "text": [
      "                 all         68        373      0.224      0.246      0.168     0.0569\n"
     ]
    },
    {
     "name": "stderr",
     "output_type": "stream",
     "text": [
      "     10/99     8.29G   0.06716    0.0882         0    0.1554       126       736: 100%|██████████| 17/17 [00:09<00:00,  1.76it/s]\n",
      "               Class     Images     Labels          P          R     mAP@.5 mAP@.5:.95: 100%|██████████| 3/3 [00:00<00:00,  3.99it/s]\n"
     ]
    },
    {
     "name": "stdout",
     "output_type": "stream",
     "text": [
      "                 all         68        373      0.237      0.279       0.17     0.0425\n"
     ]
    },
    {
     "name": "stderr",
     "output_type": "stream",
     "text": [
      "     11/99     8.29G   0.06426   0.08607         0    0.1503       157       736: 100%|██████████| 17/17 [00:09<00:00,  1.76it/s]\n",
      "               Class     Images     Labels          P          R     mAP@.5 mAP@.5:.95: 100%|██████████| 3/3 [00:00<00:00,  4.36it/s]\n"
     ]
    },
    {
     "name": "stdout",
     "output_type": "stream",
     "text": [
      "                 all         68        373      0.329        0.3      0.259     0.0902\n"
     ]
    },
    {
     "name": "stderr",
     "output_type": "stream",
     "text": [
      "     12/99     8.29G   0.05876   0.08156         0    0.1403       120       736: 100%|██████████| 17/17 [00:09<00:00,  1.74it/s]\n",
      "               Class     Images     Labels          P          R     mAP@.5 mAP@.5:.95: 100%|██████████| 3/3 [00:00<00:00,  4.82it/s]\n"
     ]
    },
    {
     "name": "stdout",
     "output_type": "stream",
     "text": [
      "                 all         68        373      0.438      0.391      0.351      0.151\n"
     ]
    },
    {
     "name": "stderr",
     "output_type": "stream",
     "text": [
      "     13/99     8.29G   0.05624   0.08194         0    0.1382       157       736: 100%|██████████| 17/17 [00:09<00:00,  1.76it/s]\n",
      "               Class     Images     Labels          P          R     mAP@.5 mAP@.5:.95: 100%|██████████| 3/3 [00:00<00:00,  4.65it/s]\n"
     ]
    },
    {
     "name": "stdout",
     "output_type": "stream",
     "text": [
      "                 all         68        373       0.29      0.402      0.274     0.0957\n"
     ]
    },
    {
     "name": "stderr",
     "output_type": "stream",
     "text": [
      "     14/99     8.29G   0.05464   0.07797         0    0.1326       127       736: 100%|██████████| 17/17 [00:09<00:00,  1.74it/s]\n",
      "               Class     Images     Labels          P          R     mAP@.5 mAP@.5:.95: 100%|██████████| 3/3 [00:00<00:00,  4.79it/s]\n"
     ]
    },
    {
     "name": "stdout",
     "output_type": "stream",
     "text": [
      "                 all         68        373      0.385      0.413      0.354      0.167\n"
     ]
    },
    {
     "name": "stderr",
     "output_type": "stream",
     "text": [
      "     15/99     8.29G   0.05406   0.07448         0    0.1285       125       736: 100%|██████████| 17/17 [00:09<00:00,  1.74it/s]\n",
      "               Class     Images     Labels          P          R     mAP@.5 mAP@.5:.95: 100%|██████████| 3/3 [00:00<00:00,  4.87it/s]\n"
     ]
    },
    {
     "name": "stdout",
     "output_type": "stream",
     "text": [
      "                 all         68        373       0.44      0.424       0.38      0.128\n"
     ]
    },
    {
     "name": "stderr",
     "output_type": "stream",
     "text": [
      "     16/99     8.29G   0.05549    0.0734         0    0.1289       142       736: 100%|██████████| 17/17 [00:09<00:00,  1.73it/s]\n",
      "               Class     Images     Labels          P          R     mAP@.5 mAP@.5:.95: 100%|██████████| 3/3 [00:00<00:00,  5.13it/s]\n"
     ]
    },
    {
     "name": "stdout",
     "output_type": "stream",
     "text": [
      "                 all         68        373      0.476      0.428      0.432      0.218\n"
     ]
    },
    {
     "name": "stderr",
     "output_type": "stream",
     "text": [
      "     17/99     8.29G    0.0492   0.06996         0    0.1192       104       736: 100%|██████████| 17/17 [00:09<00:00,  1.74it/s]\n",
      "               Class     Images     Labels          P          R     mAP@.5 mAP@.5:.95: 100%|██████████| 3/3 [00:00<00:00,  5.24it/s]\n"
     ]
    },
    {
     "name": "stdout",
     "output_type": "stream",
     "text": [
      "                 all         68        373       0.32      0.378      0.301     0.0903\n"
     ]
    },
    {
     "name": "stderr",
     "output_type": "stream",
     "text": [
      "     18/99     8.29G   0.04945   0.06845         0    0.1179       116       736: 100%|██████████| 17/17 [00:09<00:00,  1.72it/s]\n",
      "               Class     Images     Labels          P          R     mAP@.5 mAP@.5:.95: 100%|██████████| 3/3 [00:00<00:00,  4.91it/s]\n"
     ]
    },
    {
     "name": "stdout",
     "output_type": "stream",
     "text": [
      "                 all         68        373       0.28      0.485      0.286     0.0839\n"
     ]
    },
    {
     "name": "stderr",
     "output_type": "stream",
     "text": [
      "     19/99     8.29G   0.04945   0.07296         0    0.1224       109       736: 100%|██████████| 17/17 [00:09<00:00,  1.72it/s]\n",
      "               Class     Images     Labels          P          R     mAP@.5 mAP@.5:.95: 100%|██████████| 3/3 [00:03<00:00,  1.07s/it]\n"
     ]
    },
    {
     "name": "stdout",
     "output_type": "stream",
     "text": [
      "                 all         68        373      0.439      0.536      0.459      0.207\n"
     ]
    },
    {
     "name": "stderr",
     "output_type": "stream",
     "text": [
      "     20/99     8.29G   0.04769   0.06961         0    0.1173       142       736: 100%|██████████| 17/17 [00:09<00:00,  1.72it/s]\n",
      "               Class     Images     Labels          P          R     mAP@.5 mAP@.5:.95: 100%|██████████| 3/3 [00:00<00:00,  5.33it/s]\n"
     ]
    },
    {
     "name": "stdout",
     "output_type": "stream",
     "text": [
      "                 all         68        373      0.295      0.493      0.325     0.0989\n"
     ]
    },
    {
     "name": "stderr",
     "output_type": "stream",
     "text": [
      "     21/99     8.29G   0.04714   0.06974         0    0.1169       135       736: 100%|██████████| 17/17 [00:09<00:00,  1.73it/s]\n",
      "               Class     Images     Labels          P          R     mAP@.5 mAP@.5:.95: 100%|██████████| 3/3 [00:00<00:00,  5.32it/s]\n"
     ]
    },
    {
     "name": "stdout",
     "output_type": "stream",
     "text": [
      "                 all         68        373      0.326      0.413      0.315       0.12\n"
     ]
    },
    {
     "name": "stderr",
     "output_type": "stream",
     "text": [
      "     22/99     8.29G   0.04469   0.06833         0     0.113       111       736: 100%|██████████| 17/17 [00:09<00:00,  1.72it/s]\n",
      "               Class     Images     Labels          P          R     mAP@.5 mAP@.5:.95: 100%|██████████| 3/3 [00:00<00:00,  5.48it/s]\n"
     ]
    },
    {
     "name": "stdout",
     "output_type": "stream",
     "text": [
      "                 all         68        373      0.417      0.528      0.445      0.206\n"
     ]
    },
    {
     "name": "stderr",
     "output_type": "stream",
     "text": [
      "     23/99     8.29G   0.04463   0.06819         0    0.1128        96       736: 100%|██████████| 17/17 [00:09<00:00,  1.72it/s]\n",
      "               Class     Images     Labels          P          R     mAP@.5 mAP@.5:.95: 100%|██████████| 3/3 [00:00<00:00,  5.26it/s]\n"
     ]
    },
    {
     "name": "stdout",
     "output_type": "stream",
     "text": [
      "                 all         68        373      0.517       0.56      0.556      0.311\n"
     ]
    },
    {
     "name": "stderr",
     "output_type": "stream",
     "text": [
      "     24/99     8.29G   0.04443   0.06927         0    0.1137       148       736: 100%|██████████| 17/17 [00:09<00:00,  1.72it/s]\n",
      "               Class     Images     Labels          P          R     mAP@.5 mAP@.5:.95: 100%|██████████| 3/3 [00:00<00:00,  5.28it/s]\n"
     ]
    },
    {
     "name": "stdout",
     "output_type": "stream",
     "text": [
      "                 all         68        373      0.444      0.469      0.414      0.213\n"
     ]
    },
    {
     "name": "stderr",
     "output_type": "stream",
     "text": [
      "     25/99     8.29G   0.04279   0.06421         0     0.107       111       736: 100%|██████████| 17/17 [00:09<00:00,  1.72it/s]\n",
      "               Class     Images     Labels          P          R     mAP@.5 mAP@.5:.95: 100%|██████████| 3/3 [00:00<00:00,  5.65it/s]\n"
     ]
    },
    {
     "name": "stdout",
     "output_type": "stream",
     "text": [
      "                 all         68        373      0.503       0.59      0.543      0.279\n"
     ]
    },
    {
     "name": "stderr",
     "output_type": "stream",
     "text": [
      "     26/99     8.29G    0.0423   0.06573         0     0.108       169       736: 100%|██████████| 17/17 [00:09<00:00,  1.71it/s]\n",
      "               Class     Images     Labels          P          R     mAP@.5 mAP@.5:.95: 100%|██████████| 3/3 [00:00<00:00,  5.65it/s]\n"
     ]
    },
    {
     "name": "stdout",
     "output_type": "stream",
     "text": [
      "                 all         68        373      0.475      0.633       0.54      0.233\n"
     ]
    },
    {
     "name": "stderr",
     "output_type": "stream",
     "text": [
      "     27/99     8.29G   0.04291   0.06278         0    0.1057       104       736: 100%|██████████| 17/17 [00:09<00:00,  1.71it/s]\n",
      "               Class     Images     Labels          P          R     mAP@.5 mAP@.5:.95: 100%|██████████| 3/3 [00:00<00:00,  5.69it/s]\n"
     ]
    },
    {
     "name": "stdout",
     "output_type": "stream",
     "text": [
      "                 all         68        373      0.583      0.555      0.588      0.287\n"
     ]
    },
    {
     "name": "stderr",
     "output_type": "stream",
     "text": [
      "     28/99     8.29G   0.04299   0.06279         0    0.1058       141       736: 100%|██████████| 17/17 [00:09<00:00,  1.70it/s]\n",
      "               Class     Images     Labels          P          R     mAP@.5 mAP@.5:.95: 100%|██████████| 3/3 [00:00<00:00,  5.73it/s]\n"
     ]
    },
    {
     "name": "stdout",
     "output_type": "stream",
     "text": [
      "                 all         68        373      0.557      0.587      0.561       0.28\n"
     ]
    },
    {
     "name": "stderr",
     "output_type": "stream",
     "text": [
      "     29/99     8.29G   0.04516   0.06022         0    0.1054       135       736: 100%|██████████| 17/17 [00:09<00:00,  1.71it/s]\n",
      "               Class     Images     Labels          P          R     mAP@.5 mAP@.5:.95: 100%|██████████| 3/3 [00:03<00:00,  1.05s/it]\n"
     ]
    },
    {
     "name": "stdout",
     "output_type": "stream",
     "text": [
      "                 all         68        373      0.529      0.461      0.471       0.23\n"
     ]
    },
    {
     "name": "stderr",
     "output_type": "stream",
     "text": [
      "     30/99     8.29G   0.04847   0.05907         0    0.1075       149       736: 100%|██████████| 17/17 [00:09<00:00,  1.73it/s]\n",
      "               Class     Images     Labels          P          R     mAP@.5 mAP@.5:.95: 100%|██████████| 3/3 [00:00<00:00,  5.42it/s]\n"
     ]
    },
    {
     "name": "stdout",
     "output_type": "stream",
     "text": [
      "                 all         68        373      0.496      0.509      0.507      0.184\n"
     ]
    },
    {
     "name": "stderr",
     "output_type": "stream",
     "text": [
      "     31/99     8.29G   0.04612   0.05955         0    0.1057       186       736: 100%|██████████| 17/17 [00:09<00:00,  1.72it/s]\n",
      "               Class     Images     Labels          P          R     mAP@.5 mAP@.5:.95: 100%|██████████| 3/3 [00:00<00:00,  5.48it/s]\n"
     ]
    },
    {
     "name": "stdout",
     "output_type": "stream",
     "text": [
      "                 all         68        373      0.449      0.627      0.524      0.281\n"
     ]
    },
    {
     "name": "stderr",
     "output_type": "stream",
     "text": [
      "     32/99     8.29G   0.04463   0.05918         0    0.1038       135       736: 100%|██████████| 17/17 [00:09<00:00,  1.72it/s]\n",
      "               Class     Images     Labels          P          R     mAP@.5 mAP@.5:.95: 100%|██████████| 3/3 [00:00<00:00,  5.53it/s]\n"
     ]
    },
    {
     "name": "stdout",
     "output_type": "stream",
     "text": [
      "                 all         68        373      0.478      0.578       0.51      0.253\n"
     ]
    },
    {
     "name": "stderr",
     "output_type": "stream",
     "text": [
      "     33/99     8.29G   0.04531   0.06005         0    0.1054       123       736: 100%|██████████| 17/17 [00:09<00:00,  1.73it/s]\n",
      "               Class     Images     Labels          P          R     mAP@.5 mAP@.5:.95: 100%|██████████| 3/3 [00:00<00:00,  5.62it/s]\n"
     ]
    },
    {
     "name": "stdout",
     "output_type": "stream",
     "text": [
      "                 all         68        373      0.422       0.52      0.454      0.222\n"
     ]
    },
    {
     "name": "stderr",
     "output_type": "stream",
     "text": [
      "     34/99     8.29G   0.04044   0.05846         0   0.09891       135       736: 100%|██████████| 17/17 [00:09<00:00,  1.72it/s]\n",
      "               Class     Images     Labels          P          R     mAP@.5 mAP@.5:.95: 100%|██████████| 3/3 [00:00<00:00,  5.89it/s]\n"
     ]
    },
    {
     "name": "stdout",
     "output_type": "stream",
     "text": [
      "                 all         68        373      0.486      0.523      0.488      0.231\n"
     ]
    },
    {
     "name": "stderr",
     "output_type": "stream",
     "text": [
      "     35/99     8.29G   0.04225   0.05579         0   0.09804       151       736: 100%|██████████| 17/17 [00:09<00:00,  1.71it/s]\n",
      "               Class     Images     Labels          P          R     mAP@.5 mAP@.5:.95: 100%|██████████| 3/3 [00:00<00:00,  5.58it/s]\n"
     ]
    },
    {
     "name": "stdout",
     "output_type": "stream",
     "text": [
      "                 all         68        373      0.588      0.547      0.551      0.277\n"
     ]
    },
    {
     "name": "stderr",
     "output_type": "stream",
     "text": [
      "     36/99     8.29G   0.04021   0.05766         0   0.09787       139       736: 100%|██████████| 17/17 [00:09<00:00,  1.72it/s]\n",
      "               Class     Images     Labels          P          R     mAP@.5 mAP@.5:.95: 100%|██████████| 3/3 [00:00<00:00,  5.76it/s]\n"
     ]
    },
    {
     "name": "stdout",
     "output_type": "stream",
     "text": [
      "                 all         68        373      0.555      0.555      0.531       0.24\n"
     ]
    },
    {
     "name": "stderr",
     "output_type": "stream",
     "text": [
      "     37/99     8.29G   0.03954   0.05433         0   0.09386       125       736: 100%|██████████| 17/17 [00:09<00:00,  1.71it/s]\n",
      "               Class     Images     Labels          P          R     mAP@.5 mAP@.5:.95: 100%|██████████| 3/3 [00:00<00:00,  5.82it/s]\n"
     ]
    },
    {
     "name": "stdout",
     "output_type": "stream",
     "text": [
      "                 all         68        373      0.537      0.563      0.549      0.305\n"
     ]
    },
    {
     "name": "stderr",
     "output_type": "stream",
     "text": [
      "     38/99     8.29G   0.03825    0.0551         0   0.09335       123       736: 100%|██████████| 17/17 [00:09<00:00,  1.72it/s]\n",
      "               Class     Images     Labels          P          R     mAP@.5 mAP@.5:.95: 100%|██████████| 3/3 [00:00<00:00,  5.54it/s]\n"
     ]
    },
    {
     "name": "stdout",
     "output_type": "stream",
     "text": [
      "                 all         68        373      0.511      0.566      0.537      0.253\n"
     ]
    },
    {
     "name": "stderr",
     "output_type": "stream",
     "text": [
      "     39/99     8.29G   0.03936   0.05326         0   0.09262       132       736: 100%|██████████| 17/17 [00:09<00:00,  1.71it/s]\n",
      "               Class     Images     Labels          P          R     mAP@.5 mAP@.5:.95: 100%|██████████| 3/3 [00:03<00:00,  1.03s/it]\n"
     ]
    },
    {
     "name": "stdout",
     "output_type": "stream",
     "text": [
      "                 all         68        373      0.541      0.534      0.529       0.29\n"
     ]
    },
    {
     "name": "stderr",
     "output_type": "stream",
     "text": [
      "     40/99     8.29G    0.0359   0.05393         0   0.08983       115       736: 100%|██████████| 17/17 [00:09<00:00,  1.72it/s]\n",
      "               Class     Images     Labels          P          R     mAP@.5 mAP@.5:.95: 100%|██████████| 3/3 [00:00<00:00,  5.33it/s]\n"
     ]
    },
    {
     "name": "stdout",
     "output_type": "stream",
     "text": [
      "                 all         68        373       0.52      0.504      0.497      0.242\n"
     ]
    },
    {
     "name": "stderr",
     "output_type": "stream",
     "text": [
      "     41/99     8.29G   0.03666   0.05279         0   0.08944       159       736: 100%|██████████| 17/17 [00:09<00:00,  1.71it/s]\n",
      "               Class     Images     Labels          P          R     mAP@.5 mAP@.5:.95: 100%|██████████| 3/3 [00:00<00:00,  5.92it/s]\n"
     ]
    },
    {
     "name": "stdout",
     "output_type": "stream",
     "text": [
      "                 all         68        373      0.384      0.627      0.441       0.23\n"
     ]
    },
    {
     "name": "stderr",
     "output_type": "stream",
     "text": [
      "     42/99     8.29G   0.03979   0.05088         0   0.09068       110       736: 100%|██████████| 17/17 [00:09<00:00,  1.71it/s]\n",
      "               Class     Images     Labels          P          R     mAP@.5 mAP@.5:.95: 100%|██████████| 3/3 [00:00<00:00,  5.74it/s]\n"
     ]
    },
    {
     "name": "stdout",
     "output_type": "stream",
     "text": [
      "                 all         68        373      0.545      0.555      0.531      0.263\n"
     ]
    },
    {
     "name": "stderr",
     "output_type": "stream",
     "text": [
      "     43/99     8.29G   0.03646    0.0499         0   0.08636       137       736: 100%|██████████| 17/17 [00:09<00:00,  1.71it/s]\n",
      "               Class     Images     Labels          P          R     mAP@.5 mAP@.5:.95: 100%|██████████| 3/3 [00:00<00:00,  5.74it/s]\n"
     ]
    },
    {
     "name": "stdout",
     "output_type": "stream",
     "text": [
      "                 all         68        373      0.505      0.571      0.519      0.268\n"
     ]
    },
    {
     "name": "stderr",
     "output_type": "stream",
     "text": [
      "     44/99     8.29G    0.0348   0.05332         0   0.08812       167       736: 100%|██████████| 17/17 [00:09<00:00,  1.71it/s]\n",
      "               Class     Images     Labels          P          R     mAP@.5 mAP@.5:.95: 100%|██████████| 3/3 [00:00<00:00,  5.94it/s]\n"
     ]
    },
    {
     "name": "stdout",
     "output_type": "stream",
     "text": [
      "                 all         68        373      0.558      0.491      0.502       0.27\n"
     ]
    },
    {
     "name": "stderr",
     "output_type": "stream",
     "text": [
      "     45/99     8.29G   0.03627   0.05176         0   0.08803        96       736: 100%|██████████| 17/17 [00:09<00:00,  1.71it/s]\n",
      "               Class     Images     Labels          P          R     mAP@.5 mAP@.5:.95: 100%|██████████| 3/3 [00:00<00:00,  5.35it/s]\n"
     ]
    },
    {
     "name": "stdout",
     "output_type": "stream",
     "text": [
      "                 all         68        373      0.466       0.52      0.477      0.267\n"
     ]
    },
    {
     "name": "stderr",
     "output_type": "stream",
     "text": [
      "     46/99     8.29G   0.03354   0.04963         0   0.08317       160       736: 100%|██████████| 17/17 [00:09<00:00,  1.71it/s]\n",
      "               Class     Images     Labels          P          R     mAP@.5 mAP@.5:.95: 100%|██████████| 3/3 [00:00<00:00,  5.66it/s]\n"
     ]
    },
    {
     "name": "stdout",
     "output_type": "stream",
     "text": [
      "                 all         68        373      0.573      0.523      0.558      0.292\n"
     ]
    },
    {
     "name": "stderr",
     "output_type": "stream",
     "text": [
      "     47/99     8.29G   0.03574   0.05173         0   0.08747       116       736: 100%|██████████| 17/17 [00:09<00:00,  1.71it/s]\n",
      "               Class     Images     Labels          P          R     mAP@.5 mAP@.5:.95: 100%|██████████| 3/3 [00:00<00:00,  5.27it/s]\n"
     ]
    },
    {
     "name": "stdout",
     "output_type": "stream",
     "text": [
      "                 all         68        373      0.561      0.501      0.517      0.285\n"
     ]
    },
    {
     "name": "stderr",
     "output_type": "stream",
     "text": [
      "     48/99     8.29G   0.03589   0.04834         0   0.08423       151       736: 100%|██████████| 17/17 [00:09<00:00,  1.71it/s]\n",
      "               Class     Images     Labels          P          R     mAP@.5 mAP@.5:.95: 100%|██████████| 3/3 [00:00<00:00,  5.96it/s]\n"
     ]
    },
    {
     "name": "stdout",
     "output_type": "stream",
     "text": [
      "                 all         68        373      0.518      0.558      0.526      0.307\n"
     ]
    },
    {
     "name": "stderr",
     "output_type": "stream",
     "text": [
      "     49/99     8.29G   0.03471   0.05334         0   0.08805       130       736: 100%|██████████| 17/17 [00:09<00:00,  1.71it/s]\n",
      "               Class     Images     Labels          P          R     mAP@.5 mAP@.5:.95: 100%|██████████| 3/3 [00:03<00:00,  1.01s/it]\n"
     ]
    },
    {
     "name": "stdout",
     "output_type": "stream",
     "text": [
      "                 all         68        373      0.538      0.638       0.56       0.31\n"
     ]
    },
    {
     "name": "stderr",
     "output_type": "stream",
     "text": [
      "     50/99     8.29G   0.04053   0.04625         0   0.08678       127       736: 100%|██████████| 17/17 [00:09<00:00,  1.72it/s]\n",
      "               Class     Images     Labels          P          R     mAP@.5 mAP@.5:.95: 100%|██████████| 3/3 [00:00<00:00,  6.00it/s]\n"
     ]
    },
    {
     "name": "stdout",
     "output_type": "stream",
     "text": [
      "                 all         68        373      0.601      0.525      0.545      0.302\n"
     ]
    },
    {
     "name": "stderr",
     "output_type": "stream",
     "text": [
      "     51/99     8.29G   0.03442   0.04831         0   0.08273       129       736: 100%|██████████| 17/17 [00:09<00:00,  1.72it/s]\n",
      "               Class     Images     Labels          P          R     mAP@.5 mAP@.5:.95: 100%|██████████| 3/3 [00:00<00:00,  5.87it/s]\n"
     ]
    },
    {
     "name": "stdout",
     "output_type": "stream",
     "text": [
      "                 all         68        373      0.559      0.608      0.554      0.269\n"
     ]
    },
    {
     "name": "stderr",
     "output_type": "stream",
     "text": [
      "     52/99     8.29G   0.03579   0.04732         0   0.08311       131       736: 100%|██████████| 17/17 [00:09<00:00,  1.71it/s]\n",
      "               Class     Images     Labels          P          R     mAP@.5 mAP@.5:.95: 100%|██████████| 3/3 [00:00<00:00,  5.71it/s]\n"
     ]
    },
    {
     "name": "stdout",
     "output_type": "stream",
     "text": [
      "                 all         68        373      0.556      0.566      0.541      0.274\n"
     ]
    },
    {
     "name": "stderr",
     "output_type": "stream",
     "text": [
      "     53/99     8.29G   0.03556   0.04707         0   0.08263       144       736: 100%|██████████| 17/17 [00:09<00:00,  1.71it/s]\n",
      "               Class     Images     Labels          P          R     mAP@.5 mAP@.5:.95: 100%|██████████| 3/3 [00:00<00:00,  5.99it/s]\n"
     ]
    },
    {
     "name": "stdout",
     "output_type": "stream",
     "text": [
      "                 all         68        373      0.505      0.584      0.546      0.283\n"
     ]
    },
    {
     "name": "stderr",
     "output_type": "stream",
     "text": [
      "     54/99     8.29G   0.03256   0.04711         0   0.07968       118       736: 100%|██████████| 17/17 [00:09<00:00,  1.72it/s]\n",
      "               Class     Images     Labels          P          R     mAP@.5 mAP@.5:.95: 100%|██████████| 3/3 [00:00<00:00,  6.07it/s]\n"
     ]
    },
    {
     "name": "stdout",
     "output_type": "stream",
     "text": [
      "                 all         68        373      0.467      0.589      0.533      0.294\n"
     ]
    },
    {
     "name": "stderr",
     "output_type": "stream",
     "text": [
      "     55/99     8.29G   0.03507   0.04585         0   0.08091       142       736: 100%|██████████| 17/17 [00:09<00:00,  1.71it/s]\n",
      "               Class     Images     Labels          P          R     mAP@.5 mAP@.5:.95: 100%|██████████| 3/3 [00:00<00:00,  5.96it/s]\n"
     ]
    },
    {
     "name": "stdout",
     "output_type": "stream",
     "text": [
      "                 all         68        373      0.604      0.523      0.564      0.306\n"
     ]
    },
    {
     "name": "stderr",
     "output_type": "stream",
     "text": [
      "     56/99     8.29G    0.0336   0.04727         0   0.08087       156       736: 100%|██████████| 17/17 [00:09<00:00,  1.71it/s]\n",
      "               Class     Images     Labels          P          R     mAP@.5 mAP@.5:.95: 100%|██████████| 3/3 [00:00<00:00,  5.72it/s]\n"
     ]
    },
    {
     "name": "stdout",
     "output_type": "stream",
     "text": [
      "                 all         68        373       0.55      0.512      0.516      0.263\n"
     ]
    },
    {
     "name": "stderr",
     "output_type": "stream",
     "text": [
      "     57/99     8.29G   0.03717   0.04604         0   0.08321       115       736: 100%|██████████| 17/17 [00:09<00:00,  1.70it/s]\n",
      "               Class     Images     Labels          P          R     mAP@.5 mAP@.5:.95: 100%|██████████| 3/3 [00:00<00:00,  6.09it/s]\n"
     ]
    },
    {
     "name": "stdout",
     "output_type": "stream",
     "text": [
      "                 all         68        373      0.491       0.59      0.513      0.286\n"
     ]
    },
    {
     "name": "stderr",
     "output_type": "stream",
     "text": [
      "     58/99     8.29G   0.03127   0.04278         0   0.07405       164       736: 100%|██████████| 17/17 [00:09<00:00,  1.72it/s]\n",
      "               Class     Images     Labels          P          R     mAP@.5 mAP@.5:.95: 100%|██████████| 3/3 [00:00<00:00,  6.02it/s]\n"
     ]
    },
    {
     "name": "stdout",
     "output_type": "stream",
     "text": [
      "                 all         68        373      0.564      0.552      0.557       0.33\n"
     ]
    },
    {
     "name": "stderr",
     "output_type": "stream",
     "text": [
      "     59/99     8.29G   0.02896   0.04149         0   0.07046       128       736: 100%|██████████| 17/17 [00:09<00:00,  1.72it/s]\n",
      "               Class     Images     Labels          P          R     mAP@.5 mAP@.5:.95: 100%|██████████| 3/3 [00:02<00:00,  1.00it/s]\n"
     ]
    },
    {
     "name": "stdout",
     "output_type": "stream",
     "text": [
      "                 all         68        373      0.537      0.523      0.517      0.314\n"
     ]
    },
    {
     "name": "stderr",
     "output_type": "stream",
     "text": [
      "     60/99     8.29G   0.03279   0.04428         0   0.07708       154       736: 100%|██████████| 17/17 [00:09<00:00,  1.73it/s]\n",
      "               Class     Images     Labels          P          R     mAP@.5 mAP@.5:.95: 100%|██████████| 3/3 [00:00<00:00,  5.88it/s]\n"
     ]
    },
    {
     "name": "stdout",
     "output_type": "stream",
     "text": [
      "                 all         68        373      0.458       0.52       0.43      0.214\n"
     ]
    },
    {
     "name": "stderr",
     "output_type": "stream",
     "text": [
      "     61/99     8.29G   0.03167   0.04424         0   0.07591       113       736: 100%|██████████| 17/17 [00:09<00:00,  1.72it/s]\n",
      "               Class     Images     Labels          P          R     mAP@.5 mAP@.5:.95: 100%|██████████| 3/3 [00:00<00:00,  6.03it/s]\n"
     ]
    },
    {
     "name": "stdout",
     "output_type": "stream",
     "text": [
      "                 all         68        373      0.508      0.507      0.481      0.273\n"
     ]
    },
    {
     "name": "stderr",
     "output_type": "stream",
     "text": [
      "     62/99     8.29G   0.03054   0.04181         0   0.07235       146       736: 100%|██████████| 17/17 [00:09<00:00,  1.73it/s]\n",
      "               Class     Images     Labels          P          R     mAP@.5 mAP@.5:.95: 100%|██████████| 3/3 [00:00<00:00,  5.91it/s]\n"
     ]
    },
    {
     "name": "stdout",
     "output_type": "stream",
     "text": [
      "                 all         68        373      0.501      0.574      0.511      0.306\n"
     ]
    },
    {
     "name": "stderr",
     "output_type": "stream",
     "text": [
      "     63/99     8.29G   0.02837   0.04337         0   0.07174       120       736: 100%|██████████| 17/17 [00:09<00:00,  1.72it/s]\n",
      "               Class     Images     Labels          P          R     mAP@.5 mAP@.5:.95: 100%|██████████| 3/3 [00:00<00:00,  5.80it/s]\n"
     ]
    },
    {
     "name": "stdout",
     "output_type": "stream",
     "text": [
      "                 all         68        373      0.537      0.483      0.504      0.298\n"
     ]
    },
    {
     "name": "stderr",
     "output_type": "stream",
     "text": [
      "     64/99     8.29G   0.02791   0.04038         0   0.06828        93       736: 100%|██████████| 17/17 [00:09<00:00,  1.72it/s]\n",
      "               Class     Images     Labels          P          R     mAP@.5 mAP@.5:.95: 100%|██████████| 3/3 [00:00<00:00,  5.79it/s]\n"
     ]
    },
    {
     "name": "stdout",
     "output_type": "stream",
     "text": [
      "                 all         68        373      0.502      0.539      0.491      0.297\n"
     ]
    },
    {
     "name": "stderr",
     "output_type": "stream",
     "text": [
      "     65/99     8.29G   0.02856   0.04148         0   0.07004       133       736: 100%|██████████| 17/17 [00:09<00:00,  1.71it/s]\n",
      "               Class     Images     Labels          P          R     mAP@.5 mAP@.5:.95: 100%|██████████| 3/3 [00:00<00:00,  5.79it/s]\n"
     ]
    },
    {
     "name": "stdout",
     "output_type": "stream",
     "text": [
      "                 all         68        373      0.527      0.531      0.512      0.321\n"
     ]
    },
    {
     "name": "stderr",
     "output_type": "stream",
     "text": [
      "     66/99     8.29G   0.02755   0.04031         0   0.06786       147       736: 100%|██████████| 17/17 [00:09<00:00,  1.72it/s]\n",
      "               Class     Images     Labels          P          R     mAP@.5 mAP@.5:.95: 100%|██████████| 3/3 [00:00<00:00,  5.66it/s]\n"
     ]
    },
    {
     "name": "stdout",
     "output_type": "stream",
     "text": [
      "                 all         68        373      0.638      0.488      0.557      0.345\n"
     ]
    },
    {
     "name": "stderr",
     "output_type": "stream",
     "text": [
      "     67/99     8.29G   0.02502   0.03942         0   0.06443       133       736: 100%|██████████| 17/17 [00:09<00:00,  1.72it/s]\n",
      "               Class     Images     Labels          P          R     mAP@.5 mAP@.5:.95: 100%|██████████| 3/3 [00:00<00:00,  5.72it/s]\n"
     ]
    },
    {
     "name": "stdout",
     "output_type": "stream",
     "text": [
      "                 all         68        373       0.57      0.544      0.552      0.333\n"
     ]
    },
    {
     "name": "stderr",
     "output_type": "stream",
     "text": [
      "     68/99     8.29G   0.02598    0.0374         0   0.06338       129       736: 100%|██████████| 17/17 [00:09<00:00,  1.71it/s]\n",
      "               Class     Images     Labels          P          R     mAP@.5 mAP@.5:.95: 100%|██████████| 3/3 [00:00<00:00,  5.80it/s]\n"
     ]
    },
    {
     "name": "stdout",
     "output_type": "stream",
     "text": [
      "                 all         68        373      0.506      0.576      0.548      0.323\n"
     ]
    },
    {
     "name": "stderr",
     "output_type": "stream",
     "text": [
      "     69/99     8.29G   0.02652   0.03764         0   0.06416       123       736: 100%|██████████| 17/17 [00:09<00:00,  1.71it/s]\n",
      "               Class     Images     Labels          P          R     mAP@.5 mAP@.5:.95: 100%|██████████| 3/3 [00:03<00:00,  1.03s/it]\n"
     ]
    },
    {
     "name": "stdout",
     "output_type": "stream",
     "text": [
      "                 all         68        373       0.55      0.544      0.544      0.317\n"
     ]
    },
    {
     "name": "stderr",
     "output_type": "stream",
     "text": [
      "     70/99     8.29G   0.02545   0.03829         0   0.06373       120       736: 100%|██████████| 17/17 [00:09<00:00,  1.72it/s]\n",
      "               Class     Images     Labels          P          R     mAP@.5 mAP@.5:.95: 100%|██████████| 3/3 [00:00<00:00,  5.99it/s]\n"
     ]
    },
    {
     "name": "stdout",
     "output_type": "stream",
     "text": [
      "                 all         68        373      0.517      0.632      0.574      0.339\n"
     ]
    },
    {
     "name": "stderr",
     "output_type": "stream",
     "text": [
      "     71/99     8.29G   0.02452   0.03606         0   0.06058       118       736: 100%|██████████| 17/17 [00:09<00:00,  1.72it/s]\n",
      "               Class     Images     Labels          P          R     mAP@.5 mAP@.5:.95: 100%|██████████| 3/3 [00:00<00:00,  6.10it/s]\n"
     ]
    },
    {
     "name": "stdout",
     "output_type": "stream",
     "text": [
      "                 all         68        373      0.641      0.499      0.558      0.337\n"
     ]
    },
    {
     "name": "stderr",
     "output_type": "stream",
     "text": [
      "     72/99     8.29G   0.02364   0.03691         0   0.06055        85       736: 100%|██████████| 17/17 [00:09<00:00,  1.72it/s]\n",
      "               Class     Images     Labels          P          R     mAP@.5 mAP@.5:.95: 100%|██████████| 3/3 [00:00<00:00,  5.74it/s]\n"
     ]
    },
    {
     "name": "stdout",
     "output_type": "stream",
     "text": [
      "                 all         68        373       0.48      0.638      0.538      0.325\n"
     ]
    },
    {
     "name": "stderr",
     "output_type": "stream",
     "text": [
      "     73/99     8.29G   0.02302   0.03744         0   0.06046       138       736: 100%|██████████| 17/17 [00:09<00:00,  1.72it/s]\n",
      "               Class     Images     Labels          P          R     mAP@.5 mAP@.5:.95: 100%|██████████| 3/3 [00:00<00:00,  6.12it/s]\n"
     ]
    },
    {
     "name": "stdout",
     "output_type": "stream",
     "text": [
      "                 all         68        373      0.525      0.576      0.538      0.323\n"
     ]
    },
    {
     "name": "stderr",
     "output_type": "stream",
     "text": [
      "     74/99     8.29G   0.02386   0.03672         0   0.06058        99       736: 100%|██████████| 17/17 [00:09<00:00,  1.72it/s]\n",
      "               Class     Images     Labels          P          R     mAP@.5 mAP@.5:.95: 100%|██████████| 3/3 [00:00<00:00,  5.68it/s]\n"
     ]
    },
    {
     "name": "stdout",
     "output_type": "stream",
     "text": [
      "                 all         68        373       0.61      0.504      0.549      0.334\n"
     ]
    },
    {
     "name": "stderr",
     "output_type": "stream",
     "text": [
      "     75/99     8.29G   0.02337   0.03515         0   0.05852       142       736: 100%|██████████| 17/17 [00:09<00:00,  1.72it/s]\n",
      "               Class     Images     Labels          P          R     mAP@.5 mAP@.5:.95: 100%|██████████| 3/3 [00:00<00:00,  5.60it/s]\n"
     ]
    },
    {
     "name": "stdout",
     "output_type": "stream",
     "text": [
      "                 all         68        373      0.627      0.483      0.545      0.333\n"
     ]
    },
    {
     "name": "stderr",
     "output_type": "stream",
     "text": [
      "     76/99     8.29G   0.02302   0.03488         0    0.0579       131       736: 100%|██████████| 17/17 [00:09<00:00,  1.71it/s]\n",
      "               Class     Images     Labels          P          R     mAP@.5 mAP@.5:.95: 100%|██████████| 3/3 [00:00<00:00,  6.03it/s]\n"
     ]
    },
    {
     "name": "stdout",
     "output_type": "stream",
     "text": [
      "                 all         68        373      0.597      0.525      0.547      0.334\n"
     ]
    },
    {
     "name": "stderr",
     "output_type": "stream",
     "text": [
      "     77/99     8.29G   0.02249    0.0361         0   0.05859       113       736: 100%|██████████| 17/17 [00:09<00:00,  1.72it/s]\n",
      "               Class     Images     Labels          P          R     mAP@.5 mAP@.5:.95: 100%|██████████| 3/3 [00:00<00:00,  5.78it/s]\n"
     ]
    },
    {
     "name": "stdout",
     "output_type": "stream",
     "text": [
      "                 all         68        373      0.571      0.534      0.531       0.32\n"
     ]
    },
    {
     "name": "stderr",
     "output_type": "stream",
     "text": [
      "     78/99     8.29G   0.02164   0.03374         0   0.05538       128       736: 100%|██████████| 17/17 [00:09<00:00,  1.72it/s]\n",
      "               Class     Images     Labels          P          R     mAP@.5 mAP@.5:.95: 100%|██████████| 3/3 [00:00<00:00,  6.09it/s]\n"
     ]
    },
    {
     "name": "stdout",
     "output_type": "stream",
     "text": [
      "                 all         68        373      0.563      0.528       0.54      0.329\n"
     ]
    },
    {
     "name": "stderr",
     "output_type": "stream",
     "text": [
      "     79/99     8.29G   0.02203   0.03426         0    0.0563       156       736: 100%|██████████| 17/17 [00:09<00:00,  1.72it/s]\n",
      "               Class     Images     Labels          P          R     mAP@.5 mAP@.5:.95: 100%|██████████| 3/3 [00:02<00:00,  1.01it/s]\n"
     ]
    },
    {
     "name": "stdout",
     "output_type": "stream",
     "text": [
      "                 all         68        373      0.582      0.493      0.509        0.3\n"
     ]
    },
    {
     "name": "stderr",
     "output_type": "stream",
     "text": [
      "     80/99     8.29G   0.02106   0.03185         0   0.05291       133       736: 100%|██████████| 17/17 [00:09<00:00,  1.73it/s]\n",
      "               Class     Images     Labels          P          R     mAP@.5 mAP@.5:.95: 100%|██████████| 3/3 [00:00<00:00,  6.08it/s]\n"
     ]
    },
    {
     "name": "stdout",
     "output_type": "stream",
     "text": [
      "                 all         68        373      0.595      0.504      0.521      0.312\n"
     ]
    },
    {
     "name": "stderr",
     "output_type": "stream",
     "text": [
      "     81/99     8.29G   0.02163   0.03452         0   0.05616       177       736: 100%|██████████| 17/17 [00:09<00:00,  1.72it/s]\n",
      "               Class     Images     Labels          P          R     mAP@.5 mAP@.5:.95: 100%|██████████| 3/3 [00:00<00:00,  6.13it/s]\n"
     ]
    },
    {
     "name": "stdout",
     "output_type": "stream",
     "text": [
      "                 all         68        373      0.539      0.547       0.52      0.299\n"
     ]
    },
    {
     "name": "stderr",
     "output_type": "stream",
     "text": [
      "     82/99     8.29G   0.02115   0.03406         0    0.0552       151       736: 100%|██████████| 17/17 [00:09<00:00,  1.72it/s]\n",
      "               Class     Images     Labels          P          R     mAP@.5 mAP@.5:.95: 100%|██████████| 3/3 [00:00<00:00,  6.09it/s]\n"
     ]
    },
    {
     "name": "stdout",
     "output_type": "stream",
     "text": [
      "                 all         68        373      0.547      0.542      0.521      0.315\n"
     ]
    },
    {
     "name": "stderr",
     "output_type": "stream",
     "text": [
      "     83/99     8.29G   0.02095   0.03358         0   0.05453       139       736: 100%|██████████| 17/17 [00:09<00:00,  1.72it/s]\n",
      "               Class     Images     Labels          P          R     mAP@.5 mAP@.5:.95: 100%|██████████| 3/3 [00:00<00:00,  6.10it/s]\n"
     ]
    },
    {
     "name": "stdout",
     "output_type": "stream",
     "text": [
      "                 all         68        373      0.605      0.499      0.541      0.324\n"
     ]
    },
    {
     "name": "stderr",
     "output_type": "stream",
     "text": [
      "     84/99     8.29G   0.02123    0.0363         0   0.05753       132       736: 100%|██████████| 17/17 [00:09<00:00,  1.72it/s]\n",
      "               Class     Images     Labels          P          R     mAP@.5 mAP@.5:.95: 100%|██████████| 3/3 [00:00<00:00,  6.06it/s]\n"
     ]
    },
    {
     "name": "stdout",
     "output_type": "stream",
     "text": [
      "                 all         68        373      0.589      0.531       0.54      0.321\n"
     ]
    },
    {
     "name": "stderr",
     "output_type": "stream",
     "text": [
      "     85/99     8.29G    0.0216   0.03303         0   0.05463       170       736: 100%|██████████| 17/17 [00:09<00:00,  1.72it/s]\n",
      "               Class     Images     Labels          P          R     mAP@.5 mAP@.5:.95: 100%|██████████| 3/3 [00:00<00:00,  5.86it/s]\n"
     ]
    },
    {
     "name": "stdout",
     "output_type": "stream",
     "text": [
      "                 all         68        373      0.627      0.491      0.537      0.327\n"
     ]
    },
    {
     "name": "stderr",
     "output_type": "stream",
     "text": [
      "     86/99     8.29G   0.02143   0.03314         0   0.05457       128       736: 100%|██████████| 17/17 [00:09<00:00,  1.71it/s]\n",
      "               Class     Images     Labels          P          R     mAP@.5 mAP@.5:.95: 100%|██████████| 3/3 [00:00<00:00,  5.88it/s]\n"
     ]
    },
    {
     "name": "stdout",
     "output_type": "stream",
     "text": [
      "                 all         68        373      0.553      0.547      0.538      0.332\n"
     ]
    },
    {
     "name": "stderr",
     "output_type": "stream",
     "text": [
      "     87/99     8.29G   0.02043    0.0326         0   0.05303       162       736: 100%|██████████| 17/17 [00:09<00:00,  1.71it/s]\n",
      "               Class     Images     Labels          P          R     mAP@.5 mAP@.5:.95: 100%|██████████| 3/3 [00:00<00:00,  5.85it/s]\n"
     ]
    },
    {
     "name": "stdout",
     "output_type": "stream",
     "text": [
      "                 all         68        373      0.506      0.587       0.54      0.329\n"
     ]
    },
    {
     "name": "stderr",
     "output_type": "stream",
     "text": [
      "     88/99     8.29G   0.02048    0.0342         0   0.05468       113       736: 100%|██████████| 17/17 [00:09<00:00,  1.72it/s]\n",
      "               Class     Images     Labels          P          R     mAP@.5 mAP@.5:.95: 100%|██████████| 3/3 [00:00<00:00,  6.11it/s]\n"
     ]
    },
    {
     "name": "stdout",
     "output_type": "stream",
     "text": [
      "                 all         68        373       0.59       0.52      0.547      0.333\n"
     ]
    },
    {
     "name": "stderr",
     "output_type": "stream",
     "text": [
      "     89/99     8.29G   0.02072   0.03288         0    0.0536       123       736: 100%|██████████| 17/17 [00:09<00:00,  1.71it/s]\n",
      "               Class     Images     Labels          P          R     mAP@.5 mAP@.5:.95: 100%|██████████| 3/3 [00:02<00:00,  1.02it/s]\n"
     ]
    },
    {
     "name": "stdout",
     "output_type": "stream",
     "text": [
      "                 all         68        373      0.569      0.542       0.54      0.338\n"
     ]
    },
    {
     "name": "stderr",
     "output_type": "stream",
     "text": [
      "     90/99     8.29G   0.02032   0.03197         0   0.05229       127       736: 100%|██████████| 17/17 [00:09<00:00,  1.73it/s]\n",
      "               Class     Images     Labels          P          R     mAP@.5 mAP@.5:.95: 100%|██████████| 3/3 [00:00<00:00,  5.82it/s]\n"
     ]
    },
    {
     "name": "stdout",
     "output_type": "stream",
     "text": [
      "                 all         68        373      0.523      0.563      0.528      0.329\n"
     ]
    },
    {
     "name": "stderr",
     "output_type": "stream",
     "text": [
      "     91/99     8.29G      0.02   0.03174         0   0.05174       115       736: 100%|██████████| 17/17 [00:09<00:00,  1.72it/s]\n",
      "               Class     Images     Labels          P          R     mAP@.5 mAP@.5:.95: 100%|██████████| 3/3 [00:00<00:00,  6.15it/s]\n"
     ]
    },
    {
     "name": "stdout",
     "output_type": "stream",
     "text": [
      "                 all         68        373      0.477      0.615      0.523      0.326\n"
     ]
    },
    {
     "name": "stderr",
     "output_type": "stream",
     "text": [
      "     92/99     8.29G   0.01994   0.03097         0   0.05091       118       736: 100%|██████████| 17/17 [00:09<00:00,  1.72it/s]\n",
      "               Class     Images     Labels          P          R     mAP@.5 mAP@.5:.95: 100%|██████████| 3/3 [00:00<00:00,  5.87it/s]\n"
     ]
    },
    {
     "name": "stdout",
     "output_type": "stream",
     "text": [
      "                 all         68        373       0.49      0.583      0.523       0.32\n"
     ]
    },
    {
     "name": "stderr",
     "output_type": "stream",
     "text": [
      "     93/99     8.29G   0.02005   0.02912         0   0.04918       127       736: 100%|██████████| 17/17 [00:09<00:00,  1.72it/s]\n",
      "               Class     Images     Labels          P          R     mAP@.5 mAP@.5:.95: 100%|██████████| 3/3 [00:00<00:00,  6.11it/s]\n"
     ]
    },
    {
     "name": "stdout",
     "output_type": "stream",
     "text": [
      "                 all         68        373      0.509      0.566      0.519      0.323\n"
     ]
    },
    {
     "name": "stderr",
     "output_type": "stream",
     "text": [
      "     94/99     8.29G   0.02019   0.03153         0   0.05172       133       736: 100%|██████████| 17/17 [00:09<00:00,  1.72it/s]\n",
      "               Class     Images     Labels          P          R     mAP@.5 mAP@.5:.95: 100%|██████████| 3/3 [00:00<00:00,  6.09it/s]\n"
     ]
    },
    {
     "name": "stdout",
     "output_type": "stream",
     "text": [
      "                 all         68        373      0.588      0.501       0.53      0.325\n"
     ]
    },
    {
     "name": "stderr",
     "output_type": "stream",
     "text": [
      "     95/99     8.29G   0.02009   0.03172         0   0.05182       110       736: 100%|██████████| 17/17 [00:09<00:00,  1.72it/s]\n",
      "               Class     Images     Labels          P          R     mAP@.5 mAP@.5:.95: 100%|██████████| 3/3 [00:00<00:00,  6.15it/s]\n"
     ]
    },
    {
     "name": "stdout",
     "output_type": "stream",
     "text": [
      "                 all         68        373      0.556      0.536      0.527      0.318\n"
     ]
    },
    {
     "name": "stderr",
     "output_type": "stream",
     "text": [
      "     96/99     8.29G   0.01978   0.03096         0   0.05074       128       736: 100%|██████████| 17/17 [00:09<00:00,  1.71it/s]\n",
      "               Class     Images     Labels          P          R     mAP@.5 mAP@.5:.95: 100%|██████████| 3/3 [00:00<00:00,  6.12it/s]\n"
     ]
    },
    {
     "name": "stdout",
     "output_type": "stream",
     "text": [
      "                 all         68        373      0.506      0.616      0.547      0.336\n"
     ]
    },
    {
     "name": "stderr",
     "output_type": "stream",
     "text": [
      "     97/99     8.29G   0.02002   0.03185         0   0.05187       162       736: 100%|██████████| 17/17 [00:09<00:00,  1.71it/s]\n",
      "               Class     Images     Labels          P          R     mAP@.5 mAP@.5:.95: 100%|██████████| 3/3 [00:00<00:00,  5.47it/s]\n"
     ]
    },
    {
     "name": "stdout",
     "output_type": "stream",
     "text": [
      "                 all         68        373      0.496      0.606      0.538      0.333\n"
     ]
    },
    {
     "name": "stderr",
     "output_type": "stream",
     "text": [
      "     98/99     8.29G   0.01946   0.03125         0   0.05071       156       736: 100%|██████████| 17/17 [00:09<00:00,  1.72it/s]\n",
      "               Class     Images     Labels          P          R     mAP@.5 mAP@.5:.95: 100%|██████████| 3/3 [00:00<00:00,  6.11it/s]\n"
     ]
    },
    {
     "name": "stdout",
     "output_type": "stream",
     "text": [
      "                 all         68        373      0.498      0.571      0.525      0.324\n"
     ]
    },
    {
     "name": "stderr",
     "output_type": "stream",
     "text": [
      "     99/99     8.29G    0.0191   0.03205         0   0.05115        88       736: 100%|██████████| 17/17 [00:09<00:00,  1.72it/s]\n",
      "               Class     Images     Labels          P          R     mAP@.5 mAP@.5:.95: 100%|██████████| 3/3 [00:03<00:00,  1.07s/it]\n"
     ]
    },
    {
     "name": "stdout",
     "output_type": "stream",
     "text": [
      "                 all         68        373      0.524      0.549      0.526      0.323\n",
      "Optimizer stripped from /cephyr/NOBACKUP/groups/snic2021-6-9/models/sgu/sgu_bm_model105/weights/last.pt, 42.4MB\n",
      "Optimizer stripped from /cephyr/NOBACKUP/groups/snic2021-6-9/models/sgu/sgu_bm_model105/weights/best.pt, 42.4MB\n"
     ]
    },
    {
     "data": {
      "text/html": [
       "<br/>Waiting for W&B process to finish, PID 158107<br/>Program ended successfully."
      ],
      "text/plain": [
       "<IPython.core.display.HTML object>"
      ]
     },
     "metadata": {},
     "output_type": "display_data"
    },
    {
     "data": {
      "application/vnd.jupyter.widget-view+json": {
       "model_id": "",
       "version_major": 2,
       "version_minor": 0
      },
      "text/plain": [
       "VBox(children=(Label(value=' 99.54MB of 100.14MB uploaded (0.00MB deduped)\\r'), FloatProgress(value=0.99398120…"
      ]
     },
     "metadata": {},
     "output_type": "display_data"
    },
    {
     "data": {
      "text/html": [
       "Find user logs for this run at: <code>/cephyr/NOBACKUP/groups/snic2021-6-9/wandb/run-20220304_154937-3rf5vkn1/logs/debug.log</code>"
      ],
      "text/plain": [
       "<IPython.core.display.HTML object>"
      ]
     },
     "metadata": {},
     "output_type": "display_data"
    },
    {
     "data": {
      "text/html": [
       "Find internal logs for this run at: <code>/cephyr/NOBACKUP/groups/snic2021-6-9/wandb/run-20220304_154937-3rf5vkn1/logs/debug-internal.log</code>"
      ],
      "text/plain": [
       "<IPython.core.display.HTML object>"
      ]
     },
     "metadata": {},
     "output_type": "display_data"
    },
    {
     "data": {
      "text/html": [
       "<h3>Run summary:</h3><br/><style>\n",
       "    table.wandb td:nth-child(1) { padding: 0 10px; text-align: right }\n",
       "    </style><table class=\"wandb\">\n",
       "<tr><td>train/box_loss</td><td>0.0191</td></tr><tr><td>train/obj_loss</td><td>0.03205</td></tr><tr><td>train/cls_loss</td><td>0.0</td></tr><tr><td>metrics/precision</td><td>0.52416</td></tr><tr><td>metrics/recall</td><td>0.5493</td></tr><tr><td>metrics/mAP_0.5</td><td>0.52552</td></tr><tr><td>metrics/mAP_0.5:0.95</td><td>0.32291</td></tr><tr><td>val/box_loss</td><td>0.03206</td></tr><tr><td>val/obj_loss</td><td>0.12562</td></tr><tr><td>val/cls_loss</td><td>0.0</td></tr><tr><td>x/lr0</td><td>0.00101</td></tr><tr><td>x/lr1</td><td>0.00101</td></tr><tr><td>x/lr2</td><td>0.00101</td></tr><tr><td>_runtime</td><td>1148</td></tr><tr><td>_timestamp</td><td>1646406525</td></tr><tr><td>_step</td><td>100</td></tr></table>"
      ],
      "text/plain": [
       "<IPython.core.display.HTML object>"
      ]
     },
     "metadata": {},
     "output_type": "display_data"
    },
    {
     "data": {
      "text/html": [
       "<h3>Run history:</h3><br/><style>\n",
       "    table.wandb td:nth-child(1) { padding: 0 10px; text-align: right }\n",
       "    </style><table class=\"wandb\">\n",
       "<tr><td>train/box_loss</td><td>█▇▆▆▅▄▄▃▃▃▃▃▃▃▃▃▂▂▂▂▃▂▂▂▂▂▂▂▁▁▁▁▁▁▁▁▁▁▁▁</td></tr><tr><td>train/obj_loss</td><td>▆▇███▇▆▆▆▅▅▅▄▄▄▄▄▃▄▃▃▃▃▃▃▃▂▂▂▂▂▂▂▁▁▂▁▁▁▁</td></tr><tr><td>train/cls_loss</td><td>▁▁▁▁▁▁▁▁▁▁▁▁▁▁▁▁▁▁▁▁▁▁▁▁▁▁▁▁▁▁▁▁▁▁▁▁▁▁▁▁</td></tr><tr><td>metrics/precision</td><td>▁▁▂▂▄▆▆▄▄▆▆▇▆▆▇▇▇▆▆▇█▇█▇▆▇█▇█▇█▇▇█▇▇▆▇▇▇</td></tr><tr><td>metrics/recall</td><td>▃▁▁▂▄▅▅▅▆▇█▇▇▇▇▇▇▇▇▇▇█▇▇▇▆▆▇▆▇▇▇▇▆▇▇█▇█▇</td></tr><tr><td>metrics/mAP_0.5</td><td>▁▁▁▂▃▅▆▅▅▆▇█▇▆█▇▇▇▇▇▇███▆▇███▇█▇▇▇▇█▇▇█▇</td></tr><tr><td>metrics/mAP_0.5:0.95</td><td>▁▁▁▁▂▄▄▃▃▅▇▇▅▆▇▆▆▆▆▇▇▇▇█▅▇██████▇███████</td></tr><tr><td>val/box_loss</td><td>█▇▆▅▄▃▃▃▃▂▂▂▂▂▂▂▂▂▂▁▂▂▁▁▂▁▁▁▁▁▁▁▁▁▁▁▁▁▁▁</td></tr><tr><td>val/obj_loss</td><td>▂▄▅▅▅▃▂▂▂▂▂▁▁▂▂▂▃▃▃▃▃▅▄▄█▆▄▅▅▅▆▆▇▆▇▆▇███</td></tr><tr><td>val/cls_loss</td><td>▁▁▁▁▁▁▁▁▁▁▁▁▁▁▁▁▁▁▁▁▁▁▁▁▁▁▁▁▁▁▁▁▁▁▁▁▁▁▁▁</td></tr><tr><td>x/lr0</td><td>▁▂▂▃▃▄▅▅▆▆▆▇▇▇█████████▇▇▇▆▆▅▅▄▄▄▃▃▃▃▂▂▂</td></tr><tr><td>x/lr1</td><td>▁▂▂▃▃▄▅▅▆▆▆▇▇▇█████████▇▇▇▆▆▅▅▄▄▄▃▃▃▃▂▂▂</td></tr><tr><td>x/lr2</td><td>██▇▇▇▇▆▆▆▆▅▅▅▄▄▄▃▃▃▂▂▂▂▁▁▁▁▁▁▁▁▁▁▁▁▁▁▁▁▁</td></tr><tr><td>_runtime</td><td>▁▁▁▁▂▂▂▂▂▃▃▃▃▃▃▄▄▄▄▄▅▅▅▅▅▆▆▆▆▆▆▇▇▇▇▇▇███</td></tr><tr><td>_timestamp</td><td>▁▁▁▁▂▂▂▂▂▃▃▃▃▃▃▄▄▄▄▄▅▅▅▅▅▆▆▆▆▆▆▇▇▇▇▇▇███</td></tr><tr><td>_step</td><td>▁▁▁▁▂▂▂▂▂▃▃▃▃▃▃▄▄▄▄▄▅▅▅▅▅▅▆▆▆▆▆▇▇▇▇▇▇███</td></tr></table><br/>"
      ],
      "text/plain": [
       "<IPython.core.display.HTML object>"
      ]
     },
     "metadata": {},
     "output_type": "display_data"
    },
    {
     "data": {
      "text/html": [
       "Synced 5 W&B file(s), 337 media file(s), 1 artifact file(s) and 0 other file(s)"
      ],
      "text/plain": [
       "<IPython.core.display.HTML object>"
      ]
     },
     "metadata": {},
     "output_type": "display_data"
    },
    {
     "data": {
      "text/html": [
       "\n",
       "                    <br/>Synced <strong style=\"color:#cdcd00\">sgu_bm_model105</strong>: <a href=\"https://wandb.ai/koster/sgu/runs/3rf5vkn1\" target=\"_blank\">https://wandb.ai/koster/sgu/runs/3rf5vkn1</a><br/>\n",
       "                "
      ],
      "text/plain": [
       "<IPython.core.display.HTML object>"
      ]
     },
     "metadata": {},
     "output_type": "display_data"
    }
   ],
   "source": [
    "train.run(entity=entity, data=data_path, hyp=hyps_path, weights=weights, \n",
    "          project=project_path.selected, name=exp_name,\n",
    "          img_size=[720, 540], batch=int(batch_size.value),\n",
    "          epochs=epochs.value, workers=4, single_cls=True, cache_images=True)"
   ]
  },
  {
   "cell_type": "markdown",
   "metadata": {},
   "source": [
    "### Step 3: Evaluate model performance on test set"
   ]
  },
  {
   "cell_type": "code",
   "execution_count": 127,
   "metadata": {},
   "outputs": [
    {
     "data": {
      "application/vnd.jupyter.widget-view+json": {
       "model_id": "f7d45e4c481e4a6ab8515d6374fdd82a",
       "version_major": 2,
       "version_minor": 0
      },
      "text/plain": [
       "FileChooser(path='/cephyr/NOBACKUP/groups/snic2021-6-9/models/sgu', filename='', title='HTML(value='', layout=…"
      ]
     },
     "metadata": {},
     "output_type": "display_data"
    }
   ],
   "source": [
    "# Choose model\n",
    "eval_model = FileChooser(project_path.selected)\n",
    "display(eval_model)"
   ]
  },
  {
   "cell_type": "code",
   "execution_count": 128,
   "metadata": {},
   "outputs": [],
   "source": [
    "# Find trained model weights\n",
    "tuned_weights = f\"{Path(project_path.selected, eval_model.selected, 'weights', 'best.pt')}\""
   ]
  },
  {
   "cell_type": "code",
   "execution_count": null,
   "metadata": {},
   "outputs": [],
   "source": [
    "# Evaluate YOLOv3 Model on Unseen Test data for mAP metric"
   ]
  },
  {
   "cell_type": "code",
   "execution_count": 117,
   "metadata": {},
   "outputs": [
    {
     "name": "stderr",
     "output_type": "stream",
     "text": [
      "\u001b[34m\u001b[1mval: \u001b[0mScanning '/usr/src/app/data_dir/data_output/valid.cache' images and labels... 56 found, 12 missing, 0 empty, 0 corrupted: 100%|██████████| 68/68 [00:00<?, ?it/s]/opt/conda/lib/python3.8/site-packages/torch/utils/data/dataloader.py:478: UserWarning: This DataLoader will create 8 worker processes in total. Our suggested max number of worker in current system is 4, which is smaller than what this DataLoader is going to create. Please be aware that excessive worker creation might get DataLoader running slow or even freeze, lower the worker number to avoid potential slowness/freeze if necessary.\n",
      "  warnings.warn(_create_warning_msg(\n",
      "\u001b[34m\u001b[1mval: \u001b[0mScanning '/usr/src/app/data_dir/data_output/valid.cache' images and labels... 56 found, 12 missing, 0 empty, 0 corrupted: 100%|██████████| 68/68 [00:00<?, ?it/s]\n",
      "\u001b[34m\u001b[1mval: \u001b[0mScanning '/usr/src/app/data_dir/data_output/valid.cache' images and labels... 56 found, 12 missing, 0 empty, 0 corrupted: 100%|██████████| 68/68 [00:01<?, ?it/s]\n",
      "               Class     Images     Labels          P          R     mAP@.5 mAP@.5:.95: 100%|██████████| 3/3 [00:01<00:00,  1.73it/s]\n"
     ]
    },
    {
     "name": "stdout",
     "output_type": "stream",
     "text": [
      "                 all         68        192      0.902       0.24       0.23      0.124\n",
      "Speed: 0.2ms pre-process, 9.3ms inference, 1.0ms NMS per image at shape (32, 3, 640, 640)\n",
      "Results saved to runs/test/exp\n"
     ]
    },
    {
     "data": {
      "text/plain": [
       "((0.9019607843137255,\n",
       "  0.23958333333333334,\n",
       "  0.23044666654540605,\n",
       "  0.12408858931047799,\n",
       "  0.0,\n",
       "  0.0,\n",
       "  0.0),\n",
       " array([    0.12409]),\n",
       " (0.21427168565637925, 9.343031574698054, 0.9574504459605497))"
      ]
     },
     "execution_count": 117,
     "metadata": {},
     "output_type": "execute_result"
    }
   ],
   "source": [
    "test.run(data=data_path, weights=tuned_weights, conf_thres=conf_thres.value, imgsz=640)"
   ]
  },
  {
   "cell_type": "markdown",
   "metadata": {},
   "source": [
    "### Transfer model to web app server (for API use)"
   ]
  },
  {
   "cell_type": "code",
   "execution_count": 129,
   "metadata": {},
   "outputs": [],
   "source": [
    "import getpass"
   ]
  },
  {
   "cell_type": "code",
   "execution_count": 130,
   "metadata": {},
   "outputs": [
    {
     "name": "stdout",
     "output_type": "stream",
     "text": [
      "Enter your server user········\n",
      "Enter your server password········\n"
     ]
    }
   ],
   "source": [
    "server_user = getpass.getpass('Enter your server user')\n",
    "server_pass = getpass.getpass('Enter your server password')"
   ]
  },
  {
   "cell_type": "code",
   "execution_count": 131,
   "metadata": {},
   "outputs": [],
   "source": [
    "t6.transfer_model(\"bm_nmi18_enhanced\", eval_model.selected, \"koster/sgu\", server_user, server_pass)"
   ]
  },
  {
   "cell_type": "code",
   "execution_count": null,
   "metadata": {},
   "outputs": [],
   "source": [
    "# (Experimental) : Enhance annotations using trained model"
   ]
  },
  {
   "cell_type": "code",
   "execution_count": 121,
   "metadata": {},
   "outputs": [
    {
     "name": "stdout",
     "output_type": "stream",
     "text": [
      "image 1/340 /usr/src/app/data_dir/data_output/images/nmi18_11002 0 Lat 6228074.31 Lon 631688.14 Pan -150.0 Tilt 0.0 Hdg 21.0 18_07_26 16_29_490208_patch_3_4.jpg: 480x640 4 blue_musselss, Done. (0.028s)\n",
      "image 2/340 /usr/src/app/data_dir/data_output/images/nmi18_11002 0 Lat 6228074.31 Lon 631688.14 Pan -150.0 Tilt 0.0 Hdg 21.0 18_07_26 16_29_490208_patch_4_3.jpg: 480x640 5 blue_musselss, Done. (0.026s)\n",
      "image 3/340 /usr/src/app/data_dir/data_output/images/nmi18_11002 18 Lat 6228074.29 Lon 631687.55 Pan -110.0 Tilt -50.0 Hdg 62.0 18_07_26 16_32_200226_patch_2_3.jpg: 480x640 2 blue_musselss, Done. (0.023s)\n",
      "image 4/340 /usr/src/app/data_dir/data_output/images/nmi18_11002 18 Lat 6228074.29 Lon 631687.55 Pan -110.0 Tilt -50.0 Hdg 62.0 18_07_26 16_32_200226_patch_3_2.jpg: 480x640 8 blue_musselss, Done. (0.023s)\n",
      "image 5/340 /usr/src/app/data_dir/data_output/images/nmi18_11002 18 Lat 6228074.29 Lon 631687.55 Pan -110.0 Tilt -50.0 Hdg 62.0 18_07_26 16_32_200226_patch_3_3.jpg: 480x640 8 blue_musselss, Done. (0.023s)\n",
      "image 6/340 /usr/src/app/data_dir/data_output/images/nmi18_11002 18 Lat 6228074.29 Lon 631687.55 Pan -110.0 Tilt -50.0 Hdg 62.0 18_07_26 16_32_200226_patch_4_2.jpg: 480x640 4 blue_musselss, Done. (0.023s)\n",
      "image 7/340 /usr/src/app/data_dir/data_output/images/nmi18_11002 3 Lat 6228074.29 Lon 631687.55 Pan -59.9 Tilt -27.1 Hdg 112.1 18_07_26 16_30_170211_patch_1_2.jpg: 480x640 5 blue_musselss, Done. (0.021s)\n",
      "image 8/340 /usr/src/app/data_dir/data_output/images/nmi18_11002 3 Lat 6228074.29 Lon 631687.55 Pan -59.9 Tilt -27.1 Hdg 112.1 18_07_26 16_30_170211_patch_2_3.jpg: 480x640 7 blue_musselss, Done. (0.017s)\n",
      "image 9/340 /usr/src/app/data_dir/data_output/images/nmi18_11002 6 Lat 6228074.28 Lon 631687.31 Pan 69.0 Tilt -27.1 Hdg 241.0 18_07_26 16_30_450214_patch_2_0.jpg: 480x640 4 blue_musselss, Done. (0.017s)\n",
      "image 10/340 /usr/src/app/data_dir/data_output/images/nmi18_11002 6 Lat 6228074.28 Lon 631687.31 Pan 69.0 Tilt -27.1 Hdg 241.0 18_07_26 16_30_450214_patch_2_3.jpg: 480x640 11 blue_musselss, Done. (0.017s)\n",
      "image 11/340 /usr/src/app/data_dir/data_output/images/nmi18_11002 6 Lat 6228074.28 Lon 631687.31 Pan 69.0 Tilt -27.1 Hdg 241.0 18_07_26 16_30_450214_patch_2_4.jpg: 480x640 6 blue_musselss, Done. (0.017s)\n",
      "image 12/340 /usr/src/app/data_dir/data_output/images/nmi18_11002 6 Lat 6228074.28 Lon 631687.31 Pan 69.0 Tilt -27.1 Hdg 241.0 18_07_26 16_30_450214_patch_2_5.jpg: 480x640 4 blue_musselss, Done. (0.017s)\n",
      "image 13/340 /usr/src/app/data_dir/data_output/images/nmi18_11002 9 Lat 6228074.29 Lon 631687.55 Pan 157.1 Tilt -49.1 Hdg 328.1 18_07_26 16_31_120217_patch_3_4.jpg: 480x640 11 blue_musselss, Done. (0.016s)\n",
      "image 14/340 /usr/src/app/data_dir/data_output/images/nmi18_11002 9 Lat 6228074.29 Lon 631687.55 Pan 157.1 Tilt -49.1 Hdg 328.1 18_07_26 16_31_120217_patch_4_2.jpg: 480x640 3 blue_musselss, Done. (0.015s)\n",
      "image 15/340 /usr/src/app/data_dir/data_output/images/nmi18_11003 0 Lat 6233003.18 Lon 637273.97 Pan -150.0 Tilt 0.0 Hdg 16.0 18_07_26 13_24_040001_patch_1_3.jpg: 480x640 6 blue_musselss, Done. (0.015s)\n",
      "image 16/340 /usr/src/app/data_dir/data_output/images/nmi18_11003 3 Lat 6233003.18 Lon 637273.97 Pan -60.0 Tilt -27.1 Hdg 108.0 18_07_26 13_24_310004_patch_1_2.jpg: 480x640 5 blue_musselss, Done. (0.015s)\n",
      "image 17/340 /usr/src/app/data_dir/data_output/images/nmi18_11003 3 Lat 6233003.18 Lon 637273.97 Pan -60.0 Tilt -27.1 Hdg 108.0 18_07_26 13_24_310004_patch_2_0.jpg: 480x640 10 blue_musselss, Done. (0.015s)\n",
      "image 18/340 /usr/src/app/data_dir/data_output/images/nmi18_11003 3 Lat 6233003.18 Lon 637273.97 Pan -60.0 Tilt -27.1 Hdg 108.0 18_07_26 13_24_310004_patch_2_1.jpg: 480x640 7 blue_musselss, Done. (0.015s)\n",
      "image 19/340 /usr/src/app/data_dir/data_output/images/nmi18_11003 3 Lat 6233003.18 Lon 637273.97 Pan -60.0 Tilt -27.1 Hdg 108.0 18_07_26 13_24_310004_patch_2_2.jpg: 480x640 8 blue_musselss, Done. (0.014s)\n",
      "image 20/340 /usr/src/app/data_dir/data_output/images/nmi18_11003 3 Lat 6233003.18 Lon 637273.97 Pan -60.0 Tilt -27.1 Hdg 108.0 18_07_26 13_24_310004_patch_2_4.jpg: 480x640 3 blue_musselss, Done. (0.013s)\n",
      "image 21/340 /usr/src/app/data_dir/data_output/images/nmi18_11003 3 Lat 6233003.18 Lon 637273.97 Pan -60.0 Tilt -27.1 Hdg 108.0 18_07_26 13_24_310004_patch_4_4.jpg: 480x640 6 blue_musselss, Done. (0.013s)\n",
      "image 22/340 /usr/src/app/data_dir/data_output/images/nmi18_11003 6 Lat 6233003.18 Lon 637273.97 Pan 69.2 Tilt -27.1 Hdg 235.2 18_07_26 13_24_580007_patch_2_1.jpg: 480x640 5 blue_musselss, Done. (0.013s)\n",
      "image 23/340 /usr/src/app/data_dir/data_output/images/nmi18_11003 6 Lat 6233003.18 Lon 637273.97 Pan 69.2 Tilt -27.1 Hdg 235.2 18_07_26 13_24_580007_patch_2_2.jpg: 480x640 5 blue_musselss, Done. (0.013s)\n",
      "image 24/340 /usr/src/app/data_dir/data_output/images/nmi18_11003 9 Lat 6233003.19 Lon 637274.32 Pan 157.1 Tilt -49.0 Hdg 322.1 18_07_26 13_25_240010_patch_2_3.jpg: 480x640 7 blue_musselss, Done. (0.013s)\n",
      "image 25/340 /usr/src/app/data_dir/data_output/images/nmi18_11004 0 Lat 6234628.73 Lon 639901.45 Pan -150.0 Tilt 0.0 Hdg 310.0 18_07_29 13_38_390002_patch_0_4.jpg: 480x640 4 blue_musselss, Done. (0.013s)\n",
      "image 26/340 /usr/src/app/data_dir/data_output/images/nmi18_11004 0 Lat 6234628.73 Lon 639901.45 Pan -150.0 Tilt 0.0 Hdg 310.0 18_07_29 13_38_390002_patch_1_3.jpg: 480x640 1 blue_mussels, Done. (0.012s)\n",
      "image 27/340 /usr/src/app/data_dir/data_output/images/nmi18_11004 0 Lat 6234628.73 Lon 639901.45 Pan -150.0 Tilt 0.0 Hdg 310.0 18_07_29 13_38_390002_patch_1_4.jpg: 480x640 4 blue_musselss, Done. (0.013s)\n",
      "image 28/340 /usr/src/app/data_dir/data_output/images/nmi18_11004 0 Lat 6234628.73 Lon 639901.45 Pan -150.0 Tilt 0.0 Hdg 310.0 18_07_29 13_38_390002_patch_2_3.jpg: 480x640 8 blue_musselss, Done. (0.012s)\n",
      "image 29/340 /usr/src/app/data_dir/data_output/images/nmi18_11004 0 Lat 6234628.73 Lon 639901.45 Pan -150.0 Tilt 0.0 Hdg 310.0 18_07_29 13_38_390002_patch_4_3.jpg: 480x640 5 blue_musselss, Done. (0.012s)\n",
      "image 30/340 /usr/src/app/data_dir/data_output/images/nmi18_11004 18 Lat 6234628.74 Lon 639901.69 Pan -110.0 Tilt -50.0 Hdg 352.0 18_07_29 13_41_040018_patch_2_4.jpg: 480x640 4 blue_musselss, Done. (0.012s)\n",
      "image 31/340 /usr/src/app/data_dir/data_output/images/nmi18_11004 18 Lat 6234628.74 Lon 639901.69 Pan -110.0 Tilt -50.0 Hdg 352.0 18_07_29 13_41_040018_patch_3_2.jpg: 480x640 11 blue_musselss, Done. (0.012s)\n",
      "image 32/340 /usr/src/app/data_dir/data_output/images/nmi18_11004 18 Lat 6234628.74 Lon 639901.69 Pan -110.0 Tilt -50.0 Hdg 352.0 18_07_29 13_41_040018_patch_3_3.jpg: 480x640 4 blue_musselss, Done. (0.012s)\n",
      "image 33/340 /usr/src/app/data_dir/data_output/images/nmi18_11004 18 Lat 6234628.74 Lon 639901.69 Pan -110.0 Tilt -50.0 Hdg 352.0 18_07_29 13_41_040018_patch_3_4.jpg: 480x640 5 blue_musselss, Done. (0.012s)\n",
      "image 34/340 /usr/src/app/data_dir/data_output/images/nmi18_11004 3 Lat 6234628.72 Lon 639901.21 Pan -60.7 Tilt -27.1 Hdg 41.3 18_07_29 13_39_060005_patch_1_2.jpg: 480x640 5 blue_musselss, Done. (0.012s)\n",
      "image 35/340 /usr/src/app/data_dir/data_output/images/nmi18_11004 3 Lat 6234628.72 Lon 639901.21 Pan -60.7 Tilt -27.1 Hdg 41.3 18_07_29 13_39_060005_patch_1_3.jpg: 480x640 8 blue_musselss, Done. (0.012s)\n",
      "image 36/340 /usr/src/app/data_dir/data_output/images/nmi18_11004 3 Lat 6234628.72 Lon 639901.21 Pan -60.7 Tilt -27.1 Hdg 41.3 18_07_29 13_39_060005_patch_1_4.jpg: 480x640 4 blue_musselss, Done. (0.012s)\n",
      "image 37/340 /usr/src/app/data_dir/data_output/images/nmi18_11004 3 Lat 6234628.72 Lon 639901.21 Pan -60.7 Tilt -27.1 Hdg 41.3 18_07_29 13_39_060005_patch_2_1.jpg: 480x640 7 blue_musselss, Done. (0.012s)\n",
      "image 38/340 /usr/src/app/data_dir/data_output/images/nmi18_11004 3 Lat 6234628.72 Lon 639901.21 Pan -60.7 Tilt -27.1 Hdg 41.3 18_07_29 13_39_060005_patch_2_2.jpg: 480x640 5 blue_musselss, Done. (0.012s)\n",
      "image 39/340 /usr/src/app/data_dir/data_output/images/nmi18_11004 3 Lat 6234628.72 Lon 639901.21 Pan -60.7 Tilt -27.1 Hdg 41.3 18_07_29 13_39_060005_patch_2_3.jpg: 480x640 8 blue_musselss, Done. (0.012s)\n",
      "image 40/340 /usr/src/app/data_dir/data_output/images/nmi18_11004 3 Lat 6234628.72 Lon 639901.21 Pan -60.7 Tilt -27.1 Hdg 41.3 18_07_29 13_39_060005_patch_2_4.jpg: 480x640 9 blue_musselss, Done. (0.012s)\n",
      "image 41/340 /usr/src/app/data_dir/data_output/images/nmi18_11004 3 Lat 6234628.72 Lon 639901.21 Pan -60.7 Tilt -27.1 Hdg 41.3 18_07_29 13_39_060005_patch_2_5.jpg: 480x640 6 blue_musselss, Done. (0.012s)\n",
      "image 42/340 /usr/src/app/data_dir/data_output/images/nmi18_11004 3 Lat 6234628.72 Lon 639901.21 Pan -60.7 Tilt -27.1 Hdg 41.3 18_07_29 13_39_060005_patch_3_2.jpg: 480x640 8 blue_musselss, Done. (0.012s)\n",
      "image 43/340 /usr/src/app/data_dir/data_output/images/nmi18_11004 3 Lat 6234628.72 Lon 639901.21 Pan -60.7 Tilt -27.1 Hdg 41.3 18_07_29 13_39_060005_patch_3_3.jpg: 480x640 11 blue_musselss, Done. (0.012s)\n",
      "image 44/340 /usr/src/app/data_dir/data_output/images/nmi18_11004 3 Lat 6234628.72 Lon 639901.21 Pan -60.7 Tilt -27.1 Hdg 41.3 18_07_29 13_39_060005_patch_3_4.jpg: 480x640 6 blue_musselss, Done. (0.012s)\n"
     ]
    },
    {
     "name": "stdout",
     "output_type": "stream",
     "text": [
      "image 45/340 /usr/src/app/data_dir/data_output/images/nmi18_11004 6 Lat 6234628.73 Lon 639901.45 Pan 70.1 Tilt -27.0 Hdg 166.1 18_07_29 13_39_350008_patch_2_2.jpg: 480x640 8 blue_musselss, Done. (0.012s)\n",
      "image 46/340 /usr/src/app/data_dir/data_output/images/nmi18_11004 6 Lat 6234628.73 Lon 639901.45 Pan 70.1 Tilt -27.0 Hdg 166.1 18_07_29 13_39_350008_patch_2_3.jpg: 480x640 4 blue_musselss, Done. (0.012s)\n",
      "image 47/340 /usr/src/app/data_dir/data_output/images/nmi18_11004 6 Lat 6234628.73 Lon 639901.45 Pan 70.1 Tilt -27.0 Hdg 166.1 18_07_29 13_39_350008_patch_2_4.jpg: 480x640 6 blue_musselss, Done. (0.012s)\n",
      "image 48/340 /usr/src/app/data_dir/data_output/images/nmi18_11004 6 Lat 6234628.73 Lon 639901.45 Pan 70.1 Tilt -27.0 Hdg 166.1 18_07_29 13_39_350008_patch_3_1.jpg: 480x640 9 blue_musselss, Done. (0.012s)\n",
      "image 49/340 /usr/src/app/data_dir/data_output/images/nmi18_11004 6 Lat 6234628.73 Lon 639901.45 Pan 70.1 Tilt -27.0 Hdg 166.1 18_07_29 13_39_350008_patch_3_2.jpg: 480x640 10 blue_musselss, Done. (0.012s)\n",
      "image 50/340 /usr/src/app/data_dir/data_output/images/nmi18_11004 6 Lat 6234628.73 Lon 639901.45 Pan 70.1 Tilt -27.0 Hdg 166.1 18_07_29 13_39_350008_patch_3_3.jpg: 480x640 5 blue_musselss, Done. (0.012s)\n",
      "image 51/340 /usr/src/app/data_dir/data_output/images/nmi18_11004 6 Lat 6234628.73 Lon 639901.45 Pan 70.1 Tilt -27.0 Hdg 166.1 18_07_29 13_39_350008_patch_3_4.jpg: 480x640 13 blue_musselss, Done. (0.012s)\n",
      "image 52/340 /usr/src/app/data_dir/data_output/images/nmi18_11004 6 Lat 6234628.73 Lon 639901.45 Pan 70.1 Tilt -27.0 Hdg 166.1 18_07_29 13_39_350008_patch_3_5.jpg: 480x640 4 blue_musselss, Done. (0.013s)\n",
      "image 53/340 /usr/src/app/data_dir/data_output/images/nmi18_11005 9 Lat 6231904.73 Lon 636168.92 Pan 157.1 Tilt -50.0 Hdg 82.1 18_07_29 14_08_110032_patch_3_1.jpg: 480x640 13 blue_musselss, Done. (0.012s)\n",
      "image 54/340 /usr/src/app/data_dir/data_output/images/nmi18_11005 9 Lat 6231904.73 Lon 636168.92 Pan 157.1 Tilt -50.0 Hdg 82.1 18_07_29 14_08_110032_patch_3_2.jpg: 480x640 9 blue_musselss, Done. (0.012s)\n",
      "image 55/340 /usr/src/app/data_dir/data_output/images/nmi18_12001 0 Lat 6227403.28 Lon 633792.74 Pan -150.0 Tilt 0.0 Hdg 357.0 18_07_26 15_27_060125_patch_4_0.jpg: 480x640 4 blue_musselss, Done. (0.012s)\n",
      "image 56/340 /usr/src/app/data_dir/data_output/images/nmi18_12001 3 Lat 6227403.28 Lon 633792.74 Pan -59.9 Tilt -27.1 Hdg 88.1 18_07_26 15_27_340128_patch_4_0.jpg: 480x640 6 blue_musselss, Done. (0.012s)\n",
      "image 57/340 /usr/src/app/data_dir/data_output/images/nmi18_12001 3 Lat 6227403.28 Lon 633792.74 Pan -59.9 Tilt -27.1 Hdg 88.1 18_07_26 15_27_340128_patch_4_1.jpg: 480x640 4 blue_musselss, Done. (0.013s)\n",
      "image 58/340 /usr/src/app/data_dir/data_output/images/nmi18_12001 9 Lat 6227403.33 Lon 633794.16 Pan 157.1 Tilt -50.0 Hdg 302.1 18_07_26 15_28_290134_patch_4_2.jpg: 480x640 6 blue_musselss, Done. (0.012s)\n",
      "image 59/340 /usr/src/app/data_dir/data_output/images/nmi18_12002 0 Lat 6233038.79 Lon 640227.80 Pan -150.0 Tilt 0.0 Hdg 14.0 18_07_26 12_54_440073_patch_4_0.jpg: 480x640 4 blue_musselss, Done. (0.013s)\n",
      "image 60/340 /usr/src/app/data_dir/data_output/images/nmi18_12002 0 Lat 6233038.79 Lon 640227.80 Pan -150.0 Tilt 0.0 Hdg 14.0 18_07_26 12_54_440073_patch_4_1.jpg: 480x640 2 blue_musselss, Done. (0.012s)\n",
      "image 61/340 /usr/src/app/data_dir/data_output/images/nmi18_12002 0 Lat 6233038.79 Lon 640227.80 Pan -150.0 Tilt 0.0 Hdg 14.0 18_07_26 12_54_440073_patch_4_3.jpg: 480x640 5 blue_musselss, Done. (0.012s)\n",
      "image 62/340 /usr/src/app/data_dir/data_output/images/nmi18_12002 18 Lat 6233038.77 Lon 640227.21 Pan -110.0 Tilt -50.0 Hdg 56.0 18_07_26 12_57_150091_patch_4_0.jpg: 480x640 5 blue_musselss, Done. (0.012s)\n",
      "image 63/340 /usr/src/app/data_dir/data_output/images/nmi18_12002 18 Lat 6233038.77 Lon 640227.21 Pan -110.0 Tilt -50.0 Hdg 56.0 18_07_26 12_57_150091_patch_4_1.jpg: 480x640 6 blue_musselss, Done. (0.012s)\n",
      "image 64/340 /usr/src/app/data_dir/data_output/images/nmi18_12002 18 Lat 6233038.77 Lon 640227.21 Pan -110.0 Tilt -50.0 Hdg 56.0 18_07_26 12_57_150091_patch_4_2.jpg: 480x640 5 blue_musselss, Done. (0.012s)\n",
      "image 65/340 /usr/src/app/data_dir/data_output/images/nmi18_12002 3 Lat 6233038.80 Lon 640228.16 Pan -60.7 Tilt -27.1 Hdg 104.3 18_07_26 12_55_110076_patch_4_0.jpg: 480x640 4 blue_musselss, Done. (0.012s)\n",
      "image 66/340 /usr/src/app/data_dir/data_output/images/nmi18_12002 3 Lat 6233038.80 Lon 640228.16 Pan -60.7 Tilt -27.1 Hdg 104.3 18_07_26 12_55_110076_patch_4_4.jpg: 480x640 12 blue_musselss, Done. (0.012s)\n",
      "image 67/340 /usr/src/app/data_dir/data_output/images/nmi18_12002 6 Lat 6233038.80 Lon 640228.16 Pan 69.2 Tilt -27.1 Hdg 234.2 18_07_26 12_55_400079_patch_4_0.jpg: 480x640 4 blue_musselss, Done. (0.012s)\n",
      "image 68/340 /usr/src/app/data_dir/data_output/images/nmi18_12002 6 Lat 6233038.80 Lon 640228.16 Pan 69.2 Tilt -27.1 Hdg 234.2 18_07_26 12_55_400079_patch_4_2.jpg: 480x640 6 blue_musselss, Done. (0.012s)\n",
      "image 69/340 /usr/src/app/data_dir/data_output/images/nmi18_12002 6 Lat 6233038.80 Lon 640228.16 Pan 69.2 Tilt -27.1 Hdg 234.2 18_07_26 12_55_400079_patch_4_3.jpg: 480x640 10 blue_musselss, Done. (0.012s)\n",
      "image 70/340 /usr/src/app/data_dir/data_output/images/nmi18_12002 9 Lat 6233038.80 Lon 640228.16 Pan 157.1 Tilt -50.0 Hdg 320.1 18_07_26 12_56_070082_patch_4_1.jpg: 480x640 8 blue_musselss, Done. (0.013s)\n",
      "image 71/340 /usr/src/app/data_dir/data_output/images/nmi18_12002 9 Lat 6233038.80 Lon 640228.16 Pan 157.1 Tilt -50.0 Hdg 320.1 18_07_26 12_56_070082_patch_4_2.jpg: 480x640 4 blue_musselss, Done. (0.012s)\n",
      "image 72/340 /usr/src/app/data_dir/data_output/images/nmi18_12004 0 Lat 6222801.97 Lon 628448.42 Pan -150.0 Tilt 0.0 Hdg 335.0 18_07_27 09_28_140002_patch_4_2.jpg: 480x640 5 blue_musselss, Done. (0.012s)\n",
      "image 73/340 /usr/src/app/data_dir/data_output/images/nmi18_12004 0 Lat 6222801.97 Lon 628448.42 Pan -150.0 Tilt 0.0 Hdg 335.0 18_07_27 09_28_140002_patch_4_3.jpg: 480x640 4 blue_musselss, Done. (0.012s)\n",
      "image 74/340 /usr/src/app/data_dir/data_output/images/nmi18_12004 18 Lat 6222802.00 Lon 628449.49 Pan -109.7 Tilt -50.0 Hdg 17.3 18_07_27 09_30_510020_patch_4_0.jpg: 480x640 8 blue_musselss, Done. (0.013s)\n",
      "image 75/340 /usr/src/app/data_dir/data_output/images/nmi18_12004 3 Lat 6222802.02 Lon 628450.20 Pan -60.9 Tilt -27.1 Hdg 67.1 18_07_27 09_28_420005_patch_4_0.jpg: 480x640 4 blue_musselss, Done. (0.012s)\n",
      "image 76/340 /usr/src/app/data_dir/data_output/images/nmi18_12004 3 Lat 6222802.02 Lon 628450.20 Pan -60.9 Tilt -27.1 Hdg 67.1 18_07_27 09_28_420005_patch_4_1.jpg: 480x640 3 blue_musselss, Done. (0.013s)\n",
      "image 77/340 /usr/src/app/data_dir/data_output/images/nmi18_12004 6 Lat 6222802.01 Lon 628449.61 Pan 70.1 Tilt -27.1 Hdg 193.1 18_07_27 09_29_120008_patch_4_1.jpg: 480x640 4 blue_musselss, Done. (0.012s)\n",
      "image 78/340 /usr/src/app/data_dir/data_output/images/nmi18_12004 6 Lat 6222802.01 Lon 628449.61 Pan 70.1 Tilt -27.1 Hdg 193.1 18_07_27 09_29_120008_patch_4_3.jpg: 480x640 3 blue_musselss, Done. (0.012s)\n",
      "image 79/340 /usr/src/app/data_dir/data_output/images/nmi18_12004 9 Lat 6222800.72 Lon 628449.29 Pan 157.1 Tilt -50.0 Hdg 280.1 18_07_27 09_29_390011_patch_4_2.jpg: 480x640 7 blue_musselss, Done. (0.012s)\n",
      "image 80/340 /usr/src/app/data_dir/data_output/images/nmi18_12007 18 Lat 6225874.24 Lon 633305.28 Pan -110.0 Tilt -50.0 Hdg 34.0 18_07_26 16_05_160195_patch_4_3.jpg: 480x640 4 blue_musselss, Done. (0.012s)\n",
      "image 81/340 /usr/src/app/data_dir/data_output/images/nmi18_12007 3 Lat 6225874.25 Lon 633305.51 Pan -59.9 Tilt -27.1 Hdg 83.1 18_07_26 16_03_080182_patch_4_3.jpg: 480x640 5 blue_musselss, Done. (0.013s)\n",
      "image 82/340 /usr/src/app/data_dir/data_output/images/nmi18_12007 6 Lat 6225874.26 Lon 633305.87 Pan 70.1 Tilt -27.1 Hdg 211.1 18_07_26 16_03_390185_patch_4_1.jpg: 480x640 5 blue_musselss, Done. (0.012s)\n",
      "image 83/340 /usr/src/app/data_dir/data_output/images/nmi18_16002 18 Lat 6222248.88 Lon 633935.08 Pan -110.0 Tilt -50.0 Hdg 138.0 18_05_30 11_29_210043_patch_4_0.jpg: 480x640 5 blue_musselss, Done. (0.012s)\n",
      "image 84/340 /usr/src/app/data_dir/data_output/images/nmi18_16002 18 Lat 6222248.88 Lon 633935.08 Pan -110.0 Tilt -50.0 Hdg 138.0 18_05_30 11_29_210043_patch_4_2.jpg: 480x640 6 blue_musselss, Done. (0.012s)\n",
      "image 85/340 /usr/src/app/data_dir/data_output/images/nmi18_16002 18 Lat 6222248.88 Lon 633935.08 Pan -110.0 Tilt -50.0 Hdg 138.0 18_05_30 11_29_210043_patch_4_4.jpg: 480x640 6 blue_musselss, Done. (0.012s)\n",
      "image 86/340 /usr/src/app/data_dir/data_output/images/nmi18_16002 3 Lat 6222248.46 Lon 633935.09 Pan -59.9 Tilt -27.1 Hdg 187.1 18_05_30 11_26_450028_patch_4_1.jpg: 480x640 7 blue_musselss, Done. (0.012s)\n"
     ]
    },
    {
     "name": "stdout",
     "output_type": "stream",
     "text": [
      "image 87/340 /usr/src/app/data_dir/data_output/images/nmi18_16002 3 Lat 6222248.46 Lon 633935.09 Pan -59.9 Tilt -27.1 Hdg 187.1 18_05_30 11_26_450028_patch_4_2.jpg: 480x640 9 blue_musselss, Done. (0.012s)\n",
      "image 88/340 /usr/src/app/data_dir/data_output/images/nmi18_16002 6 Lat 6222248.88 Lon 633935.08 Pan 70.1 Tilt -27.1 Hdg 322.1 18_05_30 11_27_200031_patch_4_0.jpg: 480x640 4 blue_musselss, Done. (0.012s)\n",
      "image 89/340 /usr/src/app/data_dir/data_output/images/nmi18_16002 6 Lat 6222248.88 Lon 633935.08 Pan 70.1 Tilt -27.1 Hdg 322.1 18_05_30 11_27_200031_patch_4_1.jpg: 480x640 3 blue_musselss, Done. (0.012s)\n",
      "image 90/340 /usr/src/app/data_dir/data_output/images/nmi18_16002 6 Lat 6222248.88 Lon 633935.08 Pan 70.1 Tilt -27.1 Hdg 322.1 18_05_30 11_27_200031_patch_4_2.jpg: 480x640 9 blue_musselss, Done. (0.012s)\n",
      "image 91/340 /usr/src/app/data_dir/data_output/images/nmi18_16002 6 Lat 6222248.88 Lon 633935.08 Pan 70.1 Tilt -27.1 Hdg 322.1 18_05_30 11_27_200031_patch_4_4.jpg: 480x640 5 blue_musselss, Done. (0.012s)\n",
      "image 92/340 /usr/src/app/data_dir/data_output/images/nmi18_16002 9 Lat 6222248.88 Lon 633935.08 Pan 157.1 Tilt -49.1 Hdg 47.1 18_05_30 11_27_520034_patch_4_1.jpg: 480x640 7 blue_musselss, Done. (0.012s)\n",
      "image 93/340 /usr/src/app/data_dir/data_output/images/nmi18_16003 0 Lat 6223862.80 Lon 633793.33 Pan -150.0 Tilt 0.0 Hdg 100.0 18_05_30 11_55_540056_patch_4_1.jpg: 480x640 3 blue_musselss, Done. (0.012s)\n",
      "image 94/340 /usr/src/app/data_dir/data_output/images/nmi18_16003 0 Lat 6223862.80 Lon 633793.33 Pan -150.0 Tilt 0.0 Hdg 100.0 18_05_30 11_55_540056_patch_4_2.jpg: 480x640 4 blue_musselss, Done. (0.012s)\n",
      "image 95/340 /usr/src/app/data_dir/data_output/images/nmi18_16003 18 Lat 6223861.92 Lon 633792.29 Pan -110.0 Tilt -50.0 Hdg 140.0 18_05_30 11_58_280074_patch_4_1.jpg: 480x640 4 blue_musselss, Done. (0.012s)\n",
      "image 96/340 /usr/src/app/data_dir/data_output/images/nmi18_16003 18 Lat 6223861.92 Lon 633792.29 Pan -110.0 Tilt -50.0 Hdg 140.0 18_05_30 11_58_280074_patch_4_2.jpg: 480x640 2 blue_musselss, Done. (0.012s)\n",
      "image 97/340 /usr/src/app/data_dir/data_output/images/nmi18_16003 18 Lat 6223861.92 Lon 633792.29 Pan -110.0 Tilt -50.0 Hdg 140.0 18_05_30 11_58_280074_patch_4_3.jpg: 480x640 6 blue_musselss, Done. (0.012s)\n",
      "image 98/340 /usr/src/app/data_dir/data_output/images/nmi18_16003 9 Lat 6223862.81 Lon 633793.45 Pan 157.1 Tilt -50.0 Hdg 50.1 18_05_30 11_57_160065_patch_4_1.jpg: 480x640 2 blue_musselss, Done. (0.012s)\n",
      "image 99/340 /usr/src/app/data_dir/data_output/images/nmi18_16003 9 Lat 6223862.81 Lon 633793.45 Pan 157.1 Tilt -50.0 Hdg 50.1 18_05_30 11_57_160065_patch_4_2.jpg: 480x640 5 blue_musselss, Done. (0.012s)\n",
      "image 100/340 /usr/src/app/data_dir/data_output/images/nmi18_16004 0 Lat 6224397.66 Lon 634442.89 Pan -150.0 Tilt 0.0 Hdg 137.0 18_05_30 12_17_230087_patch_4_0.jpg: 480x640 5 blue_musselss, Done. (0.012s)\n",
      "image 101/340 /usr/src/app/data_dir/data_output/images/nmi18_16004 0 Lat 6224397.66 Lon 634442.89 Pan -150.0 Tilt 0.0 Hdg 137.0 18_05_30 12_17_230087_patch_4_1.jpg: 480x640 5 blue_musselss, Done. (0.012s)\n",
      "image 102/340 /usr/src/app/data_dir/data_output/images/nmi18_16004 18 Lat 6224397.65 Lon 634442.53 Pan -109.4 Tilt -50.0 Hdg 175.6 18_05_30 12_20_040105_patch_4_0.jpg: 480x640 1 blue_mussels, Done. (0.012s)\n",
      "image 103/340 /usr/src/app/data_dir/data_output/images/nmi18_16004 18 Lat 6224397.65 Lon 634442.53 Pan -109.4 Tilt -50.0 Hdg 175.6 18_05_30 12_20_040105_patch_4_1.jpg: 480x640 4 blue_musselss, Done. (0.012s)\n",
      "image 104/340 /usr/src/app/data_dir/data_output/images/nmi18_16004 18 Lat 6224397.65 Lon 634442.53 Pan -109.4 Tilt -50.0 Hdg 175.6 18_05_30 12_20_040105_patch_4_2.jpg: 480x640 8 blue_musselss, Done. (0.012s)\n",
      "image 105/340 /usr/src/app/data_dir/data_output/images/nmi18_16004 18 Lat 6224397.65 Lon 634442.53 Pan -109.4 Tilt -50.0 Hdg 175.6 18_05_30 12_20_040105_patch_4_4.jpg: 480x640 2 blue_musselss, Done. (0.013s)\n",
      "image 106/340 /usr/src/app/data_dir/data_output/images/nmi18_16004 3 Lat 6224397.66 Lon 634442.89 Pan -59.9 Tilt -27.1 Hdg 224.1 18_05_30 12_17_520090_patch_4_2.jpg: 480x640 5 blue_musselss, Done. (0.012s)\n",
      "image 107/340 /usr/src/app/data_dir/data_output/images/nmi18_16004 6 Lat 6224397.67 Lon 634443.12 Pan 70.1 Tilt -27.1 Hdg 3.1 18_05_30 12_18_230093_patch_4_2.jpg: 480x640 10 blue_musselss, Done. (0.012s)\n",
      "image 108/340 /usr/src/app/data_dir/data_output/images/nmi18_16004 6 Lat 6224397.67 Lon 634443.12 Pan 70.1 Tilt -27.1 Hdg 3.1 18_05_30 12_18_230093_patch_4_3.jpg: 480x640 5 blue_musselss, Done. (0.012s)\n",
      "image 109/340 /usr/src/app/data_dir/data_output/images/nmi18_16004 9 Lat 6224397.68 Lon 634443.48 Pan 157.1 Tilt -50.0 Hdg 88.1 18_05_30 12_18_510096_patch_4_0.jpg: 480x640 2 blue_musselss, Done. (0.012s)\n",
      "image 110/340 /usr/src/app/data_dir/data_output/images/nmi18_16010 0 Lat 6227519.90 Lon 640197.11 Pan -150.0 Tilt 0.0 Hdg 132.0 18_05_30 15_01_19IMG_0001_patch_4_0.jpg: 480x640 5 blue_musselss, Done. (0.012s)\n",
      "image 111/340 /usr/src/app/data_dir/data_output/images/nmi18_16010 0 Lat 6227519.90 Lon 640197.11 Pan -150.0 Tilt 0.0 Hdg 132.0 18_05_30 15_01_19IMG_0001_patch_4_1.jpg: 480x640 6 blue_musselss, Done. (0.012s)\n",
      "image 112/340 /usr/src/app/data_dir/data_output/images/nmi18_16010 0 Lat 6227519.90 Lon 640197.11 Pan -150.0 Tilt 0.0 Hdg 132.0 18_05_30 15_01_19IMG_0001_patch_4_2.jpg: 480x640 5 blue_musselss, Done. (0.012s)\n",
      "image 113/340 /usr/src/app/data_dir/data_output/images/nmi18_16010 18 Lat 6227519.91 Lon 640197.47 Pan -110.0 Tilt -50.0 Hdg 171.0 18_05_30 15_04_00IMG_0019_patch_4_1.jpg: 480x640 2 blue_musselss, Done. (0.012s)\n",
      "image 114/340 /usr/src/app/data_dir/data_output/images/nmi18_16010 18 Lat 6227519.91 Lon 640197.47 Pan -110.0 Tilt -50.0 Hdg 171.0 18_05_30 15_04_00IMG_0019_patch_4_2.jpg: 480x640 3 blue_musselss, Done. (0.012s)\n",
      "image 115/340 /usr/src/app/data_dir/data_output/images/nmi18_16010 3 Lat 6227519.91 Lon 640197.47 Pan -59.9 Tilt -27.1 Hdg 220.1 18_05_30 15_01_48IMG_0004_patch_4_1.jpg: 480x640 4 blue_musselss, Done. (0.012s)\n",
      "image 116/340 /usr/src/app/data_dir/data_output/images/nmi18_16010 3 Lat 6227519.91 Lon 640197.47 Pan -59.9 Tilt -27.1 Hdg 220.1 18_05_30 15_01_48IMG_0004_patch_4_2.jpg: 480x640 5 blue_musselss, Done. (0.012s)\n",
      "image 117/340 /usr/src/app/data_dir/data_output/images/nmi18_16010 3 Lat 6227519.91 Lon 640197.47 Pan -59.9 Tilt -27.1 Hdg 220.1 18_05_30 15_01_48IMG_0004_patch_4_3.jpg: 480x640 4 blue_musselss, Done. (0.012s)\n",
      "image 118/340 /usr/src/app/data_dir/data_output/images/nmi18_16010 6 Lat 6227519.91 Lon 640197.47 Pan 70.1 Tilt -27.1 Hdg 357.1 18_05_30 15_02_19IMG_0007_patch_4_2.jpg: 480x640 6 blue_musselss, Done. (0.013s)\n",
      "image 119/340 /usr/src/app/data_dir/data_output/images/nmi18_16010 6 Lat 6227519.91 Lon 640197.47 Pan 70.1 Tilt -27.1 Hdg 357.1 18_05_30 15_02_19IMG_0007_patch_4_3.jpg: 480x640 3 blue_musselss, Done. (0.012s)\n",
      "image 120/340 /usr/src/app/data_dir/data_output/images/nmi18_16010 9 Lat 6227519.91 Lon 640197.47 Pan 157.1 Tilt -50.0 Hdg 83.1 18_05_30 15_02_47IMG_0010_patch_4_1.jpg: 480x640 9 blue_musselss, Done. (0.013s)\n",
      "image 121/340 /usr/src/app/data_dir/data_output/images/nmi18_16010 9 Lat 6227519.91 Lon 640197.47 Pan 157.1 Tilt -50.0 Hdg 83.1 18_05_30 15_02_47IMG_0010_patch_4_2.jpg: 480x640 7 blue_musselss, Done. (0.012s)\n",
      "image 122/340 /usr/src/app/data_dir/data_output/images/nmi18_16012 0 Lat 6229409.34 Lon 642584.01 Pan -150.0 Tilt 0.0 Hdg 125.0 18_05_30 15_41_44IMG_0056_patch_4_1.jpg: 480x640 6 blue_musselss, Done. (0.012s)\n",
      "image 123/340 /usr/src/app/data_dir/data_output/images/nmi18_16012 9 Lat 6229410.20 Lon 642584.21 Pan 157.1 Tilt -50.0 Hdg 76.1 18_05_30 15_43_13IMG_0065_patch_4_2.jpg: 480x640 5 blue_musselss, Done. (0.012s)\n",
      "image 124/340 /usr/src/app/data_dir/data_output/images/nmi18_16018 0 Lat 6230742.72 Lon 641534.63 Pan -150.0 Tilt 0.0 Hdg 21.0 18_07_29 12_39_460025_patch_4_0.jpg: 480x640 3 blue_musselss, Done. (0.013s)\n",
      "image 125/340 /usr/src/app/data_dir/data_output/images/nmi18_16018 0 Lat 6230742.72 Lon 641534.63 Pan -150.0 Tilt 0.0 Hdg 21.0 18_07_29 12_39_460025_patch_4_2.jpg: 480x640 5 blue_musselss, Done. (0.012s)\n",
      "image 126/340 /usr/src/app/data_dir/data_output/images/nmi18_16018 0 Lat 6230742.72 Lon 641534.63 Pan -150.0 Tilt 0.0 Hdg 21.0 18_07_29 12_39_460025_patch_4_3.jpg: 480x640 2 blue_musselss, Done. (0.012s)\n",
      "image 127/340 /usr/src/app/data_dir/data_output/images/nmi18_16018 18 Lat 6230742.72 Lon 641534.86 Pan -110.0 Tilt -50.0 Hdg 62.0 18_07_29 12_42_150043_patch_4_1.jpg: 480x640 7 blue_musselss, Done. (0.012s)\n",
      "image 128/340 /usr/src/app/data_dir/data_output/images/nmi18_16018 3 Lat 6230742.29 Lon 641534.64 Pan -60.6 Tilt -27.1 Hdg 112.4 18_07_29 12_40_120028_patch_4_1.jpg: 480x640 3 blue_musselss, Done. (0.012s)\n"
     ]
    },
    {
     "name": "stdout",
     "output_type": "stream",
     "text": [
      "image 129/340 /usr/src/app/data_dir/data_output/images/nmi18_16018 3 Lat 6230742.29 Lon 641534.64 Pan -60.6 Tilt -27.1 Hdg 112.4 18_07_29 12_40_120028_patch_4_2.jpg: 480x640 6 blue_musselss, Done. (0.012s)\n",
      "image 130/340 /usr/src/app/data_dir/data_output/images/nmi18_17006 0 Lat 6233400.74 Lon 647873.77 Pan -150.0 Tilt 0.0 Hdg 22.0 18_05_16 16_08_230049_patch_4_3.jpg: 480x640 3 blue_musselss, Done. (0.012s)\n",
      "image 131/340 /usr/src/app/data_dir/data_output/images/nmi18_17006 18 Lat 6233400.73 Lon 647873.65 Pan -110.0 Tilt -50.0 Hdg 63.0 18_05_16 16_11_080067_patch_4_0.jpg: 480x640 4 blue_musselss, Done. (0.012s)\n",
      "image 132/340 /usr/src/app/data_dir/data_output/images/nmi18_17006 6 Lat 6233400.73 Lon 647873.41 Pan 70.1 Tilt -27.1 Hdg 244.1 18_05_16 16_09_260055_patch_4_2.jpg: 480x640 2 blue_musselss, Done. (0.012s)\n",
      "image 133/340 /usr/src/app/data_dir/data_output/images/nmi18_17006 6 Lat 6233400.73 Lon 647873.41 Pan 70.1 Tilt -27.1 Hdg 244.1 18_05_16 16_09_260055_patch_4_3.jpg: 480x640 6 blue_musselss, Done. (0.012s)\n",
      "image 134/340 /usr/src/app/data_dir/data_output/images/nmi18_17006 9 Lat 6233400.73 Lon 647873.65 Pan 157.1 Tilt -50.0 Hdg 329.1 18_05_16 16_09_550058_patch_4_4.jpg: 480x640 1 blue_mussels, Done. (0.012s)\n",
      "image 135/340 /usr/src/app/data_dir/data_output/images/nmi18_17007 0 Lat 6235730.61 Lon 648127.33 Pan -150.0 Tilt 0.0 Hdg 357.0 18_05_16 13_52_070093_patch_4_0.jpg: 480x640 6 blue_musselss, Done. (0.012s)\n",
      "image 136/340 /usr/src/app/data_dir/data_output/images/nmi18_17007 18 Lat 6235731.44 Lon 648126.94 Pan -110.0 Tilt -50.0 Hdg 38.0 18_05_16 13_54_510111_patch_4_2.jpg: 480x640 8 blue_musselss, Done. (0.012s)\n",
      "image 137/340 /usr/src/app/data_dir/data_output/images/nmi18_17007 3 Lat 6235731.44 Lon 648126.94 Pan -59.9 Tilt -27.1 Hdg 89.1 18_05_16 13_52_370096_patch_4_3.jpg: 480x640 2 blue_musselss, Done. (0.012s)\n",
      "image 138/340 /usr/src/app/data_dir/data_output/images/nmi18_17007 3 Lat 6235731.44 Lon 648126.94 Pan -59.9 Tilt -27.1 Hdg 89.1 18_05_16 13_52_370096_patch_4_4.jpg: 480x640 3 blue_musselss, Done. (0.013s)\n",
      "image 139/340 /usr/src/app/data_dir/data_output/images/nmi18_17007 6 Lat 6235730.60 Lon 648126.97 Pan 70.1 Tilt -27.1 Hdg 217.1 18_05_16 13_53_100099_patch_4_4.jpg: 480x640 3 blue_musselss, Done. (0.012s)\n",
      "image 140/340 /usr/src/app/data_dir/data_output/images/nmi18_17007 9 Lat 6235731.45 Lon 648127.18 Pan 157.1 Tilt -50.0 Hdg 304.1 18_05_16 13_53_390102_patch_4_0.jpg: 480x640 3 blue_musselss, Done. (0.012s)\n",
      "image 141/340 /usr/src/app/data_dir/data_output/images/nmi18_17007 9 Lat 6235731.45 Lon 648127.18 Pan 157.1 Tilt -50.0 Hdg 304.1 18_05_16 13_53_390102_patch_4_3.jpg: 480x640 5 blue_musselss, Done. (0.012s)\n",
      "image 142/340 /usr/src/app/data_dir/data_output/images/nmi18_17008 0 Lat 6233937.29 Lon 648432.80 Pan -150.0 Tilt 0.0 Hdg 30.0 18_05_16 15_47_490025_patch_4_1.jpg: 480x640 3 blue_musselss, Done. (0.012s)\n",
      "image 143/340 /usr/src/app/data_dir/data_output/images/nmi18_17008 18 Lat 6233937.30 Lon 648433.03 Pan -110.0 Tilt -50.0 Hdg 72.0 18_05_16 15_50_400043_patch_4_0.jpg: 480x640 4 blue_musselss, Done. (0.012s)\n",
      "image 144/340 /usr/src/app/data_dir/data_output/images/nmi18_17008 18 Lat 6233937.30 Lon 648433.03 Pan -110.0 Tilt -50.0 Hdg 72.0 18_05_16 15_50_400043_patch_4_2.jpg: 480x640 6 blue_musselss, Done. (0.012s)\n",
      "image 145/340 /usr/src/app/data_dir/data_output/images/nmi18_17008 6 Lat 6233937.28 Lon 648432.44 Pan 70.1 Tilt -27.1 Hdg 251.1 18_05_16 15_48_530031_patch_4_1.jpg: 480x640 8 blue_musselss, Done. (0.012s)\n",
      "image 146/340 /usr/src/app/data_dir/data_output/images/nmi18_17008 6 Lat 6233937.28 Lon 648432.44 Pan 70.1 Tilt -27.1 Hdg 251.1 18_05_16 15_48_530031_patch_4_2.jpg: 480x640 5 blue_musselss, Done. (0.012s)\n",
      "image 147/340 /usr/src/app/data_dir/data_output/images/nmi18_17008 9 Lat 6233937.29 Lon 648432.68 Pan 157.1 Tilt -49.1 Hdg 337.1 18_05_16 15_49_240034_patch_4_1.jpg: 480x640 6 blue_musselss, Done. (0.012s)\n",
      "image 148/340 /usr/src/app/data_dir/data_output/images/nmi18_17008 9 Lat 6233937.29 Lon 648432.68 Pan 157.1 Tilt -49.1 Hdg 337.1 18_05_16 15_49_240034_patch_4_3.jpg: 480x640 5 blue_musselss, Done. (0.012s)\n",
      "image 149/340 /usr/src/app/data_dir/data_output/images/nmi18_17010 18 Lat 6237168.93 Lon 650755.74 Pan -109.3 Tilt -50.0 Hdg 238.7 18_05_16 15_17_090019_patch_4_3.jpg: 480x640 3 blue_musselss, Done. (0.012s)\n",
      "image 150/340 /usr/src/app/data_dir/data_output/images/nmi18_17010 3 Lat 6237168.93 Lon 650755.74 Pan -60.5 Tilt -27.1 Hdg 284.5 18_05_16 15_14_480004_patch_4_3.jpg: 480x640 5 blue_musselss, Done. (0.012s)\n",
      "image 151/340 /usr/src/app/data_dir/data_output/images/nmi18_17010 6 Lat 6237167.65 Lon 650755.43 Pan 69.9 Tilt -27.1 Hdg 59.9 18_05_16 15_15_210007_patch_4_0.jpg: 480x640 5 blue_musselss, Done. (0.012s)\n",
      "image 152/340 /usr/src/app/data_dir/data_output/images/nmi18_17010 6 Lat 6237167.65 Lon 650755.43 Pan 69.9 Tilt -27.1 Hdg 59.9 18_05_16 15_15_210007_patch_4_2.jpg: 480x640 11 blue_musselss, Done. (0.013s)\n",
      "image 153/340 /usr/src/app/data_dir/data_output/images/nmi18_17010 6 Lat 6237167.65 Lon 650755.43 Pan 69.9 Tilt -27.1 Hdg 59.9 18_05_16 15_15_210007_patch_4_3.jpg: 480x640 7 blue_musselss, Done. (0.012s)\n",
      "image 154/340 /usr/src/app/data_dir/data_output/images/nmi18_17010 9 Lat 6237167.64 Lon 650755.20 Pan 157.1 Tilt -49.5 Hdg 150.1 18_05_16 15_15_510010_patch_4_3.jpg: 480x640 3 blue_musselss, Done. (0.012s)\n",
      "image 155/340 /usr/src/app/data_dir/data_output/images/nmi18_17014 0 Lat 6237122.20 Lon 652168.49 Pan -150.0 Tilt -0.3 Hdg 9.0 18_05_20 12_48_320214_patch_4_1.jpg: 480x640 3 blue_musselss, Done. (0.012s)\n",
      "image 156/340 /usr/src/app/data_dir/data_output/images/nmi18_17014 0 Lat 6237122.20 Lon 652168.49 Pan -150.0 Tilt -0.3 Hdg 9.0 18_05_20 12_48_320214_patch_4_2.jpg: 480x640 9 blue_musselss, Done. (0.012s)\n",
      "image 157/340 /usr/src/app/data_dir/data_output/images/nmi18_17014 0 Lat 6237122.20 Lon 652168.49 Pan -150.0 Tilt -0.3 Hdg 9.0 18_05_20 12_48_320214_patch_4_3.jpg: 480x640 5 blue_musselss, Done. (0.012s)\n",
      "image 158/340 /usr/src/app/data_dir/data_output/images/nmi18_17014 0 Lat 6237122.20 Lon 652168.49 Pan -150.0 Tilt -0.3 Hdg 9.0 18_05_20 12_48_320214_patch_4_4.jpg: 480x640 5 blue_musselss, Done. (0.012s)\n",
      "image 159/340 /usr/src/app/data_dir/data_output/images/nmi18_17014 18 Lat 6237122.21 Lon 652168.73 Pan -110.0 Tilt -50.0 Hdg 50.0 18_05_20 12_51_380232_patch_4_1.jpg: 480x640 7 blue_musselss, Done. (0.012s)\n",
      "image 160/340 /usr/src/app/data_dir/data_output/images/nmi18_17014 18 Lat 6237122.21 Lon 652168.73 Pan -110.0 Tilt -50.0 Hdg 50.0 18_05_20 12_51_380232_patch_4_2.jpg: 480x640 4 blue_musselss, Done. (0.013s)\n",
      "image 161/340 /usr/src/app/data_dir/data_output/images/nmi18_17014 3 Lat 6237123.09 Lon 652169.52 Pan -59.9 Tilt -27.1 Hdg 100.1 18_05_20 12_49_040217_patch_4_1.jpg: 480x640 4 blue_musselss, Done. (0.012s)\n",
      "image 162/340 /usr/src/app/data_dir/data_output/images/nmi18_17014 3 Lat 6237123.09 Lon 652169.52 Pan -59.9 Tilt -27.1 Hdg 100.1 18_05_20 12_49_040217_patch_4_2.jpg: 480x640 4 blue_musselss, Done. (0.013s)\n",
      "image 163/340 /usr/src/app/data_dir/data_output/images/nmi18_17014 3 Lat 6237123.09 Lon 652169.52 Pan -59.9 Tilt -27.1 Hdg 100.1 18_05_20 12_49_040217_patch_4_3.jpg: 480x640 4 blue_musselss, Done. (0.012s)\n",
      "image 164/340 /usr/src/app/data_dir/data_output/images/nmi18_17014 6 Lat 6237122.19 Lon 652168.37 Pan 69.2 Tilt -27.1 Hdg 228.2 18_05_20 12_49_380220_patch_4_0.jpg: 480x640 2 blue_musselss, Done. (0.013s)\n",
      "image 165/340 /usr/src/app/data_dir/data_output/images/nmi18_17014 6 Lat 6237122.19 Lon 652168.37 Pan 69.2 Tilt -27.1 Hdg 228.2 18_05_20 12_49_380220_patch_4_1.jpg: 480x640 4 blue_musselss, Done. (0.012s)\n",
      "image 166/340 /usr/src/app/data_dir/data_output/images/nmi18_17014 6 Lat 6237122.19 Lon 652168.37 Pan 69.2 Tilt -27.1 Hdg 228.2 18_05_20 12_49_380220_patch_4_3.jpg: 480x640 7 blue_musselss, Done. (0.012s)\n",
      "image 167/340 /usr/src/app/data_dir/data_output/images/nmi18_17019 0 Lat 6238049.27 Lon 653455.07 Pan -150.0 Tilt 0.0 Hdg 9.0 18_05_20 12_09_180152_patch_4_0.jpg: 480x640 6 blue_musselss, Done. (0.012s)\n",
      "image 168/340 /usr/src/app/data_dir/data_output/images/nmi18_17019 0 Lat 6238049.27 Lon 653455.07 Pan -150.0 Tilt 0.0 Hdg 9.0 18_05_20 12_09_180152_patch_4_3.jpg: 480x640 8 blue_musselss, Done. (0.012s)\n",
      "image 169/340 /usr/src/app/data_dir/data_output/images/nmi18_17019 0 Lat 6238049.27 Lon 653455.07 Pan -150.0 Tilt 0.0 Hdg 9.0 18_05_20 12_09_180152_patch_4_4.jpg: 480x640 10 blue_musselss, Done. (0.012s)\n",
      "image 170/340 /usr/src/app/data_dir/data_output/images/nmi18_17019 18 Lat 6238050.13 Lon 653455.39 Pan -109.7 Tilt -50.0 Hdg 49.3 18_05_20 12_12_230170_patch_4_1.jpg: 480x640 5 blue_musselss, Done. (0.013s)\n",
      "image 171/340 /usr/src/app/data_dir/data_output/images/nmi18_17019 3 Lat 6238050.12 Lon 653455.16 Pan -60.1 Tilt -27.1 Hdg 100.9 18_05_20 12_09_510155_patch_4_0.jpg: 480x640 3 blue_musselss, Done. (0.012s)\n"
     ]
    },
    {
     "name": "stdout",
     "output_type": "stream",
     "text": [
      "image 172/340 /usr/src/app/data_dir/data_output/images/nmi18_17019 3 Lat 6238050.12 Lon 653455.16 Pan -60.1 Tilt -27.1 Hdg 100.9 18_05_20 12_09_510155_patch_4_1.jpg: 480x640 5 blue_musselss, Done. (0.012s)\n",
      "image 173/340 /usr/src/app/data_dir/data_output/images/nmi18_17019 3 Lat 6238050.12 Lon 653455.16 Pan -60.1 Tilt -27.1 Hdg 100.9 18_05_20 12_09_510155_patch_4_2.jpg: 480x640 9 blue_musselss, Done. (0.012s)\n",
      "image 174/340 /usr/src/app/data_dir/data_output/images/nmi18_17019 6 Lat 6238050.13 Lon 653455.39 Pan 69.7 Tilt -27.1 Hdg 228.7 18_05_20 12_10_260158_patch_4_1.jpg: 480x640 13 blue_musselss, Done. (0.012s)\n",
      "image 175/340 /usr/src/app/data_dir/data_output/images/nmi18_17019 6 Lat 6238050.13 Lon 653455.39 Pan 69.7 Tilt -27.1 Hdg 228.7 18_05_20 12_10_260158_patch_4_2.jpg: 480x640 3 blue_musselss, Done. (0.012s)\n",
      "image 176/340 /usr/src/app/data_dir/data_output/images/nmi18_17019 6 Lat 6238050.13 Lon 653455.39 Pan 69.7 Tilt -27.1 Hdg 228.7 18_05_20 12_10_260158_patch_4_3.jpg: 480x640 10 blue_musselss, Done. (0.012s)\n",
      "image 177/340 /usr/src/app/data_dir/data_output/images/nmi18_17019 9 Lat 6238050.15 Lon 653455.98 Pan 157.1 Tilt -50.0 Hdg 315.1 18_05_20 12_10_590161_patch_4_1.jpg: 480x640 7 blue_musselss, Done. (0.012s)\n",
      "image 178/340 /usr/src/app/data_dir/data_output/images/nmi18_18008 18 Lat 6221544.46 Lon 635652.45 Pan -109.3 Tilt -50.0 Hdg 131.7 18_05_27 13_54_080182_patch_4_2.jpg: 480x640 2 blue_musselss, Done. (0.012s)\n",
      "image 179/340 /usr/src/app/data_dir/data_output/images/nmi18_18010 0 Lat 6222921.67 Lon 636647.45 Pan -150.0 Tilt 0.0 Hdg 92.0 18_05_27 14_37_440025_patch_4_0.jpg: 480x640 5 blue_musselss, Done. (0.012s)\n",
      "image 180/340 /usr/src/app/data_dir/data_output/images/nmi18_18010 18 Lat 6222921.67 Lon 636647.57 Pan -110.0 Tilt -50.0 Hdg 131.0 18_05_27 14_40_420043_patch_4_1.jpg: 480x640 3 blue_musselss, Done. (0.013s)\n",
      "image 181/340 /usr/src/app/data_dir/data_output/images/nmi18_18010 18 Lat 6222921.67 Lon 636647.57 Pan -110.0 Tilt -50.0 Hdg 131.0 18_05_27 14_40_420043_patch_4_2.jpg: 480x640 7 blue_musselss, Done. (0.012s)\n",
      "image 182/340 /usr/src/app/data_dir/data_output/images/nmi18_18010 18 Lat 6222921.67 Lon 636647.57 Pan -110.0 Tilt -50.0 Hdg 131.0 18_05_27 14_40_420043_patch_4_3.jpg: 480x640 4 blue_musselss, Done. (0.012s)\n",
      "image 183/340 /usr/src/app/data_dir/data_output/images/nmi18_18010 3 Lat 6222921.68 Lon 636647.80 Pan -60.9 Tilt -27.1 Hdg 181.1 18_05_27 14_38_160028_patch_4_1.jpg: 480x640 7 blue_musselss, Done. (0.012s)\n",
      "image 184/340 /usr/src/app/data_dir/data_output/images/nmi18_18010 3 Lat 6222921.68 Lon 636647.80 Pan -60.9 Tilt -27.1 Hdg 181.1 18_05_27 14_38_160028_patch_4_2.jpg: 480x640 8 blue_musselss, Done. (0.012s)\n",
      "image 185/340 /usr/src/app/data_dir/data_output/images/nmi18_18010 6 Lat 6222921.68 Lon 636647.80 Pan 70.1 Tilt -27.1 Hdg 316.1 18_05_27 14_38_490031_patch_4_0.jpg: 480x640 2 blue_musselss, Done. (0.012s)\n",
      "image 186/340 /usr/src/app/data_dir/data_output/images/nmi18_18010 6 Lat 6222921.68 Lon 636647.80 Pan 70.1 Tilt -27.1 Hdg 316.1 18_05_27 14_38_490031_patch_4_3.jpg: 480x640 13 blue_musselss, Done. (0.012s)\n",
      "image 187/340 /usr/src/app/data_dir/data_output/images/nmi18_18010 9 Lat 6222921.68 Lon 636647.80 Pan 157.1 Tilt -49.5 Hdg 41.1 18_05_27 14_39_210034_patch_4_0.jpg: 480x640 5 blue_musselss, Done. (0.012s)\n",
      "image 188/340 /usr/src/app/data_dir/data_output/images/nmi18_18010 9 Lat 6222921.68 Lon 636647.80 Pan 157.1 Tilt -49.5 Hdg 41.1 18_05_27 14_39_210034_patch_4_2.jpg: 480x640 4 blue_musselss, Done. (0.012s)\n",
      "image 189/340 /usr/src/app/data_dir/data_output/images/nmi18_18011 0 Lat 6223712.03 Lon 636489.76 Pan -150.0 Tilt 0.0 Hdg 94.0 18_05_27 15_10_030073_patch_4_1.jpg: 480x640 4 blue_musselss, Done. (0.012s)\n",
      "image 190/340 /usr/src/app/data_dir/data_output/images/nmi18_18011 0 Lat 6223712.03 Lon 636489.76 Pan -150.0 Tilt 0.0 Hdg 94.0 18_05_27 15_10_030073_patch_4_2.jpg: 480x640 6 blue_musselss, Done. (0.012s)\n",
      "image 191/340 /usr/src/app/data_dir/data_output/images/nmi18_18011 0 Lat 6223712.03 Lon 636489.76 Pan -150.0 Tilt 0.0 Hdg 94.0 18_05_27 15_10_030073_patch_4_3.jpg: 480x640 4 blue_musselss, Done. (0.012s)\n",
      "image 192/340 /usr/src/app/data_dir/data_output/images/nmi18_18011 3 Lat 6223712.03 Lon 636489.76 Pan -59.9 Tilt -27.1 Hdg 184.1 18_05_27 15_10_330076_patch_4_1.jpg: 480x640 3 blue_musselss, Done. (0.012s)\n",
      "image 193/340 /usr/src/app/data_dir/data_output/images/nmi18_18011 3 Lat 6223712.03 Lon 636489.76 Pan -59.9 Tilt -27.1 Hdg 184.1 18_05_27 15_10_330076_patch_4_4.jpg: 480x640 4 blue_musselss, Done. (0.012s)\n",
      "image 194/340 /usr/src/app/data_dir/data_output/images/nmi18_18011 6 Lat 6223711.18 Lon 636489.78 Pan 70.1 Tilt -27.1 Hdg 318.1 18_05_27 15_11_050079_patch_4_2.jpg: 480x640 4 blue_musselss, Done. (0.012s)\n",
      "image 195/340 /usr/src/app/data_dir/data_output/images/nmi18_18011 9 Lat 6223712.03 Lon 636489.76 Pan 157.1 Tilt -49.1 Hdg 43.1 18_05_27 15_11_350082_patch_4_1.jpg: 480x640 1 blue_mussels, Done. (0.012s)\n",
      "image 196/340 /usr/src/app/data_dir/data_output/images/nmi18_18012 0 Lat 6223471.97 Lon 637314.49 Pan -150.0 Tilt 0.0 Hdg 103.0 18_05_27 14_53_150049_patch_4_0.jpg: 480x640 5 blue_musselss, Done. (0.012s)\n",
      "image 197/340 /usr/src/app/data_dir/data_output/images/nmi18_18012 0 Lat 6223471.97 Lon 637314.49 Pan -150.0 Tilt 0.0 Hdg 103.0 18_05_27 14_53_150049_patch_4_1.jpg: 480x640 5 blue_musselss, Done. (0.012s)\n",
      "image 198/340 /usr/src/app/data_dir/data_output/images/nmi18_18012 0 Lat 6223471.97 Lon 637314.49 Pan -150.0 Tilt 0.0 Hdg 103.0 18_05_27 14_53_150049_patch_4_3.jpg: 480x640 2 blue_musselss, Done. (0.012s)\n",
      "image 199/340 /usr/src/app/data_dir/data_output/images/nmi18_18012 0 Lat 6223471.97 Lon 637314.49 Pan -150.0 Tilt 0.0 Hdg 103.0 18_05_27 14_53_150049_patch_4_4.jpg: 480x640 4 blue_musselss, Done. (0.012s)\n",
      "image 200/340 /usr/src/app/data_dir/data_output/images/nmi18_18012 18 Lat 6223470.71 Lon 637314.77 Pan -110.0 Tilt -50.0 Hdg 142.0 18_05_27 14_56_170067_patch_4_2.jpg: 480x640 10 blue_musselss, Done. (0.012s)\n",
      "image 201/340 /usr/src/app/data_dir/data_output/images/nmi18_18012 3 Lat 6223471.97 Lon 637314.49 Pan -59.9 Tilt -27.1 Hdg 192.1 18_05_27 14_53_470052_patch_4_0.jpg: 480x640 3 blue_musselss, Done. (0.012s)\n",
      "image 202/340 /usr/src/app/data_dir/data_output/images/nmi18_18012 3 Lat 6223471.97 Lon 637314.49 Pan -59.9 Tilt -27.1 Hdg 192.1 18_05_27 14_53_470052_patch_4_1.jpg: 480x640 9 blue_musselss, Done. (0.012s)\n",
      "image 203/340 /usr/src/app/data_dir/data_output/images/nmi18_18012 3 Lat 6223471.97 Lon 637314.49 Pan -59.9 Tilt -27.1 Hdg 192.1 18_05_27 14_53_470052_patch_4_2.jpg: 480x640 9 blue_musselss, Done. (0.012s)\n",
      "image 204/340 /usr/src/app/data_dir/data_output/images/nmi18_18012 6 Lat 6223470.71 Lon 637314.77 Pan 70.1 Tilt -27.1 Hdg 327.1 18_05_27 14_54_220055_patch_4_0.jpg: 480x640 6 blue_musselss, Done. (0.012s)\n",
      "image 205/340 /usr/src/app/data_dir/data_output/images/nmi18_18012 6 Lat 6223470.71 Lon 637314.77 Pan 70.1 Tilt -27.1 Hdg 327.1 18_05_27 14_54_220055_patch_4_1.jpg: 480x640 9 blue_musselss, Done. (0.012s)\n",
      "image 206/340 /usr/src/app/data_dir/data_output/images/nmi18_18012 6 Lat 6223470.71 Lon 637314.77 Pan 70.1 Tilt -27.1 Hdg 327.1 18_05_27 14_54_220055_patch_4_3.jpg: 480x640 5 blue_musselss, Done. (0.012s)\n",
      "image 207/340 /usr/src/app/data_dir/data_output/images/nmi18_18012 9 Lat 6223471.98 Lon 637314.73 Pan 157.1 Tilt -50.0 Hdg 51.1 18_05_27 14_54_540058_patch_4_2.jpg: 480x640 8 blue_musselss, Done. (0.012s)\n",
      "image 208/340 /usr/src/app/data_dir/data_output/images/nmi18_19001 0 Lat 6233371.39 Lon 647983.34 Pan -150.0 Tilt 0.0 Hdg 155.0 18_05_20 16_35_540026_patch_4_0.jpg: 480x640 4 blue_musselss, Done. (0.012s)\n",
      "image 209/340 /usr/src/app/data_dir/data_output/images/nmi18_19001 0 Lat 6233371.39 Lon 647983.34 Pan -150.0 Tilt 0.0 Hdg 155.0 18_05_20 16_35_540026_patch_4_1.jpg: 480x640 7 blue_musselss, Done. (0.012s)\n",
      "image 210/340 /usr/src/app/data_dir/data_output/images/nmi18_19001 0 Lat 6233371.39 Lon 647983.34 Pan -150.0 Tilt 0.0 Hdg 155.0 18_05_20 16_35_540026_patch_4_2.jpg: 480x640 2 blue_musselss, Done. (0.012s)\n",
      "image 211/340 /usr/src/app/data_dir/data_output/images/nmi18_19001 0 Lat 6233371.39 Lon 647983.34 Pan -150.0 Tilt 0.0 Hdg 155.0 18_05_20 16_35_540026_patch_4_3.jpg: 480x640 5 blue_musselss, Done. (0.012s)\n",
      "image 212/340 /usr/src/app/data_dir/data_output/images/nmi18_19001 0 Lat 6233371.39 Lon 647983.34 Pan -150.0 Tilt 0.0 Hdg 155.0 18_05_20 16_35_540026_patch_4_4.jpg: 480x640 8 blue_musselss, Done. (0.012s)\n",
      "image 213/340 /usr/src/app/data_dir/data_output/images/nmi18_19001 18 Lat 6233371.39 Lon 647983.34 Pan -110.0 Tilt -50.0 Hdg 194.0 18_05_20 16_38_490044_patch_4_0.jpg: 480x640 5 blue_musselss, Done. (0.012s)\n"
     ]
    },
    {
     "name": "stdout",
     "output_type": "stream",
     "text": [
      "image 214/340 /usr/src/app/data_dir/data_output/images/nmi18_19001 18 Lat 6233371.39 Lon 647983.34 Pan -110.0 Tilt -50.0 Hdg 194.0 18_05_20 16_38_490044_patch_4_1.jpg: 480x640 7 blue_musselss, Done. (0.013s)\n",
      "image 215/340 /usr/src/app/data_dir/data_output/images/nmi18_19001 18 Lat 6233371.39 Lon 647983.34 Pan -110.0 Tilt -50.0 Hdg 194.0 18_05_20 16_38_490044_patch_4_3.jpg: 480x640 7 blue_musselss, Done. (0.012s)\n",
      "image 216/340 /usr/src/app/data_dir/data_output/images/nmi18_19001 3 Lat 6233371.38 Lon 647983.10 Pan -59.9 Tilt -27.1 Hdg 240.1 18_05_20 16_36_260029_patch_4_0.jpg: 480x640 7 blue_musselss, Done. (0.012s)\n",
      "image 217/340 /usr/src/app/data_dir/data_output/images/nmi18_19001 3 Lat 6233371.38 Lon 647983.10 Pan -59.9 Tilt -27.1 Hdg 240.1 18_05_20 16_36_260029_patch_4_1.jpg: 480x640 6 blue_musselss, Done. (0.012s)\n",
      "image 218/340 /usr/src/app/data_dir/data_output/images/nmi18_19001 3 Lat 6233371.38 Lon 647983.10 Pan -59.9 Tilt -27.1 Hdg 240.1 18_05_20 16_36_260029_patch_4_2.jpg: 480x640 4 blue_musselss, Done. (0.012s)\n",
      "image 219/340 /usr/src/app/data_dir/data_output/images/nmi18_19001 3 Lat 6233371.38 Lon 647983.10 Pan -59.9 Tilt -27.1 Hdg 240.1 18_05_20 16_36_260029_patch_4_3.jpg: 480x640 7 blue_musselss, Done. (0.012s)\n",
      "image 220/340 /usr/src/app/data_dir/data_output/images/nmi18_19001 6 Lat 6233370.08 Lon 647982.55 Pan 69.2 Tilt -27.1 Hdg 18.2 18_05_20 16_36_580032_patch_4_0.jpg: 480x640 11 blue_musselss, Done. (0.012s)\n",
      "image 221/340 /usr/src/app/data_dir/data_output/images/nmi18_19001 6 Lat 6233370.08 Lon 647982.55 Pan 69.2 Tilt -27.1 Hdg 18.2 18_05_20 16_36_580032_patch_4_1.jpg: 480x640 2 blue_musselss, Done. (0.012s)\n",
      "image 222/340 /usr/src/app/data_dir/data_output/images/nmi18_19001 6 Lat 6233370.08 Lon 647982.55 Pan 69.2 Tilt -27.1 Hdg 18.2 18_05_20 16_36_580032_patch_4_2.jpg: 480x640 5 blue_musselss, Done. (0.012s)\n",
      "image 223/340 /usr/src/app/data_dir/data_output/images/nmi18_19001 6 Lat 6233370.08 Lon 647982.55 Pan 69.2 Tilt -27.1 Hdg 18.2 18_05_20 16_36_580032_patch_4_3.jpg: 480x640 3 blue_musselss, Done. (0.012s)\n",
      "image 224/340 /usr/src/app/data_dir/data_output/images/nmi18_19001 6 Lat 6233370.08 Lon 647982.55 Pan 69.2 Tilt -27.1 Hdg 18.2 18_05_20 16_36_580032_patch_4_4.jpg: 480x640 9 blue_musselss, Done. (0.012s)\n",
      "image 225/340 /usr/src/app/data_dir/data_output/images/nmi18_19001 9 Lat 6233371.39 Lon 647983.57 Pan 157.1 Tilt -50.0 Hdg 107.1 18_05_20 16_37_290035_patch_4_0.jpg: 480x640 8 blue_musselss, Done. (0.012s)\n",
      "image 226/340 /usr/src/app/data_dir/data_output/images/nmi18_19001 9 Lat 6233371.39 Lon 647983.57 Pan 157.1 Tilt -50.0 Hdg 107.1 18_05_20 16_37_290035_patch_4_1.jpg: 480x640 3 blue_musselss, Done. (0.012s)\n",
      "image 227/340 /usr/src/app/data_dir/data_output/images/nmi18_19001 9 Lat 6233371.39 Lon 647983.57 Pan 157.1 Tilt -50.0 Hdg 107.1 18_05_20 16_37_290035_patch_4_2.jpg: 480x640 7 blue_musselss, Done. (0.012s)\n",
      "image 228/340 /usr/src/app/data_dir/data_output/images/nmi18_19001 9 Lat 6233371.39 Lon 647983.57 Pan 157.1 Tilt -50.0 Hdg 107.1 18_05_20 16_37_290035_patch_4_3.jpg: 480x640 4 blue_musselss, Done. (0.012s)\n",
      "image 229/340 /usr/src/app/data_dir/data_output/images/nmi18_19002 0 Lat 6231922.71 Lon 646539.72 Pan -150.0 Tilt 0.0 Hdg 267.0 18_05_20 16_15_010001_patch_4_0.jpg: 480x640 2 blue_musselss, Done. (0.012s)\n",
      "image 230/340 /usr/src/app/data_dir/data_output/images/nmi18_19002 0 Lat 6231922.71 Lon 646539.72 Pan -150.0 Tilt 0.0 Hdg 267.0 18_05_20 16_15_010001_patch_4_1.jpg: 480x640 3 blue_musselss, Done. (0.013s)\n",
      "image 231/340 /usr/src/app/data_dir/data_output/images/nmi18_19002 0 Lat 6231922.71 Lon 646539.72 Pan -150.0 Tilt 0.0 Hdg 267.0 18_05_20 16_15_010001_patch_4_3.jpg: 480x640 5 blue_musselss, Done. (0.012s)\n",
      "image 232/340 /usr/src/app/data_dir/data_output/images/nmi18_19002 3 Lat 6231922.71 Lon 646539.72 Pan -59.9 Tilt -27.1 Hdg 357.1 18_05_20 16_15_330004_patch_4_0.jpg: 480x640 5 blue_musselss, Done. (0.012s)\n",
      "image 233/340 /usr/src/app/data_dir/data_output/images/nmi18_19002 3 Lat 6231922.71 Lon 646539.72 Pan -59.9 Tilt -27.1 Hdg 357.1 18_05_20 16_15_330004_patch_4_1.jpg: 480x640 3 blue_musselss, Done. (0.012s)\n",
      "image 234/340 /usr/src/app/data_dir/data_output/images/nmi18_19002 3 Lat 6231922.71 Lon 646539.72 Pan -59.9 Tilt -27.1 Hdg 357.1 18_05_20 16_15_330004_patch_4_2.jpg: 480x640 2 blue_musselss, Done. (0.012s)\n",
      "image 235/340 /usr/src/app/data_dir/data_output/images/nmi18_19002 9 Lat 6231922.71 Lon 646539.72 Pan 157.1 Tilt -50.0 Hdg 210.1 18_05_20 16_16_330010_patch_4_1.jpg: 480x640 2 blue_musselss, Done. (0.012s)\n",
      "image 236/340 /usr/src/app/data_dir/data_output/images/nmi18_19004 0 Lat 6231372.58 Lon 648575.81 Pan -150.0 Tilt 0.0 Hdg 348.0 18_05_23 12_40_060024_patch_4_1.jpg: 480x640 12 blue_musselss, Done. (0.012s)\n",
      "image 237/340 /usr/src/app/data_dir/data_output/images/nmi18_19004 0 Lat 6231372.58 Lon 648575.81 Pan -150.0 Tilt 0.0 Hdg 348.0 18_05_23 12_40_060024_patch_4_2.jpg: 480x640 8 blue_musselss, Done. (0.012s)\n",
      "image 238/340 /usr/src/app/data_dir/data_output/images/nmi18_19004 18 Lat 6231373.43 Lon 648575.66 Pan -110.0 Tilt -50.0 Hdg 29.0 18_05_23 12_43_090042_patch_4_1.jpg: 480x640 4 blue_musselss, Done. (0.012s)\n",
      "image 239/340 /usr/src/app/data_dir/data_output/images/nmi18_19004 18 Lat 6231373.43 Lon 648575.66 Pan -110.0 Tilt -50.0 Hdg 29.0 18_05_23 12_43_090042_patch_4_2.jpg: 480x640 2 blue_musselss, Done. (0.012s)\n",
      "image 240/340 /usr/src/app/data_dir/data_output/images/nmi18_19004 18 Lat 6231373.43 Lon 648575.66 Pan -110.0 Tilt -50.0 Hdg 29.0 18_05_23 12_43_090042_patch_4_3.jpg: 480x640 2 blue_musselss, Done. (0.012s)\n",
      "image 241/340 /usr/src/app/data_dir/data_output/images/nmi18_19004 3 Lat 6231373.43 Lon 648575.66 Pan -59.9 Tilt -27.1 Hdg 80.1 18_05_23 12_40_380027_patch_4_0.jpg: 480x640 7 blue_musselss, Done. (0.013s)\n",
      "image 242/340 /usr/src/app/data_dir/data_output/images/nmi18_19004 3 Lat 6231373.43 Lon 648575.66 Pan -59.9 Tilt -27.1 Hdg 80.1 18_05_23 12_40_380027_patch_4_1.jpg: 480x640 2 blue_musselss, Done. (0.012s)\n",
      "image 243/340 /usr/src/app/data_dir/data_output/images/nmi18_19004 9 Lat 6231373.43 Lon 648575.66 Pan 157.1 Tilt -50.0 Hdg 293.1 18_05_23 12_41_440033_patch_4_1.jpg: 480x640 5 blue_musselss, Done. (0.012s)\n",
      "image 244/340 /usr/src/app/data_dir/data_output/images/nmi18_19004 9 Lat 6231373.43 Lon 648575.66 Pan 157.1 Tilt -50.0 Hdg 293.1 18_05_23 12_41_440033_patch_4_4.jpg: 480x640 2 blue_musselss, Done. (0.012s)\n",
      "image 245/340 /usr/src/app/data_dir/data_output/images/nmi18_19014 0 Lat 6226292.16 Lon 642252.55 Pan -150.0 Tilt 0.0 Hdg 137.0 18_05_24 12_22_020096_patch_4_1.jpg: 480x640 7 blue_musselss, Done. (0.012s)\n",
      "image 246/340 /usr/src/app/data_dir/data_output/images/nmi18_19014 0 Lat 6226292.16 Lon 642252.55 Pan -150.0 Tilt 0.0 Hdg 137.0 18_05_24 12_22_020096_patch_4_4.jpg: 480x640 5 blue_musselss, Done. (0.012s)\n",
      "image 247/340 /usr/src/app/data_dir/data_output/images/nmi18_19014 18 Lat 6226292.16 Lon 642252.55 Pan -110.0 Tilt -50.0 Hdg 175.0 18_05_24 12_25_130114_patch_4_2.jpg: 480x640 1 blue_mussels, Done. (0.012s)\n",
      "image 248/340 /usr/src/app/data_dir/data_output/images/nmi18_19014 18 Lat 6226292.16 Lon 642252.55 Pan -110.0 Tilt -50.0 Hdg 175.0 18_05_24 12_25_130114_patch_4_3.jpg: 480x640 2 blue_musselss, Done. (0.012s)\n",
      "image 249/340 /usr/src/app/data_dir/data_output/images/nmi18_19014 6 Lat 6226292.16 Lon 642252.55 Pan 69.4 Tilt -27.1 Hdg 1.4 18_05_24 12_23_110102_patch_4_0.jpg: 480x640 6 blue_musselss, Done. (0.012s)\n",
      "image 250/340 /usr/src/app/data_dir/data_output/images/nmi18_19014 6 Lat 6226292.16 Lon 642252.55 Pan 69.4 Tilt -27.1 Hdg 1.4 18_05_24 12_23_110102_patch_4_1.jpg: 480x640 6 blue_musselss, Done. (0.012s)\n",
      "image 251/340 /usr/src/app/data_dir/data_output/images/nmi18_19014 6 Lat 6226292.16 Lon 642252.55 Pan 69.4 Tilt -27.1 Hdg 1.4 18_05_24 12_23_110102_patch_4_2.jpg: 480x640 7 blue_musselss, Done. (0.013s)\n",
      "image 252/340 /usr/src/app/data_dir/data_output/images/nmi18_19014 9 Lat 6226292.16 Lon 642252.79 Pan 157.1 Tilt -49.7 Hdg 88.1 18_05_24 12_23_440105_patch_4_1.jpg: 480x640 10 blue_musselss, Done. (0.012s)\n",
      "image 253/340 /usr/src/app/data_dir/data_output/images/nmi18_19014 9 Lat 6226292.16 Lon 642252.79 Pan 157.1 Tilt -49.7 Hdg 88.1 18_05_24 12_23_440105_patch_4_2.jpg: 480x640 3 blue_musselss, Done. (0.012s)\n",
      "image 254/340 /usr/src/app/data_dir/data_output/images/nmi18_20007 0 Lat 6235844.24 Lon 654590.79 Pan -150.0 Tilt 0.0 Hdg 341.0 18_07_26 09_43_180144_patch_4_3.jpg: 480x640 1 blue_mussels, Done. (0.012s)\n",
      "image 255/340 /usr/src/app/data_dir/data_output/images/nmi18_20007 18 Lat 6235844.20 Lon 654589.84 Pan -109.7 Tilt -50.0 Hdg 22.3 18_07_26 09_45_480158_patch_4_2.jpg: 480x640 4 blue_musselss, Done. (0.013s)\n",
      "image 256/340 /usr/src/app/data_dir/data_output/images/nmi18_20007 18 Lat 6235844.20 Lon 654589.84 Pan -109.7 Tilt -50.0 Hdg 22.3 18_07_26 09_45_480158_patch_4_3.jpg: 480x640 1 blue_mussels, Done. (0.012s)\n"
     ]
    },
    {
     "name": "stdout",
     "output_type": "stream",
     "text": [
      "image 257/340 /usr/src/app/data_dir/data_output/images/nmi18_20007 6 Lat 6235843.76 Lon 654589.27 Pan 70.1 Tilt -27.1 Hdg 200.1 18_07_26 09_44_150150_patch_4_4.jpg: 480x640 1 blue_mussels, Done. (0.012s)\n",
      "image 258/340 /usr/src/app/data_dir/data_output/images/nmi18_20015 0 Lat 6232939.89 Lon 650773.62 Pan -129.9 Tilt 0.0 Hdg 89.1 18_06_16 16_04_090051_patch_4_0.jpg: 480x640 8 blue_musselss, Done. (0.013s)\n",
      "image 259/340 /usr/src/app/data_dir/data_output/images/nmi18_20015 0 Lat 6232939.89 Lon 650773.62 Pan -129.9 Tilt 0.0 Hdg 89.1 18_06_16 16_04_090051_patch_4_1.jpg: 480x640 5 blue_musselss, Done. (0.012s)\n",
      "image 260/340 /usr/src/app/data_dir/data_output/images/nmi18_20015 0 Lat 6232939.89 Lon 650773.62 Pan -129.9 Tilt 0.0 Hdg 89.1 18_06_16 16_04_090051_patch_4_2.jpg: 480x640 10 blue_musselss, Done. (0.013s)\n",
      "image 261/340 /usr/src/app/data_dir/data_output/images/nmi18_20015 0 Lat 6232939.89 Lon 650773.62 Pan -129.9 Tilt 0.0 Hdg 89.1 18_06_16 16_04_090051_patch_4_3.jpg: 480x640 7 blue_musselss, Done. (0.012s)\n",
      "image 262/340 /usr/src/app/data_dir/data_output/images/nmi18_20015 18 Lat 6232939.89 Lon 650773.62 Pan -84.4 Tilt -50.0 Hdg 135.6 18_06_16 16_06_400069_patch_4_0.jpg: 480x640 10 blue_musselss, Done. (0.012s)\n",
      "image 263/340 /usr/src/app/data_dir/data_output/images/nmi18_20015 18 Lat 6232939.89 Lon 650773.62 Pan -84.4 Tilt -50.0 Hdg 135.6 18_06_16 16_06_400069_patch_4_2.jpg: 480x640 6 blue_musselss, Done. (0.012s)\n",
      "image 264/340 /usr/src/app/data_dir/data_output/images/nmi18_20015 3 Lat 6232939.89 Lon 650773.62 Pan -49.9 Tilt -27.1 Hdg 170.1 18_06_16 16_04_360054_patch_4_4.jpg: 480x640 3 blue_musselss, Done. (0.012s)\n",
      "image 265/340 /usr/src/app/data_dir/data_output/images/nmi18_20015 6 Lat 6232939.88 Lon 650773.39 Pan 70.1 Tilt -27.1 Hdg 292.1 18_06_16 16_05_040057_patch_4_2.jpg: 480x640 12 blue_musselss, Done. (0.012s)\n",
      "image 266/340 /usr/src/app/data_dir/data_output/images/nmi18_20015 6 Lat 6232939.88 Lon 650773.39 Pan 70.1 Tilt -27.1 Hdg 292.1 18_06_16 16_05_040057_patch_4_3.jpg: 480x640 3 blue_musselss, Done. (0.012s)\n",
      "image 267/340 /usr/src/app/data_dir/data_output/images/nmi18_20015 6 Lat 6232939.88 Lon 650773.39 Pan 70.1 Tilt -27.1 Hdg 292.1 18_06_16 16_05_040057_patch_4_4.jpg: 480x640 4 blue_musselss, Done. (0.012s)\n",
      "image 268/340 /usr/src/app/data_dir/data_output/images/nmi18_20017 0 Lat 6232279.07 Lon 649928.15 Pan -129.9 Tilt 0.0 Hdg 84.1 18_06_16 15_33_410002_patch_4_0.jpg: 480x640 6 blue_musselss, Done. (0.013s)\n",
      "image 269/340 /usr/src/app/data_dir/data_output/images/nmi18_20017 0 Lat 6232279.07 Lon 649928.15 Pan -129.9 Tilt 0.0 Hdg 84.1 18_06_16 15_33_410002_patch_4_1.jpg: 480x640 10 blue_musselss, Done. (0.012s)\n",
      "image 270/340 /usr/src/app/data_dir/data_output/images/nmi18_20017 0 Lat 6232279.07 Lon 649928.15 Pan -129.9 Tilt 0.0 Hdg 84.1 18_06_16 15_33_410002_patch_4_3.jpg: 480x640 6 blue_musselss, Done. (0.012s)\n",
      "image 271/340 /usr/src/app/data_dir/data_output/images/nmi18_20017 0 Lat 6232279.07 Lon 649928.15 Pan -129.9 Tilt 0.0 Hdg 84.1 18_06_16 15_33_410002_patch_4_4.jpg: 480x640 5 blue_musselss, Done. (0.012s)\n",
      "image 272/340 /usr/src/app/data_dir/data_output/images/nmi18_20017 18 Lat 6232279.06 Lon 649927.92 Pan -85.0 Tilt -50.0 Hdg 130.0 18_06_16 15_36_100020_patch_4_0.jpg: 480x640 9 blue_musselss, Done. (0.012s)\n",
      "image 273/340 /usr/src/app/data_dir/data_output/images/nmi18_20017 18 Lat 6232279.06 Lon 649927.92 Pan -85.0 Tilt -50.0 Hdg 130.0 18_06_16 15_36_100020_patch_4_3.jpg: 480x640 4 blue_musselss, Done. (0.012s)\n",
      "image 274/340 /usr/src/app/data_dir/data_output/images/nmi18_20017 3 Lat 6232279.07 Lon 649928.15 Pan -49.9 Tilt -27.1 Hdg 165.1 18_06_16 15_34_070005_patch_4_0.jpg: 480x640 3 blue_musselss, Done. (0.012s)\n",
      "image 275/340 /usr/src/app/data_dir/data_output/images/nmi18_20017 3 Lat 6232279.07 Lon 649928.15 Pan -49.9 Tilt -27.1 Hdg 165.1 18_06_16 15_34_070005_patch_4_1.jpg: 480x640 11 blue_musselss, Done. (0.012s)\n",
      "image 276/340 /usr/src/app/data_dir/data_output/images/nmi18_20017 3 Lat 6232279.07 Lon 649928.15 Pan -49.9 Tilt -27.1 Hdg 165.1 18_06_16 15_34_070005_patch_4_3.jpg: 480x640 9 blue_musselss, Done. (0.012s)\n",
      "image 277/340 /usr/src/app/data_dir/data_output/images/nmi18_20017 9 Lat 6232279.07 Lon 649928.15 Pan 157.1 Tilt -50.0 Hdg 12.1 18_06_16 15_35_010011_patch_4_1.jpg: 480x640 4 blue_musselss, Done. (0.012s)\n",
      "image 278/340 /usr/src/app/data_dir/data_output/images/nmi18_20017 9 Lat 6232279.07 Lon 649928.15 Pan 157.1 Tilt -50.0 Hdg 12.1 18_06_16 15_35_010011_patch_4_3.jpg: 480x640 4 blue_musselss, Done. (0.012s)\n",
      "image 279/340 /usr/src/app/data_dir/data_output/images/nmi18_21001 0 Lat 6222070.25 Lon 629798.61 Pan -150.0 Tilt 0.0 Hdg 114.0 18_07_27 10_52_570002_patch_4_2.jpg: 480x640 8 blue_musselss, Done. (0.012s)\n",
      "image 280/340 /usr/src/app/data_dir/data_output/images/nmi18_21001 0 Lat 6222070.25 Lon 629798.61 Pan -150.0 Tilt 0.0 Hdg 114.0 18_07_27 10_52_570002_patch_4_4.jpg: 480x640 4 blue_musselss, Done. (0.012s)\n",
      "image 281/340 /usr/src/app/data_dir/data_output/images/nmi18_21001 18 Lat 6222070.65 Lon 629797.64 Pan -110.0 Tilt -50.0 Hdg 154.0 18_07_27 10_55_300020_patch_4_2.jpg: 480x640 8 blue_musselss, Done. (0.012s)\n",
      "image 282/340 /usr/src/app/data_dir/data_output/images/nmi18_21001 18 Lat 6222070.65 Lon 629797.64 Pan -110.0 Tilt -50.0 Hdg 154.0 18_07_27 10_55_300020_patch_4_3.jpg: 480x640 3 blue_musselss, Done. (0.012s)\n",
      "image 283/340 /usr/src/app/data_dir/data_output/images/nmi18_21001 6 Lat 6222070.24 Lon 629798.25 Pan 70.1 Tilt -27.1 Hdg 339.1 18_07_27 10_53_530008_patch_4_0.jpg: 480x640 4 blue_musselss, Done. (0.013s)\n",
      "image 284/340 /usr/src/app/data_dir/data_output/images/nmi18_21001 9 Lat 6222070.25 Lon 629798.61 Pan 157.1 Tilt -50.0 Hdg 63.1 18_07_27 10_54_200011_patch_4_1.jpg: 480x640 9 blue_musselss, Done. (0.012s)\n",
      "image 285/340 /usr/src/app/data_dir/data_output/images/nmi18_21001 9 Lat 6222070.25 Lon 629798.61 Pan 157.1 Tilt -50.0 Hdg 63.1 18_07_27 10_54_200011_patch_4_2.jpg: 480x640 6 blue_musselss, Done. (0.012s)\n",
      "image 286/340 /usr/src/app/data_dir/data_output/images/nmi18_21001 9 Lat 6222070.25 Lon 629798.61 Pan 157.1 Tilt -50.0 Hdg 63.1 18_07_27 10_54_200011_patch_4_3.jpg: 480x640 4 blue_musselss, Done. (0.012s)\n",
      "image 287/340 /usr/src/app/data_dir/data_output/images/nmi18_21007 0 Lat 6221582.35 Lon 631244.70 Pan -150.0 Tilt 0.0 Hdg 334.0 18_07_27 12_07_300071_patch_4_2.jpg: 480x640 4 blue_musselss, Done. (0.012s)\n",
      "image 288/340 /usr/src/app/data_dir/data_output/images/nmi18_21007 0 Lat 6221582.35 Lon 631244.70 Pan -150.0 Tilt 0.0 Hdg 334.0 18_07_27 12_07_300071_patch_4_3.jpg: 480x640 5 blue_musselss, Done. (0.012s)\n",
      "image 289/340 /usr/src/app/data_dir/data_output/images/nmi18_21007 0 Lat 6221582.35 Lon 631244.70 Pan -150.0 Tilt 0.0 Hdg 334.0 18_07_27 12_07_300071_patch_4_4.jpg: 480x640 5 blue_musselss, Done. (0.012s)\n",
      "image 290/340 /usr/src/app/data_dir/data_output/images/nmi18_21007 3 Lat 6221582.32 Lon 631243.87 Pan -59.9 Tilt -27.1 Hdg 65.1 18_07_27 12_07_570074_patch_4_1.jpg: 480x640 9 blue_musselss, Done. (0.012s)\n",
      "image 291/340 /usr/src/app/data_dir/data_output/images/nmi18_21007 3 Lat 6221582.32 Lon 631243.87 Pan -59.9 Tilt -27.1 Hdg 65.1 18_07_27 12_07_570074_patch_4_3.jpg: 480x640 4 blue_musselss, Done. (0.012s)\n",
      "image 292/340 /usr/src/app/data_dir/data_output/images/nmi18_21007 6 Lat 6221581.00 Lon 631242.36 Pan 69.5 Tilt -27.1 Hdg 190.5 18_07_27 12_08_260077_patch_4_1.jpg: 480x640 7 blue_musselss, Done. (0.013s)\n",
      "image 293/340 /usr/src/app/data_dir/data_output/images/nmi18_21007 9 Lat 6221583.19 Lon 631244.43 Pan 157.1 Tilt -49.8 Hdg 279.1 18_07_27 12_08_530080_patch_4_0.jpg: 480x640 9 blue_musselss, Done. (0.012s)\n",
      "image 294/340 /usr/src/app/data_dir/data_output/images/nmi18_21007 9 Lat 6221583.19 Lon 631244.43 Pan 157.1 Tilt -49.8 Hdg 279.1 18_07_27 12_08_530080_patch_4_2.jpg: 480x640 3 blue_musselss, Done. (0.012s)\n",
      "image 295/340 /usr/src/app/data_dir/data_output/images/nmi18_23010 0 Lat 6234368.52 Lon 656372.04 Pan -150.0 Tilt 0.0 Hdg 283.0 18_06_02 13_08_360181_patch_4_1.jpg: 480x640 2 blue_musselss, Done. (0.012s)\n",
      "image 296/340 /usr/src/app/data_dir/data_output/images/nmi18_23010 18 Lat 6234368.53 Lon 656372.16 Pan -110.0 Tilt -50.0 Hdg 324.0 18_06_02 13_11_130199_patch_4_2.jpg: 480x640 4 blue_musselss, Done. (0.013s)\n",
      "image 297/340 /usr/src/app/data_dir/data_output/images/nmi18_23010 3 Lat 6234368.52 Lon 656372.04 Pan -59.9 Tilt -27.1 Hdg 13.1 18_06_02 13_09_050184_patch_4_0.jpg: 480x640 3 blue_musselss, Done. (0.012s)\n"
     ]
    },
    {
     "name": "stdout",
     "output_type": "stream",
     "text": [
      "image 298/340 /usr/src/app/data_dir/data_output/images/nmi18_23010 6 Lat 6234368.51 Lon 656371.57 Pan 70.1 Tilt -27.1 Hdg 136.1 18_06_02 13_09_330187_patch_4_1.jpg: 480x640 9 blue_musselss, Done. (0.012s)\n",
      "image 299/340 /usr/src/app/data_dir/data_output/images/nmi18_23010 6 Lat 6234368.51 Lon 656371.57 Pan 70.1 Tilt -27.1 Hdg 136.1 18_06_02 13_09_330187_patch_4_2.jpg: 480x640 9 blue_musselss, Done. (0.012s)\n",
      "image 300/340 /usr/src/app/data_dir/data_output/images/nmi18_23010 9 Lat 6234368.53 Lon 656372.16 Pan 157.1 Tilt -49.5 Hdg 227.1 18_06_02 13_10_000190_patch_4_2.jpg: 480x640 5 blue_musselss, Done. (0.012s)\n",
      "image 301/340 /usr/src/app/data_dir/data_output/images/nmi18_23010 9 Lat 6234368.53 Lon 656372.16 Pan 157.1 Tilt -49.5 Hdg 227.1 18_06_02 13_10_000190_patch_4_3.jpg: 480x640 4 blue_musselss, Done. (0.012s)\n",
      "image 302/340 /usr/src/app/data_dir/data_output/images/nmi18_24031 0 Lat 6221165.92 Lon 644651.71 Pan -129.9 Tilt 0.0 Hdg 230.1 18_06_13 11_19_420092_patch_4_2.jpg: 480x640 15 blue_musselss, Done. (0.012s)\n",
      "image 303/340 /usr/src/app/data_dir/data_output/images/nmi18_24031 0 Lat 6221165.92 Lon 644651.71 Pan -129.9 Tilt 0.0 Hdg 230.1 18_06_13 11_19_420092_patch_4_3.jpg: 480x640 8 blue_musselss, Done. (0.012s)\n",
      "image 304/340 /usr/src/app/data_dir/data_output/images/nmi18_24031 18 Lat 6221165.95 Lon 644652.54 Pan -85.0 Tilt -50.0 Hdg 272.0 18_06_13 11_22_160110_patch_4_3.jpg: 480x640 3 blue_musselss, Done. (0.012s)\n",
      "image 305/340 /usr/src/app/data_dir/data_output/images/nmi18_24031 6 Lat 6221165.94 Lon 644652.30 Pan 70.1 Tilt -27.1 Hdg 66.1 18_06_13 11_20_360098_patch_4_1.jpg: 480x640 4 blue_musselss, Done. (0.012s)\n",
      "image 306/340 /usr/src/app/data_dir/data_output/images/nmi18_25001 0 Lat 6216479.76 Lon 642742.61 Pan -129.9 Tilt 0.0 Hdg 103.1 18_06_10 12_35_230049_patch_4_1.jpg: 480x640 5 blue_musselss, Done. (0.012s)\n",
      "image 307/340 /usr/src/app/data_dir/data_output/images/nmi18_25001 0 Lat 6216479.76 Lon 642742.61 Pan -129.9 Tilt 0.0 Hdg 103.1 18_06_10 12_35_230049_patch_4_2.jpg: 480x640 4 blue_musselss, Done. (0.013s)\n",
      "image 308/340 /usr/src/app/data_dir/data_output/images/nmi18_25001 18 Lat 6216478.90 Lon 642742.41 Pan -85.0 Tilt -50.0 Hdg 148.0 18_06_10 12_37_530067_patch_4_1.jpg: 480x640 5 blue_musselss, Done. (0.012s)\n",
      "image 309/340 /usr/src/app/data_dir/data_output/images/nmi18_25001 18 Lat 6216478.90 Lon 642742.41 Pan -85.0 Tilt -50.0 Hdg 148.0 18_06_10 12_37_530067_patch_4_3.jpg: 480x640 8 blue_musselss, Done. (0.013s)\n",
      "image 310/340 /usr/src/app/data_dir/data_output/images/nmi18_25001 3 Lat 6216478.91 Lon 642742.64 Pan -49.9 Tilt -27.1 Hdg 184.1 18_06_10 12_35_490052_patch_4_3.jpg: 480x640 4 blue_musselss, Done. (0.012s)\n",
      "image 311/340 /usr/src/app/data_dir/data_output/images/nmi18_25001 6 Lat 6216479.73 Lon 642741.78 Pan 70.1 Tilt -27.1 Hdg 306.1 18_06_10 12_36_160055_patch_4_2.jpg: 480x640 3 blue_musselss, Done. (0.012s)\n",
      "image 312/340 /usr/src/app/data_dir/data_output/images/nmi18_25001 9 Lat 6216479.71 Lon 642741.19 Pan 157.1 Tilt -50.0 Hdg 33.1 18_06_10 12_36_430058_patch_4_2.jpg: 480x640 3 blue_musselss, Done. (0.012s)\n",
      "image 313/340 /usr/src/app/data_dir/data_output/images/nmi18_28010 0 Lat 6210139.59 Lon 651638.16 Pan -150.0 Tilt 0.0 Hdg 79.0 18_06_26 15_55_030049_patch_4_2.jpg: 480x640 3 blue_musselss, Done. (0.012s)\n",
      "image 314/340 /usr/src/app/data_dir/data_output/images/nmi18_28010 0 Lat 6210139.59 Lon 651638.16 Pan -150.0 Tilt 0.0 Hdg 79.0 18_06_26 15_55_030049_patch_4_3.jpg: 480x640 4 blue_musselss, Done. (0.012s)\n",
      "image 315/340 /usr/src/app/data_dir/data_output/images/nmi18_28010 18 Lat 6210139.58 Lon 651638.04 Pan -110.0 Tilt -50.0 Hdg 119.0 18_06_26 15_57_390067_patch_4_0.jpg: 480x640 6 blue_musselss, Done. (0.012s)\n",
      "image 316/340 /usr/src/app/data_dir/data_output/images/nmi18_28010 18 Lat 6210139.58 Lon 651638.04 Pan -110.0 Tilt -50.0 Hdg 119.0 18_06_26 15_57_390067_patch_4_1.jpg: 480x640 5 blue_musselss, Done. (0.012s)\n",
      "image 317/340 /usr/src/app/data_dir/data_output/images/nmi18_28010 6 Lat 6210138.72 Lon 651637.60 Pan 70.1 Tilt -27.1 Hdg 303.1 18_06_26 15_56_000055_patch_4_3.jpg: 480x640 6 blue_musselss, Done. (0.012s)\n",
      "image 318/340 /usr/src/app/data_dir/data_output/images/nmi18_28010 9 Lat 6210138.72 Lon 651637.84 Pan 157.1 Tilt -49.1 Hdg 27.1 18_06_26 15_56_270058_patch_4_0.jpg: 480x640 2 blue_musselss, Done. (0.012s)\n",
      "image 319/340 /usr/src/app/data_dir/data_output/images/nmi18_36012 0 Lat 6228919.72 Lon 675857.15 Pan -150.0 Tilt 0.0 Hdg 23.0 18_06_28 13_01_420079_patch_4_2.jpg: 480x640 2 blue_musselss, Done. (0.012s)\n",
      "image 320/340 /usr/src/app/data_dir/data_output/images/nmi18_36012 18 Lat 6228919.72 Lon 675857.15 Pan -110.0 Tilt -50.0 Hdg 64.0 18_06_28 13_04_220097_patch_4_0.jpg: 480x640 9 blue_musselss, Done. (0.013s)\n",
      "image 321/340 /usr/src/app/data_dir/data_output/images/nmi18_36012 18 Lat 6228919.72 Lon 675857.15 Pan -110.0 Tilt -50.0 Hdg 64.0 18_06_28 13_04_220097_patch_4_1.jpg: 480x640 2 blue_musselss, Done. (0.012s)\n",
      "image 322/340 /usr/src/app/data_dir/data_output/images/nmi18_36012 3 Lat 6228920.14 Lon 675857.01 Pan -59.9 Tilt -27.1 Hdg 114.1 18_06_28 13_02_100082_patch_4_1.jpg: 480x640 6 blue_musselss, Done. (0.012s)\n",
      "image 323/340 /usr/src/app/data_dir/data_output/images/nmi18_36012 3 Lat 6228920.14 Lon 675857.01 Pan -59.9 Tilt -27.1 Hdg 114.1 18_06_28 13_02_100082_patch_4_2.jpg: 480x640 6 blue_musselss, Done. (0.012s)\n",
      "image 324/340 /usr/src/app/data_dir/data_output/images/nmi18_36012 3 Lat 6228920.14 Lon 675857.01 Pan -59.9 Tilt -27.1 Hdg 114.1 18_06_28 13_02_100082_patch_4_3.jpg: 480x640 7 blue_musselss, Done. (0.012s)\n",
      "image 325/340 /usr/src/app/data_dir/data_output/images/nmi18_36012 6 Lat 6228919.72 Lon 675857.15 Pan 70.1 Tilt -27.1 Hdg 244.1 18_06_28 13_02_400085_patch_4_0.jpg: 480x640 5 blue_musselss, Done. (0.012s)\n",
      "image 326/340 /usr/src/app/data_dir/data_output/images/nmi18_36012 6 Lat 6228919.72 Lon 675857.15 Pan 70.1 Tilt -27.1 Hdg 244.1 18_06_28 13_02_400085_patch_4_1.jpg: 480x640 8 blue_musselss, Done. (0.012s)\n",
      "image 327/340 /usr/src/app/data_dir/data_output/images/nmi18_36012 9 Lat 6228920.14 Lon 675857.01 Pan 157.1 Tilt -49.8 Hdg 330.1 18_06_28 13_03_070088_patch_4_1.jpg: 480x640 5 blue_musselss, Done. (0.012s)\n",
      "image 328/340 /usr/src/app/data_dir/data_output/images/nmi18_36012 9 Lat 6228920.14 Lon 675857.01 Pan 157.1 Tilt -49.8 Hdg 330.1 18_06_28 13_03_070088_patch_4_2.jpg: 480x640 2 blue_musselss, Done. (0.012s)\n",
      "image 329/340 /usr/src/app/data_dir/data_output/images/nmi18_36012 9 Lat 6228920.14 Lon 675857.01 Pan 157.1 Tilt -49.8 Hdg 330.1 18_06_28 13_03_070088_patch_4_3.jpg: 480x640 8 blue_musselss, Done. (0.012s)\n",
      "image 330/340 /usr/src/app/data_dir/data_output/images/nmi18_37034 0 Lat 6226848.71 Lon 663892.96 Pan -129.9 Tilt 0.0 Hdg 101.1 18_06_17 11_23_150002_patch_4_0.jpg: 480x640 2 blue_musselss, Done. (0.012s)\n",
      "image 331/340 /usr/src/app/data_dir/data_output/images/nmi18_37034 0 Lat 6226848.71 Lon 663892.96 Pan -129.9 Tilt 0.0 Hdg 101.1 18_06_17 11_23_150002_patch_4_1.jpg: 480x640 4 blue_musselss, Done. (0.012s)\n",
      "image 332/340 /usr/src/app/data_dir/data_output/images/nmi18_37034 0 Lat 6226848.71 Lon 663892.96 Pan -129.9 Tilt 0.0 Hdg 101.1 18_06_17 11_23_150002_patch_4_4.jpg: 480x640 3 blue_musselss, Done. (0.012s)\n",
      "image 333/340 /usr/src/app/data_dir/data_output/images/nmi18_37034 18 Lat 6226848.76 Lon 663894.14 Pan -85.0 Tilt -50.0 Hdg 147.0 18_06_17 11_25_420020_patch_4_1.jpg: 480x640 10 blue_musselss, Done. (0.013s)\n",
      "image 334/340 /usr/src/app/data_dir/data_output/images/nmi18_37034 18 Lat 6226848.76 Lon 663894.14 Pan -85.0 Tilt -50.0 Hdg 147.0 18_06_17 11_25_420020_patch_4_2.jpg: 480x640 3 blue_musselss, Done. (0.012s)\n",
      "image 335/340 /usr/src/app/data_dir/data_output/images/nmi18_37034 3 Lat 6226847.87 Lon 663893.11 Pan -49.9 Tilt -27.1 Hdg 182.1 18_06_17 11_23_410005_patch_4_1.jpg: 480x640 3 blue_musselss, Done. (0.012s)\n",
      "image 336/340 /usr/src/app/data_dir/data_output/images/nmi18_37034 3 Lat 6226847.87 Lon 663893.11 Pan -49.9 Tilt -27.1 Hdg 182.1 18_06_17 11_23_410005_patch_4_2.jpg: 480x640 4 blue_musselss, Done. (0.012s)\n",
      "image 337/340 /usr/src/app/data_dir/data_output/images/nmi18_37034 6 Lat 6226848.76 Lon 663894.14 Pan 69.5 Tilt -27.1 Hdg 304.5 18_06_17 11_24_080008_patch_4_2.jpg: 480x640 3 blue_musselss, Done. (0.012s)\n",
      "image 338/340 /usr/src/app/data_dir/data_output/images/nmi18_37034 9 Lat 6226847.88 Lon 663893.58 Pan 157.1 Tilt -50.0 Hdg 30.1 18_06_17 11_24_340011_patch_4_0.jpg: 480x640 6 blue_musselss, Done. (0.012s)\n",
      "image 339/340 /usr/src/app/data_dir/data_output/images/nmi18_37034 9 Lat 6226847.88 Lon 663893.58 Pan 157.1 Tilt -50.0 Hdg 30.1 18_06_17 11_24_340011_patch_4_1.jpg: 480x640 3 blue_musselss, Done. (0.012s)\n"
     ]
    },
    {
     "name": "stdout",
     "output_type": "stream",
     "text": [
      "image 340/340 /usr/src/app/data_dir/data_output/images/nmi18_37034 9 Lat 6226847.88 Lon 663893.58 Pan 157.1 Tilt -50.0 Hdg 30.1 18_06_17 11_24_340011_patch_4_2.jpg: 480x640 11 blue_musselss, Done. (0.013s)\n",
      "Results saved to runs/detect/exp\n",
      "340 labels saved to runs/detect/exp/labels\n",
      "Done. (10.241s)\n"
     ]
    }
   ],
   "source": [
    "import detect\n",
    "detect.run(weights=tuned_weights, source=output_folder+\"/images\", imgsz=640, conf_thres=0.02, save_txt=True)"
   ]
  },
  {
   "cell_type": "code",
   "execution_count": 123,
   "metadata": {},
   "outputs": [
    {
     "data": {
      "application/vnd.jupyter.widget-view+json": {
       "model_id": "56ca08e273074b3a9e2d0a028c14575f",
       "version_major": 2,
       "version_minor": 0
      },
      "text/plain": [
       "FileChooser(path='.', filename='', title='HTML(value='', layout=Layout(display='none'))', show_hidden='False',…"
      ]
     },
     "metadata": {},
     "output_type": "display_data"
    }
   ],
   "source": [
    "# Choose runs\n",
    "runs = FileChooser(\".\")\n",
    "display(runs)"
   ]
  },
  {
   "cell_type": "code",
   "execution_count": 125,
   "metadata": {},
   "outputs": [],
   "source": [
    "!mv {output_folder}\"/labels\" {output_folder}\"/labels_org\"\n",
    "!mv {runs.selected}\"/labels\" {output_folder}\"/labels\""
   ]
  },
  {
   "cell_type": "code",
   "execution_count": null,
   "metadata": {},
   "outputs": [],
   "source": [
    "#END"
   ]
  }
 ],
 "metadata": {
  "kernelspec": {
   "display_name": "Python 3 (ipykernel)",
   "language": "python",
   "name": "python3"
  },
  "language_info": {
   "codemirror_mode": {
    "name": "ipython",
    "version": 3
   },
   "file_extension": ".py",
   "mimetype": "text/x-python",
   "name": "python",
   "nbconvert_exporter": "python",
   "pygments_lexer": "ipython3",
   "version": "3.9.7"
  }
 },
 "nbformat": 4,
 "nbformat_minor": 2
}
