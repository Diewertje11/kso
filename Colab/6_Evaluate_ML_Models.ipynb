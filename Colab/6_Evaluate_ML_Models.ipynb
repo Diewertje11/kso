{
 "cells": [
  {
   "cell_type": "markdown",
   "id": "hawaiian-ratio",
   "metadata": {},
   "source": [
    "<img align=\"left\" src=\"https://panoptes-uploads.zooniverse.org/project_avatar/86c23ca7-bbaa-4e84-8d8a-876819551431.png\" type=\"image/png\" height=100 width=100>\n",
    "</img>\n",
    "<h1 align=\"right\">KSO Tutorials #6: Evaluate machine learning models</h1>\n",
    "<h3 align=\"right\">Written by @jannesgg and @vykanton</h3>\n",
    "<h5 align=\"right\">Last updated: April 20, 2022</h5>"
   ]
  },
  {
   "cell_type": "markdown",
   "id": "recovered-hamburg",
   "metadata": {},
   "source": [
    "# Set up and requirements"
   ]
  },
  {
   "cell_type": "markdown",
   "id": "median-layer",
   "metadata": {
    "id": "Y6ozqGm3zfGq"
   },
   "source": [
    "### Install Python packages"
   ]
  },
  {
   "cell_type": "code",
   "execution_count": null,
   "id": "severe-implement",
   "metadata": {
    "colab": {
     "base_uri": "https://localhost:8080/",
     "height": 1000
    },
    "id": "4YRqq41oziEM",
    "outputId": "46a33e91-16c4-4615-99e3-5a52226bf461"
   },
   "outputs": [],
   "source": [
    "!git clone --recurse-submodules https://github.com/ocean-data-factory-sweden/koster_yolov4.git\n",
    "!pip install -r koster_yolov4/requirements.txt"
   ]
  },
  {
   "cell_type": "code",
   "execution_count": null,
   "id": "unusual-protection",
   "metadata": {},
   "outputs": [],
   "source": [
    "# Fix libmagic upload issue\n",
    "!apt-get update && apt-get install -y libmagic-dev"
   ]
  },
  {
   "cell_type": "code",
   "execution_count": null,
   "id": "following-litigation",
   "metadata": {
    "colab": {
     "base_uri": "https://localhost:8080/",
     "height": 277
    },
    "id": "Zkg9ypgunZeu",
    "outputId": "75a4ab31-5b61-42e1-9652-2bef97c53957"
   },
   "outputs": [],
   "source": [
    "# Solution to avoid opncv and pims library issues based on https://stackoverflow.com/questions/71204741/how-to-fix-error-module-cv2-has-no-attribute-legacy-on-python-3-7-9-and-w\n",
    "!pip uninstall opencv-python -y\n",
    "!pip uninstall opencv-contrib-python -y\n",
    "!pip install opencv-contrib-python"
   ]
  },
  {
   "cell_type": "markdown",
   "id": "greater-eagle",
   "metadata": {},
   "source": [
    "### Import Python packages"
   ]
  },
  {
   "cell_type": "code",
   "execution_count": null,
   "id": "underlying-converter",
   "metadata": {},
   "outputs": [],
   "source": [
    "# Set the directory of the libraries\n",
    "import sys, os\n",
    "from pathlib import Path\n",
    "os.chdir(\"koster_yolov4/notebooks\")\n",
    "sys.path.append('..')\n",
    "\n",
    "# Set to display dataframes as interactive tables\n",
    "from itables import init_notebook_mode\n",
    "init_notebook_mode(all_interactive=True)\n",
    "from ipyfilechooser import FileChooser\n",
    "\n",
    "# Import required modules\n",
    "import kso_utils.tutorials_utils as t_utils\n",
    "import kso_utils.server_utils as s_utils\n",
    "import kso_utils.project_utils as p_utils\n",
    "import kso_utils.t3_utils as t3\n",
    "import kso_utils.t4_utils as t4\n",
    "import kso_utils.t5_utils as t5\n",
    "import kso_utils.t8_utils as t8\n",
    "from src.prepare_zooniverse import frame_aggregation\n",
    "from kso_utils.zooniverse_utils import retrieve_zoo_info, populate_subjects, populate_agg_annotations\n",
    "\n",
    "# Model-specific imports\n",
    "import yolo_train as train\n",
    "import yolo_test as test\n",
    "import yolo_detect as detect\n",
    "\n",
    "print(\"Packages loaded successfully\")"
   ]
  },
  {
   "cell_type": "markdown",
   "id": "legendary-clearance",
   "metadata": {},
   "source": [
    "### Choose your project"
   ]
  },
  {
   "cell_type": "code",
   "execution_count": null,
   "id": "incident-surveillance",
   "metadata": {},
   "outputs": [],
   "source": [
    "project_name = t_utils.choose_project()"
   ]
  },
  {
   "cell_type": "code",
   "execution_count": null,
   "id": "level-poultry",
   "metadata": {},
   "outputs": [],
   "source": [
    "project = p_utils.find_project(project_name=project_name.value)"
   ]
  },
  {
   "cell_type": "code",
   "execution_count": null,
   "id": "distributed-basis",
   "metadata": {},
   "outputs": [],
   "source": [
    "# Specify path to store the labelled frames and annotations\n",
    "fc = t_utils.choose_folder(\".\", \"data\")"
   ]
  },
  {
   "cell_type": "markdown",
   "id": "desirable-analyst",
   "metadata": {},
   "source": [
    "### Choose your model"
   ]
  },
  {
   "cell_type": "code",
   "execution_count": null,
   "id": "lined-nicholas",
   "metadata": {},
   "outputs": [],
   "source": [
    "# Store selected output path\n",
    "output_folder = fc.selected"
   ]
  },
  {
   "cell_type": "code",
   "execution_count": null,
   "id": "medical-calcium",
   "metadata": {},
   "outputs": [],
   "source": [
    "# Fix important paths\n",
    "data_path = [str(Path(output_folder, _)) for _ in os.listdir(output_folder) if \\\n",
    "             _.endswith(\".yaml\") and \"hyp\" not in _][-1]\n",
    "\n",
    "# Choose folder that will contain the different model runs\n",
    "project_path = FileChooser('/cephyr/NOBACKUP/groups/snic2021-6-9/models/koster-ml')\n",
    "\n",
    "# Project-specific information\n",
    "entity = \"koster\"\n",
    "exp_name = \"test\"\n",
    "display(project_path)"
   ]
  },
  {
   "cell_type": "code",
   "execution_count": null,
   "id": "controversial-dealing",
   "metadata": {},
   "outputs": [],
   "source": [
    "# Choose model\n",
    "eval_model = FileChooser(project_path.selected)\n",
    "display(eval_model)"
   ]
  },
  {
   "cell_type": "code",
   "execution_count": null,
   "id": "presidential-blogger",
   "metadata": {},
   "outputs": [],
   "source": [
    "# Find trained model weights\n",
    "tuned_weights = f\"{Path(project_path.selected, eval_model.selected, 'weights', 'best.pt')}\""
   ]
  },
  {
   "cell_type": "markdown",
   "id": "overall-continent",
   "metadata": {},
   "source": [
    "### Evaluate model performance on test set"
   ]
  },
  {
   "cell_type": "code",
   "execution_count": null,
   "id": "imposed-restaurant",
   "metadata": {},
   "outputs": [],
   "source": [
    "# Evaluate YOLO Model on Unseen Test data for mAP metric"
   ]
  },
  {
   "cell_type": "code",
   "execution_count": null,
   "id": "public-boost",
   "metadata": {},
   "outputs": [],
   "source": [
    "test.run(data=data_path, weights=tuned_weights, conf_thres=conf_thres.value, imgsz=640)"
   ]
  },
  {
   "cell_type": "markdown",
   "id": "progressive-scheme",
   "metadata": {},
   "source": [
    "### Run model on custom footage"
   ]
  },
  {
   "cell_type": "code",
   "execution_count": null,
   "id": "boxed-gateway",
   "metadata": {},
   "outputs": [],
   "source": [
    "fc = t_utils.choose_folder(\".\", \"custom footage\")"
   ]
  },
  {
   "cell_type": "code",
   "execution_count": null,
   "id": "blocked-standing",
   "metadata": {},
   "outputs": [],
   "source": [
    "detect.run(weights=tuned_weights, \n",
    "           source=fc.selected,\n",
    "           imgsz=720, conf_thres=0.7, save_txt=True, \n",
    "           project=project_path.selected)"
   ]
  },
  {
   "cell_type": "code",
   "execution_count": null,
   "id": "racial-richardson",
   "metadata": {},
   "outputs": [],
   "source": [
    "# END "
   ]
  }
 ],
 "metadata": {
  "kernelspec": {
   "display_name": "odf",
   "language": "python",
   "name": "odf"
  },
  "language_info": {
   "codemirror_mode": {
    "name": "ipython",
    "version": 3
   },
   "file_extension": ".py",
   "mimetype": "text/x-python",
   "name": "python",
   "nbconvert_exporter": "python",
   "pygments_lexer": "ipython3",
   "version": "3.8.8"
  }
 },
 "nbformat": 4,
 "nbformat_minor": 5
}
