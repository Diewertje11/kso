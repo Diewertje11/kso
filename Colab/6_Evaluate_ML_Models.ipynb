{
 "cells": [
  {
   "cell_type": "markdown",
   "id": "hawaiian-ratio",
   "metadata": {},
   "source": [
    "<img align=\"left\" src=\"https://panoptes-uploads.zooniverse.org/project_avatar/86c23ca7-bbaa-4e84-8d8a-876819551431.png\" type=\"image/png\" height=100 width=100>\n",
    "</img>\n",
    "<h1 align=\"right\">KSO Tutorials #6: Evaluate machine learning models</h1>\n",
    "<h3 align=\"right\">Written by @jannesgg and @vykanton</h3>\n",
    "<h5 align=\"right\">Last updated: May 2, 2022</h5>"
   ]
  },
  {
   "cell_type": "markdown",
   "id": "recovered-hamburg",
   "metadata": {},
   "source": [
    "# Set up and requirements"
   ]
  },
  {
   "cell_type": "code",
   "execution_count": null,
   "id": "fantastic-alarm",
   "metadata": {},
   "outputs": [],
   "source": [
    "!git clone --recurse-submodules https://github.com/ocean-data-factory-sweden/koster_yolov4.git\n",
    "!pip install -qr koster_yolov4/requirements.txt"
   ]
  },
  {
   "cell_type": "code",
   "execution_count": null,
   "id": "alive-interference",
   "metadata": {},
   "outputs": [],
   "source": [
    "# Fix libmagic upload issue\n",
    "!apt-get update && apt-get install -y libmagic-dev\n",
    "\n",
    "# Restart the session to load the latest packages\n",
    "exit()"
   ]
  },
  {
   "cell_type": "code",
   "execution_count": null,
   "id": "acknowledged-delay",
   "metadata": {},
   "outputs": [],
   "source": [
    "# Solution to avoid opncv and pims library issues based on https://stackoverflow.com/questions/71204741/how-to-fix-error-module-cv2-has-no-attribute-legacy-on-python-3-7-9-and-w\n",
    "!pip uninstall opencv-python -y\n",
    "!pip uninstall opencv-contrib-python -y\n",
    "!pip install opencv-contrib-python"
   ]
  },
  {
   "cell_type": "code",
   "execution_count": null,
   "id": "c66dfaed",
   "metadata": {},
   "outputs": [],
   "source": [
    "# Replace upsampling script with custom version\n",
    "!mv koster_yolov4/src/upsampling.py /usr/local/lib/python3.7/dist-packages/torch/nn/modules/upsampling.py"
   ]
  },
  {
   "cell_type": "markdown",
   "id": "greater-eagle",
   "metadata": {},
   "source": [
    "### Import Python packages"
   ]
  },
  {
   "cell_type": "code",
   "execution_count": null,
   "id": "underlying-converter",
   "metadata": {},
   "outputs": [],
   "source": [
    "# Set the directory of the libraries\n",
    "import sys, os\n",
    "from pathlib import Path\n",
    "os.chdir(\"koster_yolov4/notebooks\")\n",
    "sys.path.append('..')\n",
    "\n",
    "# Set to display dataframes as interactive tables\n",
    "from itables import init_notebook_mode\n",
    "init_notebook_mode(all_interactive=True)\n",
    "from ipyfilechooser import FileChooser\n",
    "\n",
    "# Import required modules\n",
    "import kso_utils.tutorials_utils as t_utils\n",
    "import kso_utils.t6_utils as t6\n",
    "\n",
    "# Model-specific imports\n",
    "import yolo_train as train\n",
    "import yolo_test as test\n",
    "import yolo_detect as detect\n",
    "\n",
    "print(\"Packages loaded successfully\")"
   ]
  },
  {
   "cell_type": "markdown",
   "id": "legendary-clearance",
   "metadata": {},
   "source": [
    "### Choose your project"
   ]
  },
  {
   "cell_type": "code",
   "execution_count": null,
   "id": "incident-surveillance",
   "metadata": {},
   "outputs": [],
   "source": [
    "project_name = t_utils.choose_project()"
   ]
  },
  {
   "cell_type": "markdown",
   "id": "progressive-scheme",
   "metadata": {},
   "source": [
    "### Choose model"
   ]
  },
  {
   "cell_type": "code",
   "execution_count": null,
   "id": "c41909d3",
   "metadata": {},
   "outputs": [],
   "source": [
    "model = t6.choose_model(project_name.value)"
   ]
  },
  {
   "cell_type": "code",
   "execution_count": null,
   "id": "842d5de0",
   "metadata": {},
   "outputs": [],
   "source": [
    "artifact_dir = t6.get_model(model.value, project_name.value)"
   ]
  },
  {
   "cell_type": "markdown",
   "id": "6acfe490",
   "metadata": {},
   "source": [
    "### Choose custom footage"
   ]
  },
  {
   "cell_type": "code",
   "execution_count": null,
   "id": "boxed-gateway",
   "metadata": {},
   "outputs": [],
   "source": [
    "fc = t_utils.choose_folder(\".\", \"custom footage\")"
   ]
  },
  {
   "cell_type": "markdown",
   "id": "7bf6ae69",
   "metadata": {},
   "source": [
    "### Choose where to save runs (this should be left as default value in most cases)"
   ]
  },
  {
   "cell_type": "code",
   "execution_count": null,
   "id": "4a2ee64c",
   "metadata": {},
   "outputs": [],
   "source": [
    "save_dir = t_utils.choose_folder(\".\", \"runs output\")"
   ]
  },
  {
   "cell_type": "code",
   "execution_count": null,
   "id": "blocked-standing",
   "metadata": {},
   "outputs": [],
   "source": [
    "detect.run(weights=artifact_dir+\"/best.pt\", \n",
    "           source=fc.selected,\n",
    "           imgsz=720, conf_thres=0.7, save_txt=True, \n",
    "           project=save_dir.selected,\n",
    "           name=\"detect\")"
   ]
  },
  {
   "cell_type": "markdown",
   "id": "19fd1c41",
   "metadata": {},
   "source": [
    "### View model output"
   ]
  },
  {
   "cell_type": "code",
   "execution_count": null,
   "id": "890ce983",
   "metadata": {
    "scrolled": true
   },
   "outputs": [],
   "source": [
    "eval_dir = t_utils.choose_folder(\".\", \"runs output\")"
   ]
  },
  {
   "cell_type": "code",
   "execution_count": null,
   "id": "4d54a6b8",
   "metadata": {
    "scrolled": false
   },
   "outputs": [],
   "source": [
    "t6.choose_files(eval_dir.selected)"
   ]
  },
  {
   "cell_type": "markdown",
   "id": "722a5fb9",
   "metadata": {},
   "source": [
    "### Investigate training and validation datasets"
   ]
  },
  {
   "cell_type": "code",
   "execution_count": null,
   "id": "60a2a99f",
   "metadata": {},
   "outputs": [],
   "source": [
    "\n",
    "train_dataset, val_dataset = t6.get_dataset(project_name.value, model.value)"
   ]
  },
  {
   "cell_type": "markdown",
   "id": "b3a8edd8",
   "metadata": {},
   "source": [
    "#### Training set"
   ]
  },
  {
   "cell_type": "code",
   "execution_count": null,
   "id": "aef76ac9",
   "metadata": {},
   "outputs": [],
   "source": [
    "t6.get_data_viewer(train_dataset+\"/data/images\")"
   ]
  },
  {
   "cell_type": "markdown",
   "id": "5cfb4ef0",
   "metadata": {},
   "source": [
    "#### Validation set"
   ]
  },
  {
   "cell_type": "code",
   "execution_count": null,
   "id": "d02c6f3b",
   "metadata": {},
   "outputs": [],
   "source": [
    "t6.get_data_viewer(val_dataset+\"/data/images\")"
   ]
  },
  {
   "cell_type": "code",
   "execution_count": null,
   "id": "racial-richardson",
   "metadata": {},
   "outputs": [],
   "source": [
    "# END "
   ]
  }
 ],
 "metadata": {
  "kernelspec": {
   "display_name": "Python 3",
   "language": "python",
   "name": "python3"
  },
  "language_info": {
   "codemirror_mode": {
    "name": "ipython",
    "version": 3
   },
   "file_extension": ".py",
   "mimetype": "text/x-python",
   "name": "python",
   "nbconvert_exporter": "python",
   "pygments_lexer": "ipython3",
   "version": "3.8.8"
  }
 },
 "nbformat": 4,
 "nbformat_minor": 5
}
