{
 "cells": [
  {
   "cell_type": "markdown",
   "id": "hawaiian-ratio",
   "metadata": {},
   "source": [
    "<img align=\"left\" src=\"https://panoptes-uploads.zooniverse.org/project_avatar/86c23ca7-bbaa-4e84-8d8a-876819551431.png\" type=\"image/png\" height=100 width=100>\n",
    "</img>\n",
    "<h1 align=\"right\">KSO Tutorials #6: Evaluate machine learning models</h1>\n",
    "<h3 align=\"right\">Written by @jannesgg and @vykanton</h3>\n",
    "<h5 align=\"right\">Last updated: April 27, 2022</h5>"
   ]
  },
  {
   "cell_type": "markdown",
   "id": "recovered-hamburg",
   "metadata": {},
   "source": [
    "# Set up and requirements"
   ]
  },
  {
   "cell_type": "code",
   "execution_count": null,
   "id": "fantastic-alarm",
   "metadata": {},
   "outputs": [],
   "source": [
    "!git clone --recurse-submodules https://github.com/ocean-data-factory-sweden/koster_yolov4.git\n",
    "!pip install -qr koster_yolov4/requirements.txt"
   ]
  },
  {
   "cell_type": "code",
   "execution_count": null,
   "id": "alive-interference",
   "metadata": {},
   "outputs": [],
   "source": [
    "# Fix libmagic upload issue\n",
    "!apt-get update && apt-get install -y libmagic-dev"
   ]
  },
  {
   "cell_type": "code",
   "execution_count": null,
   "id": "acknowledged-delay",
   "metadata": {},
   "outputs": [],
   "source": [
    "# Solution to avoid opncv and pims library issues based on https://stackoverflow.com/questions/71204741/how-to-fix-error-module-cv2-has-no-attribute-legacy-on-python-3-7-9-and-w\n",
    "!pip uninstall opencv-python -y\n",
    "!pip uninstall opencv-contrib-python -y\n",
    "!pip install opencv-contrib-python"
   ]
  },
  {
   "cell_type": "code",
   "execution_count": null,
   "id": "c66dfaed",
   "metadata": {},
   "outputs": [],
   "source": [
    "# Replace upsampling script with custom version\n",
    "!mv ../src/upsampling.py /usr/local/lib/python3.7/dist-packages/torch/nn/modules/upsampling.py"
   ]
  },
  {
   "cell_type": "markdown",
   "id": "greater-eagle",
   "metadata": {},
   "source": [
    "### Import Python packages"
   ]
  },
  {
   "cell_type": "code",
   "execution_count": 222,
   "id": "underlying-converter",
   "metadata": {},
   "outputs": [
    {
     "data": {
      "application/javascript": "require.config({\n    paths: {\n        datatables: 'https://cdn.datatables.net/1.10.19/js/jquery.dataTables.min',\n    }\n});\n\n$('head').append('<link rel=\"stylesheet\" type=\"text/css\" \\\n                href = \"https://cdn.datatables.net/1.10.19/css/jquery.dataTables.min.css\" > ');\n\n$('head').append('<style> table td { text-overflow: ellipsis; overflow: hidden; } </style>');\n\n$('head').append(`<script>\nfunction eval_functions(map_or_text) {\n    if (typeof map_or_text === \"string\") {\n        if (map_or_text.startsWith(\"function\")) {\n            try {\n                // Note: parenthesis are required around the whole expression for eval to return a value!\n                // See https://stackoverflow.com/a/7399078/911298.\n                //\n                // eval(\"local_fun = \" + map_or_text) would fail because local_fun is not declared\n                // (using var, let or const would work, but it would only be declared in the local scope\n                // and therefore the value could not be retrieved).\n                const func = eval(\"(\" + map_or_text + \")\");\n                if (typeof func !== \"function\") {\n                    // Note: backquotes are super convenient!\n                    // https://developer.mozilla.org/en-US/docs/Web/JavaScript/Reference/Template_literals\n                    console.error(\"Evaluated expression \" + map_or_text + \" is not a function (type is \" + typeof func + \")\");\n                    return map_or_text;\n                }\n                // Return the function\n                return func;\n            } catch (e) {\n                // Make sure to print the error with a second argument to console.error().\n                console.error(\"itables was not able to parse \" + map_or_text, e);\n            }\n        }\n    } else if (typeof map_or_text === \"object\") {\n        if (map_or_text instanceof Array) {\n            // Note: \"var\" is now superseded by \"let\" and \"const\".\n            // https://medium.com/javascript-scene/javascript-es6-var-let-or-const-ba58b8dcde75\n            const result = [];\n            // Note: \"for of\" is the best way to iterate through an iterable.\n            // https://developer.mozilla.org/en-US/docs/Web/JavaScript/Reference/Statements/for...of\n            for (const item of map_or_text) {\n                result.push(eval_functions(item));\n            }\n            return result;\n\n            // Alternatively, more functional approach in one line:\n            // return map_or_text.map(eval_functions);\n        } else {\n            const result = {};\n            // Object.keys() is safer than \"for in\" because otherwise you might have keys\n            // that aren't defined in the object itself.\n            //\n            // See https://stackoverflow.com/a/684692/911298.\n            for (const item of Object.keys(map_or_text)) {\n                result[item] = eval_functions(map_or_text[item]);\n            }\n            return result;\n        }\n    }\n\n    return map_or_text;\n}\n\n</` + 'script>');",
      "text/plain": [
       "<IPython.core.display.Javascript object>"
      ]
     },
     "metadata": {},
     "output_type": "display_data"
    },
    {
     "name": "stdout",
     "output_type": "stream",
     "text": [
      "Packages loaded successfully\n"
     ]
    }
   ],
   "source": [
    "# Set the directory of the libraries\n",
    "import sys, os\n",
    "from pathlib import Path\n",
    "os.chdir(\"koster_yolov4/notebooks\")\n",
    "sys.path.append('..')\n",
    "\n",
    "# Set to display dataframes as interactive tables\n",
    "from itables import init_notebook_mode\n",
    "init_notebook_mode(all_interactive=True)\n",
    "from ipyfilechooser import FileChooser\n",
    "\n",
    "# Import required modules\n",
    "import kso_utils.tutorials_utils as t_utils\n",
    "import kso_utils.t6_utils as t6\n",
    "\n",
    "# Model-specific imports\n",
    "import yolo_train as train\n",
    "import yolo_test as test\n",
    "import yolo_detect as detect\n",
    "\n",
    "print(\"Packages loaded successfully\")"
   ]
  },
  {
   "cell_type": "markdown",
   "id": "legendary-clearance",
   "metadata": {},
   "source": [
    "### Choose your project"
   ]
  },
  {
   "cell_type": "code",
   "execution_count": 214,
   "id": "incident-surveillance",
   "metadata": {},
   "outputs": [
    {
     "data": {
      "application/vnd.jupyter.widget-view+json": {
       "model_id": "0805c6a3c39446b79a48d4747dfad5da",
       "version_major": 2,
       "version_minor": 0
      },
      "text/plain": [
       "Dropdown(description='Project:', options=('Koster_Seafloor_Obs', 'Spyfish_Aotearoa', 'SGU', 'Medins'), value='…"
      ]
     },
     "metadata": {},
     "output_type": "display_data"
    }
   ],
   "source": [
    "project_name = t_utils.choose_project()"
   ]
  },
  {
   "cell_type": "markdown",
   "id": "progressive-scheme",
   "metadata": {},
   "source": [
    "### Choose model"
   ]
  },
  {
   "cell_type": "code",
   "execution_count": 218,
   "id": "c41909d3",
   "metadata": {},
   "outputs": [
    {
     "data": {
      "application/vnd.jupyter.widget-view+json": {
       "model_id": "f2aa82c0f4bf41888b7f7d0f50f27f9a",
       "version_major": 2,
       "version_minor": 0
      },
      "text/plain": [
       "Dropdown(description='Select model:', layout=Layout(width='50%'), options=(('nmi_fullres_enhanced_0.1_100', 'r…"
      ]
     },
     "metadata": {},
     "output_type": "display_data"
    },
    {
     "data": {
      "application/vnd.jupyter.widget-view+json": {
       "model_id": "3cfae6ed04714ecdb9b403858ca61854",
       "version_major": 2,
       "version_minor": 0
      },
      "text/plain": [
       "Output()"
      ]
     },
     "metadata": {},
     "output_type": "display_data"
    }
   ],
   "source": [
    "model = t6.choose_model(project_name.value)"
   ]
  },
  {
   "cell_type": "code",
   "execution_count": 220,
   "id": "842d5de0",
   "metadata": {},
   "outputs": [
    {
     "name": "stdout",
     "output_type": "stream",
     "text": [
      "Downloading model checkpoint...\n",
      "Checkpoint downloaded.\n"
     ]
    }
   ],
   "source": [
    "artifact_dir = t6.get_model(model.value, project_name.value)"
   ]
  },
  {
   "cell_type": "markdown",
   "id": "6acfe490",
   "metadata": {},
   "source": [
    "### Choose custom footage"
   ]
  },
  {
   "cell_type": "code",
   "execution_count": 221,
   "id": "boxed-gateway",
   "metadata": {},
   "outputs": [
    {
     "data": {
      "application/vnd.jupyter.widget-view+json": {
       "model_id": "4fc2c7d0190742c7a79868208e573f91",
       "version_major": 2,
       "version_minor": 0
      },
      "text/plain": [
       "FileChooser(path='/cephyr/NOBACKUP/groups/snic2021-6-9', filename='', title='HTML(value='Choose location of cu…"
      ]
     },
     "metadata": {},
     "output_type": "display_data"
    }
   ],
   "source": [
    "fc = t_utils.choose_folder(\"/cephyr/NOBACKUP/groups/snic2021-6-9/\", \"custom footage\")"
   ]
  },
  {
   "cell_type": "markdown",
   "id": "7bf6ae69",
   "metadata": {},
   "source": [
    "### Choose where to save runs (this should be left as default value in most cases)"
   ]
  },
  {
   "cell_type": "code",
   "execution_count": 166,
   "id": "4a2ee64c",
   "metadata": {},
   "outputs": [
    {
     "data": {
      "application/vnd.jupyter.widget-view+json": {
       "model_id": "0b4191e1f03b462ea0bf29481392fd4a",
       "version_major": 2,
       "version_minor": 0
      },
      "text/plain": [
       "FileChooser(path='/cephyr/NOBACKUP/groups/snic2021-6-9/tmp_dir/medins_runs', filename='', title='HTML(value='C…"
      ]
     },
     "metadata": {},
     "output_type": "display_data"
    }
   ],
   "source": [
    "save_dir = t_utils.choose_folder(\"/cephyr/NOBACKUP/groups/snic2021-6-9/tmp_dir/medins_runs/\", \"runs output\")"
   ]
  },
  {
   "cell_type": "code",
   "execution_count": 186,
   "id": "blocked-standing",
   "metadata": {},
   "outputs": [
    {
     "name": "stdout",
     "output_type": "stream",
     "text": [
      "WARNING: --img-size 720 must be multiple of max stride 32, updating to 736\n",
      "video 1/3 (1/261) /cephyr/NOBACKUP/groups/snic2021-6-9/KSO_Medins_pz/movies/quick_temp/000114 TMBL-ROV 2000 Säckenrevet EJ numrerade band_1440.mp4: 608x736 Done. (0.037s)\n",
      "video 1/3 (2/261) /cephyr/NOBACKUP/groups/snic2021-6-9/KSO_Medins_pz/movies/quick_temp/000114 TMBL-ROV 2000 Säckenrevet EJ numrerade band_1440.mp4: 608x736 Done. (0.036s)\n",
      "video 1/3 (3/261) /cephyr/NOBACKUP/groups/snic2021-6-9/KSO_Medins_pz/movies/quick_temp/000114 TMBL-ROV 2000 Säckenrevet EJ numrerade band_1440.mp4: 608x736 Done. (0.029s)\n",
      "video 1/3 (4/261) /cephyr/NOBACKUP/groups/snic2021-6-9/KSO_Medins_pz/movies/quick_temp/000114 TMBL-ROV 2000 Säckenrevet EJ numrerade band_1440.mp4: 608x736 Done. (0.025s)\n",
      "video 1/3 (5/261) /cephyr/NOBACKUP/groups/snic2021-6-9/KSO_Medins_pz/movies/quick_temp/000114 TMBL-ROV 2000 Säckenrevet EJ numrerade band_1440.mp4: 608x736 Done. (0.025s)\n",
      "video 1/3 (6/261) /cephyr/NOBACKUP/groups/snic2021-6-9/KSO_Medins_pz/movies/quick_temp/000114 TMBL-ROV 2000 Säckenrevet EJ numrerade band_1440.mp4: 608x736 Done. (0.025s)\n",
      "video 1/3 (7/261) /cephyr/NOBACKUP/groups/snic2021-6-9/KSO_Medins_pz/movies/quick_temp/000114 TMBL-ROV 2000 Säckenrevet EJ numrerade band_1440.mp4: 608x736 Done. (0.025s)\n",
      "video 1/3 (8/261) /cephyr/NOBACKUP/groups/snic2021-6-9/KSO_Medins_pz/movies/quick_temp/000114 TMBL-ROV 2000 Säckenrevet EJ numrerade band_1440.mp4: 608x736 Done. (0.025s)\n",
      "video 1/3 (9/261) /cephyr/NOBACKUP/groups/snic2021-6-9/KSO_Medins_pz/movies/quick_temp/000114 TMBL-ROV 2000 Säckenrevet EJ numrerade band_1440.mp4: 608x736 Done. (0.025s)\n",
      "video 1/3 (10/261) /cephyr/NOBACKUP/groups/snic2021-6-9/KSO_Medins_pz/movies/quick_temp/000114 TMBL-ROV 2000 Säckenrevet EJ numrerade band_1440.mp4: 608x736 Done. (0.024s)\n",
      "video 1/3 (11/261) /cephyr/NOBACKUP/groups/snic2021-6-9/KSO_Medins_pz/movies/quick_temp/000114 TMBL-ROV 2000 Säckenrevet EJ numrerade band_1440.mp4: 608x736 Done. (0.018s)\n",
      "video 1/3 (12/261) /cephyr/NOBACKUP/groups/snic2021-6-9/KSO_Medins_pz/movies/quick_temp/000114 TMBL-ROV 2000 Säckenrevet EJ numrerade band_1440.mp4: 608x736 Done. (0.018s)\n",
      "video 1/3 (13/261) /cephyr/NOBACKUP/groups/snic2021-6-9/KSO_Medins_pz/movies/quick_temp/000114 TMBL-ROV 2000 Säckenrevet EJ numrerade band_1440.mp4: 608x736 Done. (0.018s)\n",
      "video 1/3 (14/261) /cephyr/NOBACKUP/groups/snic2021-6-9/KSO_Medins_pz/movies/quick_temp/000114 TMBL-ROV 2000 Säckenrevet EJ numrerade band_1440.mp4: 608x736 Done. (0.018s)\n",
      "video 1/3 (15/261) /cephyr/NOBACKUP/groups/snic2021-6-9/KSO_Medins_pz/movies/quick_temp/000114 TMBL-ROV 2000 Säckenrevet EJ numrerade band_1440.mp4: 608x736 Done. (0.018s)\n",
      "video 1/3 (16/261) /cephyr/NOBACKUP/groups/snic2021-6-9/KSO_Medins_pz/movies/quick_temp/000114 TMBL-ROV 2000 Säckenrevet EJ numrerade band_1440.mp4: 608x736 Done. (0.018s)\n",
      "video 1/3 (17/261) /cephyr/NOBACKUP/groups/snic2021-6-9/KSO_Medins_pz/movies/quick_temp/000114 TMBL-ROV 2000 Säckenrevet EJ numrerade band_1440.mp4: 608x736 Done. (0.017s)\n",
      "video 1/3 (18/261) /cephyr/NOBACKUP/groups/snic2021-6-9/KSO_Medins_pz/movies/quick_temp/000114 TMBL-ROV 2000 Säckenrevet EJ numrerade band_1440.mp4: 608x736 Done. (0.017s)\n",
      "video 1/3 (19/261) /cephyr/NOBACKUP/groups/snic2021-6-9/KSO_Medins_pz/movies/quick_temp/000114 TMBL-ROV 2000 Säckenrevet EJ numrerade band_1440.mp4: 608x736 Done. (0.017s)\n",
      "video 1/3 (20/261) /cephyr/NOBACKUP/groups/snic2021-6-9/KSO_Medins_pz/movies/quick_temp/000114 TMBL-ROV 2000 Säckenrevet EJ numrerade band_1440.mp4: 608x736 Done. (0.017s)\n",
      "video 1/3 (21/261) /cephyr/NOBACKUP/groups/snic2021-6-9/KSO_Medins_pz/movies/quick_temp/000114 TMBL-ROV 2000 Säckenrevet EJ numrerade band_1440.mp4: 608x736 Done. (0.017s)\n",
      "video 1/3 (22/261) /cephyr/NOBACKUP/groups/snic2021-6-9/KSO_Medins_pz/movies/quick_temp/000114 TMBL-ROV 2000 Säckenrevet EJ numrerade band_1440.mp4: 608x736 Done. (0.018s)\n",
      "video 1/3 (23/261) /cephyr/NOBACKUP/groups/snic2021-6-9/KSO_Medins_pz/movies/quick_temp/000114 TMBL-ROV 2000 Säckenrevet EJ numrerade band_1440.mp4: 608x736 Done. (0.018s)\n",
      "video 1/3 (24/261) /cephyr/NOBACKUP/groups/snic2021-6-9/KSO_Medins_pz/movies/quick_temp/000114 TMBL-ROV 2000 Säckenrevet EJ numrerade band_1440.mp4: 608x736 Done. (0.019s)\n",
      "video 1/3 (25/261) /cephyr/NOBACKUP/groups/snic2021-6-9/KSO_Medins_pz/movies/quick_temp/000114 TMBL-ROV 2000 Säckenrevet EJ numrerade band_1440.mp4: 608x736 Done. (0.019s)\n",
      "video 1/3 (26/261) /cephyr/NOBACKUP/groups/snic2021-6-9/KSO_Medins_pz/movies/quick_temp/000114 TMBL-ROV 2000 Säckenrevet EJ numrerade band_1440.mp4: 608x736 Done. (0.016s)\n",
      "video 1/3 (27/261) /cephyr/NOBACKUP/groups/snic2021-6-9/KSO_Medins_pz/movies/quick_temp/000114 TMBL-ROV 2000 Säckenrevet EJ numrerade band_1440.mp4: 608x736 Done. (0.016s)\n",
      "video 1/3 (28/261) /cephyr/NOBACKUP/groups/snic2021-6-9/KSO_Medins_pz/movies/quick_temp/000114 TMBL-ROV 2000 Säckenrevet EJ numrerade band_1440.mp4: 608x736 Done. (0.016s)\n",
      "video 1/3 (29/261) /cephyr/NOBACKUP/groups/snic2021-6-9/KSO_Medins_pz/movies/quick_temp/000114 TMBL-ROV 2000 Säckenrevet EJ numrerade band_1440.mp4: 608x736 Done. (0.016s)\n",
      "video 1/3 (30/261) /cephyr/NOBACKUP/groups/snic2021-6-9/KSO_Medins_pz/movies/quick_temp/000114 TMBL-ROV 2000 Säckenrevet EJ numrerade band_1440.mp4: 608x736 Done. (0.016s)\n",
      "video 1/3 (31/261) /cephyr/NOBACKUP/groups/snic2021-6-9/KSO_Medins_pz/movies/quick_temp/000114 TMBL-ROV 2000 Säckenrevet EJ numrerade band_1440.mp4: 608x736 Done. (0.016s)\n",
      "video 1/3 (32/261) /cephyr/NOBACKUP/groups/snic2021-6-9/KSO_Medins_pz/movies/quick_temp/000114 TMBL-ROV 2000 Säckenrevet EJ numrerade band_1440.mp4: 608x736 Done. (0.016s)\n",
      "video 1/3 (33/261) /cephyr/NOBACKUP/groups/snic2021-6-9/KSO_Medins_pz/movies/quick_temp/000114 TMBL-ROV 2000 Säckenrevet EJ numrerade band_1440.mp4: 608x736 Done. (0.016s)\n",
      "video 1/3 (34/261) /cephyr/NOBACKUP/groups/snic2021-6-9/KSO_Medins_pz/movies/quick_temp/000114 TMBL-ROV 2000 Säckenrevet EJ numrerade band_1440.mp4: 608x736 Done. (0.016s)\n",
      "video 1/3 (35/261) /cephyr/NOBACKUP/groups/snic2021-6-9/KSO_Medins_pz/movies/quick_temp/000114 TMBL-ROV 2000 Säckenrevet EJ numrerade band_1440.mp4: 608x736 Done. (0.028s)\n",
      "video 1/3 (36/261) /cephyr/NOBACKUP/groups/snic2021-6-9/KSO_Medins_pz/movies/quick_temp/000114 TMBL-ROV 2000 Säckenrevet EJ numrerade band_1440.mp4: 608x736 Done. (0.029s)\n",
      "video 1/3 (37/261) /cephyr/NOBACKUP/groups/snic2021-6-9/KSO_Medins_pz/movies/quick_temp/000114 TMBL-ROV 2000 Säckenrevet EJ numrerade band_1440.mp4: 608x736 Done. (0.031s)\n",
      "video 1/3 (38/261) /cephyr/NOBACKUP/groups/snic2021-6-9/KSO_Medins_pz/movies/quick_temp/000114 TMBL-ROV 2000 Säckenrevet EJ numrerade band_1440.mp4: 608x736 Done. (0.035s)\n",
      "video 1/3 (39/261) /cephyr/NOBACKUP/groups/snic2021-6-9/KSO_Medins_pz/movies/quick_temp/000114 TMBL-ROV 2000 Säckenrevet EJ numrerade band_1440.mp4: 608x736 Done. (0.036s)\n",
      "video 1/3 (40/261) /cephyr/NOBACKUP/groups/snic2021-6-9/KSO_Medins_pz/movies/quick_temp/000114 TMBL-ROV 2000 Säckenrevet EJ numrerade band_1440.mp4: 608x736 Done. (0.036s)\n",
      "video 1/3 (41/261) /cephyr/NOBACKUP/groups/snic2021-6-9/KSO_Medins_pz/movies/quick_temp/000114 TMBL-ROV 2000 Säckenrevet EJ numrerade band_1440.mp4: 608x736 Done. (0.036s)\n",
      "video 1/3 (42/261) /cephyr/NOBACKUP/groups/snic2021-6-9/KSO_Medins_pz/movies/quick_temp/000114 TMBL-ROV 2000 Säckenrevet EJ numrerade band_1440.mp4: 608x736 Done. (0.036s)\n",
      "video 1/3 (43/261) /cephyr/NOBACKUP/groups/snic2021-6-9/KSO_Medins_pz/movies/quick_temp/000114 TMBL-ROV 2000 Säckenrevet EJ numrerade band_1440.mp4: 608x736 Done. (0.036s)\n",
      "video 1/3 (44/261) /cephyr/NOBACKUP/groups/snic2021-6-9/KSO_Medins_pz/movies/quick_temp/000114 TMBL-ROV 2000 Säckenrevet EJ numrerade band_1440.mp4: 608x736 Done. (0.036s)\n",
      "video 1/3 (45/261) /cephyr/NOBACKUP/groups/snic2021-6-9/KSO_Medins_pz/movies/quick_temp/000114 TMBL-ROV 2000 Säckenrevet EJ numrerade band_1440.mp4: 608x736 Done. (0.036s)\n",
      "video 1/3 (46/261) /cephyr/NOBACKUP/groups/snic2021-6-9/KSO_Medins_pz/movies/quick_temp/000114 TMBL-ROV 2000 Säckenrevet EJ numrerade band_1440.mp4: 608x736 Done. (0.036s)\n",
      "video 1/3 (47/261) /cephyr/NOBACKUP/groups/snic2021-6-9/KSO_Medins_pz/movies/quick_temp/000114 TMBL-ROV 2000 Säckenrevet EJ numrerade band_1440.mp4: 608x736 Done. (0.036s)\n",
      "video 1/3 (48/261) /cephyr/NOBACKUP/groups/snic2021-6-9/KSO_Medins_pz/movies/quick_temp/000114 TMBL-ROV 2000 Säckenrevet EJ numrerade band_1440.mp4: 608x736 Done. (0.036s)\n"
     ]
    },
    {
     "name": "stdout",
     "output_type": "stream",
     "text": [
      "video 1/3 (49/261) /cephyr/NOBACKUP/groups/snic2021-6-9/KSO_Medins_pz/movies/quick_temp/000114 TMBL-ROV 2000 Säckenrevet EJ numrerade band_1440.mp4: 608x736 Done. (0.036s)\n",
      "video 1/3 (50/261) /cephyr/NOBACKUP/groups/snic2021-6-9/KSO_Medins_pz/movies/quick_temp/000114 TMBL-ROV 2000 Säckenrevet EJ numrerade band_1440.mp4: 608x736 Done. (0.036s)\n",
      "video 1/3 (51/261) /cephyr/NOBACKUP/groups/snic2021-6-9/KSO_Medins_pz/movies/quick_temp/000114 TMBL-ROV 2000 Säckenrevet EJ numrerade band_1440.mp4: 608x736 Done. (0.036s)\n",
      "video 1/3 (52/261) /cephyr/NOBACKUP/groups/snic2021-6-9/KSO_Medins_pz/movies/quick_temp/000114 TMBL-ROV 2000 Säckenrevet EJ numrerade band_1440.mp4: 608x736 Done. (0.036s)\n",
      "video 1/3 (53/261) /cephyr/NOBACKUP/groups/snic2021-6-9/KSO_Medins_pz/movies/quick_temp/000114 TMBL-ROV 2000 Säckenrevet EJ numrerade band_1440.mp4: 608x736 Done. (0.036s)\n",
      "video 1/3 (54/261) /cephyr/NOBACKUP/groups/snic2021-6-9/KSO_Medins_pz/movies/quick_temp/000114 TMBL-ROV 2000 Säckenrevet EJ numrerade band_1440.mp4: 608x736 Done. (0.036s)\n",
      "video 1/3 (55/261) /cephyr/NOBACKUP/groups/snic2021-6-9/KSO_Medins_pz/movies/quick_temp/000114 TMBL-ROV 2000 Säckenrevet EJ numrerade band_1440.mp4: 608x736 Done. (0.036s)\n",
      "video 1/3 (56/261) /cephyr/NOBACKUP/groups/snic2021-6-9/KSO_Medins_pz/movies/quick_temp/000114 TMBL-ROV 2000 Säckenrevet EJ numrerade band_1440.mp4: 608x736 Done. (0.036s)\n",
      "video 1/3 (57/261) /cephyr/NOBACKUP/groups/snic2021-6-9/KSO_Medins_pz/movies/quick_temp/000114 TMBL-ROV 2000 Säckenrevet EJ numrerade band_1440.mp4: 608x736 Done. (0.036s)\n",
      "video 1/3 (58/261) /cephyr/NOBACKUP/groups/snic2021-6-9/KSO_Medins_pz/movies/quick_temp/000114 TMBL-ROV 2000 Säckenrevet EJ numrerade band_1440.mp4: 608x736 Done. (0.036s)\n",
      "video 1/3 (59/261) /cephyr/NOBACKUP/groups/snic2021-6-9/KSO_Medins_pz/movies/quick_temp/000114 TMBL-ROV 2000 Säckenrevet EJ numrerade band_1440.mp4: 608x736 Done. (0.036s)\n",
      "video 1/3 (60/261) /cephyr/NOBACKUP/groups/snic2021-6-9/KSO_Medins_pz/movies/quick_temp/000114 TMBL-ROV 2000 Säckenrevet EJ numrerade band_1440.mp4: 608x736 Done. (0.036s)\n",
      "video 1/3 (61/261) /cephyr/NOBACKUP/groups/snic2021-6-9/KSO_Medins_pz/movies/quick_temp/000114 TMBL-ROV 2000 Säckenrevet EJ numrerade band_1440.mp4: 608x736 Done. (0.036s)\n",
      "video 1/3 (62/261) /cephyr/NOBACKUP/groups/snic2021-6-9/KSO_Medins_pz/movies/quick_temp/000114 TMBL-ROV 2000 Säckenrevet EJ numrerade band_1440.mp4: 608x736 Done. (0.036s)\n",
      "video 1/3 (63/261) /cephyr/NOBACKUP/groups/snic2021-6-9/KSO_Medins_pz/movies/quick_temp/000114 TMBL-ROV 2000 Säckenrevet EJ numrerade band_1440.mp4: 608x736 Done. (0.036s)\n",
      "video 1/3 (64/261) /cephyr/NOBACKUP/groups/snic2021-6-9/KSO_Medins_pz/movies/quick_temp/000114 TMBL-ROV 2000 Säckenrevet EJ numrerade band_1440.mp4: 608x736 Done. (0.036s)\n",
      "video 1/3 (65/261) /cephyr/NOBACKUP/groups/snic2021-6-9/KSO_Medins_pz/movies/quick_temp/000114 TMBL-ROV 2000 Säckenrevet EJ numrerade band_1440.mp4: 608x736 Done. (0.036s)\n",
      "video 1/3 (66/261) /cephyr/NOBACKUP/groups/snic2021-6-9/KSO_Medins_pz/movies/quick_temp/000114 TMBL-ROV 2000 Säckenrevet EJ numrerade band_1440.mp4: 608x736 Done. (0.036s)\n",
      "video 1/3 (67/261) /cephyr/NOBACKUP/groups/snic2021-6-9/KSO_Medins_pz/movies/quick_temp/000114 TMBL-ROV 2000 Säckenrevet EJ numrerade band_1440.mp4: 608x736 Done. (0.036s)\n",
      "video 1/3 (68/261) /cephyr/NOBACKUP/groups/snic2021-6-9/KSO_Medins_pz/movies/quick_temp/000114 TMBL-ROV 2000 Säckenrevet EJ numrerade band_1440.mp4: 608x736 Done. (0.036s)\n",
      "video 1/3 (69/261) /cephyr/NOBACKUP/groups/snic2021-6-9/KSO_Medins_pz/movies/quick_temp/000114 TMBL-ROV 2000 Säckenrevet EJ numrerade band_1440.mp4: 608x736 Done. (0.036s)\n",
      "video 1/3 (70/261) /cephyr/NOBACKUP/groups/snic2021-6-9/KSO_Medins_pz/movies/quick_temp/000114 TMBL-ROV 2000 Säckenrevet EJ numrerade band_1440.mp4: 608x736 Done. (0.036s)\n",
      "video 1/3 (71/261) /cephyr/NOBACKUP/groups/snic2021-6-9/KSO_Medins_pz/movies/quick_temp/000114 TMBL-ROV 2000 Säckenrevet EJ numrerade band_1440.mp4: 608x736 Done. (0.036s)\n",
      "video 1/3 (72/261) /cephyr/NOBACKUP/groups/snic2021-6-9/KSO_Medins_pz/movies/quick_temp/000114 TMBL-ROV 2000 Säckenrevet EJ numrerade band_1440.mp4: 608x736 Done. (0.036s)\n",
      "video 1/3 (73/261) /cephyr/NOBACKUP/groups/snic2021-6-9/KSO_Medins_pz/movies/quick_temp/000114 TMBL-ROV 2000 Säckenrevet EJ numrerade band_1440.mp4: 608x736 Done. (0.036s)\n",
      "video 1/3 (74/261) /cephyr/NOBACKUP/groups/snic2021-6-9/KSO_Medins_pz/movies/quick_temp/000114 TMBL-ROV 2000 Säckenrevet EJ numrerade band_1440.mp4: 608x736 Done. (0.036s)\n",
      "video 1/3 (75/261) /cephyr/NOBACKUP/groups/snic2021-6-9/KSO_Medins_pz/movies/quick_temp/000114 TMBL-ROV 2000 Säckenrevet EJ numrerade band_1440.mp4: 608x736 Done. (0.036s)\n",
      "video 1/3 (76/261) /cephyr/NOBACKUP/groups/snic2021-6-9/KSO_Medins_pz/movies/quick_temp/000114 TMBL-ROV 2000 Säckenrevet EJ numrerade band_1440.mp4: 608x736 Done. (0.036s)\n",
      "video 1/3 (77/261) /cephyr/NOBACKUP/groups/snic2021-6-9/KSO_Medins_pz/movies/quick_temp/000114 TMBL-ROV 2000 Säckenrevet EJ numrerade band_1440.mp4: 608x736 Done. (0.036s)\n",
      "video 1/3 (78/261) /cephyr/NOBACKUP/groups/snic2021-6-9/KSO_Medins_pz/movies/quick_temp/000114 TMBL-ROV 2000 Säckenrevet EJ numrerade band_1440.mp4: 608x736 Done. (0.036s)\n",
      "video 1/3 (79/261) /cephyr/NOBACKUP/groups/snic2021-6-9/KSO_Medins_pz/movies/quick_temp/000114 TMBL-ROV 2000 Säckenrevet EJ numrerade band_1440.mp4: 608x736 Done. (0.036s)\n",
      "video 1/3 (80/261) /cephyr/NOBACKUP/groups/snic2021-6-9/KSO_Medins_pz/movies/quick_temp/000114 TMBL-ROV 2000 Säckenrevet EJ numrerade band_1440.mp4: 608x736 Done. (0.036s)\n",
      "video 1/3 (81/261) /cephyr/NOBACKUP/groups/snic2021-6-9/KSO_Medins_pz/movies/quick_temp/000114 TMBL-ROV 2000 Säckenrevet EJ numrerade band_1440.mp4: 608x736 Done. (0.036s)\n",
      "video 1/3 (82/261) /cephyr/NOBACKUP/groups/snic2021-6-9/KSO_Medins_pz/movies/quick_temp/000114 TMBL-ROV 2000 Säckenrevet EJ numrerade band_1440.mp4: 608x736 Done. (0.036s)\n",
      "video 1/3 (83/261) /cephyr/NOBACKUP/groups/snic2021-6-9/KSO_Medins_pz/movies/quick_temp/000114 TMBL-ROV 2000 Säckenrevet EJ numrerade band_1440.mp4: 608x736 Done. (0.036s)\n",
      "video 1/3 (84/261) /cephyr/NOBACKUP/groups/snic2021-6-9/KSO_Medins_pz/movies/quick_temp/000114 TMBL-ROV 2000 Säckenrevet EJ numrerade band_1440.mp4: 608x736 Done. (0.036s)\n",
      "video 1/3 (85/261) /cephyr/NOBACKUP/groups/snic2021-6-9/KSO_Medins_pz/movies/quick_temp/000114 TMBL-ROV 2000 Säckenrevet EJ numrerade band_1440.mp4: 608x736 Done. (0.036s)\n",
      "video 1/3 (86/261) /cephyr/NOBACKUP/groups/snic2021-6-9/KSO_Medins_pz/movies/quick_temp/000114 TMBL-ROV 2000 Säckenrevet EJ numrerade band_1440.mp4: 608x736 Done. (0.036s)\n",
      "video 1/3 (87/261) /cephyr/NOBACKUP/groups/snic2021-6-9/KSO_Medins_pz/movies/quick_temp/000114 TMBL-ROV 2000 Säckenrevet EJ numrerade band_1440.mp4: 608x736 Done. (0.036s)\n",
      "video 1/3 (88/261) /cephyr/NOBACKUP/groups/snic2021-6-9/KSO_Medins_pz/movies/quick_temp/000114 TMBL-ROV 2000 Säckenrevet EJ numrerade band_1440.mp4: 608x736 Done. (0.036s)\n",
      "video 1/3 (89/261) /cephyr/NOBACKUP/groups/snic2021-6-9/KSO_Medins_pz/movies/quick_temp/000114 TMBL-ROV 2000 Säckenrevet EJ numrerade band_1440.mp4: 608x736 Done. (0.036s)\n",
      "video 1/3 (90/261) /cephyr/NOBACKUP/groups/snic2021-6-9/KSO_Medins_pz/movies/quick_temp/000114 TMBL-ROV 2000 Säckenrevet EJ numrerade band_1440.mp4: 608x736 Done. (0.036s)\n",
      "video 1/3 (91/261) /cephyr/NOBACKUP/groups/snic2021-6-9/KSO_Medins_pz/movies/quick_temp/000114 TMBL-ROV 2000 Säckenrevet EJ numrerade band_1440.mp4: 608x736 Done. (0.036s)\n",
      "video 1/3 (92/261) /cephyr/NOBACKUP/groups/snic2021-6-9/KSO_Medins_pz/movies/quick_temp/000114 TMBL-ROV 2000 Säckenrevet EJ numrerade band_1440.mp4: 608x736 Done. (0.036s)\n",
      "video 1/3 (93/261) /cephyr/NOBACKUP/groups/snic2021-6-9/KSO_Medins_pz/movies/quick_temp/000114 TMBL-ROV 2000 Säckenrevet EJ numrerade band_1440.mp4: 608x736 Done. (0.036s)\n",
      "video 1/3 (94/261) /cephyr/NOBACKUP/groups/snic2021-6-9/KSO_Medins_pz/movies/quick_temp/000114 TMBL-ROV 2000 Säckenrevet EJ numrerade band_1440.mp4: 608x736 Done. (0.036s)\n",
      "video 1/3 (95/261) /cephyr/NOBACKUP/groups/snic2021-6-9/KSO_Medins_pz/movies/quick_temp/000114 TMBL-ROV 2000 Säckenrevet EJ numrerade band_1440.mp4: 608x736 Done. (0.036s)\n",
      "video 1/3 (96/261) /cephyr/NOBACKUP/groups/snic2021-6-9/KSO_Medins_pz/movies/quick_temp/000114 TMBL-ROV 2000 Säckenrevet EJ numrerade band_1440.mp4: 608x736 Done. (0.036s)\n"
     ]
    },
    {
     "name": "stdout",
     "output_type": "stream",
     "text": [
      "video 1/3 (97/261) /cephyr/NOBACKUP/groups/snic2021-6-9/KSO_Medins_pz/movies/quick_temp/000114 TMBL-ROV 2000 Säckenrevet EJ numrerade band_1440.mp4: 608x736 Done. (0.036s)\n",
      "video 1/3 (98/261) /cephyr/NOBACKUP/groups/snic2021-6-9/KSO_Medins_pz/movies/quick_temp/000114 TMBL-ROV 2000 Säckenrevet EJ numrerade band_1440.mp4: 608x736 Done. (0.036s)\n",
      "video 1/3 (99/261) /cephyr/NOBACKUP/groups/snic2021-6-9/KSO_Medins_pz/movies/quick_temp/000114 TMBL-ROV 2000 Säckenrevet EJ numrerade band_1440.mp4: 608x736 Done. (0.036s)\n",
      "video 1/3 (100/261) /cephyr/NOBACKUP/groups/snic2021-6-9/KSO_Medins_pz/movies/quick_temp/000114 TMBL-ROV 2000 Säckenrevet EJ numrerade band_1440.mp4: 608x736 Done. (0.036s)\n",
      "video 1/3 (101/261) /cephyr/NOBACKUP/groups/snic2021-6-9/KSO_Medins_pz/movies/quick_temp/000114 TMBL-ROV 2000 Säckenrevet EJ numrerade band_1440.mp4: 608x736 Done. (0.036s)\n",
      "video 1/3 (102/261) /cephyr/NOBACKUP/groups/snic2021-6-9/KSO_Medins_pz/movies/quick_temp/000114 TMBL-ROV 2000 Säckenrevet EJ numrerade band_1440.mp4: 608x736 Done. (0.036s)\n",
      "video 1/3 (103/261) /cephyr/NOBACKUP/groups/snic2021-6-9/KSO_Medins_pz/movies/quick_temp/000114 TMBL-ROV 2000 Säckenrevet EJ numrerade band_1440.mp4: 608x736 Done. (0.036s)\n",
      "video 1/3 (104/261) /cephyr/NOBACKUP/groups/snic2021-6-9/KSO_Medins_pz/movies/quick_temp/000114 TMBL-ROV 2000 Säckenrevet EJ numrerade band_1440.mp4: 608x736 Done. (0.036s)\n",
      "video 1/3 (105/261) /cephyr/NOBACKUP/groups/snic2021-6-9/KSO_Medins_pz/movies/quick_temp/000114 TMBL-ROV 2000 Säckenrevet EJ numrerade band_1440.mp4: 608x736 Done. (0.036s)\n",
      "video 1/3 (106/261) /cephyr/NOBACKUP/groups/snic2021-6-9/KSO_Medins_pz/movies/quick_temp/000114 TMBL-ROV 2000 Säckenrevet EJ numrerade band_1440.mp4: 608x736 Done. (0.036s)\n",
      "video 1/3 (107/261) /cephyr/NOBACKUP/groups/snic2021-6-9/KSO_Medins_pz/movies/quick_temp/000114 TMBL-ROV 2000 Säckenrevet EJ numrerade band_1440.mp4: 608x736 Done. (0.036s)\n",
      "video 1/3 (108/261) /cephyr/NOBACKUP/groups/snic2021-6-9/KSO_Medins_pz/movies/quick_temp/000114 TMBL-ROV 2000 Säckenrevet EJ numrerade band_1440.mp4: 608x736 Done. (0.036s)\n",
      "video 1/3 (109/261) /cephyr/NOBACKUP/groups/snic2021-6-9/KSO_Medins_pz/movies/quick_temp/000114 TMBL-ROV 2000 Säckenrevet EJ numrerade band_1440.mp4: 608x736 Done. (0.036s)\n",
      "video 1/3 (110/261) /cephyr/NOBACKUP/groups/snic2021-6-9/KSO_Medins_pz/movies/quick_temp/000114 TMBL-ROV 2000 Säckenrevet EJ numrerade band_1440.mp4: 608x736 Done. (0.036s)\n",
      "video 1/3 (111/261) /cephyr/NOBACKUP/groups/snic2021-6-9/KSO_Medins_pz/movies/quick_temp/000114 TMBL-ROV 2000 Säckenrevet EJ numrerade band_1440.mp4: 608x736 Done. (0.036s)\n",
      "video 1/3 (112/261) /cephyr/NOBACKUP/groups/snic2021-6-9/KSO_Medins_pz/movies/quick_temp/000114 TMBL-ROV 2000 Säckenrevet EJ numrerade band_1440.mp4: 608x736 Done. (0.036s)\n",
      "video 1/3 (113/261) /cephyr/NOBACKUP/groups/snic2021-6-9/KSO_Medins_pz/movies/quick_temp/000114 TMBL-ROV 2000 Säckenrevet EJ numrerade band_1440.mp4: 608x736 Done. (0.036s)\n",
      "video 1/3 (114/261) /cephyr/NOBACKUP/groups/snic2021-6-9/KSO_Medins_pz/movies/quick_temp/000114 TMBL-ROV 2000 Säckenrevet EJ numrerade band_1440.mp4: 608x736 Done. (0.036s)\n",
      "video 1/3 (115/261) /cephyr/NOBACKUP/groups/snic2021-6-9/KSO_Medins_pz/movies/quick_temp/000114 TMBL-ROV 2000 Säckenrevet EJ numrerade band_1440.mp4: 608x736 Done. (0.036s)\n",
      "video 1/3 (116/261) /cephyr/NOBACKUP/groups/snic2021-6-9/KSO_Medins_pz/movies/quick_temp/000114 TMBL-ROV 2000 Säckenrevet EJ numrerade band_1440.mp4: 608x736 Done. (0.036s)\n",
      "video 1/3 (117/261) /cephyr/NOBACKUP/groups/snic2021-6-9/KSO_Medins_pz/movies/quick_temp/000114 TMBL-ROV 2000 Säckenrevet EJ numrerade band_1440.mp4: 608x736 Done. (0.036s)\n",
      "video 1/3 (118/261) /cephyr/NOBACKUP/groups/snic2021-6-9/KSO_Medins_pz/movies/quick_temp/000114 TMBL-ROV 2000 Säckenrevet EJ numrerade band_1440.mp4: 608x736 Done. (0.036s)\n",
      "video 1/3 (119/261) /cephyr/NOBACKUP/groups/snic2021-6-9/KSO_Medins_pz/movies/quick_temp/000114 TMBL-ROV 2000 Säckenrevet EJ numrerade band_1440.mp4: 608x736 Done. (0.036s)\n",
      "video 1/3 (120/261) /cephyr/NOBACKUP/groups/snic2021-6-9/KSO_Medins_pz/movies/quick_temp/000114 TMBL-ROV 2000 Säckenrevet EJ numrerade band_1440.mp4: 608x736 Done. (0.036s)\n",
      "video 1/3 (121/261) /cephyr/NOBACKUP/groups/snic2021-6-9/KSO_Medins_pz/movies/quick_temp/000114 TMBL-ROV 2000 Säckenrevet EJ numrerade band_1440.mp4: 608x736 Done. (0.036s)\n",
      "video 1/3 (122/261) /cephyr/NOBACKUP/groups/snic2021-6-9/KSO_Medins_pz/movies/quick_temp/000114 TMBL-ROV 2000 Säckenrevet EJ numrerade band_1440.mp4: 608x736 Done. (0.036s)\n",
      "video 1/3 (123/261) /cephyr/NOBACKUP/groups/snic2021-6-9/KSO_Medins_pz/movies/quick_temp/000114 TMBL-ROV 2000 Säckenrevet EJ numrerade band_1440.mp4: 608x736 Done. (0.036s)\n",
      "video 1/3 (124/261) /cephyr/NOBACKUP/groups/snic2021-6-9/KSO_Medins_pz/movies/quick_temp/000114 TMBL-ROV 2000 Säckenrevet EJ numrerade band_1440.mp4: 608x736 Done. (0.036s)\n",
      "video 1/3 (125/261) /cephyr/NOBACKUP/groups/snic2021-6-9/KSO_Medins_pz/movies/quick_temp/000114 TMBL-ROV 2000 Säckenrevet EJ numrerade band_1440.mp4: 608x736 Done. (0.036s)\n",
      "video 1/3 (126/261) /cephyr/NOBACKUP/groups/snic2021-6-9/KSO_Medins_pz/movies/quick_temp/000114 TMBL-ROV 2000 Säckenrevet EJ numrerade band_1440.mp4: 608x736 Done. (0.036s)\n",
      "video 1/3 (127/261) /cephyr/NOBACKUP/groups/snic2021-6-9/KSO_Medins_pz/movies/quick_temp/000114 TMBL-ROV 2000 Säckenrevet EJ numrerade band_1440.mp4: 608x736 Done. (0.036s)\n",
      "video 1/3 (128/261) /cephyr/NOBACKUP/groups/snic2021-6-9/KSO_Medins_pz/movies/quick_temp/000114 TMBL-ROV 2000 Säckenrevet EJ numrerade band_1440.mp4: 608x736 Done. (0.036s)\n",
      "video 1/3 (129/261) /cephyr/NOBACKUP/groups/snic2021-6-9/KSO_Medins_pz/movies/quick_temp/000114 TMBL-ROV 2000 Säckenrevet EJ numrerade band_1440.mp4: 608x736 Done. (0.036s)\n",
      "video 1/3 (130/261) /cephyr/NOBACKUP/groups/snic2021-6-9/KSO_Medins_pz/movies/quick_temp/000114 TMBL-ROV 2000 Säckenrevet EJ numrerade band_1440.mp4: 608x736 Done. (0.036s)\n",
      "video 1/3 (131/261) /cephyr/NOBACKUP/groups/snic2021-6-9/KSO_Medins_pz/movies/quick_temp/000114 TMBL-ROV 2000 Säckenrevet EJ numrerade band_1440.mp4: 608x736 Done. (0.036s)\n",
      "video 1/3 (132/261) /cephyr/NOBACKUP/groups/snic2021-6-9/KSO_Medins_pz/movies/quick_temp/000114 TMBL-ROV 2000 Säckenrevet EJ numrerade band_1440.mp4: 608x736 Done. (0.036s)\n",
      "video 1/3 (133/261) /cephyr/NOBACKUP/groups/snic2021-6-9/KSO_Medins_pz/movies/quick_temp/000114 TMBL-ROV 2000 Säckenrevet EJ numrerade band_1440.mp4: 608x736 Done. (0.036s)\n",
      "video 1/3 (134/261) /cephyr/NOBACKUP/groups/snic2021-6-9/KSO_Medins_pz/movies/quick_temp/000114 TMBL-ROV 2000 Säckenrevet EJ numrerade band_1440.mp4: 608x736 Done. (0.036s)\n",
      "video 1/3 (135/261) /cephyr/NOBACKUP/groups/snic2021-6-9/KSO_Medins_pz/movies/quick_temp/000114 TMBL-ROV 2000 Säckenrevet EJ numrerade band_1440.mp4: 608x736 Done. (0.036s)\n",
      "video 1/3 (136/261) /cephyr/NOBACKUP/groups/snic2021-6-9/KSO_Medins_pz/movies/quick_temp/000114 TMBL-ROV 2000 Säckenrevet EJ numrerade band_1440.mp4: 608x736 Done. (0.036s)\n",
      "video 1/3 (137/261) /cephyr/NOBACKUP/groups/snic2021-6-9/KSO_Medins_pz/movies/quick_temp/000114 TMBL-ROV 2000 Säckenrevet EJ numrerade band_1440.mp4: 608x736 Done. (0.036s)\n",
      "video 1/3 (138/261) /cephyr/NOBACKUP/groups/snic2021-6-9/KSO_Medins_pz/movies/quick_temp/000114 TMBL-ROV 2000 Säckenrevet EJ numrerade band_1440.mp4: 608x736 Done. (0.036s)\n",
      "video 1/3 (139/261) /cephyr/NOBACKUP/groups/snic2021-6-9/KSO_Medins_pz/movies/quick_temp/000114 TMBL-ROV 2000 Säckenrevet EJ numrerade band_1440.mp4: 608x736 Done. (0.036s)\n",
      "video 1/3 (140/261) /cephyr/NOBACKUP/groups/snic2021-6-9/KSO_Medins_pz/movies/quick_temp/000114 TMBL-ROV 2000 Säckenrevet EJ numrerade band_1440.mp4: 608x736 Done. (0.036s)\n",
      "video 1/3 (141/261) /cephyr/NOBACKUP/groups/snic2021-6-9/KSO_Medins_pz/movies/quick_temp/000114 TMBL-ROV 2000 Säckenrevet EJ numrerade band_1440.mp4: 608x736 Done. (0.036s)\n",
      "video 1/3 (142/261) /cephyr/NOBACKUP/groups/snic2021-6-9/KSO_Medins_pz/movies/quick_temp/000114 TMBL-ROV 2000 Säckenrevet EJ numrerade band_1440.mp4: 608x736 Done. (0.036s)\n",
      "video 1/3 (143/261) /cephyr/NOBACKUP/groups/snic2021-6-9/KSO_Medins_pz/movies/quick_temp/000114 TMBL-ROV 2000 Säckenrevet EJ numrerade band_1440.mp4: 608x736 Done. (0.036s)\n",
      "video 1/3 (144/261) /cephyr/NOBACKUP/groups/snic2021-6-9/KSO_Medins_pz/movies/quick_temp/000114 TMBL-ROV 2000 Säckenrevet EJ numrerade band_1440.mp4: 608x736 Done. (0.036s)\n"
     ]
    },
    {
     "name": "stdout",
     "output_type": "stream",
     "text": [
      "video 1/3 (145/261) /cephyr/NOBACKUP/groups/snic2021-6-9/KSO_Medins_pz/movies/quick_temp/000114 TMBL-ROV 2000 Säckenrevet EJ numrerade band_1440.mp4: 608x736 Done. (0.036s)\n",
      "video 1/3 (146/261) /cephyr/NOBACKUP/groups/snic2021-6-9/KSO_Medins_pz/movies/quick_temp/000114 TMBL-ROV 2000 Säckenrevet EJ numrerade band_1440.mp4: 608x736 Done. (0.036s)\n",
      "video 1/3 (147/261) /cephyr/NOBACKUP/groups/snic2021-6-9/KSO_Medins_pz/movies/quick_temp/000114 TMBL-ROV 2000 Säckenrevet EJ numrerade band_1440.mp4: 608x736 Done. (0.036s)\n",
      "video 1/3 (148/261) /cephyr/NOBACKUP/groups/snic2021-6-9/KSO_Medins_pz/movies/quick_temp/000114 TMBL-ROV 2000 Säckenrevet EJ numrerade band_1440.mp4: 608x736 Done. (0.036s)\n",
      "video 1/3 (149/261) /cephyr/NOBACKUP/groups/snic2021-6-9/KSO_Medins_pz/movies/quick_temp/000114 TMBL-ROV 2000 Säckenrevet EJ numrerade band_1440.mp4: 608x736 Done. (0.036s)\n",
      "video 1/3 (150/261) /cephyr/NOBACKUP/groups/snic2021-6-9/KSO_Medins_pz/movies/quick_temp/000114 TMBL-ROV 2000 Säckenrevet EJ numrerade band_1440.mp4: 608x736 Done. (0.036s)\n",
      "video 1/3 (151/261) /cephyr/NOBACKUP/groups/snic2021-6-9/KSO_Medins_pz/movies/quick_temp/000114 TMBL-ROV 2000 Säckenrevet EJ numrerade band_1440.mp4: 608x736 Done. (0.036s)\n",
      "video 1/3 (152/261) /cephyr/NOBACKUP/groups/snic2021-6-9/KSO_Medins_pz/movies/quick_temp/000114 TMBL-ROV 2000 Säckenrevet EJ numrerade band_1440.mp4: 608x736 Done. (0.036s)\n",
      "video 1/3 (153/261) /cephyr/NOBACKUP/groups/snic2021-6-9/KSO_Medins_pz/movies/quick_temp/000114 TMBL-ROV 2000 Säckenrevet EJ numrerade band_1440.mp4: 608x736 Done. (0.036s)\n",
      "video 1/3 (154/261) /cephyr/NOBACKUP/groups/snic2021-6-9/KSO_Medins_pz/movies/quick_temp/000114 TMBL-ROV 2000 Säckenrevet EJ numrerade band_1440.mp4: 608x736 Done. (0.036s)\n",
      "video 1/3 (155/261) /cephyr/NOBACKUP/groups/snic2021-6-9/KSO_Medins_pz/movies/quick_temp/000114 TMBL-ROV 2000 Säckenrevet EJ numrerade band_1440.mp4: 608x736 Done. (0.036s)\n",
      "video 1/3 (156/261) /cephyr/NOBACKUP/groups/snic2021-6-9/KSO_Medins_pz/movies/quick_temp/000114 TMBL-ROV 2000 Säckenrevet EJ numrerade band_1440.mp4: 608x736 Done. (0.036s)\n",
      "video 1/3 (157/261) /cephyr/NOBACKUP/groups/snic2021-6-9/KSO_Medins_pz/movies/quick_temp/000114 TMBL-ROV 2000 Säckenrevet EJ numrerade band_1440.mp4: 608x736 Done. (0.036s)\n",
      "video 1/3 (158/261) /cephyr/NOBACKUP/groups/snic2021-6-9/KSO_Medins_pz/movies/quick_temp/000114 TMBL-ROV 2000 Säckenrevet EJ numrerade band_1440.mp4: 608x736 Done. (0.036s)\n",
      "video 1/3 (159/261) /cephyr/NOBACKUP/groups/snic2021-6-9/KSO_Medins_pz/movies/quick_temp/000114 TMBL-ROV 2000 Säckenrevet EJ numrerade band_1440.mp4: 608x736 Done. (0.036s)\n",
      "video 1/3 (160/261) /cephyr/NOBACKUP/groups/snic2021-6-9/KSO_Medins_pz/movies/quick_temp/000114 TMBL-ROV 2000 Säckenrevet EJ numrerade band_1440.mp4: 608x736 Done. (0.036s)\n",
      "video 1/3 (161/261) /cephyr/NOBACKUP/groups/snic2021-6-9/KSO_Medins_pz/movies/quick_temp/000114 TMBL-ROV 2000 Säckenrevet EJ numrerade band_1440.mp4: 608x736 Done. (0.025s)\n",
      "video 1/3 (162/261) /cephyr/NOBACKUP/groups/snic2021-6-9/KSO_Medins_pz/movies/quick_temp/000114 TMBL-ROV 2000 Säckenrevet EJ numrerade band_1440.mp4: 608x736 Done. (0.024s)\n",
      "video 1/3 (163/261) /cephyr/NOBACKUP/groups/snic2021-6-9/KSO_Medins_pz/movies/quick_temp/000114 TMBL-ROV 2000 Säckenrevet EJ numrerade band_1440.mp4: 608x736 Done. (0.023s)\n",
      "video 1/3 (164/261) /cephyr/NOBACKUP/groups/snic2021-6-9/KSO_Medins_pz/movies/quick_temp/000114 TMBL-ROV 2000 Säckenrevet EJ numrerade band_1440.mp4: 608x736 Done. (0.023s)\n",
      "video 1/3 (165/261) /cephyr/NOBACKUP/groups/snic2021-6-9/KSO_Medins_pz/movies/quick_temp/000114 TMBL-ROV 2000 Säckenrevet EJ numrerade band_1440.mp4: 608x736 Done. (0.023s)\n",
      "video 1/3 (166/261) /cephyr/NOBACKUP/groups/snic2021-6-9/KSO_Medins_pz/movies/quick_temp/000114 TMBL-ROV 2000 Säckenrevet EJ numrerade band_1440.mp4: 608x736 Done. (0.036s)\n",
      "video 1/3 (167/261) /cephyr/NOBACKUP/groups/snic2021-6-9/KSO_Medins_pz/movies/quick_temp/000114 TMBL-ROV 2000 Säckenrevet EJ numrerade band_1440.mp4: 608x736 Done. (0.036s)\n",
      "video 1/3 (168/261) /cephyr/NOBACKUP/groups/snic2021-6-9/KSO_Medins_pz/movies/quick_temp/000114 TMBL-ROV 2000 Säckenrevet EJ numrerade band_1440.mp4: 608x736 Done. (0.036s)\n",
      "video 1/3 (169/261) /cephyr/NOBACKUP/groups/snic2021-6-9/KSO_Medins_pz/movies/quick_temp/000114 TMBL-ROV 2000 Säckenrevet EJ numrerade band_1440.mp4: 608x736 Done. (0.036s)\n",
      "video 1/3 (170/261) /cephyr/NOBACKUP/groups/snic2021-6-9/KSO_Medins_pz/movies/quick_temp/000114 TMBL-ROV 2000 Säckenrevet EJ numrerade band_1440.mp4: 608x736 Done. (0.036s)\n",
      "video 1/3 (171/261) /cephyr/NOBACKUP/groups/snic2021-6-9/KSO_Medins_pz/movies/quick_temp/000114 TMBL-ROV 2000 Säckenrevet EJ numrerade band_1440.mp4: 608x736 Done. (0.036s)\n",
      "video 1/3 (172/261) /cephyr/NOBACKUP/groups/snic2021-6-9/KSO_Medins_pz/movies/quick_temp/000114 TMBL-ROV 2000 Säckenrevet EJ numrerade band_1440.mp4: 608x736 Done. (0.036s)\n",
      "video 1/3 (173/261) /cephyr/NOBACKUP/groups/snic2021-6-9/KSO_Medins_pz/movies/quick_temp/000114 TMBL-ROV 2000 Säckenrevet EJ numrerade band_1440.mp4: 608x736 Done. (0.036s)\n",
      "video 1/3 (174/261) /cephyr/NOBACKUP/groups/snic2021-6-9/KSO_Medins_pz/movies/quick_temp/000114 TMBL-ROV 2000 Säckenrevet EJ numrerade band_1440.mp4: 608x736 Done. (0.036s)\n",
      "video 1/3 (175/261) /cephyr/NOBACKUP/groups/snic2021-6-9/KSO_Medins_pz/movies/quick_temp/000114 TMBL-ROV 2000 Säckenrevet EJ numrerade band_1440.mp4: 608x736 Done. (0.036s)\n",
      "video 1/3 (176/261) /cephyr/NOBACKUP/groups/snic2021-6-9/KSO_Medins_pz/movies/quick_temp/000114 TMBL-ROV 2000 Säckenrevet EJ numrerade band_1440.mp4: 608x736 Done. (0.036s)\n",
      "video 1/3 (177/261) /cephyr/NOBACKUP/groups/snic2021-6-9/KSO_Medins_pz/movies/quick_temp/000114 TMBL-ROV 2000 Säckenrevet EJ numrerade band_1440.mp4: 608x736 Done. (0.036s)\n",
      "video 1/3 (178/261) /cephyr/NOBACKUP/groups/snic2021-6-9/KSO_Medins_pz/movies/quick_temp/000114 TMBL-ROV 2000 Säckenrevet EJ numrerade band_1440.mp4: 608x736 Done. (0.036s)\n",
      "video 1/3 (179/261) /cephyr/NOBACKUP/groups/snic2021-6-9/KSO_Medins_pz/movies/quick_temp/000114 TMBL-ROV 2000 Säckenrevet EJ numrerade band_1440.mp4: 608x736 Done. (0.036s)\n",
      "video 1/3 (180/261) /cephyr/NOBACKUP/groups/snic2021-6-9/KSO_Medins_pz/movies/quick_temp/000114 TMBL-ROV 2000 Säckenrevet EJ numrerade band_1440.mp4: 608x736 Done. (0.036s)\n",
      "video 1/3 (181/261) /cephyr/NOBACKUP/groups/snic2021-6-9/KSO_Medins_pz/movies/quick_temp/000114 TMBL-ROV 2000 Säckenrevet EJ numrerade band_1440.mp4: 608x736 Done. (0.036s)\n",
      "video 1/3 (182/261) /cephyr/NOBACKUP/groups/snic2021-6-9/KSO_Medins_pz/movies/quick_temp/000114 TMBL-ROV 2000 Säckenrevet EJ numrerade band_1440.mp4: 608x736 Done. (0.036s)\n",
      "video 1/3 (183/261) /cephyr/NOBACKUP/groups/snic2021-6-9/KSO_Medins_pz/movies/quick_temp/000114 TMBL-ROV 2000 Säckenrevet EJ numrerade band_1440.mp4: 608x736 Done. (0.036s)\n",
      "video 1/3 (184/261) /cephyr/NOBACKUP/groups/snic2021-6-9/KSO_Medins_pz/movies/quick_temp/000114 TMBL-ROV 2000 Säckenrevet EJ numrerade band_1440.mp4: 608x736 Done. (0.036s)\n",
      "video 1/3 (185/261) /cephyr/NOBACKUP/groups/snic2021-6-9/KSO_Medins_pz/movies/quick_temp/000114 TMBL-ROV 2000 Säckenrevet EJ numrerade band_1440.mp4: 608x736 Done. (0.036s)\n",
      "video 1/3 (186/261) /cephyr/NOBACKUP/groups/snic2021-6-9/KSO_Medins_pz/movies/quick_temp/000114 TMBL-ROV 2000 Säckenrevet EJ numrerade band_1440.mp4: 608x736 Done. (0.036s)\n",
      "video 1/3 (187/261) /cephyr/NOBACKUP/groups/snic2021-6-9/KSO_Medins_pz/movies/quick_temp/000114 TMBL-ROV 2000 Säckenrevet EJ numrerade band_1440.mp4: 608x736 Done. (0.036s)\n",
      "video 1/3 (188/261) /cephyr/NOBACKUP/groups/snic2021-6-9/KSO_Medins_pz/movies/quick_temp/000114 TMBL-ROV 2000 Säckenrevet EJ numrerade band_1440.mp4: 608x736 Done. (0.036s)\n",
      "video 1/3 (189/261) /cephyr/NOBACKUP/groups/snic2021-6-9/KSO_Medins_pz/movies/quick_temp/000114 TMBL-ROV 2000 Säckenrevet EJ numrerade band_1440.mp4: 608x736 Done. (0.036s)\n",
      "video 1/3 (190/261) /cephyr/NOBACKUP/groups/snic2021-6-9/KSO_Medins_pz/movies/quick_temp/000114 TMBL-ROV 2000 Säckenrevet EJ numrerade band_1440.mp4: 608x736 Done. (0.036s)\n",
      "video 1/3 (191/261) /cephyr/NOBACKUP/groups/snic2021-6-9/KSO_Medins_pz/movies/quick_temp/000114 TMBL-ROV 2000 Säckenrevet EJ numrerade band_1440.mp4: 608x736 Done. (0.036s)\n",
      "video 1/3 (192/261) /cephyr/NOBACKUP/groups/snic2021-6-9/KSO_Medins_pz/movies/quick_temp/000114 TMBL-ROV 2000 Säckenrevet EJ numrerade band_1440.mp4: 608x736 Done. (0.036s)\n"
     ]
    },
    {
     "name": "stdout",
     "output_type": "stream",
     "text": [
      "video 1/3 (193/261) /cephyr/NOBACKUP/groups/snic2021-6-9/KSO_Medins_pz/movies/quick_temp/000114 TMBL-ROV 2000 Säckenrevet EJ numrerade band_1440.mp4: 608x736 Done. (0.036s)\n",
      "video 1/3 (194/261) /cephyr/NOBACKUP/groups/snic2021-6-9/KSO_Medins_pz/movies/quick_temp/000114 TMBL-ROV 2000 Säckenrevet EJ numrerade band_1440.mp4: 608x736 Done. (0.036s)\n",
      "video 1/3 (195/261) /cephyr/NOBACKUP/groups/snic2021-6-9/KSO_Medins_pz/movies/quick_temp/000114 TMBL-ROV 2000 Säckenrevet EJ numrerade band_1440.mp4: 608x736 Done. (0.036s)\n",
      "video 1/3 (196/261) /cephyr/NOBACKUP/groups/snic2021-6-9/KSO_Medins_pz/movies/quick_temp/000114 TMBL-ROV 2000 Säckenrevet EJ numrerade band_1440.mp4: 608x736 Done. (0.036s)\n",
      "video 1/3 (197/261) /cephyr/NOBACKUP/groups/snic2021-6-9/KSO_Medins_pz/movies/quick_temp/000114 TMBL-ROV 2000 Säckenrevet EJ numrerade band_1440.mp4: 608x736 Done. (0.036s)\n",
      "video 1/3 (198/261) /cephyr/NOBACKUP/groups/snic2021-6-9/KSO_Medins_pz/movies/quick_temp/000114 TMBL-ROV 2000 Säckenrevet EJ numrerade band_1440.mp4: 608x736 Done. (0.036s)\n",
      "video 1/3 (199/261) /cephyr/NOBACKUP/groups/snic2021-6-9/KSO_Medins_pz/movies/quick_temp/000114 TMBL-ROV 2000 Säckenrevet EJ numrerade band_1440.mp4: 608x736 Done. (0.036s)\n",
      "video 1/3 (200/261) /cephyr/NOBACKUP/groups/snic2021-6-9/KSO_Medins_pz/movies/quick_temp/000114 TMBL-ROV 2000 Säckenrevet EJ numrerade band_1440.mp4: 608x736 Done. (0.036s)\n",
      "video 1/3 (201/261) /cephyr/NOBACKUP/groups/snic2021-6-9/KSO_Medins_pz/movies/quick_temp/000114 TMBL-ROV 2000 Säckenrevet EJ numrerade band_1440.mp4: 608x736 Done. (0.036s)\n",
      "video 1/3 (202/261) /cephyr/NOBACKUP/groups/snic2021-6-9/KSO_Medins_pz/movies/quick_temp/000114 TMBL-ROV 2000 Säckenrevet EJ numrerade band_1440.mp4: 608x736 Done. (0.036s)\n",
      "video 1/3 (203/261) /cephyr/NOBACKUP/groups/snic2021-6-9/KSO_Medins_pz/movies/quick_temp/000114 TMBL-ROV 2000 Säckenrevet EJ numrerade band_1440.mp4: 608x736 Done. (0.036s)\n",
      "video 1/3 (204/261) /cephyr/NOBACKUP/groups/snic2021-6-9/KSO_Medins_pz/movies/quick_temp/000114 TMBL-ROV 2000 Säckenrevet EJ numrerade band_1440.mp4: 608x736 Done. (0.036s)\n",
      "video 1/3 (205/261) /cephyr/NOBACKUP/groups/snic2021-6-9/KSO_Medins_pz/movies/quick_temp/000114 TMBL-ROV 2000 Säckenrevet EJ numrerade band_1440.mp4: 608x736 Done. (0.036s)\n",
      "video 1/3 (206/261) /cephyr/NOBACKUP/groups/snic2021-6-9/KSO_Medins_pz/movies/quick_temp/000114 TMBL-ROV 2000 Säckenrevet EJ numrerade band_1440.mp4: 608x736 Done. (0.036s)\n",
      "video 1/3 (207/261) /cephyr/NOBACKUP/groups/snic2021-6-9/KSO_Medins_pz/movies/quick_temp/000114 TMBL-ROV 2000 Säckenrevet EJ numrerade band_1440.mp4: 608x736 Done. (0.036s)\n",
      "video 1/3 (208/261) /cephyr/NOBACKUP/groups/snic2021-6-9/KSO_Medins_pz/movies/quick_temp/000114 TMBL-ROV 2000 Säckenrevet EJ numrerade band_1440.mp4: 608x736 Done. (0.036s)\n",
      "video 1/3 (209/261) /cephyr/NOBACKUP/groups/snic2021-6-9/KSO_Medins_pz/movies/quick_temp/000114 TMBL-ROV 2000 Säckenrevet EJ numrerade band_1440.mp4: 608x736 Done. (0.036s)\n",
      "video 1/3 (210/261) /cephyr/NOBACKUP/groups/snic2021-6-9/KSO_Medins_pz/movies/quick_temp/000114 TMBL-ROV 2000 Säckenrevet EJ numrerade band_1440.mp4: 608x736 Done. (0.036s)\n",
      "video 1/3 (211/261) /cephyr/NOBACKUP/groups/snic2021-6-9/KSO_Medins_pz/movies/quick_temp/000114 TMBL-ROV 2000 Säckenrevet EJ numrerade band_1440.mp4: 608x736 Done. (0.036s)\n",
      "video 1/3 (212/261) /cephyr/NOBACKUP/groups/snic2021-6-9/KSO_Medins_pz/movies/quick_temp/000114 TMBL-ROV 2000 Säckenrevet EJ numrerade band_1440.mp4: 608x736 Done. (0.036s)\n",
      "video 1/3 (213/261) /cephyr/NOBACKUP/groups/snic2021-6-9/KSO_Medins_pz/movies/quick_temp/000114 TMBL-ROV 2000 Säckenrevet EJ numrerade band_1440.mp4: 608x736 Done. (0.036s)\n",
      "video 1/3 (214/261) /cephyr/NOBACKUP/groups/snic2021-6-9/KSO_Medins_pz/movies/quick_temp/000114 TMBL-ROV 2000 Säckenrevet EJ numrerade band_1440.mp4: 608x736 Done. (0.036s)\n",
      "video 1/3 (215/261) /cephyr/NOBACKUP/groups/snic2021-6-9/KSO_Medins_pz/movies/quick_temp/000114 TMBL-ROV 2000 Säckenrevet EJ numrerade band_1440.mp4: 608x736 Done. (0.036s)\n",
      "video 1/3 (216/261) /cephyr/NOBACKUP/groups/snic2021-6-9/KSO_Medins_pz/movies/quick_temp/000114 TMBL-ROV 2000 Säckenrevet EJ numrerade band_1440.mp4: 608x736 Done. (0.036s)\n",
      "video 1/3 (217/261) /cephyr/NOBACKUP/groups/snic2021-6-9/KSO_Medins_pz/movies/quick_temp/000114 TMBL-ROV 2000 Säckenrevet EJ numrerade band_1440.mp4: 608x736 Done. (0.036s)\n",
      "video 1/3 (218/261) /cephyr/NOBACKUP/groups/snic2021-6-9/KSO_Medins_pz/movies/quick_temp/000114 TMBL-ROV 2000 Säckenrevet EJ numrerade band_1440.mp4: 608x736 Done. (0.036s)\n",
      "video 1/3 (219/261) /cephyr/NOBACKUP/groups/snic2021-6-9/KSO_Medins_pz/movies/quick_temp/000114 TMBL-ROV 2000 Säckenrevet EJ numrerade band_1440.mp4: 608x736 Done. (0.036s)\n",
      "video 1/3 (220/261) /cephyr/NOBACKUP/groups/snic2021-6-9/KSO_Medins_pz/movies/quick_temp/000114 TMBL-ROV 2000 Säckenrevet EJ numrerade band_1440.mp4: 608x736 Done. (0.036s)\n",
      "video 1/3 (221/261) /cephyr/NOBACKUP/groups/snic2021-6-9/KSO_Medins_pz/movies/quick_temp/000114 TMBL-ROV 2000 Säckenrevet EJ numrerade band_1440.mp4: 608x736 Done. (0.036s)\n",
      "video 1/3 (222/261) /cephyr/NOBACKUP/groups/snic2021-6-9/KSO_Medins_pz/movies/quick_temp/000114 TMBL-ROV 2000 Säckenrevet EJ numrerade band_1440.mp4: 608x736 Done. (0.036s)\n",
      "video 1/3 (223/261) /cephyr/NOBACKUP/groups/snic2021-6-9/KSO_Medins_pz/movies/quick_temp/000114 TMBL-ROV 2000 Säckenrevet EJ numrerade band_1440.mp4: 608x736 Done. (0.036s)\n",
      "video 1/3 (224/261) /cephyr/NOBACKUP/groups/snic2021-6-9/KSO_Medins_pz/movies/quick_temp/000114 TMBL-ROV 2000 Säckenrevet EJ numrerade band_1440.mp4: 608x736 Done. (0.036s)\n",
      "video 1/3 (225/261) /cephyr/NOBACKUP/groups/snic2021-6-9/KSO_Medins_pz/movies/quick_temp/000114 TMBL-ROV 2000 Säckenrevet EJ numrerade band_1440.mp4: 608x736 Done. (0.036s)\n",
      "video 1/3 (226/261) /cephyr/NOBACKUP/groups/snic2021-6-9/KSO_Medins_pz/movies/quick_temp/000114 TMBL-ROV 2000 Säckenrevet EJ numrerade band_1440.mp4: 608x736 Done. (0.036s)\n",
      "video 1/3 (227/261) /cephyr/NOBACKUP/groups/snic2021-6-9/KSO_Medins_pz/movies/quick_temp/000114 TMBL-ROV 2000 Säckenrevet EJ numrerade band_1440.mp4: 608x736 Done. (0.037s)\n",
      "video 1/3 (228/261) /cephyr/NOBACKUP/groups/snic2021-6-9/KSO_Medins_pz/movies/quick_temp/000114 TMBL-ROV 2000 Säckenrevet EJ numrerade band_1440.mp4: 608x736 Done. (0.036s)\n",
      "video 1/3 (229/261) /cephyr/NOBACKUP/groups/snic2021-6-9/KSO_Medins_pz/movies/quick_temp/000114 TMBL-ROV 2000 Säckenrevet EJ numrerade band_1440.mp4: 608x736 Done. (0.036s)\n",
      "video 1/3 (230/261) /cephyr/NOBACKUP/groups/snic2021-6-9/KSO_Medins_pz/movies/quick_temp/000114 TMBL-ROV 2000 Säckenrevet EJ numrerade band_1440.mp4: 608x736 Done. (0.036s)\n",
      "video 1/3 (231/261) /cephyr/NOBACKUP/groups/snic2021-6-9/KSO_Medins_pz/movies/quick_temp/000114 TMBL-ROV 2000 Säckenrevet EJ numrerade band_1440.mp4: 608x736 Done. (0.036s)\n",
      "video 1/3 (232/261) /cephyr/NOBACKUP/groups/snic2021-6-9/KSO_Medins_pz/movies/quick_temp/000114 TMBL-ROV 2000 Säckenrevet EJ numrerade band_1440.mp4: 608x736 Done. (0.036s)\n",
      "video 1/3 (233/261) /cephyr/NOBACKUP/groups/snic2021-6-9/KSO_Medins_pz/movies/quick_temp/000114 TMBL-ROV 2000 Säckenrevet EJ numrerade band_1440.mp4: 608x736 Done. (0.037s)\n",
      "video 1/3 (234/261) /cephyr/NOBACKUP/groups/snic2021-6-9/KSO_Medins_pz/movies/quick_temp/000114 TMBL-ROV 2000 Säckenrevet EJ numrerade band_1440.mp4: 608x736 Done. (0.036s)\n",
      "video 1/3 (235/261) /cephyr/NOBACKUP/groups/snic2021-6-9/KSO_Medins_pz/movies/quick_temp/000114 TMBL-ROV 2000 Säckenrevet EJ numrerade band_1440.mp4: 608x736 Done. (0.036s)\n",
      "video 1/3 (236/261) /cephyr/NOBACKUP/groups/snic2021-6-9/KSO_Medins_pz/movies/quick_temp/000114 TMBL-ROV 2000 Säckenrevet EJ numrerade band_1440.mp4: 608x736 Done. (0.036s)\n",
      "video 1/3 (237/261) /cephyr/NOBACKUP/groups/snic2021-6-9/KSO_Medins_pz/movies/quick_temp/000114 TMBL-ROV 2000 Säckenrevet EJ numrerade band_1440.mp4: 608x736 Done. (0.036s)\n",
      "video 1/3 (238/261) /cephyr/NOBACKUP/groups/snic2021-6-9/KSO_Medins_pz/movies/quick_temp/000114 TMBL-ROV 2000 Säckenrevet EJ numrerade band_1440.mp4: 608x736 Done. (0.036s)\n",
      "video 1/3 (239/261) /cephyr/NOBACKUP/groups/snic2021-6-9/KSO_Medins_pz/movies/quick_temp/000114 TMBL-ROV 2000 Säckenrevet EJ numrerade band_1440.mp4: 608x736 Done. (0.036s)\n",
      "video 1/3 (240/261) /cephyr/NOBACKUP/groups/snic2021-6-9/KSO_Medins_pz/movies/quick_temp/000114 TMBL-ROV 2000 Säckenrevet EJ numrerade band_1440.mp4: 608x736 Done. (0.036s)\n"
     ]
    },
    {
     "name": "stdout",
     "output_type": "stream",
     "text": [
      "video 1/3 (241/261) /cephyr/NOBACKUP/groups/snic2021-6-9/KSO_Medins_pz/movies/quick_temp/000114 TMBL-ROV 2000 Säckenrevet EJ numrerade band_1440.mp4: 608x736 Done. (0.036s)\n",
      "video 1/3 (242/261) /cephyr/NOBACKUP/groups/snic2021-6-9/KSO_Medins_pz/movies/quick_temp/000114 TMBL-ROV 2000 Säckenrevet EJ numrerade band_1440.mp4: 608x736 Done. (0.036s)\n",
      "video 1/3 (243/261) /cephyr/NOBACKUP/groups/snic2021-6-9/KSO_Medins_pz/movies/quick_temp/000114 TMBL-ROV 2000 Säckenrevet EJ numrerade band_1440.mp4: 608x736 Done. (0.036s)\n",
      "video 1/3 (244/261) /cephyr/NOBACKUP/groups/snic2021-6-9/KSO_Medins_pz/movies/quick_temp/000114 TMBL-ROV 2000 Säckenrevet EJ numrerade band_1440.mp4: 608x736 Done. (0.036s)\n",
      "video 1/3 (245/261) /cephyr/NOBACKUP/groups/snic2021-6-9/KSO_Medins_pz/movies/quick_temp/000114 TMBL-ROV 2000 Säckenrevet EJ numrerade band_1440.mp4: 608x736 Done. (0.036s)\n",
      "video 1/3 (246/261) /cephyr/NOBACKUP/groups/snic2021-6-9/KSO_Medins_pz/movies/quick_temp/000114 TMBL-ROV 2000 Säckenrevet EJ numrerade band_1440.mp4: 608x736 Done. (0.036s)\n",
      "video 1/3 (247/261) /cephyr/NOBACKUP/groups/snic2021-6-9/KSO_Medins_pz/movies/quick_temp/000114 TMBL-ROV 2000 Säckenrevet EJ numrerade band_1440.mp4: 608x736 Done. (0.036s)\n",
      "video 1/3 (248/261) /cephyr/NOBACKUP/groups/snic2021-6-9/KSO_Medins_pz/movies/quick_temp/000114 TMBL-ROV 2000 Säckenrevet EJ numrerade band_1440.mp4: 608x736 Done. (0.036s)\n",
      "video 1/3 (249/261) /cephyr/NOBACKUP/groups/snic2021-6-9/KSO_Medins_pz/movies/quick_temp/000114 TMBL-ROV 2000 Säckenrevet EJ numrerade band_1440.mp4: 608x736 Done. (0.036s)\n",
      "video 1/3 (250/261) /cephyr/NOBACKUP/groups/snic2021-6-9/KSO_Medins_pz/movies/quick_temp/000114 TMBL-ROV 2000 Säckenrevet EJ numrerade band_1440.mp4: 608x736 Done. (0.036s)\n",
      "video 1/3 (251/261) /cephyr/NOBACKUP/groups/snic2021-6-9/KSO_Medins_pz/movies/quick_temp/000114 TMBL-ROV 2000 Säckenrevet EJ numrerade band_1440.mp4: 608x736 Done. (0.036s)\n",
      "video 2/3 (1/252) /cephyr/NOBACKUP/groups/snic2021-6-9/KSO_Medins_pz/movies/quick_temp/000114 TMBL-ROV 2000 Säckenrevet EJ numrerade band_900.mp4: 608x736 Done. (0.036s)\n",
      "video 2/3 (2/252) /cephyr/NOBACKUP/groups/snic2021-6-9/KSO_Medins_pz/movies/quick_temp/000114 TMBL-ROV 2000 Säckenrevet EJ numrerade band_900.mp4: 608x736 Done. (0.036s)\n",
      "video 2/3 (3/252) /cephyr/NOBACKUP/groups/snic2021-6-9/KSO_Medins_pz/movies/quick_temp/000114 TMBL-ROV 2000 Säckenrevet EJ numrerade band_900.mp4: 608x736 Done. (0.036s)\n",
      "video 2/3 (4/252) /cephyr/NOBACKUP/groups/snic2021-6-9/KSO_Medins_pz/movies/quick_temp/000114 TMBL-ROV 2000 Säckenrevet EJ numrerade band_900.mp4: 608x736 Done. (0.036s)\n",
      "video 2/3 (5/252) /cephyr/NOBACKUP/groups/snic2021-6-9/KSO_Medins_pz/movies/quick_temp/000114 TMBL-ROV 2000 Säckenrevet EJ numrerade band_900.mp4: 608x736 Done. (0.033s)\n",
      "video 2/3 (6/252) /cephyr/NOBACKUP/groups/snic2021-6-9/KSO_Medins_pz/movies/quick_temp/000114 TMBL-ROV 2000 Säckenrevet EJ numrerade band_900.mp4: 608x736 Done. (0.024s)\n",
      "video 2/3 (7/252) /cephyr/NOBACKUP/groups/snic2021-6-9/KSO_Medins_pz/movies/quick_temp/000114 TMBL-ROV 2000 Säckenrevet EJ numrerade band_900.mp4: 608x736 Done. (0.024s)\n",
      "video 2/3 (8/252) /cephyr/NOBACKUP/groups/snic2021-6-9/KSO_Medins_pz/movies/quick_temp/000114 TMBL-ROV 2000 Säckenrevet EJ numrerade band_900.mp4: 608x736 Done. (0.024s)\n",
      "video 2/3 (9/252) /cephyr/NOBACKUP/groups/snic2021-6-9/KSO_Medins_pz/movies/quick_temp/000114 TMBL-ROV 2000 Säckenrevet EJ numrerade band_900.mp4: 608x736 Done. (0.024s)\n",
      "video 2/3 (10/252) /cephyr/NOBACKUP/groups/snic2021-6-9/KSO_Medins_pz/movies/quick_temp/000114 TMBL-ROV 2000 Säckenrevet EJ numrerade band_900.mp4: 608x736 Done. (0.023s)\n",
      "video 2/3 (11/252) /cephyr/NOBACKUP/groups/snic2021-6-9/KSO_Medins_pz/movies/quick_temp/000114 TMBL-ROV 2000 Säckenrevet EJ numrerade band_900.mp4: 608x736 Done. (0.023s)\n",
      "video 2/3 (12/252) /cephyr/NOBACKUP/groups/snic2021-6-9/KSO_Medins_pz/movies/quick_temp/000114 TMBL-ROV 2000 Säckenrevet EJ numrerade band_900.mp4: 608x736 Done. (0.023s)\n",
      "video 2/3 (13/252) /cephyr/NOBACKUP/groups/snic2021-6-9/KSO_Medins_pz/movies/quick_temp/000114 TMBL-ROV 2000 Säckenrevet EJ numrerade band_900.mp4: 608x736 Done. (0.018s)\n",
      "video 2/3 (14/252) /cephyr/NOBACKUP/groups/snic2021-6-9/KSO_Medins_pz/movies/quick_temp/000114 TMBL-ROV 2000 Säckenrevet EJ numrerade band_900.mp4: 608x736 Done. (0.018s)\n",
      "video 2/3 (15/252) /cephyr/NOBACKUP/groups/snic2021-6-9/KSO_Medins_pz/movies/quick_temp/000114 TMBL-ROV 2000 Säckenrevet EJ numrerade band_900.mp4: 608x736 Done. (0.017s)\n",
      "video 2/3 (16/252) /cephyr/NOBACKUP/groups/snic2021-6-9/KSO_Medins_pz/movies/quick_temp/000114 TMBL-ROV 2000 Säckenrevet EJ numrerade band_900.mp4: 608x736 Done. (0.017s)\n",
      "video 2/3 (17/252) /cephyr/NOBACKUP/groups/snic2021-6-9/KSO_Medins_pz/movies/quick_temp/000114 TMBL-ROV 2000 Säckenrevet EJ numrerade band_900.mp4: 608x736 Done. (0.017s)\n",
      "video 2/3 (18/252) /cephyr/NOBACKUP/groups/snic2021-6-9/KSO_Medins_pz/movies/quick_temp/000114 TMBL-ROV 2000 Säckenrevet EJ numrerade band_900.mp4: 608x736 Done. (0.017s)\n",
      "video 2/3 (19/252) /cephyr/NOBACKUP/groups/snic2021-6-9/KSO_Medins_pz/movies/quick_temp/000114 TMBL-ROV 2000 Säckenrevet EJ numrerade band_900.mp4: 608x736 Done. (0.017s)\n",
      "video 2/3 (20/252) /cephyr/NOBACKUP/groups/snic2021-6-9/KSO_Medins_pz/movies/quick_temp/000114 TMBL-ROV 2000 Säckenrevet EJ numrerade band_900.mp4: 608x736 Done. (0.018s)\n",
      "video 2/3 (21/252) /cephyr/NOBACKUP/groups/snic2021-6-9/KSO_Medins_pz/movies/quick_temp/000114 TMBL-ROV 2000 Säckenrevet EJ numrerade band_900.mp4: 608x736 Done. (0.019s)\n",
      "video 2/3 (22/252) /cephyr/NOBACKUP/groups/snic2021-6-9/KSO_Medins_pz/movies/quick_temp/000114 TMBL-ROV 2000 Säckenrevet EJ numrerade band_900.mp4: 608x736 Done. (0.019s)\n",
      "video 2/3 (23/252) /cephyr/NOBACKUP/groups/snic2021-6-9/KSO_Medins_pz/movies/quick_temp/000114 TMBL-ROV 2000 Säckenrevet EJ numrerade band_900.mp4: 608x736 Done. (0.019s)\n",
      "video 2/3 (24/252) /cephyr/NOBACKUP/groups/snic2021-6-9/KSO_Medins_pz/movies/quick_temp/000114 TMBL-ROV 2000 Säckenrevet EJ numrerade band_900.mp4: 608x736 Done. (0.018s)\n",
      "video 2/3 (25/252) /cephyr/NOBACKUP/groups/snic2021-6-9/KSO_Medins_pz/movies/quick_temp/000114 TMBL-ROV 2000 Säckenrevet EJ numrerade band_900.mp4: 608x736 Done. (0.018s)\n",
      "video 2/3 (26/252) /cephyr/NOBACKUP/groups/snic2021-6-9/KSO_Medins_pz/movies/quick_temp/000114 TMBL-ROV 2000 Säckenrevet EJ numrerade band_900.mp4: 608x736 Done. (0.016s)\n",
      "video 2/3 (27/252) /cephyr/NOBACKUP/groups/snic2021-6-9/KSO_Medins_pz/movies/quick_temp/000114 TMBL-ROV 2000 Säckenrevet EJ numrerade band_900.mp4: 608x736 Done. (0.016s)\n",
      "video 2/3 (28/252) /cephyr/NOBACKUP/groups/snic2021-6-9/KSO_Medins_pz/movies/quick_temp/000114 TMBL-ROV 2000 Säckenrevet EJ numrerade band_900.mp4: 608x736 Done. (0.016s)\n",
      "video 2/3 (29/252) /cephyr/NOBACKUP/groups/snic2021-6-9/KSO_Medins_pz/movies/quick_temp/000114 TMBL-ROV 2000 Säckenrevet EJ numrerade band_900.mp4: 608x736 Done. (0.016s)\n",
      "video 2/3 (30/252) /cephyr/NOBACKUP/groups/snic2021-6-9/KSO_Medins_pz/movies/quick_temp/000114 TMBL-ROV 2000 Säckenrevet EJ numrerade band_900.mp4: 608x736 Done. (0.016s)\n",
      "video 2/3 (31/252) /cephyr/NOBACKUP/groups/snic2021-6-9/KSO_Medins_pz/movies/quick_temp/000114 TMBL-ROV 2000 Säckenrevet EJ numrerade band_900.mp4: 608x736 Done. (0.016s)\n",
      "video 2/3 (32/252) /cephyr/NOBACKUP/groups/snic2021-6-9/KSO_Medins_pz/movies/quick_temp/000114 TMBL-ROV 2000 Säckenrevet EJ numrerade band_900.mp4: 608x736 Done. (0.016s)\n",
      "video 2/3 (33/252) /cephyr/NOBACKUP/groups/snic2021-6-9/KSO_Medins_pz/movies/quick_temp/000114 TMBL-ROV 2000 Säckenrevet EJ numrerade band_900.mp4: 608x736 Done. (0.016s)\n",
      "video 2/3 (34/252) /cephyr/NOBACKUP/groups/snic2021-6-9/KSO_Medins_pz/movies/quick_temp/000114 TMBL-ROV 2000 Säckenrevet EJ numrerade band_900.mp4: 608x736 Done. (0.024s)\n",
      "video 2/3 (35/252) /cephyr/NOBACKUP/groups/snic2021-6-9/KSO_Medins_pz/movies/quick_temp/000114 TMBL-ROV 2000 Säckenrevet EJ numrerade band_900.mp4: 608x736 Done. (0.027s)\n",
      "video 2/3 (36/252) /cephyr/NOBACKUP/groups/snic2021-6-9/KSO_Medins_pz/movies/quick_temp/000114 TMBL-ROV 2000 Säckenrevet EJ numrerade band_900.mp4: 608x736 Done. (0.028s)\n",
      "video 2/3 (37/252) /cephyr/NOBACKUP/groups/snic2021-6-9/KSO_Medins_pz/movies/quick_temp/000114 TMBL-ROV 2000 Säckenrevet EJ numrerade band_900.mp4: 608x736 Done. (0.030s)\n"
     ]
    },
    {
     "name": "stdout",
     "output_type": "stream",
     "text": [
      "video 2/3 (38/252) /cephyr/NOBACKUP/groups/snic2021-6-9/KSO_Medins_pz/movies/quick_temp/000114 TMBL-ROV 2000 Säckenrevet EJ numrerade band_900.mp4: 608x736 Done. (0.034s)\n",
      "video 2/3 (39/252) /cephyr/NOBACKUP/groups/snic2021-6-9/KSO_Medins_pz/movies/quick_temp/000114 TMBL-ROV 2000 Säckenrevet EJ numrerade band_900.mp4: 608x736 Done. (0.035s)\n",
      "video 2/3 (40/252) /cephyr/NOBACKUP/groups/snic2021-6-9/KSO_Medins_pz/movies/quick_temp/000114 TMBL-ROV 2000 Säckenrevet EJ numrerade band_900.mp4: 608x736 Done. (0.036s)\n",
      "video 2/3 (41/252) /cephyr/NOBACKUP/groups/snic2021-6-9/KSO_Medins_pz/movies/quick_temp/000114 TMBL-ROV 2000 Säckenrevet EJ numrerade band_900.mp4: 608x736 Done. (0.036s)\n",
      "video 2/3 (42/252) /cephyr/NOBACKUP/groups/snic2021-6-9/KSO_Medins_pz/movies/quick_temp/000114 TMBL-ROV 2000 Säckenrevet EJ numrerade band_900.mp4: 608x736 Done. (0.036s)\n",
      "video 2/3 (43/252) /cephyr/NOBACKUP/groups/snic2021-6-9/KSO_Medins_pz/movies/quick_temp/000114 TMBL-ROV 2000 Säckenrevet EJ numrerade band_900.mp4: 608x736 Done. (0.036s)\n",
      "video 2/3 (44/252) /cephyr/NOBACKUP/groups/snic2021-6-9/KSO_Medins_pz/movies/quick_temp/000114 TMBL-ROV 2000 Säckenrevet EJ numrerade band_900.mp4: 608x736 Done. (0.036s)\n",
      "video 2/3 (45/252) /cephyr/NOBACKUP/groups/snic2021-6-9/KSO_Medins_pz/movies/quick_temp/000114 TMBL-ROV 2000 Säckenrevet EJ numrerade band_900.mp4: 608x736 Done. (0.036s)\n",
      "video 2/3 (46/252) /cephyr/NOBACKUP/groups/snic2021-6-9/KSO_Medins_pz/movies/quick_temp/000114 TMBL-ROV 2000 Säckenrevet EJ numrerade band_900.mp4: 608x736 Done. (0.036s)\n",
      "video 2/3 (47/252) /cephyr/NOBACKUP/groups/snic2021-6-9/KSO_Medins_pz/movies/quick_temp/000114 TMBL-ROV 2000 Säckenrevet EJ numrerade band_900.mp4: 608x736 Done. (0.036s)\n",
      "video 2/3 (48/252) /cephyr/NOBACKUP/groups/snic2021-6-9/KSO_Medins_pz/movies/quick_temp/000114 TMBL-ROV 2000 Säckenrevet EJ numrerade band_900.mp4: 608x736 Done. (0.036s)\n",
      "video 2/3 (49/252) /cephyr/NOBACKUP/groups/snic2021-6-9/KSO_Medins_pz/movies/quick_temp/000114 TMBL-ROV 2000 Säckenrevet EJ numrerade band_900.mp4: 608x736 Done. (0.036s)\n",
      "video 2/3 (50/252) /cephyr/NOBACKUP/groups/snic2021-6-9/KSO_Medins_pz/movies/quick_temp/000114 TMBL-ROV 2000 Säckenrevet EJ numrerade band_900.mp4: 608x736 Done. (0.036s)\n",
      "video 2/3 (51/252) /cephyr/NOBACKUP/groups/snic2021-6-9/KSO_Medins_pz/movies/quick_temp/000114 TMBL-ROV 2000 Säckenrevet EJ numrerade band_900.mp4: 608x736 Done. (0.036s)\n",
      "video 2/3 (52/252) /cephyr/NOBACKUP/groups/snic2021-6-9/KSO_Medins_pz/movies/quick_temp/000114 TMBL-ROV 2000 Säckenrevet EJ numrerade band_900.mp4: 608x736 Done. (0.026s)\n",
      "video 2/3 (53/252) /cephyr/NOBACKUP/groups/snic2021-6-9/KSO_Medins_pz/movies/quick_temp/000114 TMBL-ROV 2000 Säckenrevet EJ numrerade band_900.mp4: 608x736 Done. (0.031s)\n",
      "video 2/3 (54/252) /cephyr/NOBACKUP/groups/snic2021-6-9/KSO_Medins_pz/movies/quick_temp/000114 TMBL-ROV 2000 Säckenrevet EJ numrerade band_900.mp4: 608x736 Done. (0.035s)\n",
      "video 2/3 (55/252) /cephyr/NOBACKUP/groups/snic2021-6-9/KSO_Medins_pz/movies/quick_temp/000114 TMBL-ROV 2000 Säckenrevet EJ numrerade band_900.mp4: 608x736 Done. (0.036s)\n",
      "video 2/3 (56/252) /cephyr/NOBACKUP/groups/snic2021-6-9/KSO_Medins_pz/movies/quick_temp/000114 TMBL-ROV 2000 Säckenrevet EJ numrerade band_900.mp4: 608x736 Done. (0.036s)\n",
      "video 2/3 (57/252) /cephyr/NOBACKUP/groups/snic2021-6-9/KSO_Medins_pz/movies/quick_temp/000114 TMBL-ROV 2000 Säckenrevet EJ numrerade band_900.mp4: 608x736 Done. (0.036s)\n",
      "video 2/3 (58/252) /cephyr/NOBACKUP/groups/snic2021-6-9/KSO_Medins_pz/movies/quick_temp/000114 TMBL-ROV 2000 Säckenrevet EJ numrerade band_900.mp4: 608x736 Done. (0.036s)\n",
      "video 2/3 (59/252) /cephyr/NOBACKUP/groups/snic2021-6-9/KSO_Medins_pz/movies/quick_temp/000114 TMBL-ROV 2000 Säckenrevet EJ numrerade band_900.mp4: 608x736 Done. (0.036s)\n",
      "video 2/3 (60/252) /cephyr/NOBACKUP/groups/snic2021-6-9/KSO_Medins_pz/movies/quick_temp/000114 TMBL-ROV 2000 Säckenrevet EJ numrerade band_900.mp4: 608x736 Done. (0.036s)\n",
      "video 2/3 (61/252) /cephyr/NOBACKUP/groups/snic2021-6-9/KSO_Medins_pz/movies/quick_temp/000114 TMBL-ROV 2000 Säckenrevet EJ numrerade band_900.mp4: 608x736 Done. (0.036s)\n",
      "video 2/3 (62/252) /cephyr/NOBACKUP/groups/snic2021-6-9/KSO_Medins_pz/movies/quick_temp/000114 TMBL-ROV 2000 Säckenrevet EJ numrerade band_900.mp4: 608x736 Done. (0.036s)\n",
      "video 2/3 (63/252) /cephyr/NOBACKUP/groups/snic2021-6-9/KSO_Medins_pz/movies/quick_temp/000114 TMBL-ROV 2000 Säckenrevet EJ numrerade band_900.mp4: 608x736 Done. (0.036s)\n",
      "video 2/3 (64/252) /cephyr/NOBACKUP/groups/snic2021-6-9/KSO_Medins_pz/movies/quick_temp/000114 TMBL-ROV 2000 Säckenrevet EJ numrerade band_900.mp4: 608x736 Done. (0.036s)\n",
      "video 2/3 (65/252) /cephyr/NOBACKUP/groups/snic2021-6-9/KSO_Medins_pz/movies/quick_temp/000114 TMBL-ROV 2000 Säckenrevet EJ numrerade band_900.mp4: 608x736 Done. (0.036s)\n",
      "video 2/3 (66/252) /cephyr/NOBACKUP/groups/snic2021-6-9/KSO_Medins_pz/movies/quick_temp/000114 TMBL-ROV 2000 Säckenrevet EJ numrerade band_900.mp4: 608x736 Done. (0.036s)\n",
      "video 2/3 (67/252) /cephyr/NOBACKUP/groups/snic2021-6-9/KSO_Medins_pz/movies/quick_temp/000114 TMBL-ROV 2000 Säckenrevet EJ numrerade band_900.mp4: 608x736 Done. (0.036s)\n",
      "video 2/3 (68/252) /cephyr/NOBACKUP/groups/snic2021-6-9/KSO_Medins_pz/movies/quick_temp/000114 TMBL-ROV 2000 Säckenrevet EJ numrerade band_900.mp4: 608x736 Done. (0.036s)\n",
      "video 2/3 (69/252) /cephyr/NOBACKUP/groups/snic2021-6-9/KSO_Medins_pz/movies/quick_temp/000114 TMBL-ROV 2000 Säckenrevet EJ numrerade band_900.mp4: 608x736 Done. (0.036s)\n",
      "video 2/3 (70/252) /cephyr/NOBACKUP/groups/snic2021-6-9/KSO_Medins_pz/movies/quick_temp/000114 TMBL-ROV 2000 Säckenrevet EJ numrerade band_900.mp4: 608x736 Done. (0.036s)\n",
      "video 2/3 (71/252) /cephyr/NOBACKUP/groups/snic2021-6-9/KSO_Medins_pz/movies/quick_temp/000114 TMBL-ROV 2000 Säckenrevet EJ numrerade band_900.mp4: 608x736 Done. (0.036s)\n",
      "video 2/3 (72/252) /cephyr/NOBACKUP/groups/snic2021-6-9/KSO_Medins_pz/movies/quick_temp/000114 TMBL-ROV 2000 Säckenrevet EJ numrerade band_900.mp4: 608x736 Done. (0.036s)\n",
      "video 2/3 (73/252) /cephyr/NOBACKUP/groups/snic2021-6-9/KSO_Medins_pz/movies/quick_temp/000114 TMBL-ROV 2000 Säckenrevet EJ numrerade band_900.mp4: 608x736 Done. (0.036s)\n",
      "video 2/3 (74/252) /cephyr/NOBACKUP/groups/snic2021-6-9/KSO_Medins_pz/movies/quick_temp/000114 TMBL-ROV 2000 Säckenrevet EJ numrerade band_900.mp4: 608x736 Done. (0.036s)\n",
      "video 2/3 (75/252) /cephyr/NOBACKUP/groups/snic2021-6-9/KSO_Medins_pz/movies/quick_temp/000114 TMBL-ROV 2000 Säckenrevet EJ numrerade band_900.mp4: 608x736 Done. (0.036s)\n",
      "video 2/3 (76/252) /cephyr/NOBACKUP/groups/snic2021-6-9/KSO_Medins_pz/movies/quick_temp/000114 TMBL-ROV 2000 Säckenrevet EJ numrerade band_900.mp4: 608x736 Done. (0.036s)\n",
      "video 2/3 (77/252) /cephyr/NOBACKUP/groups/snic2021-6-9/KSO_Medins_pz/movies/quick_temp/000114 TMBL-ROV 2000 Säckenrevet EJ numrerade band_900.mp4: 608x736 Done. (0.036s)\n",
      "video 2/3 (78/252) /cephyr/NOBACKUP/groups/snic2021-6-9/KSO_Medins_pz/movies/quick_temp/000114 TMBL-ROV 2000 Säckenrevet EJ numrerade band_900.mp4: 608x736 Done. (0.036s)\n",
      "video 2/3 (79/252) /cephyr/NOBACKUP/groups/snic2021-6-9/KSO_Medins_pz/movies/quick_temp/000114 TMBL-ROV 2000 Säckenrevet EJ numrerade band_900.mp4: 608x736 Done. (0.036s)\n",
      "video 2/3 (80/252) /cephyr/NOBACKUP/groups/snic2021-6-9/KSO_Medins_pz/movies/quick_temp/000114 TMBL-ROV 2000 Säckenrevet EJ numrerade band_900.mp4: 608x736 Done. (0.036s)\n",
      "video 2/3 (81/252) /cephyr/NOBACKUP/groups/snic2021-6-9/KSO_Medins_pz/movies/quick_temp/000114 TMBL-ROV 2000 Säckenrevet EJ numrerade band_900.mp4: 608x736 Done. (0.036s)\n",
      "video 2/3 (82/252) /cephyr/NOBACKUP/groups/snic2021-6-9/KSO_Medins_pz/movies/quick_temp/000114 TMBL-ROV 2000 Säckenrevet EJ numrerade band_900.mp4: 608x736 Done. (0.036s)\n",
      "video 2/3 (83/252) /cephyr/NOBACKUP/groups/snic2021-6-9/KSO_Medins_pz/movies/quick_temp/000114 TMBL-ROV 2000 Säckenrevet EJ numrerade band_900.mp4: 608x736 Done. (0.036s)\n",
      "video 2/3 (84/252) /cephyr/NOBACKUP/groups/snic2021-6-9/KSO_Medins_pz/movies/quick_temp/000114 TMBL-ROV 2000 Säckenrevet EJ numrerade band_900.mp4: 608x736 Done. (0.036s)\n",
      "video 2/3 (85/252) /cephyr/NOBACKUP/groups/snic2021-6-9/KSO_Medins_pz/movies/quick_temp/000114 TMBL-ROV 2000 Säckenrevet EJ numrerade band_900.mp4: 608x736 Done. (0.036s)\n"
     ]
    },
    {
     "name": "stdout",
     "output_type": "stream",
     "text": [
      "video 2/3 (86/252) /cephyr/NOBACKUP/groups/snic2021-6-9/KSO_Medins_pz/movies/quick_temp/000114 TMBL-ROV 2000 Säckenrevet EJ numrerade band_900.mp4: 608x736 Done. (0.036s)\n",
      "video 2/3 (87/252) /cephyr/NOBACKUP/groups/snic2021-6-9/KSO_Medins_pz/movies/quick_temp/000114 TMBL-ROV 2000 Säckenrevet EJ numrerade band_900.mp4: 608x736 Done. (0.036s)\n",
      "video 2/3 (88/252) /cephyr/NOBACKUP/groups/snic2021-6-9/KSO_Medins_pz/movies/quick_temp/000114 TMBL-ROV 2000 Säckenrevet EJ numrerade band_900.mp4: 608x736 Done. (0.036s)\n",
      "video 2/3 (89/252) /cephyr/NOBACKUP/groups/snic2021-6-9/KSO_Medins_pz/movies/quick_temp/000114 TMBL-ROV 2000 Säckenrevet EJ numrerade band_900.mp4: 608x736 Done. (0.036s)\n",
      "video 2/3 (90/252) /cephyr/NOBACKUP/groups/snic2021-6-9/KSO_Medins_pz/movies/quick_temp/000114 TMBL-ROV 2000 Säckenrevet EJ numrerade band_900.mp4: 608x736 Done. (0.036s)\n",
      "video 2/3 (91/252) /cephyr/NOBACKUP/groups/snic2021-6-9/KSO_Medins_pz/movies/quick_temp/000114 TMBL-ROV 2000 Säckenrevet EJ numrerade band_900.mp4: 608x736 Done. (0.036s)\n",
      "video 2/3 (92/252) /cephyr/NOBACKUP/groups/snic2021-6-9/KSO_Medins_pz/movies/quick_temp/000114 TMBL-ROV 2000 Säckenrevet EJ numrerade band_900.mp4: 608x736 Done. (0.036s)\n",
      "video 2/3 (93/252) /cephyr/NOBACKUP/groups/snic2021-6-9/KSO_Medins_pz/movies/quick_temp/000114 TMBL-ROV 2000 Säckenrevet EJ numrerade band_900.mp4: 608x736 Done. (0.036s)\n",
      "video 2/3 (94/252) /cephyr/NOBACKUP/groups/snic2021-6-9/KSO_Medins_pz/movies/quick_temp/000114 TMBL-ROV 2000 Säckenrevet EJ numrerade band_900.mp4: 608x736 Done. (0.036s)\n",
      "video 2/3 (95/252) /cephyr/NOBACKUP/groups/snic2021-6-9/KSO_Medins_pz/movies/quick_temp/000114 TMBL-ROV 2000 Säckenrevet EJ numrerade band_900.mp4: 608x736 Done. (0.036s)\n",
      "video 2/3 (96/252) /cephyr/NOBACKUP/groups/snic2021-6-9/KSO_Medins_pz/movies/quick_temp/000114 TMBL-ROV 2000 Säckenrevet EJ numrerade band_900.mp4: 608x736 Done. (0.036s)\n",
      "video 2/3 (97/252) /cephyr/NOBACKUP/groups/snic2021-6-9/KSO_Medins_pz/movies/quick_temp/000114 TMBL-ROV 2000 Säckenrevet EJ numrerade band_900.mp4: 608x736 Done. (0.036s)\n",
      "video 2/3 (98/252) /cephyr/NOBACKUP/groups/snic2021-6-9/KSO_Medins_pz/movies/quick_temp/000114 TMBL-ROV 2000 Säckenrevet EJ numrerade band_900.mp4: 608x736 Done. (0.036s)\n",
      "video 2/3 (99/252) /cephyr/NOBACKUP/groups/snic2021-6-9/KSO_Medins_pz/movies/quick_temp/000114 TMBL-ROV 2000 Säckenrevet EJ numrerade band_900.mp4: 608x736 Done. (0.036s)\n",
      "video 2/3 (100/252) /cephyr/NOBACKUP/groups/snic2021-6-9/KSO_Medins_pz/movies/quick_temp/000114 TMBL-ROV 2000 Säckenrevet EJ numrerade band_900.mp4: 608x736 Done. (0.036s)\n",
      "video 2/3 (101/252) /cephyr/NOBACKUP/groups/snic2021-6-9/KSO_Medins_pz/movies/quick_temp/000114 TMBL-ROV 2000 Säckenrevet EJ numrerade band_900.mp4: 608x736 Done. (0.036s)\n",
      "video 2/3 (102/252) /cephyr/NOBACKUP/groups/snic2021-6-9/KSO_Medins_pz/movies/quick_temp/000114 TMBL-ROV 2000 Säckenrevet EJ numrerade band_900.mp4: 608x736 Done. (0.036s)\n",
      "video 2/3 (103/252) /cephyr/NOBACKUP/groups/snic2021-6-9/KSO_Medins_pz/movies/quick_temp/000114 TMBL-ROV 2000 Säckenrevet EJ numrerade band_900.mp4: 608x736 Done. (0.036s)\n",
      "video 2/3 (104/252) /cephyr/NOBACKUP/groups/snic2021-6-9/KSO_Medins_pz/movies/quick_temp/000114 TMBL-ROV 2000 Säckenrevet EJ numrerade band_900.mp4: 608x736 Done. (0.036s)\n",
      "video 2/3 (105/252) /cephyr/NOBACKUP/groups/snic2021-6-9/KSO_Medins_pz/movies/quick_temp/000114 TMBL-ROV 2000 Säckenrevet EJ numrerade band_900.mp4: 608x736 Done. (0.036s)\n",
      "video 2/3 (106/252) /cephyr/NOBACKUP/groups/snic2021-6-9/KSO_Medins_pz/movies/quick_temp/000114 TMBL-ROV 2000 Säckenrevet EJ numrerade band_900.mp4: 608x736 Done. (0.036s)\n",
      "video 2/3 (107/252) /cephyr/NOBACKUP/groups/snic2021-6-9/KSO_Medins_pz/movies/quick_temp/000114 TMBL-ROV 2000 Säckenrevet EJ numrerade band_900.mp4: 608x736 Done. (0.036s)\n",
      "video 2/3 (108/252) /cephyr/NOBACKUP/groups/snic2021-6-9/KSO_Medins_pz/movies/quick_temp/000114 TMBL-ROV 2000 Säckenrevet EJ numrerade band_900.mp4: 608x736 Done. (0.036s)\n",
      "video 2/3 (109/252) /cephyr/NOBACKUP/groups/snic2021-6-9/KSO_Medins_pz/movies/quick_temp/000114 TMBL-ROV 2000 Säckenrevet EJ numrerade band_900.mp4: 608x736 Done. (0.036s)\n",
      "video 2/3 (110/252) /cephyr/NOBACKUP/groups/snic2021-6-9/KSO_Medins_pz/movies/quick_temp/000114 TMBL-ROV 2000 Säckenrevet EJ numrerade band_900.mp4: 608x736 Done. (0.036s)\n",
      "video 2/3 (111/252) /cephyr/NOBACKUP/groups/snic2021-6-9/KSO_Medins_pz/movies/quick_temp/000114 TMBL-ROV 2000 Säckenrevet EJ numrerade band_900.mp4: 608x736 Done. (0.036s)\n",
      "video 2/3 (112/252) /cephyr/NOBACKUP/groups/snic2021-6-9/KSO_Medins_pz/movies/quick_temp/000114 TMBL-ROV 2000 Säckenrevet EJ numrerade band_900.mp4: 608x736 Done. (0.036s)\n",
      "video 2/3 (113/252) /cephyr/NOBACKUP/groups/snic2021-6-9/KSO_Medins_pz/movies/quick_temp/000114 TMBL-ROV 2000 Säckenrevet EJ numrerade band_900.mp4: 608x736 Done. (0.036s)\n",
      "video 2/3 (114/252) /cephyr/NOBACKUP/groups/snic2021-6-9/KSO_Medins_pz/movies/quick_temp/000114 TMBL-ROV 2000 Säckenrevet EJ numrerade band_900.mp4: 608x736 Done. (0.036s)\n",
      "video 2/3 (115/252) /cephyr/NOBACKUP/groups/snic2021-6-9/KSO_Medins_pz/movies/quick_temp/000114 TMBL-ROV 2000 Säckenrevet EJ numrerade band_900.mp4: 608x736 Done. (0.036s)\n",
      "video 2/3 (116/252) /cephyr/NOBACKUP/groups/snic2021-6-9/KSO_Medins_pz/movies/quick_temp/000114 TMBL-ROV 2000 Säckenrevet EJ numrerade band_900.mp4: 608x736 Done. (0.036s)\n",
      "video 2/3 (117/252) /cephyr/NOBACKUP/groups/snic2021-6-9/KSO_Medins_pz/movies/quick_temp/000114 TMBL-ROV 2000 Säckenrevet EJ numrerade band_900.mp4: 608x736 Done. (0.036s)\n",
      "video 2/3 (118/252) /cephyr/NOBACKUP/groups/snic2021-6-9/KSO_Medins_pz/movies/quick_temp/000114 TMBL-ROV 2000 Säckenrevet EJ numrerade band_900.mp4: 608x736 Done. (0.036s)\n",
      "video 2/3 (119/252) /cephyr/NOBACKUP/groups/snic2021-6-9/KSO_Medins_pz/movies/quick_temp/000114 TMBL-ROV 2000 Säckenrevet EJ numrerade band_900.mp4: 608x736 Done. (0.036s)\n",
      "video 2/3 (120/252) /cephyr/NOBACKUP/groups/snic2021-6-9/KSO_Medins_pz/movies/quick_temp/000114 TMBL-ROV 2000 Säckenrevet EJ numrerade band_900.mp4: 608x736 Done. (0.036s)\n",
      "video 2/3 (121/252) /cephyr/NOBACKUP/groups/snic2021-6-9/KSO_Medins_pz/movies/quick_temp/000114 TMBL-ROV 2000 Säckenrevet EJ numrerade band_900.mp4: 608x736 Done. (0.036s)\n",
      "video 2/3 (122/252) /cephyr/NOBACKUP/groups/snic2021-6-9/KSO_Medins_pz/movies/quick_temp/000114 TMBL-ROV 2000 Säckenrevet EJ numrerade band_900.mp4: 608x736 Done. (0.036s)\n",
      "video 2/3 (123/252) /cephyr/NOBACKUP/groups/snic2021-6-9/KSO_Medins_pz/movies/quick_temp/000114 TMBL-ROV 2000 Säckenrevet EJ numrerade band_900.mp4: 608x736 Done. (0.036s)\n",
      "video 2/3 (124/252) /cephyr/NOBACKUP/groups/snic2021-6-9/KSO_Medins_pz/movies/quick_temp/000114 TMBL-ROV 2000 Säckenrevet EJ numrerade band_900.mp4: 608x736 Done. (0.036s)\n",
      "video 2/3 (125/252) /cephyr/NOBACKUP/groups/snic2021-6-9/KSO_Medins_pz/movies/quick_temp/000114 TMBL-ROV 2000 Säckenrevet EJ numrerade band_900.mp4: 608x736 Done. (0.036s)\n",
      "video 2/3 (126/252) /cephyr/NOBACKUP/groups/snic2021-6-9/KSO_Medins_pz/movies/quick_temp/000114 TMBL-ROV 2000 Säckenrevet EJ numrerade band_900.mp4: 608x736 Done. (0.036s)\n",
      "video 2/3 (127/252) /cephyr/NOBACKUP/groups/snic2021-6-9/KSO_Medins_pz/movies/quick_temp/000114 TMBL-ROV 2000 Säckenrevet EJ numrerade band_900.mp4: 608x736 Done. (0.036s)\n",
      "video 2/3 (128/252) /cephyr/NOBACKUP/groups/snic2021-6-9/KSO_Medins_pz/movies/quick_temp/000114 TMBL-ROV 2000 Säckenrevet EJ numrerade band_900.mp4: 608x736 Done. (0.036s)\n",
      "video 2/3 (129/252) /cephyr/NOBACKUP/groups/snic2021-6-9/KSO_Medins_pz/movies/quick_temp/000114 TMBL-ROV 2000 Säckenrevet EJ numrerade band_900.mp4: 608x736 Done. (0.036s)\n",
      "video 2/3 (130/252) /cephyr/NOBACKUP/groups/snic2021-6-9/KSO_Medins_pz/movies/quick_temp/000114 TMBL-ROV 2000 Säckenrevet EJ numrerade band_900.mp4: 608x736 Done. (0.036s)\n",
      "video 2/3 (131/252) /cephyr/NOBACKUP/groups/snic2021-6-9/KSO_Medins_pz/movies/quick_temp/000114 TMBL-ROV 2000 Säckenrevet EJ numrerade band_900.mp4: 608x736 Done. (0.036s)\n",
      "video 2/3 (132/252) /cephyr/NOBACKUP/groups/snic2021-6-9/KSO_Medins_pz/movies/quick_temp/000114 TMBL-ROV 2000 Säckenrevet EJ numrerade band_900.mp4: 608x736 Done. (0.036s)\n",
      "video 2/3 (133/252) /cephyr/NOBACKUP/groups/snic2021-6-9/KSO_Medins_pz/movies/quick_temp/000114 TMBL-ROV 2000 Säckenrevet EJ numrerade band_900.mp4: 608x736 Done. (0.036s)\n"
     ]
    },
    {
     "name": "stdout",
     "output_type": "stream",
     "text": [
      "video 2/3 (134/252) /cephyr/NOBACKUP/groups/snic2021-6-9/KSO_Medins_pz/movies/quick_temp/000114 TMBL-ROV 2000 Säckenrevet EJ numrerade band_900.mp4: 608x736 Done. (0.036s)\n",
      "video 2/3 (135/252) /cephyr/NOBACKUP/groups/snic2021-6-9/KSO_Medins_pz/movies/quick_temp/000114 TMBL-ROV 2000 Säckenrevet EJ numrerade band_900.mp4: 608x736 Done. (0.036s)\n",
      "video 2/3 (136/252) /cephyr/NOBACKUP/groups/snic2021-6-9/KSO_Medins_pz/movies/quick_temp/000114 TMBL-ROV 2000 Säckenrevet EJ numrerade band_900.mp4: 608x736 Done. (0.036s)\n",
      "video 2/3 (137/252) /cephyr/NOBACKUP/groups/snic2021-6-9/KSO_Medins_pz/movies/quick_temp/000114 TMBL-ROV 2000 Säckenrevet EJ numrerade band_900.mp4: 608x736 Done. (0.036s)\n",
      "video 2/3 (138/252) /cephyr/NOBACKUP/groups/snic2021-6-9/KSO_Medins_pz/movies/quick_temp/000114 TMBL-ROV 2000 Säckenrevet EJ numrerade band_900.mp4: 608x736 Done. (0.036s)\n",
      "video 2/3 (139/252) /cephyr/NOBACKUP/groups/snic2021-6-9/KSO_Medins_pz/movies/quick_temp/000114 TMBL-ROV 2000 Säckenrevet EJ numrerade band_900.mp4: 608x736 Done. (0.036s)\n",
      "video 2/3 (140/252) /cephyr/NOBACKUP/groups/snic2021-6-9/KSO_Medins_pz/movies/quick_temp/000114 TMBL-ROV 2000 Säckenrevet EJ numrerade band_900.mp4: 608x736 Done. (0.036s)\n",
      "video 2/3 (141/252) /cephyr/NOBACKUP/groups/snic2021-6-9/KSO_Medins_pz/movies/quick_temp/000114 TMBL-ROV 2000 Säckenrevet EJ numrerade band_900.mp4: 608x736 Done. (0.036s)\n",
      "video 2/3 (142/252) /cephyr/NOBACKUP/groups/snic2021-6-9/KSO_Medins_pz/movies/quick_temp/000114 TMBL-ROV 2000 Säckenrevet EJ numrerade band_900.mp4: 608x736 Done. (0.036s)\n",
      "video 2/3 (143/252) /cephyr/NOBACKUP/groups/snic2021-6-9/KSO_Medins_pz/movies/quick_temp/000114 TMBL-ROV 2000 Säckenrevet EJ numrerade band_900.mp4: 608x736 Done. (0.036s)\n",
      "video 2/3 (144/252) /cephyr/NOBACKUP/groups/snic2021-6-9/KSO_Medins_pz/movies/quick_temp/000114 TMBL-ROV 2000 Säckenrevet EJ numrerade band_900.mp4: 608x736 Done. (0.036s)\n",
      "video 2/3 (145/252) /cephyr/NOBACKUP/groups/snic2021-6-9/KSO_Medins_pz/movies/quick_temp/000114 TMBL-ROV 2000 Säckenrevet EJ numrerade band_900.mp4: 608x736 Done. (0.036s)\n",
      "video 2/3 (146/252) /cephyr/NOBACKUP/groups/snic2021-6-9/KSO_Medins_pz/movies/quick_temp/000114 TMBL-ROV 2000 Säckenrevet EJ numrerade band_900.mp4: 608x736 Done. (0.036s)\n",
      "video 2/3 (147/252) /cephyr/NOBACKUP/groups/snic2021-6-9/KSO_Medins_pz/movies/quick_temp/000114 TMBL-ROV 2000 Säckenrevet EJ numrerade band_900.mp4: 608x736 Done. (0.036s)\n",
      "video 2/3 (148/252) /cephyr/NOBACKUP/groups/snic2021-6-9/KSO_Medins_pz/movies/quick_temp/000114 TMBL-ROV 2000 Säckenrevet EJ numrerade band_900.mp4: 608x736 Done. (0.036s)\n",
      "video 2/3 (149/252) /cephyr/NOBACKUP/groups/snic2021-6-9/KSO_Medins_pz/movies/quick_temp/000114 TMBL-ROV 2000 Säckenrevet EJ numrerade band_900.mp4: 608x736 Done. (0.036s)\n",
      "video 2/3 (150/252) /cephyr/NOBACKUP/groups/snic2021-6-9/KSO_Medins_pz/movies/quick_temp/000114 TMBL-ROV 2000 Säckenrevet EJ numrerade band_900.mp4: 608x736 Done. (0.036s)\n",
      "video 2/3 (151/252) /cephyr/NOBACKUP/groups/snic2021-6-9/KSO_Medins_pz/movies/quick_temp/000114 TMBL-ROV 2000 Säckenrevet EJ numrerade band_900.mp4: 608x736 Done. (0.036s)\n",
      "video 2/3 (152/252) /cephyr/NOBACKUP/groups/snic2021-6-9/KSO_Medins_pz/movies/quick_temp/000114 TMBL-ROV 2000 Säckenrevet EJ numrerade band_900.mp4: 608x736 Done. (0.036s)\n",
      "video 2/3 (153/252) /cephyr/NOBACKUP/groups/snic2021-6-9/KSO_Medins_pz/movies/quick_temp/000114 TMBL-ROV 2000 Säckenrevet EJ numrerade band_900.mp4: 608x736 Done. (0.036s)\n",
      "video 2/3 (154/252) /cephyr/NOBACKUP/groups/snic2021-6-9/KSO_Medins_pz/movies/quick_temp/000114 TMBL-ROV 2000 Säckenrevet EJ numrerade band_900.mp4: 608x736 Done. (0.036s)\n",
      "video 2/3 (155/252) /cephyr/NOBACKUP/groups/snic2021-6-9/KSO_Medins_pz/movies/quick_temp/000114 TMBL-ROV 2000 Säckenrevet EJ numrerade band_900.mp4: 608x736 Done. (0.036s)\n",
      "video 2/3 (156/252) /cephyr/NOBACKUP/groups/snic2021-6-9/KSO_Medins_pz/movies/quick_temp/000114 TMBL-ROV 2000 Säckenrevet EJ numrerade band_900.mp4: 608x736 Done. (0.036s)\n",
      "video 2/3 (157/252) /cephyr/NOBACKUP/groups/snic2021-6-9/KSO_Medins_pz/movies/quick_temp/000114 TMBL-ROV 2000 Säckenrevet EJ numrerade band_900.mp4: 608x736 Done. (0.036s)\n",
      "video 2/3 (158/252) /cephyr/NOBACKUP/groups/snic2021-6-9/KSO_Medins_pz/movies/quick_temp/000114 TMBL-ROV 2000 Säckenrevet EJ numrerade band_900.mp4: 608x736 Done. (0.036s)\n",
      "video 2/3 (159/252) /cephyr/NOBACKUP/groups/snic2021-6-9/KSO_Medins_pz/movies/quick_temp/000114 TMBL-ROV 2000 Säckenrevet EJ numrerade band_900.mp4: 608x736 Done. (0.036s)\n",
      "video 2/3 (160/252) /cephyr/NOBACKUP/groups/snic2021-6-9/KSO_Medins_pz/movies/quick_temp/000114 TMBL-ROV 2000 Säckenrevet EJ numrerade band_900.mp4: 608x736 Done. (0.036s)\n",
      "video 2/3 (161/252) /cephyr/NOBACKUP/groups/snic2021-6-9/KSO_Medins_pz/movies/quick_temp/000114 TMBL-ROV 2000 Säckenrevet EJ numrerade band_900.mp4: 608x736 Done. (0.036s)\n",
      "video 2/3 (162/252) /cephyr/NOBACKUP/groups/snic2021-6-9/KSO_Medins_pz/movies/quick_temp/000114 TMBL-ROV 2000 Säckenrevet EJ numrerade band_900.mp4: 608x736 Done. (0.036s)\n",
      "video 2/3 (163/252) /cephyr/NOBACKUP/groups/snic2021-6-9/KSO_Medins_pz/movies/quick_temp/000114 TMBL-ROV 2000 Säckenrevet EJ numrerade band_900.mp4: 608x736 Done. (0.036s)\n",
      "video 2/3 (164/252) /cephyr/NOBACKUP/groups/snic2021-6-9/KSO_Medins_pz/movies/quick_temp/000114 TMBL-ROV 2000 Säckenrevet EJ numrerade band_900.mp4: 608x736 Done. (0.036s)\n",
      "video 2/3 (165/252) /cephyr/NOBACKUP/groups/snic2021-6-9/KSO_Medins_pz/movies/quick_temp/000114 TMBL-ROV 2000 Säckenrevet EJ numrerade band_900.mp4: 608x736 Done. (0.036s)\n",
      "video 2/3 (166/252) /cephyr/NOBACKUP/groups/snic2021-6-9/KSO_Medins_pz/movies/quick_temp/000114 TMBL-ROV 2000 Säckenrevet EJ numrerade band_900.mp4: 608x736 Done. (0.036s)\n",
      "video 2/3 (167/252) /cephyr/NOBACKUP/groups/snic2021-6-9/KSO_Medins_pz/movies/quick_temp/000114 TMBL-ROV 2000 Säckenrevet EJ numrerade band_900.mp4: 608x736 Done. (0.036s)\n",
      "video 2/3 (168/252) /cephyr/NOBACKUP/groups/snic2021-6-9/KSO_Medins_pz/movies/quick_temp/000114 TMBL-ROV 2000 Säckenrevet EJ numrerade band_900.mp4: 608x736 Done. (0.036s)\n",
      "video 2/3 (169/252) /cephyr/NOBACKUP/groups/snic2021-6-9/KSO_Medins_pz/movies/quick_temp/000114 TMBL-ROV 2000 Säckenrevet EJ numrerade band_900.mp4: 608x736 Done. (0.036s)\n",
      "video 2/3 (170/252) /cephyr/NOBACKUP/groups/snic2021-6-9/KSO_Medins_pz/movies/quick_temp/000114 TMBL-ROV 2000 Säckenrevet EJ numrerade band_900.mp4: 608x736 Done. (0.036s)\n",
      "video 2/3 (171/252) /cephyr/NOBACKUP/groups/snic2021-6-9/KSO_Medins_pz/movies/quick_temp/000114 TMBL-ROV 2000 Säckenrevet EJ numrerade band_900.mp4: 608x736 Done. (0.036s)\n",
      "video 2/3 (172/252) /cephyr/NOBACKUP/groups/snic2021-6-9/KSO_Medins_pz/movies/quick_temp/000114 TMBL-ROV 2000 Säckenrevet EJ numrerade band_900.mp4: 608x736 Done. (0.036s)\n",
      "video 2/3 (173/252) /cephyr/NOBACKUP/groups/snic2021-6-9/KSO_Medins_pz/movies/quick_temp/000114 TMBL-ROV 2000 Säckenrevet EJ numrerade band_900.mp4: 608x736 Done. (0.036s)\n",
      "video 2/3 (174/252) /cephyr/NOBACKUP/groups/snic2021-6-9/KSO_Medins_pz/movies/quick_temp/000114 TMBL-ROV 2000 Säckenrevet EJ numrerade band_900.mp4: 608x736 Done. (0.036s)\n",
      "video 2/3 (175/252) /cephyr/NOBACKUP/groups/snic2021-6-9/KSO_Medins_pz/movies/quick_temp/000114 TMBL-ROV 2000 Säckenrevet EJ numrerade band_900.mp4: 608x736 Done. (0.036s)\n",
      "video 2/3 (176/252) /cephyr/NOBACKUP/groups/snic2021-6-9/KSO_Medins_pz/movies/quick_temp/000114 TMBL-ROV 2000 Säckenrevet EJ numrerade band_900.mp4: 608x736 Done. (0.036s)\n",
      "video 2/3 (177/252) /cephyr/NOBACKUP/groups/snic2021-6-9/KSO_Medins_pz/movies/quick_temp/000114 TMBL-ROV 2000 Säckenrevet EJ numrerade band_900.mp4: 608x736 Done. (0.036s)\n",
      "video 2/3 (178/252) /cephyr/NOBACKUP/groups/snic2021-6-9/KSO_Medins_pz/movies/quick_temp/000114 TMBL-ROV 2000 Säckenrevet EJ numrerade band_900.mp4: 608x736 Done. (0.036s)\n",
      "video 2/3 (179/252) /cephyr/NOBACKUP/groups/snic2021-6-9/KSO_Medins_pz/movies/quick_temp/000114 TMBL-ROV 2000 Säckenrevet EJ numrerade band_900.mp4: 608x736 Done. (0.036s)\n",
      "video 2/3 (180/252) /cephyr/NOBACKUP/groups/snic2021-6-9/KSO_Medins_pz/movies/quick_temp/000114 TMBL-ROV 2000 Säckenrevet EJ numrerade band_900.mp4: 608x736 Done. (0.036s)\n",
      "video 2/3 (181/252) /cephyr/NOBACKUP/groups/snic2021-6-9/KSO_Medins_pz/movies/quick_temp/000114 TMBL-ROV 2000 Säckenrevet EJ numrerade band_900.mp4: 608x736 Done. (0.036s)\n"
     ]
    },
    {
     "name": "stdout",
     "output_type": "stream",
     "text": [
      "video 2/3 (182/252) /cephyr/NOBACKUP/groups/snic2021-6-9/KSO_Medins_pz/movies/quick_temp/000114 TMBL-ROV 2000 Säckenrevet EJ numrerade band_900.mp4: 608x736 Done. (0.036s)\n",
      "video 2/3 (183/252) /cephyr/NOBACKUP/groups/snic2021-6-9/KSO_Medins_pz/movies/quick_temp/000114 TMBL-ROV 2000 Säckenrevet EJ numrerade band_900.mp4: 608x736 Done. (0.038s)\n",
      "video 2/3 (184/252) /cephyr/NOBACKUP/groups/snic2021-6-9/KSO_Medins_pz/movies/quick_temp/000114 TMBL-ROV 2000 Säckenrevet EJ numrerade band_900.mp4: 608x736 Done. (0.036s)\n",
      "video 2/3 (185/252) /cephyr/NOBACKUP/groups/snic2021-6-9/KSO_Medins_pz/movies/quick_temp/000114 TMBL-ROV 2000 Säckenrevet EJ numrerade band_900.mp4: 608x736 Done. (0.036s)\n",
      "video 2/3 (186/252) /cephyr/NOBACKUP/groups/snic2021-6-9/KSO_Medins_pz/movies/quick_temp/000114 TMBL-ROV 2000 Säckenrevet EJ numrerade band_900.mp4: 608x736 Done. (0.036s)\n",
      "video 2/3 (187/252) /cephyr/NOBACKUP/groups/snic2021-6-9/KSO_Medins_pz/movies/quick_temp/000114 TMBL-ROV 2000 Säckenrevet EJ numrerade band_900.mp4: 608x736 Done. (0.036s)\n",
      "video 2/3 (188/252) /cephyr/NOBACKUP/groups/snic2021-6-9/KSO_Medins_pz/movies/quick_temp/000114 TMBL-ROV 2000 Säckenrevet EJ numrerade band_900.mp4: 608x736 Done. (0.036s)\n",
      "video 2/3 (189/252) /cephyr/NOBACKUP/groups/snic2021-6-9/KSO_Medins_pz/movies/quick_temp/000114 TMBL-ROV 2000 Säckenrevet EJ numrerade band_900.mp4: 608x736 Done. (0.036s)\n",
      "video 2/3 (190/252) /cephyr/NOBACKUP/groups/snic2021-6-9/KSO_Medins_pz/movies/quick_temp/000114 TMBL-ROV 2000 Säckenrevet EJ numrerade band_900.mp4: 608x736 Done. (0.036s)\n",
      "video 2/3 (191/252) /cephyr/NOBACKUP/groups/snic2021-6-9/KSO_Medins_pz/movies/quick_temp/000114 TMBL-ROV 2000 Säckenrevet EJ numrerade band_900.mp4: 608x736 Done. (0.036s)\n",
      "video 2/3 (192/252) /cephyr/NOBACKUP/groups/snic2021-6-9/KSO_Medins_pz/movies/quick_temp/000114 TMBL-ROV 2000 Säckenrevet EJ numrerade band_900.mp4: 608x736 Done. (0.036s)\n",
      "video 2/3 (193/252) /cephyr/NOBACKUP/groups/snic2021-6-9/KSO_Medins_pz/movies/quick_temp/000114 TMBL-ROV 2000 Säckenrevet EJ numrerade band_900.mp4: 608x736 Done. (0.036s)\n",
      "video 2/3 (194/252) /cephyr/NOBACKUP/groups/snic2021-6-9/KSO_Medins_pz/movies/quick_temp/000114 TMBL-ROV 2000 Säckenrevet EJ numrerade band_900.mp4: 608x736 Done. (0.036s)\n",
      "video 2/3 (195/252) /cephyr/NOBACKUP/groups/snic2021-6-9/KSO_Medins_pz/movies/quick_temp/000114 TMBL-ROV 2000 Säckenrevet EJ numrerade band_900.mp4: 608x736 Done. (0.036s)\n",
      "video 2/3 (196/252) /cephyr/NOBACKUP/groups/snic2021-6-9/KSO_Medins_pz/movies/quick_temp/000114 TMBL-ROV 2000 Säckenrevet EJ numrerade band_900.mp4: 608x736 Done. (0.036s)\n",
      "video 2/3 (197/252) /cephyr/NOBACKUP/groups/snic2021-6-9/KSO_Medins_pz/movies/quick_temp/000114 TMBL-ROV 2000 Säckenrevet EJ numrerade band_900.mp4: 608x736 Done. (0.036s)\n",
      "video 2/3 (198/252) /cephyr/NOBACKUP/groups/snic2021-6-9/KSO_Medins_pz/movies/quick_temp/000114 TMBL-ROV 2000 Säckenrevet EJ numrerade band_900.mp4: 608x736 Done. (0.036s)\n",
      "video 2/3 (199/252) /cephyr/NOBACKUP/groups/snic2021-6-9/KSO_Medins_pz/movies/quick_temp/000114 TMBL-ROV 2000 Säckenrevet EJ numrerade band_900.mp4: 608x736 Done. (0.036s)\n",
      "video 2/3 (200/252) /cephyr/NOBACKUP/groups/snic2021-6-9/KSO_Medins_pz/movies/quick_temp/000114 TMBL-ROV 2000 Säckenrevet EJ numrerade band_900.mp4: 608x736 Done. (0.036s)\n",
      "video 2/3 (201/252) /cephyr/NOBACKUP/groups/snic2021-6-9/KSO_Medins_pz/movies/quick_temp/000114 TMBL-ROV 2000 Säckenrevet EJ numrerade band_900.mp4: 608x736 Done. (0.036s)\n",
      "video 2/3 (202/252) /cephyr/NOBACKUP/groups/snic2021-6-9/KSO_Medins_pz/movies/quick_temp/000114 TMBL-ROV 2000 Säckenrevet EJ numrerade band_900.mp4: 608x736 Done. (0.029s)\n",
      "video 2/3 (203/252) /cephyr/NOBACKUP/groups/snic2021-6-9/KSO_Medins_pz/movies/quick_temp/000114 TMBL-ROV 2000 Säckenrevet EJ numrerade band_900.mp4: 608x736 Done. (0.033s)\n",
      "video 2/3 (204/252) /cephyr/NOBACKUP/groups/snic2021-6-9/KSO_Medins_pz/movies/quick_temp/000114 TMBL-ROV 2000 Säckenrevet EJ numrerade band_900.mp4: 608x736 Done. (0.036s)\n",
      "video 2/3 (205/252) /cephyr/NOBACKUP/groups/snic2021-6-9/KSO_Medins_pz/movies/quick_temp/000114 TMBL-ROV 2000 Säckenrevet EJ numrerade band_900.mp4: 608x736 Done. (0.036s)\n",
      "video 2/3 (206/252) /cephyr/NOBACKUP/groups/snic2021-6-9/KSO_Medins_pz/movies/quick_temp/000114 TMBL-ROV 2000 Säckenrevet EJ numrerade band_900.mp4: 608x736 Done. (0.036s)\n",
      "video 2/3 (207/252) /cephyr/NOBACKUP/groups/snic2021-6-9/KSO_Medins_pz/movies/quick_temp/000114 TMBL-ROV 2000 Säckenrevet EJ numrerade band_900.mp4: 608x736 Done. (0.036s)\n",
      "video 2/3 (208/252) /cephyr/NOBACKUP/groups/snic2021-6-9/KSO_Medins_pz/movies/quick_temp/000114 TMBL-ROV 2000 Säckenrevet EJ numrerade band_900.mp4: 608x736 Done. (0.036s)\n",
      "video 2/3 (209/252) /cephyr/NOBACKUP/groups/snic2021-6-9/KSO_Medins_pz/movies/quick_temp/000114 TMBL-ROV 2000 Säckenrevet EJ numrerade band_900.mp4: 608x736 Done. (0.036s)\n",
      "video 2/3 (210/252) /cephyr/NOBACKUP/groups/snic2021-6-9/KSO_Medins_pz/movies/quick_temp/000114 TMBL-ROV 2000 Säckenrevet EJ numrerade band_900.mp4: 608x736 Done. (0.036s)\n",
      "video 2/3 (211/252) /cephyr/NOBACKUP/groups/snic2021-6-9/KSO_Medins_pz/movies/quick_temp/000114 TMBL-ROV 2000 Säckenrevet EJ numrerade band_900.mp4: 608x736 Done. (0.038s)\n",
      "video 2/3 (212/252) /cephyr/NOBACKUP/groups/snic2021-6-9/KSO_Medins_pz/movies/quick_temp/000114 TMBL-ROV 2000 Säckenrevet EJ numrerade band_900.mp4: 608x736 Done. (0.036s)\n",
      "video 2/3 (213/252) /cephyr/NOBACKUP/groups/snic2021-6-9/KSO_Medins_pz/movies/quick_temp/000114 TMBL-ROV 2000 Säckenrevet EJ numrerade band_900.mp4: 608x736 Done. (0.036s)\n",
      "video 2/3 (214/252) /cephyr/NOBACKUP/groups/snic2021-6-9/KSO_Medins_pz/movies/quick_temp/000114 TMBL-ROV 2000 Säckenrevet EJ numrerade band_900.mp4: 608x736 Done. (0.036s)\n",
      "video 2/3 (215/252) /cephyr/NOBACKUP/groups/snic2021-6-9/KSO_Medins_pz/movies/quick_temp/000114 TMBL-ROV 2000 Säckenrevet EJ numrerade band_900.mp4: 608x736 Done. (0.036s)\n",
      "video 2/3 (216/252) /cephyr/NOBACKUP/groups/snic2021-6-9/KSO_Medins_pz/movies/quick_temp/000114 TMBL-ROV 2000 Säckenrevet EJ numrerade band_900.mp4: 608x736 Done. (0.036s)\n",
      "video 2/3 (217/252) /cephyr/NOBACKUP/groups/snic2021-6-9/KSO_Medins_pz/movies/quick_temp/000114 TMBL-ROV 2000 Säckenrevet EJ numrerade band_900.mp4: 608x736 Done. (0.036s)\n",
      "video 2/3 (218/252) /cephyr/NOBACKUP/groups/snic2021-6-9/KSO_Medins_pz/movies/quick_temp/000114 TMBL-ROV 2000 Säckenrevet EJ numrerade band_900.mp4: 608x736 Done. (0.036s)\n",
      "video 2/3 (219/252) /cephyr/NOBACKUP/groups/snic2021-6-9/KSO_Medins_pz/movies/quick_temp/000114 TMBL-ROV 2000 Säckenrevet EJ numrerade band_900.mp4: 608x736 Done. (0.036s)\n",
      "video 2/3 (220/252) /cephyr/NOBACKUP/groups/snic2021-6-9/KSO_Medins_pz/movies/quick_temp/000114 TMBL-ROV 2000 Säckenrevet EJ numrerade band_900.mp4: 608x736 Done. (0.036s)\n",
      "video 2/3 (221/252) /cephyr/NOBACKUP/groups/snic2021-6-9/KSO_Medins_pz/movies/quick_temp/000114 TMBL-ROV 2000 Säckenrevet EJ numrerade band_900.mp4: 608x736 Done. (0.036s)\n",
      "video 2/3 (222/252) /cephyr/NOBACKUP/groups/snic2021-6-9/KSO_Medins_pz/movies/quick_temp/000114 TMBL-ROV 2000 Säckenrevet EJ numrerade band_900.mp4: 608x736 Done. (0.036s)\n",
      "video 2/3 (223/252) /cephyr/NOBACKUP/groups/snic2021-6-9/KSO_Medins_pz/movies/quick_temp/000114 TMBL-ROV 2000 Säckenrevet EJ numrerade band_900.mp4: 608x736 Done. (0.036s)\n",
      "video 2/3 (224/252) /cephyr/NOBACKUP/groups/snic2021-6-9/KSO_Medins_pz/movies/quick_temp/000114 TMBL-ROV 2000 Säckenrevet EJ numrerade band_900.mp4: 608x736 Done. (0.036s)\n",
      "video 2/3 (225/252) /cephyr/NOBACKUP/groups/snic2021-6-9/KSO_Medins_pz/movies/quick_temp/000114 TMBL-ROV 2000 Säckenrevet EJ numrerade band_900.mp4: 608x736 Done. (0.036s)\n",
      "video 2/3 (226/252) /cephyr/NOBACKUP/groups/snic2021-6-9/KSO_Medins_pz/movies/quick_temp/000114 TMBL-ROV 2000 Säckenrevet EJ numrerade band_900.mp4: 608x736 Done. (0.036s)\n",
      "video 2/3 (227/252) /cephyr/NOBACKUP/groups/snic2021-6-9/KSO_Medins_pz/movies/quick_temp/000114 TMBL-ROV 2000 Säckenrevet EJ numrerade band_900.mp4: 608x736 Done. (0.036s)\n",
      "video 2/3 (228/252) /cephyr/NOBACKUP/groups/snic2021-6-9/KSO_Medins_pz/movies/quick_temp/000114 TMBL-ROV 2000 Säckenrevet EJ numrerade band_900.mp4: 608x736 Done. (0.036s)\n",
      "video 2/3 (229/252) /cephyr/NOBACKUP/groups/snic2021-6-9/KSO_Medins_pz/movies/quick_temp/000114 TMBL-ROV 2000 Säckenrevet EJ numrerade band_900.mp4: 608x736 Done. (0.036s)\n"
     ]
    },
    {
     "name": "stdout",
     "output_type": "stream",
     "text": [
      "video 2/3 (230/252) /cephyr/NOBACKUP/groups/snic2021-6-9/KSO_Medins_pz/movies/quick_temp/000114 TMBL-ROV 2000 Säckenrevet EJ numrerade band_900.mp4: 608x736 Done. (0.036s)\n",
      "video 2/3 (231/252) /cephyr/NOBACKUP/groups/snic2021-6-9/KSO_Medins_pz/movies/quick_temp/000114 TMBL-ROV 2000 Säckenrevet EJ numrerade band_900.mp4: 608x736 Done. (0.036s)\n",
      "video 2/3 (232/252) /cephyr/NOBACKUP/groups/snic2021-6-9/KSO_Medins_pz/movies/quick_temp/000114 TMBL-ROV 2000 Säckenrevet EJ numrerade band_900.mp4: 608x736 Done. (0.036s)\n",
      "video 2/3 (233/252) /cephyr/NOBACKUP/groups/snic2021-6-9/KSO_Medins_pz/movies/quick_temp/000114 TMBL-ROV 2000 Säckenrevet EJ numrerade band_900.mp4: 608x736 Done. (0.036s)\n",
      "video 2/3 (234/252) /cephyr/NOBACKUP/groups/snic2021-6-9/KSO_Medins_pz/movies/quick_temp/000114 TMBL-ROV 2000 Säckenrevet EJ numrerade band_900.mp4: 608x736 Done. (0.036s)\n",
      "video 2/3 (235/252) /cephyr/NOBACKUP/groups/snic2021-6-9/KSO_Medins_pz/movies/quick_temp/000114 TMBL-ROV 2000 Säckenrevet EJ numrerade band_900.mp4: 608x736 Done. (0.036s)\n",
      "video 2/3 (236/252) /cephyr/NOBACKUP/groups/snic2021-6-9/KSO_Medins_pz/movies/quick_temp/000114 TMBL-ROV 2000 Säckenrevet EJ numrerade band_900.mp4: 608x736 Done. (0.036s)\n",
      "video 2/3 (237/252) /cephyr/NOBACKUP/groups/snic2021-6-9/KSO_Medins_pz/movies/quick_temp/000114 TMBL-ROV 2000 Säckenrevet EJ numrerade band_900.mp4: 608x736 Done. (0.036s)\n",
      "video 2/3 (238/252) /cephyr/NOBACKUP/groups/snic2021-6-9/KSO_Medins_pz/movies/quick_temp/000114 TMBL-ROV 2000 Säckenrevet EJ numrerade band_900.mp4: 608x736 Done. (0.036s)\n",
      "video 2/3 (239/252) /cephyr/NOBACKUP/groups/snic2021-6-9/KSO_Medins_pz/movies/quick_temp/000114 TMBL-ROV 2000 Säckenrevet EJ numrerade band_900.mp4: 608x736 Done. (0.036s)\n",
      "video 2/3 (240/252) /cephyr/NOBACKUP/groups/snic2021-6-9/KSO_Medins_pz/movies/quick_temp/000114 TMBL-ROV 2000 Säckenrevet EJ numrerade band_900.mp4: 608x736 Done. (0.036s)\n",
      "video 2/3 (241/252) /cephyr/NOBACKUP/groups/snic2021-6-9/KSO_Medins_pz/movies/quick_temp/000114 TMBL-ROV 2000 Säckenrevet EJ numrerade band_900.mp4: 608x736 Done. (0.036s)\n",
      "video 2/3 (242/252) /cephyr/NOBACKUP/groups/snic2021-6-9/KSO_Medins_pz/movies/quick_temp/000114 TMBL-ROV 2000 Säckenrevet EJ numrerade band_900.mp4: 608x736 Done. (0.036s)\n",
      "video 2/3 (243/252) /cephyr/NOBACKUP/groups/snic2021-6-9/KSO_Medins_pz/movies/quick_temp/000114 TMBL-ROV 2000 Säckenrevet EJ numrerade band_900.mp4: 608x736 Done. (0.036s)\n",
      "video 2/3 (244/252) /cephyr/NOBACKUP/groups/snic2021-6-9/KSO_Medins_pz/movies/quick_temp/000114 TMBL-ROV 2000 Säckenrevet EJ numrerade band_900.mp4: 608x736 Done. (0.036s)\n",
      "video 2/3 (245/252) /cephyr/NOBACKUP/groups/snic2021-6-9/KSO_Medins_pz/movies/quick_temp/000114 TMBL-ROV 2000 Säckenrevet EJ numrerade band_900.mp4: 608x736 Done. (0.036s)\n",
      "video 2/3 (246/252) /cephyr/NOBACKUP/groups/snic2021-6-9/KSO_Medins_pz/movies/quick_temp/000114 TMBL-ROV 2000 Säckenrevet EJ numrerade band_900.mp4: 608x736 Done. (0.036s)\n",
      "video 2/3 (247/252) /cephyr/NOBACKUP/groups/snic2021-6-9/KSO_Medins_pz/movies/quick_temp/000114 TMBL-ROV 2000 Säckenrevet EJ numrerade band_900.mp4: 608x736 Done. (0.036s)\n",
      "video 2/3 (248/252) /cephyr/NOBACKUP/groups/snic2021-6-9/KSO_Medins_pz/movies/quick_temp/000114 TMBL-ROV 2000 Säckenrevet EJ numrerade band_900.mp4: 608x736 Done. (0.036s)\n",
      "video 2/3 (249/252) /cephyr/NOBACKUP/groups/snic2021-6-9/KSO_Medins_pz/movies/quick_temp/000114 TMBL-ROV 2000 Säckenrevet EJ numrerade band_900.mp4: 608x736 Done. (0.036s)\n",
      "video 2/3 (250/252) /cephyr/NOBACKUP/groups/snic2021-6-9/KSO_Medins_pz/movies/quick_temp/000114 TMBL-ROV 2000 Säckenrevet EJ numrerade band_900.mp4: 608x736 Done. (0.036s)\n",
      "video 3/3 (1/251) /cephyr/NOBACKUP/groups/snic2021-6-9/KSO_Medins_pz/movies/quick_temp/000114 TMBL-ROV 2000 Säckenrevet Tape 55_720.mp4: 608x736 Done. (0.036s)\n",
      "video 3/3 (2/251) /cephyr/NOBACKUP/groups/snic2021-6-9/KSO_Medins_pz/movies/quick_temp/000114 TMBL-ROV 2000 Säckenrevet Tape 55_720.mp4: 608x736 Done. (0.036s)\n",
      "video 3/3 (3/251) /cephyr/NOBACKUP/groups/snic2021-6-9/KSO_Medins_pz/movies/quick_temp/000114 TMBL-ROV 2000 Säckenrevet Tape 55_720.mp4: 608x736 Done. (0.036s)\n",
      "video 3/3 (4/251) /cephyr/NOBACKUP/groups/snic2021-6-9/KSO_Medins_pz/movies/quick_temp/000114 TMBL-ROV 2000 Säckenrevet Tape 55_720.mp4: 608x736 Done. (0.036s)\n",
      "video 3/3 (5/251) /cephyr/NOBACKUP/groups/snic2021-6-9/KSO_Medins_pz/movies/quick_temp/000114 TMBL-ROV 2000 Säckenrevet Tape 55_720.mp4: 608x736 Done. (0.036s)\n",
      "video 3/3 (6/251) /cephyr/NOBACKUP/groups/snic2021-6-9/KSO_Medins_pz/movies/quick_temp/000114 TMBL-ROV 2000 Säckenrevet Tape 55_720.mp4: 608x736 Done. (0.036s)\n",
      "video 3/3 (7/251) /cephyr/NOBACKUP/groups/snic2021-6-9/KSO_Medins_pz/movies/quick_temp/000114 TMBL-ROV 2000 Säckenrevet Tape 55_720.mp4: 608x736 Done. (0.019s)\n",
      "video 3/3 (8/251) /cephyr/NOBACKUP/groups/snic2021-6-9/KSO_Medins_pz/movies/quick_temp/000114 TMBL-ROV 2000 Säckenrevet Tape 55_720.mp4: 608x736 Done. (0.019s)\n",
      "video 3/3 (9/251) /cephyr/NOBACKUP/groups/snic2021-6-9/KSO_Medins_pz/movies/quick_temp/000114 TMBL-ROV 2000 Säckenrevet Tape 55_720.mp4: 608x736 Done. (0.019s)\n",
      "video 3/3 (10/251) /cephyr/NOBACKUP/groups/snic2021-6-9/KSO_Medins_pz/movies/quick_temp/000114 TMBL-ROV 2000 Säckenrevet Tape 55_720.mp4: 608x736 Done. (0.019s)\n",
      "video 3/3 (11/251) /cephyr/NOBACKUP/groups/snic2021-6-9/KSO_Medins_pz/movies/quick_temp/000114 TMBL-ROV 2000 Säckenrevet Tape 55_720.mp4: 608x736 Done. (0.019s)\n",
      "video 3/3 (12/251) /cephyr/NOBACKUP/groups/snic2021-6-9/KSO_Medins_pz/movies/quick_temp/000114 TMBL-ROV 2000 Säckenrevet Tape 55_720.mp4: 608x736 Done. (0.019s)\n",
      "video 3/3 (13/251) /cephyr/NOBACKUP/groups/snic2021-6-9/KSO_Medins_pz/movies/quick_temp/000114 TMBL-ROV 2000 Säckenrevet Tape 55_720.mp4: 608x736 Done. (0.019s)\n",
      "video 3/3 (14/251) /cephyr/NOBACKUP/groups/snic2021-6-9/KSO_Medins_pz/movies/quick_temp/000114 TMBL-ROV 2000 Säckenrevet Tape 55_720.mp4: 608x736 Done. (0.019s)\n",
      "video 3/3 (15/251) /cephyr/NOBACKUP/groups/snic2021-6-9/KSO_Medins_pz/movies/quick_temp/000114 TMBL-ROV 2000 Säckenrevet Tape 55_720.mp4: 608x736 Done. (0.018s)\n",
      "video 3/3 (16/251) /cephyr/NOBACKUP/groups/snic2021-6-9/KSO_Medins_pz/movies/quick_temp/000114 TMBL-ROV 2000 Säckenrevet Tape 55_720.mp4: 608x736 Done. (0.018s)\n",
      "video 3/3 (17/251) /cephyr/NOBACKUP/groups/snic2021-6-9/KSO_Medins_pz/movies/quick_temp/000114 TMBL-ROV 2000 Säckenrevet Tape 55_720.mp4: 608x736 Done. (0.017s)\n",
      "video 3/3 (18/251) /cephyr/NOBACKUP/groups/snic2021-6-9/KSO_Medins_pz/movies/quick_temp/000114 TMBL-ROV 2000 Säckenrevet Tape 55_720.mp4: 608x736 Done. (0.017s)\n",
      "video 3/3 (19/251) /cephyr/NOBACKUP/groups/snic2021-6-9/KSO_Medins_pz/movies/quick_temp/000114 TMBL-ROV 2000 Säckenrevet Tape 55_720.mp4: 608x736 Done. (0.017s)\n",
      "video 3/3 (20/251) /cephyr/NOBACKUP/groups/snic2021-6-9/KSO_Medins_pz/movies/quick_temp/000114 TMBL-ROV 2000 Säckenrevet Tape 55_720.mp4: 608x736 Done. (0.030s)\n",
      "video 3/3 (21/251) /cephyr/NOBACKUP/groups/snic2021-6-9/KSO_Medins_pz/movies/quick_temp/000114 TMBL-ROV 2000 Säckenrevet Tape 55_720.mp4: 608x736 Done. (0.017s)\n",
      "video 3/3 (22/251) /cephyr/NOBACKUP/groups/snic2021-6-9/KSO_Medins_pz/movies/quick_temp/000114 TMBL-ROV 2000 Säckenrevet Tape 55_720.mp4: 608x736 Done. (0.017s)\n",
      "video 3/3 (23/251) /cephyr/NOBACKUP/groups/snic2021-6-9/KSO_Medins_pz/movies/quick_temp/000114 TMBL-ROV 2000 Säckenrevet Tape 55_720.mp4: 608x736 Done. (0.018s)\n",
      "video 3/3 (24/251) /cephyr/NOBACKUP/groups/snic2021-6-9/KSO_Medins_pz/movies/quick_temp/000114 TMBL-ROV 2000 Säckenrevet Tape 55_720.mp4: 608x736 Done. (0.018s)\n",
      "video 3/3 (25/251) /cephyr/NOBACKUP/groups/snic2021-6-9/KSO_Medins_pz/movies/quick_temp/000114 TMBL-ROV 2000 Säckenrevet Tape 55_720.mp4: 608x736 Done. (0.018s)\n",
      "video 3/3 (26/251) /cephyr/NOBACKUP/groups/snic2021-6-9/KSO_Medins_pz/movies/quick_temp/000114 TMBL-ROV 2000 Säckenrevet Tape 55_720.mp4: 608x736 Done. (0.016s)\n",
      "video 3/3 (27/251) /cephyr/NOBACKUP/groups/snic2021-6-9/KSO_Medins_pz/movies/quick_temp/000114 TMBL-ROV 2000 Säckenrevet Tape 55_720.mp4: 608x736 Done. (0.016s)\n",
      "video 3/3 (28/251) /cephyr/NOBACKUP/groups/snic2021-6-9/KSO_Medins_pz/movies/quick_temp/000114 TMBL-ROV 2000 Säckenrevet Tape 55_720.mp4: 608x736 Done. (0.016s)\n",
      "video 3/3 (29/251) /cephyr/NOBACKUP/groups/snic2021-6-9/KSO_Medins_pz/movies/quick_temp/000114 TMBL-ROV 2000 Säckenrevet Tape 55_720.mp4: 608x736 Done. (0.016s)\n"
     ]
    },
    {
     "name": "stdout",
     "output_type": "stream",
     "text": [
      "video 3/3 (30/251) /cephyr/NOBACKUP/groups/snic2021-6-9/KSO_Medins_pz/movies/quick_temp/000114 TMBL-ROV 2000 Säckenrevet Tape 55_720.mp4: 608x736 Done. (0.016s)\n",
      "video 3/3 (31/251) /cephyr/NOBACKUP/groups/snic2021-6-9/KSO_Medins_pz/movies/quick_temp/000114 TMBL-ROV 2000 Säckenrevet Tape 55_720.mp4: 608x736 Done. (0.016s)\n",
      "video 3/3 (32/251) /cephyr/NOBACKUP/groups/snic2021-6-9/KSO_Medins_pz/movies/quick_temp/000114 TMBL-ROV 2000 Säckenrevet Tape 55_720.mp4: 608x736 Done. (0.016s)\n",
      "video 3/3 (33/251) /cephyr/NOBACKUP/groups/snic2021-6-9/KSO_Medins_pz/movies/quick_temp/000114 TMBL-ROV 2000 Säckenrevet Tape 55_720.mp4: 608x736 Done. (0.016s)\n",
      "video 3/3 (34/251) /cephyr/NOBACKUP/groups/snic2021-6-9/KSO_Medins_pz/movies/quick_temp/000114 TMBL-ROV 2000 Säckenrevet Tape 55_720.mp4: 608x736 Done. (0.016s)\n",
      "video 3/3 (35/251) /cephyr/NOBACKUP/groups/snic2021-6-9/KSO_Medins_pz/movies/quick_temp/000114 TMBL-ROV 2000 Säckenrevet Tape 55_720.mp4: 608x736 Done. (0.019s)\n",
      "video 3/3 (36/251) /cephyr/NOBACKUP/groups/snic2021-6-9/KSO_Medins_pz/movies/quick_temp/000114 TMBL-ROV 2000 Säckenrevet Tape 55_720.mp4: 608x736 Done. (0.028s)\n",
      "video 3/3 (37/251) /cephyr/NOBACKUP/groups/snic2021-6-9/KSO_Medins_pz/movies/quick_temp/000114 TMBL-ROV 2000 Säckenrevet Tape 55_720.mp4: 608x736 Done. (0.029s)\n",
      "video 3/3 (38/251) /cephyr/NOBACKUP/groups/snic2021-6-9/KSO_Medins_pz/movies/quick_temp/000114 TMBL-ROV 2000 Säckenrevet Tape 55_720.mp4: 608x736 Done. (0.033s)\n",
      "video 3/3 (39/251) /cephyr/NOBACKUP/groups/snic2021-6-9/KSO_Medins_pz/movies/quick_temp/000114 TMBL-ROV 2000 Säckenrevet Tape 55_720.mp4: 608x736 Done. (0.035s)\n",
      "video 3/3 (40/251) /cephyr/NOBACKUP/groups/snic2021-6-9/KSO_Medins_pz/movies/quick_temp/000114 TMBL-ROV 2000 Säckenrevet Tape 55_720.mp4: 608x736 Done. (0.036s)\n",
      "video 3/3 (41/251) /cephyr/NOBACKUP/groups/snic2021-6-9/KSO_Medins_pz/movies/quick_temp/000114 TMBL-ROV 2000 Säckenrevet Tape 55_720.mp4: 608x736 Done. (0.036s)\n",
      "video 3/3 (42/251) /cephyr/NOBACKUP/groups/snic2021-6-9/KSO_Medins_pz/movies/quick_temp/000114 TMBL-ROV 2000 Säckenrevet Tape 55_720.mp4: 608x736 Done. (0.036s)\n",
      "video 3/3 (43/251) /cephyr/NOBACKUP/groups/snic2021-6-9/KSO_Medins_pz/movies/quick_temp/000114 TMBL-ROV 2000 Säckenrevet Tape 55_720.mp4: 608x736 Done. (0.036s)\n",
      "video 3/3 (44/251) /cephyr/NOBACKUP/groups/snic2021-6-9/KSO_Medins_pz/movies/quick_temp/000114 TMBL-ROV 2000 Säckenrevet Tape 55_720.mp4: 608x736 Done. (0.036s)\n",
      "video 3/3 (45/251) /cephyr/NOBACKUP/groups/snic2021-6-9/KSO_Medins_pz/movies/quick_temp/000114 TMBL-ROV 2000 Säckenrevet Tape 55_720.mp4: 608x736 Done. (0.036s)\n",
      "video 3/3 (46/251) /cephyr/NOBACKUP/groups/snic2021-6-9/KSO_Medins_pz/movies/quick_temp/000114 TMBL-ROV 2000 Säckenrevet Tape 55_720.mp4: 608x736 Done. (0.036s)\n",
      "video 3/3 (47/251) /cephyr/NOBACKUP/groups/snic2021-6-9/KSO_Medins_pz/movies/quick_temp/000114 TMBL-ROV 2000 Säckenrevet Tape 55_720.mp4: 608x736 Done. (0.036s)\n",
      "video 3/3 (48/251) /cephyr/NOBACKUP/groups/snic2021-6-9/KSO_Medins_pz/movies/quick_temp/000114 TMBL-ROV 2000 Säckenrevet Tape 55_720.mp4: 608x736 Done. (0.036s)\n",
      "video 3/3 (49/251) /cephyr/NOBACKUP/groups/snic2021-6-9/KSO_Medins_pz/movies/quick_temp/000114 TMBL-ROV 2000 Säckenrevet Tape 55_720.mp4: 608x736 Done. (0.036s)\n",
      "video 3/3 (50/251) /cephyr/NOBACKUP/groups/snic2021-6-9/KSO_Medins_pz/movies/quick_temp/000114 TMBL-ROV 2000 Säckenrevet Tape 55_720.mp4: 608x736 Done. (0.036s)\n",
      "video 3/3 (51/251) /cephyr/NOBACKUP/groups/snic2021-6-9/KSO_Medins_pz/movies/quick_temp/000114 TMBL-ROV 2000 Säckenrevet Tape 55_720.mp4: 608x736 Done. (0.036s)\n",
      "video 3/3 (52/251) /cephyr/NOBACKUP/groups/snic2021-6-9/KSO_Medins_pz/movies/quick_temp/000114 TMBL-ROV 2000 Säckenrevet Tape 55_720.mp4: 608x736 Done. (0.036s)\n",
      "video 3/3 (53/251) /cephyr/NOBACKUP/groups/snic2021-6-9/KSO_Medins_pz/movies/quick_temp/000114 TMBL-ROV 2000 Säckenrevet Tape 55_720.mp4: 608x736 Done. (0.036s)\n",
      "video 3/3 (54/251) /cephyr/NOBACKUP/groups/snic2021-6-9/KSO_Medins_pz/movies/quick_temp/000114 TMBL-ROV 2000 Säckenrevet Tape 55_720.mp4: 608x736 Done. (0.036s)\n",
      "video 3/3 (55/251) /cephyr/NOBACKUP/groups/snic2021-6-9/KSO_Medins_pz/movies/quick_temp/000114 TMBL-ROV 2000 Säckenrevet Tape 55_720.mp4: 608x736 Done. (0.036s)\n",
      "video 3/3 (56/251) /cephyr/NOBACKUP/groups/snic2021-6-9/KSO_Medins_pz/movies/quick_temp/000114 TMBL-ROV 2000 Säckenrevet Tape 55_720.mp4: 608x736 Done. (0.036s)\n",
      "video 3/3 (57/251) /cephyr/NOBACKUP/groups/snic2021-6-9/KSO_Medins_pz/movies/quick_temp/000114 TMBL-ROV 2000 Säckenrevet Tape 55_720.mp4: 608x736 Done. (0.036s)\n",
      "video 3/3 (58/251) /cephyr/NOBACKUP/groups/snic2021-6-9/KSO_Medins_pz/movies/quick_temp/000114 TMBL-ROV 2000 Säckenrevet Tape 55_720.mp4: 608x736 Done. (0.036s)\n",
      "video 3/3 (59/251) /cephyr/NOBACKUP/groups/snic2021-6-9/KSO_Medins_pz/movies/quick_temp/000114 TMBL-ROV 2000 Säckenrevet Tape 55_720.mp4: 608x736 Done. (0.036s)\n",
      "video 3/3 (60/251) /cephyr/NOBACKUP/groups/snic2021-6-9/KSO_Medins_pz/movies/quick_temp/000114 TMBL-ROV 2000 Säckenrevet Tape 55_720.mp4: 608x736 Done. (0.036s)\n",
      "video 3/3 (61/251) /cephyr/NOBACKUP/groups/snic2021-6-9/KSO_Medins_pz/movies/quick_temp/000114 TMBL-ROV 2000 Säckenrevet Tape 55_720.mp4: 608x736 Done. (0.036s)\n",
      "video 3/3 (62/251) /cephyr/NOBACKUP/groups/snic2021-6-9/KSO_Medins_pz/movies/quick_temp/000114 TMBL-ROV 2000 Säckenrevet Tape 55_720.mp4: 608x736 Done. (0.036s)\n",
      "video 3/3 (63/251) /cephyr/NOBACKUP/groups/snic2021-6-9/KSO_Medins_pz/movies/quick_temp/000114 TMBL-ROV 2000 Säckenrevet Tape 55_720.mp4: 608x736 Done. (0.036s)\n",
      "video 3/3 (64/251) /cephyr/NOBACKUP/groups/snic2021-6-9/KSO_Medins_pz/movies/quick_temp/000114 TMBL-ROV 2000 Säckenrevet Tape 55_720.mp4: 608x736 Done. (0.036s)\n",
      "video 3/3 (65/251) /cephyr/NOBACKUP/groups/snic2021-6-9/KSO_Medins_pz/movies/quick_temp/000114 TMBL-ROV 2000 Säckenrevet Tape 55_720.mp4: 608x736 Done. (0.036s)\n",
      "video 3/3 (66/251) /cephyr/NOBACKUP/groups/snic2021-6-9/KSO_Medins_pz/movies/quick_temp/000114 TMBL-ROV 2000 Säckenrevet Tape 55_720.mp4: 608x736 Done. (0.036s)\n",
      "video 3/3 (67/251) /cephyr/NOBACKUP/groups/snic2021-6-9/KSO_Medins_pz/movies/quick_temp/000114 TMBL-ROV 2000 Säckenrevet Tape 55_720.mp4: 608x736 Done. (0.036s)\n",
      "video 3/3 (68/251) /cephyr/NOBACKUP/groups/snic2021-6-9/KSO_Medins_pz/movies/quick_temp/000114 TMBL-ROV 2000 Säckenrevet Tape 55_720.mp4: 608x736 Done. (0.036s)\n",
      "video 3/3 (69/251) /cephyr/NOBACKUP/groups/snic2021-6-9/KSO_Medins_pz/movies/quick_temp/000114 TMBL-ROV 2000 Säckenrevet Tape 55_720.mp4: 608x736 Done. (0.036s)\n",
      "video 3/3 (70/251) /cephyr/NOBACKUP/groups/snic2021-6-9/KSO_Medins_pz/movies/quick_temp/000114 TMBL-ROV 2000 Säckenrevet Tape 55_720.mp4: 608x736 Done. (0.036s)\n",
      "video 3/3 (71/251) /cephyr/NOBACKUP/groups/snic2021-6-9/KSO_Medins_pz/movies/quick_temp/000114 TMBL-ROV 2000 Säckenrevet Tape 55_720.mp4: 608x736 Done. (0.036s)\n",
      "video 3/3 (72/251) /cephyr/NOBACKUP/groups/snic2021-6-9/KSO_Medins_pz/movies/quick_temp/000114 TMBL-ROV 2000 Säckenrevet Tape 55_720.mp4: 608x736 Done. (0.036s)\n",
      "video 3/3 (73/251) /cephyr/NOBACKUP/groups/snic2021-6-9/KSO_Medins_pz/movies/quick_temp/000114 TMBL-ROV 2000 Säckenrevet Tape 55_720.mp4: 608x736 Done. (0.036s)\n",
      "video 3/3 (74/251) /cephyr/NOBACKUP/groups/snic2021-6-9/KSO_Medins_pz/movies/quick_temp/000114 TMBL-ROV 2000 Säckenrevet Tape 55_720.mp4: 608x736 Done. (0.036s)\n",
      "video 3/3 (75/251) /cephyr/NOBACKUP/groups/snic2021-6-9/KSO_Medins_pz/movies/quick_temp/000114 TMBL-ROV 2000 Säckenrevet Tape 55_720.mp4: 608x736 Done. (0.036s)\n",
      "video 3/3 (76/251) /cephyr/NOBACKUP/groups/snic2021-6-9/KSO_Medins_pz/movies/quick_temp/000114 TMBL-ROV 2000 Säckenrevet Tape 55_720.mp4: 608x736 Done. (0.036s)\n",
      "video 3/3 (77/251) /cephyr/NOBACKUP/groups/snic2021-6-9/KSO_Medins_pz/movies/quick_temp/000114 TMBL-ROV 2000 Säckenrevet Tape 55_720.mp4: 608x736 Done. (0.036s)\n",
      "video 3/3 (78/251) /cephyr/NOBACKUP/groups/snic2021-6-9/KSO_Medins_pz/movies/quick_temp/000114 TMBL-ROV 2000 Säckenrevet Tape 55_720.mp4: 608x736 Done. (0.036s)\n",
      "video 3/3 (79/251) /cephyr/NOBACKUP/groups/snic2021-6-9/KSO_Medins_pz/movies/quick_temp/000114 TMBL-ROV 2000 Säckenrevet Tape 55_720.mp4: 608x736 Done. (0.036s)\n",
      "video 3/3 (80/251) /cephyr/NOBACKUP/groups/snic2021-6-9/KSO_Medins_pz/movies/quick_temp/000114 TMBL-ROV 2000 Säckenrevet Tape 55_720.mp4: 608x736 Done. (0.036s)\n"
     ]
    },
    {
     "name": "stdout",
     "output_type": "stream",
     "text": [
      "video 3/3 (81/251) /cephyr/NOBACKUP/groups/snic2021-6-9/KSO_Medins_pz/movies/quick_temp/000114 TMBL-ROV 2000 Säckenrevet Tape 55_720.mp4: 608x736 Done. (0.036s)\n",
      "video 3/3 (82/251) /cephyr/NOBACKUP/groups/snic2021-6-9/KSO_Medins_pz/movies/quick_temp/000114 TMBL-ROV 2000 Säckenrevet Tape 55_720.mp4: 608x736 Done. (0.036s)\n",
      "video 3/3 (83/251) /cephyr/NOBACKUP/groups/snic2021-6-9/KSO_Medins_pz/movies/quick_temp/000114 TMBL-ROV 2000 Säckenrevet Tape 55_720.mp4: 608x736 Done. (0.036s)\n",
      "video 3/3 (84/251) /cephyr/NOBACKUP/groups/snic2021-6-9/KSO_Medins_pz/movies/quick_temp/000114 TMBL-ROV 2000 Säckenrevet Tape 55_720.mp4: 608x736 Done. (0.036s)\n",
      "video 3/3 (85/251) /cephyr/NOBACKUP/groups/snic2021-6-9/KSO_Medins_pz/movies/quick_temp/000114 TMBL-ROV 2000 Säckenrevet Tape 55_720.mp4: 608x736 Done. (0.036s)\n",
      "video 3/3 (86/251) /cephyr/NOBACKUP/groups/snic2021-6-9/KSO_Medins_pz/movies/quick_temp/000114 TMBL-ROV 2000 Säckenrevet Tape 55_720.mp4: 608x736 Done. (0.036s)\n",
      "video 3/3 (87/251) /cephyr/NOBACKUP/groups/snic2021-6-9/KSO_Medins_pz/movies/quick_temp/000114 TMBL-ROV 2000 Säckenrevet Tape 55_720.mp4: 608x736 Done. (0.036s)\n",
      "video 3/3 (88/251) /cephyr/NOBACKUP/groups/snic2021-6-9/KSO_Medins_pz/movies/quick_temp/000114 TMBL-ROV 2000 Säckenrevet Tape 55_720.mp4: 608x736 Done. (0.036s)\n",
      "video 3/3 (89/251) /cephyr/NOBACKUP/groups/snic2021-6-9/KSO_Medins_pz/movies/quick_temp/000114 TMBL-ROV 2000 Säckenrevet Tape 55_720.mp4: 608x736 Done. (0.036s)\n",
      "video 3/3 (90/251) /cephyr/NOBACKUP/groups/snic2021-6-9/KSO_Medins_pz/movies/quick_temp/000114 TMBL-ROV 2000 Säckenrevet Tape 55_720.mp4: 608x736 Done. (0.036s)\n",
      "video 3/3 (91/251) /cephyr/NOBACKUP/groups/snic2021-6-9/KSO_Medins_pz/movies/quick_temp/000114 TMBL-ROV 2000 Säckenrevet Tape 55_720.mp4: 608x736 Done. (0.036s)\n",
      "video 3/3 (92/251) /cephyr/NOBACKUP/groups/snic2021-6-9/KSO_Medins_pz/movies/quick_temp/000114 TMBL-ROV 2000 Säckenrevet Tape 55_720.mp4: 608x736 Done. (0.036s)\n",
      "video 3/3 (93/251) /cephyr/NOBACKUP/groups/snic2021-6-9/KSO_Medins_pz/movies/quick_temp/000114 TMBL-ROV 2000 Säckenrevet Tape 55_720.mp4: 608x736 Done. (0.036s)\n",
      "video 3/3 (94/251) /cephyr/NOBACKUP/groups/snic2021-6-9/KSO_Medins_pz/movies/quick_temp/000114 TMBL-ROV 2000 Säckenrevet Tape 55_720.mp4: 608x736 Done. (0.036s)\n",
      "video 3/3 (95/251) /cephyr/NOBACKUP/groups/snic2021-6-9/KSO_Medins_pz/movies/quick_temp/000114 TMBL-ROV 2000 Säckenrevet Tape 55_720.mp4: 608x736 Done. (0.036s)\n",
      "video 3/3 (96/251) /cephyr/NOBACKUP/groups/snic2021-6-9/KSO_Medins_pz/movies/quick_temp/000114 TMBL-ROV 2000 Säckenrevet Tape 55_720.mp4: 608x736 Done. (0.036s)\n",
      "video 3/3 (97/251) /cephyr/NOBACKUP/groups/snic2021-6-9/KSO_Medins_pz/movies/quick_temp/000114 TMBL-ROV 2000 Säckenrevet Tape 55_720.mp4: 608x736 Done. (0.036s)\n",
      "video 3/3 (98/251) /cephyr/NOBACKUP/groups/snic2021-6-9/KSO_Medins_pz/movies/quick_temp/000114 TMBL-ROV 2000 Säckenrevet Tape 55_720.mp4: 608x736 Done. (0.036s)\n",
      "video 3/3 (99/251) /cephyr/NOBACKUP/groups/snic2021-6-9/KSO_Medins_pz/movies/quick_temp/000114 TMBL-ROV 2000 Säckenrevet Tape 55_720.mp4: 608x736 Done. (0.036s)\n",
      "video 3/3 (100/251) /cephyr/NOBACKUP/groups/snic2021-6-9/KSO_Medins_pz/movies/quick_temp/000114 TMBL-ROV 2000 Säckenrevet Tape 55_720.mp4: 608x736 Done. (0.036s)\n",
      "video 3/3 (101/251) /cephyr/NOBACKUP/groups/snic2021-6-9/KSO_Medins_pz/movies/quick_temp/000114 TMBL-ROV 2000 Säckenrevet Tape 55_720.mp4: 608x736 Done. (0.036s)\n",
      "video 3/3 (102/251) /cephyr/NOBACKUP/groups/snic2021-6-9/KSO_Medins_pz/movies/quick_temp/000114 TMBL-ROV 2000 Säckenrevet Tape 55_720.mp4: 608x736 Done. (0.036s)\n",
      "video 3/3 (103/251) /cephyr/NOBACKUP/groups/snic2021-6-9/KSO_Medins_pz/movies/quick_temp/000114 TMBL-ROV 2000 Säckenrevet Tape 55_720.mp4: 608x736 Done. (0.036s)\n",
      "video 3/3 (104/251) /cephyr/NOBACKUP/groups/snic2021-6-9/KSO_Medins_pz/movies/quick_temp/000114 TMBL-ROV 2000 Säckenrevet Tape 55_720.mp4: 608x736 Done. (0.034s)\n",
      "video 3/3 (105/251) /cephyr/NOBACKUP/groups/snic2021-6-9/KSO_Medins_pz/movies/quick_temp/000114 TMBL-ROV 2000 Säckenrevet Tape 55_720.mp4: 608x736 Done. (0.035s)\n",
      "video 3/3 (106/251) /cephyr/NOBACKUP/groups/snic2021-6-9/KSO_Medins_pz/movies/quick_temp/000114 TMBL-ROV 2000 Säckenrevet Tape 55_720.mp4: 608x736 Done. (0.036s)\n",
      "video 3/3 (107/251) /cephyr/NOBACKUP/groups/snic2021-6-9/KSO_Medins_pz/movies/quick_temp/000114 TMBL-ROV 2000 Säckenrevet Tape 55_720.mp4: 608x736 Done. (0.036s)\n",
      "video 3/3 (108/251) /cephyr/NOBACKUP/groups/snic2021-6-9/KSO_Medins_pz/movies/quick_temp/000114 TMBL-ROV 2000 Säckenrevet Tape 55_720.mp4: 608x736 Done. (0.036s)\n",
      "video 3/3 (109/251) /cephyr/NOBACKUP/groups/snic2021-6-9/KSO_Medins_pz/movies/quick_temp/000114 TMBL-ROV 2000 Säckenrevet Tape 55_720.mp4: 608x736 Done. (0.036s)\n",
      "video 3/3 (110/251) /cephyr/NOBACKUP/groups/snic2021-6-9/KSO_Medins_pz/movies/quick_temp/000114 TMBL-ROV 2000 Säckenrevet Tape 55_720.mp4: 608x736 Done. (0.036s)\n",
      "video 3/3 (111/251) /cephyr/NOBACKUP/groups/snic2021-6-9/KSO_Medins_pz/movies/quick_temp/000114 TMBL-ROV 2000 Säckenrevet Tape 55_720.mp4: 608x736 Done. (0.036s)\n",
      "video 3/3 (112/251) /cephyr/NOBACKUP/groups/snic2021-6-9/KSO_Medins_pz/movies/quick_temp/000114 TMBL-ROV 2000 Säckenrevet Tape 55_720.mp4: 608x736 Done. (0.036s)\n",
      "video 3/3 (113/251) /cephyr/NOBACKUP/groups/snic2021-6-9/KSO_Medins_pz/movies/quick_temp/000114 TMBL-ROV 2000 Säckenrevet Tape 55_720.mp4: 608x736 Done. (0.036s)\n",
      "video 3/3 (114/251) /cephyr/NOBACKUP/groups/snic2021-6-9/KSO_Medins_pz/movies/quick_temp/000114 TMBL-ROV 2000 Säckenrevet Tape 55_720.mp4: 608x736 Done. (0.036s)\n",
      "video 3/3 (115/251) /cephyr/NOBACKUP/groups/snic2021-6-9/KSO_Medins_pz/movies/quick_temp/000114 TMBL-ROV 2000 Säckenrevet Tape 55_720.mp4: 608x736 Done. (0.036s)\n",
      "video 3/3 (116/251) /cephyr/NOBACKUP/groups/snic2021-6-9/KSO_Medins_pz/movies/quick_temp/000114 TMBL-ROV 2000 Säckenrevet Tape 55_720.mp4: 608x736 Done. (0.036s)\n",
      "video 3/3 (117/251) /cephyr/NOBACKUP/groups/snic2021-6-9/KSO_Medins_pz/movies/quick_temp/000114 TMBL-ROV 2000 Säckenrevet Tape 55_720.mp4: 608x736 Done. (0.036s)\n",
      "video 3/3 (118/251) /cephyr/NOBACKUP/groups/snic2021-6-9/KSO_Medins_pz/movies/quick_temp/000114 TMBL-ROV 2000 Säckenrevet Tape 55_720.mp4: 608x736 Done. (0.036s)\n",
      "video 3/3 (119/251) /cephyr/NOBACKUP/groups/snic2021-6-9/KSO_Medins_pz/movies/quick_temp/000114 TMBL-ROV 2000 Säckenrevet Tape 55_720.mp4: 608x736 Done. (0.036s)\n",
      "video 3/3 (120/251) /cephyr/NOBACKUP/groups/snic2021-6-9/KSO_Medins_pz/movies/quick_temp/000114 TMBL-ROV 2000 Säckenrevet Tape 55_720.mp4: 608x736 Done. (0.036s)\n",
      "video 3/3 (121/251) /cephyr/NOBACKUP/groups/snic2021-6-9/KSO_Medins_pz/movies/quick_temp/000114 TMBL-ROV 2000 Säckenrevet Tape 55_720.mp4: 608x736 Done. (0.036s)\n",
      "video 3/3 (122/251) /cephyr/NOBACKUP/groups/snic2021-6-9/KSO_Medins_pz/movies/quick_temp/000114 TMBL-ROV 2000 Säckenrevet Tape 55_720.mp4: 608x736 Done. (0.036s)\n",
      "video 3/3 (123/251) /cephyr/NOBACKUP/groups/snic2021-6-9/KSO_Medins_pz/movies/quick_temp/000114 TMBL-ROV 2000 Säckenrevet Tape 55_720.mp4: 608x736 Done. (0.036s)\n",
      "video 3/3 (124/251) /cephyr/NOBACKUP/groups/snic2021-6-9/KSO_Medins_pz/movies/quick_temp/000114 TMBL-ROV 2000 Säckenrevet Tape 55_720.mp4: 608x736 Done. (0.036s)\n",
      "video 3/3 (125/251) /cephyr/NOBACKUP/groups/snic2021-6-9/KSO_Medins_pz/movies/quick_temp/000114 TMBL-ROV 2000 Säckenrevet Tape 55_720.mp4: 608x736 Done. (0.036s)\n",
      "video 3/3 (126/251) /cephyr/NOBACKUP/groups/snic2021-6-9/KSO_Medins_pz/movies/quick_temp/000114 TMBL-ROV 2000 Säckenrevet Tape 55_720.mp4: 608x736 Done. (0.036s)\n",
      "video 3/3 (127/251) /cephyr/NOBACKUP/groups/snic2021-6-9/KSO_Medins_pz/movies/quick_temp/000114 TMBL-ROV 2000 Säckenrevet Tape 55_720.mp4: 608x736 Done. (0.036s)\n",
      "video 3/3 (128/251) /cephyr/NOBACKUP/groups/snic2021-6-9/KSO_Medins_pz/movies/quick_temp/000114 TMBL-ROV 2000 Säckenrevet Tape 55_720.mp4: 608x736 Done. (0.036s)\n",
      "video 3/3 (129/251) /cephyr/NOBACKUP/groups/snic2021-6-9/KSO_Medins_pz/movies/quick_temp/000114 TMBL-ROV 2000 Säckenrevet Tape 55_720.mp4: 608x736 Done. (0.036s)\n",
      "video 3/3 (130/251) /cephyr/NOBACKUP/groups/snic2021-6-9/KSO_Medins_pz/movies/quick_temp/000114 TMBL-ROV 2000 Säckenrevet Tape 55_720.mp4: 608x736 Done. (0.036s)\n",
      "video 3/3 (131/251) /cephyr/NOBACKUP/groups/snic2021-6-9/KSO_Medins_pz/movies/quick_temp/000114 TMBL-ROV 2000 Säckenrevet Tape 55_720.mp4: 608x736 Done. (0.036s)\n"
     ]
    },
    {
     "name": "stdout",
     "output_type": "stream",
     "text": [
      "video 3/3 (132/251) /cephyr/NOBACKUP/groups/snic2021-6-9/KSO_Medins_pz/movies/quick_temp/000114 TMBL-ROV 2000 Säckenrevet Tape 55_720.mp4: 608x736 Done. (0.036s)\n",
      "video 3/3 (133/251) /cephyr/NOBACKUP/groups/snic2021-6-9/KSO_Medins_pz/movies/quick_temp/000114 TMBL-ROV 2000 Säckenrevet Tape 55_720.mp4: 608x736 Done. (0.036s)\n",
      "video 3/3 (134/251) /cephyr/NOBACKUP/groups/snic2021-6-9/KSO_Medins_pz/movies/quick_temp/000114 TMBL-ROV 2000 Säckenrevet Tape 55_720.mp4: 608x736 Done. (0.036s)\n",
      "video 3/3 (135/251) /cephyr/NOBACKUP/groups/snic2021-6-9/KSO_Medins_pz/movies/quick_temp/000114 TMBL-ROV 2000 Säckenrevet Tape 55_720.mp4: 608x736 Done. (0.036s)\n",
      "video 3/3 (136/251) /cephyr/NOBACKUP/groups/snic2021-6-9/KSO_Medins_pz/movies/quick_temp/000114 TMBL-ROV 2000 Säckenrevet Tape 55_720.mp4: 608x736 Done. (0.036s)\n",
      "video 3/3 (137/251) /cephyr/NOBACKUP/groups/snic2021-6-9/KSO_Medins_pz/movies/quick_temp/000114 TMBL-ROV 2000 Säckenrevet Tape 55_720.mp4: 608x736 Done. (0.036s)\n",
      "video 3/3 (138/251) /cephyr/NOBACKUP/groups/snic2021-6-9/KSO_Medins_pz/movies/quick_temp/000114 TMBL-ROV 2000 Säckenrevet Tape 55_720.mp4: 608x736 Done. (0.036s)\n",
      "video 3/3 (139/251) /cephyr/NOBACKUP/groups/snic2021-6-9/KSO_Medins_pz/movies/quick_temp/000114 TMBL-ROV 2000 Säckenrevet Tape 55_720.mp4: 608x736 Done. (0.036s)\n",
      "video 3/3 (140/251) /cephyr/NOBACKUP/groups/snic2021-6-9/KSO_Medins_pz/movies/quick_temp/000114 TMBL-ROV 2000 Säckenrevet Tape 55_720.mp4: 608x736 Done. (0.036s)\n",
      "video 3/3 (141/251) /cephyr/NOBACKUP/groups/snic2021-6-9/KSO_Medins_pz/movies/quick_temp/000114 TMBL-ROV 2000 Säckenrevet Tape 55_720.mp4: 608x736 Done. (0.036s)\n",
      "video 3/3 (142/251) /cephyr/NOBACKUP/groups/snic2021-6-9/KSO_Medins_pz/movies/quick_temp/000114 TMBL-ROV 2000 Säckenrevet Tape 55_720.mp4: 608x736 Done. (0.036s)\n",
      "video 3/3 (143/251) /cephyr/NOBACKUP/groups/snic2021-6-9/KSO_Medins_pz/movies/quick_temp/000114 TMBL-ROV 2000 Säckenrevet Tape 55_720.mp4: 608x736 Done. (0.036s)\n",
      "video 3/3 (144/251) /cephyr/NOBACKUP/groups/snic2021-6-9/KSO_Medins_pz/movies/quick_temp/000114 TMBL-ROV 2000 Säckenrevet Tape 55_720.mp4: 608x736 Done. (0.036s)\n",
      "video 3/3 (145/251) /cephyr/NOBACKUP/groups/snic2021-6-9/KSO_Medins_pz/movies/quick_temp/000114 TMBL-ROV 2000 Säckenrevet Tape 55_720.mp4: 608x736 Done. (0.036s)\n",
      "video 3/3 (146/251) /cephyr/NOBACKUP/groups/snic2021-6-9/KSO_Medins_pz/movies/quick_temp/000114 TMBL-ROV 2000 Säckenrevet Tape 55_720.mp4: 608x736 Done. (0.036s)\n",
      "video 3/3 (147/251) /cephyr/NOBACKUP/groups/snic2021-6-9/KSO_Medins_pz/movies/quick_temp/000114 TMBL-ROV 2000 Säckenrevet Tape 55_720.mp4: 608x736 Done. (0.036s)\n",
      "video 3/3 (148/251) /cephyr/NOBACKUP/groups/snic2021-6-9/KSO_Medins_pz/movies/quick_temp/000114 TMBL-ROV 2000 Säckenrevet Tape 55_720.mp4: 608x736 Done. (0.036s)\n",
      "video 3/3 (149/251) /cephyr/NOBACKUP/groups/snic2021-6-9/KSO_Medins_pz/movies/quick_temp/000114 TMBL-ROV 2000 Säckenrevet Tape 55_720.mp4: 608x736 Done. (0.036s)\n",
      "video 3/3 (150/251) /cephyr/NOBACKUP/groups/snic2021-6-9/KSO_Medins_pz/movies/quick_temp/000114 TMBL-ROV 2000 Säckenrevet Tape 55_720.mp4: 608x736 Done. (0.036s)\n",
      "video 3/3 (151/251) /cephyr/NOBACKUP/groups/snic2021-6-9/KSO_Medins_pz/movies/quick_temp/000114 TMBL-ROV 2000 Säckenrevet Tape 55_720.mp4: 608x736 Done. (0.036s)\n",
      "video 3/3 (152/251) /cephyr/NOBACKUP/groups/snic2021-6-9/KSO_Medins_pz/movies/quick_temp/000114 TMBL-ROV 2000 Säckenrevet Tape 55_720.mp4: 608x736 Done. (0.036s)\n",
      "video 3/3 (153/251) /cephyr/NOBACKUP/groups/snic2021-6-9/KSO_Medins_pz/movies/quick_temp/000114 TMBL-ROV 2000 Säckenrevet Tape 55_720.mp4: 608x736 Done. (0.036s)\n",
      "video 3/3 (154/251) /cephyr/NOBACKUP/groups/snic2021-6-9/KSO_Medins_pz/movies/quick_temp/000114 TMBL-ROV 2000 Säckenrevet Tape 55_720.mp4: 608x736 Done. (0.036s)\n",
      "video 3/3 (155/251) /cephyr/NOBACKUP/groups/snic2021-6-9/KSO_Medins_pz/movies/quick_temp/000114 TMBL-ROV 2000 Säckenrevet Tape 55_720.mp4: 608x736 Done. (0.036s)\n",
      "video 3/3 (156/251) /cephyr/NOBACKUP/groups/snic2021-6-9/KSO_Medins_pz/movies/quick_temp/000114 TMBL-ROV 2000 Säckenrevet Tape 55_720.mp4: 608x736 Done. (0.036s)\n",
      "video 3/3 (157/251) /cephyr/NOBACKUP/groups/snic2021-6-9/KSO_Medins_pz/movies/quick_temp/000114 TMBL-ROV 2000 Säckenrevet Tape 55_720.mp4: 608x736 Done. (0.036s)\n",
      "video 3/3 (158/251) /cephyr/NOBACKUP/groups/snic2021-6-9/KSO_Medins_pz/movies/quick_temp/000114 TMBL-ROV 2000 Säckenrevet Tape 55_720.mp4: 608x736 Done. (0.036s)\n",
      "video 3/3 (159/251) /cephyr/NOBACKUP/groups/snic2021-6-9/KSO_Medins_pz/movies/quick_temp/000114 TMBL-ROV 2000 Säckenrevet Tape 55_720.mp4: 608x736 Done. (0.036s)\n",
      "video 3/3 (160/251) /cephyr/NOBACKUP/groups/snic2021-6-9/KSO_Medins_pz/movies/quick_temp/000114 TMBL-ROV 2000 Säckenrevet Tape 55_720.mp4: 608x736 Done. (0.036s)\n",
      "video 3/3 (161/251) /cephyr/NOBACKUP/groups/snic2021-6-9/KSO_Medins_pz/movies/quick_temp/000114 TMBL-ROV 2000 Säckenrevet Tape 55_720.mp4: 608x736 Done. (0.036s)\n",
      "video 3/3 (162/251) /cephyr/NOBACKUP/groups/snic2021-6-9/KSO_Medins_pz/movies/quick_temp/000114 TMBL-ROV 2000 Säckenrevet Tape 55_720.mp4: 608x736 Done. (0.036s)\n",
      "video 3/3 (163/251) /cephyr/NOBACKUP/groups/snic2021-6-9/KSO_Medins_pz/movies/quick_temp/000114 TMBL-ROV 2000 Säckenrevet Tape 55_720.mp4: 608x736 Done. (0.036s)\n",
      "video 3/3 (164/251) /cephyr/NOBACKUP/groups/snic2021-6-9/KSO_Medins_pz/movies/quick_temp/000114 TMBL-ROV 2000 Säckenrevet Tape 55_720.mp4: 608x736 Done. (0.036s)\n",
      "video 3/3 (165/251) /cephyr/NOBACKUP/groups/snic2021-6-9/KSO_Medins_pz/movies/quick_temp/000114 TMBL-ROV 2000 Säckenrevet Tape 55_720.mp4: 608x736 Done. (0.036s)\n",
      "video 3/3 (166/251) /cephyr/NOBACKUP/groups/snic2021-6-9/KSO_Medins_pz/movies/quick_temp/000114 TMBL-ROV 2000 Säckenrevet Tape 55_720.mp4: 608x736 Done. (0.036s)\n",
      "video 3/3 (167/251) /cephyr/NOBACKUP/groups/snic2021-6-9/KSO_Medins_pz/movies/quick_temp/000114 TMBL-ROV 2000 Säckenrevet Tape 55_720.mp4: 608x736 Done. (0.036s)\n",
      "video 3/3 (168/251) /cephyr/NOBACKUP/groups/snic2021-6-9/KSO_Medins_pz/movies/quick_temp/000114 TMBL-ROV 2000 Säckenrevet Tape 55_720.mp4: 608x736 Done. (0.036s)\n",
      "video 3/3 (169/251) /cephyr/NOBACKUP/groups/snic2021-6-9/KSO_Medins_pz/movies/quick_temp/000114 TMBL-ROV 2000 Säckenrevet Tape 55_720.mp4: 608x736 Done. (0.036s)\n",
      "video 3/3 (170/251) /cephyr/NOBACKUP/groups/snic2021-6-9/KSO_Medins_pz/movies/quick_temp/000114 TMBL-ROV 2000 Säckenrevet Tape 55_720.mp4: 608x736 Done. (0.036s)\n",
      "video 3/3 (171/251) /cephyr/NOBACKUP/groups/snic2021-6-9/KSO_Medins_pz/movies/quick_temp/000114 TMBL-ROV 2000 Säckenrevet Tape 55_720.mp4: 608x736 Done. (0.036s)\n",
      "video 3/3 (172/251) /cephyr/NOBACKUP/groups/snic2021-6-9/KSO_Medins_pz/movies/quick_temp/000114 TMBL-ROV 2000 Säckenrevet Tape 55_720.mp4: 608x736 Done. (0.036s)\n",
      "video 3/3 (173/251) /cephyr/NOBACKUP/groups/snic2021-6-9/KSO_Medins_pz/movies/quick_temp/000114 TMBL-ROV 2000 Säckenrevet Tape 55_720.mp4: 608x736 Done. (0.036s)\n",
      "video 3/3 (174/251) /cephyr/NOBACKUP/groups/snic2021-6-9/KSO_Medins_pz/movies/quick_temp/000114 TMBL-ROV 2000 Säckenrevet Tape 55_720.mp4: 608x736 Done. (0.036s)\n",
      "video 3/3 (175/251) /cephyr/NOBACKUP/groups/snic2021-6-9/KSO_Medins_pz/movies/quick_temp/000114 TMBL-ROV 2000 Säckenrevet Tape 55_720.mp4: 608x736 Done. (0.036s)\n",
      "video 3/3 (176/251) /cephyr/NOBACKUP/groups/snic2021-6-9/KSO_Medins_pz/movies/quick_temp/000114 TMBL-ROV 2000 Säckenrevet Tape 55_720.mp4: 608x736 Done. (0.036s)\n",
      "video 3/3 (177/251) /cephyr/NOBACKUP/groups/snic2021-6-9/KSO_Medins_pz/movies/quick_temp/000114 TMBL-ROV 2000 Säckenrevet Tape 55_720.mp4: 608x736 Done. (0.036s)\n",
      "video 3/3 (178/251) /cephyr/NOBACKUP/groups/snic2021-6-9/KSO_Medins_pz/movies/quick_temp/000114 TMBL-ROV 2000 Säckenrevet Tape 55_720.mp4: 608x736 Done. (0.036s)\n",
      "video 3/3 (179/251) /cephyr/NOBACKUP/groups/snic2021-6-9/KSO_Medins_pz/movies/quick_temp/000114 TMBL-ROV 2000 Säckenrevet Tape 55_720.mp4: 608x736 Done. (0.036s)\n",
      "video 3/3 (180/251) /cephyr/NOBACKUP/groups/snic2021-6-9/KSO_Medins_pz/movies/quick_temp/000114 TMBL-ROV 2000 Säckenrevet Tape 55_720.mp4: 608x736 Done. (0.036s)\n",
      "video 3/3 (181/251) /cephyr/NOBACKUP/groups/snic2021-6-9/KSO_Medins_pz/movies/quick_temp/000114 TMBL-ROV 2000 Säckenrevet Tape 55_720.mp4: 608x736 Done. (0.036s)\n",
      "video 3/3 (182/251) /cephyr/NOBACKUP/groups/snic2021-6-9/KSO_Medins_pz/movies/quick_temp/000114 TMBL-ROV 2000 Säckenrevet Tape 55_720.mp4: 608x736 Done. (0.036s)\n"
     ]
    },
    {
     "name": "stdout",
     "output_type": "stream",
     "text": [
      "video 3/3 (183/251) /cephyr/NOBACKUP/groups/snic2021-6-9/KSO_Medins_pz/movies/quick_temp/000114 TMBL-ROV 2000 Säckenrevet Tape 55_720.mp4: 608x736 Done. (0.036s)\n",
      "video 3/3 (184/251) /cephyr/NOBACKUP/groups/snic2021-6-9/KSO_Medins_pz/movies/quick_temp/000114 TMBL-ROV 2000 Säckenrevet Tape 55_720.mp4: 608x736 Done. (0.036s)\n",
      "video 3/3 (185/251) /cephyr/NOBACKUP/groups/snic2021-6-9/KSO_Medins_pz/movies/quick_temp/000114 TMBL-ROV 2000 Säckenrevet Tape 55_720.mp4: 608x736 Done. (0.036s)\n",
      "video 3/3 (186/251) /cephyr/NOBACKUP/groups/snic2021-6-9/KSO_Medins_pz/movies/quick_temp/000114 TMBL-ROV 2000 Säckenrevet Tape 55_720.mp4: 608x736 Done. (0.036s)\n",
      "video 3/3 (187/251) /cephyr/NOBACKUP/groups/snic2021-6-9/KSO_Medins_pz/movies/quick_temp/000114 TMBL-ROV 2000 Säckenrevet Tape 55_720.mp4: 608x736 Done. (0.036s)\n",
      "video 3/3 (188/251) /cephyr/NOBACKUP/groups/snic2021-6-9/KSO_Medins_pz/movies/quick_temp/000114 TMBL-ROV 2000 Säckenrevet Tape 55_720.mp4: 608x736 Done. (0.036s)\n",
      "video 3/3 (189/251) /cephyr/NOBACKUP/groups/snic2021-6-9/KSO_Medins_pz/movies/quick_temp/000114 TMBL-ROV 2000 Säckenrevet Tape 55_720.mp4: 608x736 Done. (0.036s)\n",
      "video 3/3 (190/251) /cephyr/NOBACKUP/groups/snic2021-6-9/KSO_Medins_pz/movies/quick_temp/000114 TMBL-ROV 2000 Säckenrevet Tape 55_720.mp4: 608x736 Done. (0.036s)\n",
      "video 3/3 (191/251) /cephyr/NOBACKUP/groups/snic2021-6-9/KSO_Medins_pz/movies/quick_temp/000114 TMBL-ROV 2000 Säckenrevet Tape 55_720.mp4: 608x736 Done. (0.036s)\n",
      "video 3/3 (192/251) /cephyr/NOBACKUP/groups/snic2021-6-9/KSO_Medins_pz/movies/quick_temp/000114 TMBL-ROV 2000 Säckenrevet Tape 55_720.mp4: 608x736 Done. (0.036s)\n",
      "video 3/3 (193/251) /cephyr/NOBACKUP/groups/snic2021-6-9/KSO_Medins_pz/movies/quick_temp/000114 TMBL-ROV 2000 Säckenrevet Tape 55_720.mp4: 608x736 Done. (0.036s)\n",
      "video 3/3 (194/251) /cephyr/NOBACKUP/groups/snic2021-6-9/KSO_Medins_pz/movies/quick_temp/000114 TMBL-ROV 2000 Säckenrevet Tape 55_720.mp4: 608x736 Done. (0.036s)\n",
      "video 3/3 (195/251) /cephyr/NOBACKUP/groups/snic2021-6-9/KSO_Medins_pz/movies/quick_temp/000114 TMBL-ROV 2000 Säckenrevet Tape 55_720.mp4: 608x736 Done. (0.036s)\n",
      "video 3/3 (196/251) /cephyr/NOBACKUP/groups/snic2021-6-9/KSO_Medins_pz/movies/quick_temp/000114 TMBL-ROV 2000 Säckenrevet Tape 55_720.mp4: 608x736 Done. (0.036s)\n",
      "video 3/3 (197/251) /cephyr/NOBACKUP/groups/snic2021-6-9/KSO_Medins_pz/movies/quick_temp/000114 TMBL-ROV 2000 Säckenrevet Tape 55_720.mp4: 608x736 Done. (0.036s)\n",
      "video 3/3 (198/251) /cephyr/NOBACKUP/groups/snic2021-6-9/KSO_Medins_pz/movies/quick_temp/000114 TMBL-ROV 2000 Säckenrevet Tape 55_720.mp4: 608x736 Done. (0.036s)\n",
      "video 3/3 (199/251) /cephyr/NOBACKUP/groups/snic2021-6-9/KSO_Medins_pz/movies/quick_temp/000114 TMBL-ROV 2000 Säckenrevet Tape 55_720.mp4: 608x736 Done. (0.036s)\n",
      "video 3/3 (200/251) /cephyr/NOBACKUP/groups/snic2021-6-9/KSO_Medins_pz/movies/quick_temp/000114 TMBL-ROV 2000 Säckenrevet Tape 55_720.mp4: 608x736 Done. (0.036s)\n",
      "video 3/3 (201/251) /cephyr/NOBACKUP/groups/snic2021-6-9/KSO_Medins_pz/movies/quick_temp/000114 TMBL-ROV 2000 Säckenrevet Tape 55_720.mp4: 608x736 Done. (0.036s)\n",
      "video 3/3 (202/251) /cephyr/NOBACKUP/groups/snic2021-6-9/KSO_Medins_pz/movies/quick_temp/000114 TMBL-ROV 2000 Säckenrevet Tape 55_720.mp4: 608x736 Done. (0.036s)\n",
      "video 3/3 (203/251) /cephyr/NOBACKUP/groups/snic2021-6-9/KSO_Medins_pz/movies/quick_temp/000114 TMBL-ROV 2000 Säckenrevet Tape 55_720.mp4: 608x736 Done. (0.036s)\n",
      "video 3/3 (204/251) /cephyr/NOBACKUP/groups/snic2021-6-9/KSO_Medins_pz/movies/quick_temp/000114 TMBL-ROV 2000 Säckenrevet Tape 55_720.mp4: 608x736 Done. (0.036s)\n",
      "video 3/3 (205/251) /cephyr/NOBACKUP/groups/snic2021-6-9/KSO_Medins_pz/movies/quick_temp/000114 TMBL-ROV 2000 Säckenrevet Tape 55_720.mp4: 608x736 Done. (0.036s)\n",
      "video 3/3 (206/251) /cephyr/NOBACKUP/groups/snic2021-6-9/KSO_Medins_pz/movies/quick_temp/000114 TMBL-ROV 2000 Säckenrevet Tape 55_720.mp4: 608x736 Done. (0.036s)\n",
      "video 3/3 (207/251) /cephyr/NOBACKUP/groups/snic2021-6-9/KSO_Medins_pz/movies/quick_temp/000114 TMBL-ROV 2000 Säckenrevet Tape 55_720.mp4: 608x736 Done. (0.036s)\n",
      "video 3/3 (208/251) /cephyr/NOBACKUP/groups/snic2021-6-9/KSO_Medins_pz/movies/quick_temp/000114 TMBL-ROV 2000 Säckenrevet Tape 55_720.mp4: 608x736 Done. (0.036s)\n",
      "video 3/3 (209/251) /cephyr/NOBACKUP/groups/snic2021-6-9/KSO_Medins_pz/movies/quick_temp/000114 TMBL-ROV 2000 Säckenrevet Tape 55_720.mp4: 608x736 Done. (0.036s)\n",
      "video 3/3 (210/251) /cephyr/NOBACKUP/groups/snic2021-6-9/KSO_Medins_pz/movies/quick_temp/000114 TMBL-ROV 2000 Säckenrevet Tape 55_720.mp4: 608x736 Done. (0.036s)\n",
      "video 3/3 (211/251) /cephyr/NOBACKUP/groups/snic2021-6-9/KSO_Medins_pz/movies/quick_temp/000114 TMBL-ROV 2000 Säckenrevet Tape 55_720.mp4: 608x736 Done. (0.036s)\n",
      "video 3/3 (212/251) /cephyr/NOBACKUP/groups/snic2021-6-9/KSO_Medins_pz/movies/quick_temp/000114 TMBL-ROV 2000 Säckenrevet Tape 55_720.mp4: 608x736 Done. (0.036s)\n",
      "video 3/3 (213/251) /cephyr/NOBACKUP/groups/snic2021-6-9/KSO_Medins_pz/movies/quick_temp/000114 TMBL-ROV 2000 Säckenrevet Tape 55_720.mp4: 608x736 Done. (0.036s)\n",
      "video 3/3 (214/251) /cephyr/NOBACKUP/groups/snic2021-6-9/KSO_Medins_pz/movies/quick_temp/000114 TMBL-ROV 2000 Säckenrevet Tape 55_720.mp4: 608x736 Done. (0.036s)\n",
      "video 3/3 (215/251) /cephyr/NOBACKUP/groups/snic2021-6-9/KSO_Medins_pz/movies/quick_temp/000114 TMBL-ROV 2000 Säckenrevet Tape 55_720.mp4: 608x736 Done. (0.036s)\n",
      "video 3/3 (216/251) /cephyr/NOBACKUP/groups/snic2021-6-9/KSO_Medins_pz/movies/quick_temp/000114 TMBL-ROV 2000 Säckenrevet Tape 55_720.mp4: 608x736 Done. (0.036s)\n",
      "video 3/3 (217/251) /cephyr/NOBACKUP/groups/snic2021-6-9/KSO_Medins_pz/movies/quick_temp/000114 TMBL-ROV 2000 Säckenrevet Tape 55_720.mp4: 608x736 Done. (0.036s)\n",
      "video 3/3 (218/251) /cephyr/NOBACKUP/groups/snic2021-6-9/KSO_Medins_pz/movies/quick_temp/000114 TMBL-ROV 2000 Säckenrevet Tape 55_720.mp4: 608x736 Done. (0.036s)\n",
      "video 3/3 (219/251) /cephyr/NOBACKUP/groups/snic2021-6-9/KSO_Medins_pz/movies/quick_temp/000114 TMBL-ROV 2000 Säckenrevet Tape 55_720.mp4: 608x736 Done. (0.036s)\n",
      "video 3/3 (220/251) /cephyr/NOBACKUP/groups/snic2021-6-9/KSO_Medins_pz/movies/quick_temp/000114 TMBL-ROV 2000 Säckenrevet Tape 55_720.mp4: 608x736 Done. (0.036s)\n",
      "video 3/3 (221/251) /cephyr/NOBACKUP/groups/snic2021-6-9/KSO_Medins_pz/movies/quick_temp/000114 TMBL-ROV 2000 Säckenrevet Tape 55_720.mp4: 608x736 Done. (0.036s)\n",
      "video 3/3 (222/251) /cephyr/NOBACKUP/groups/snic2021-6-9/KSO_Medins_pz/movies/quick_temp/000114 TMBL-ROV 2000 Säckenrevet Tape 55_720.mp4: 608x736 Done. (0.036s)\n",
      "video 3/3 (223/251) /cephyr/NOBACKUP/groups/snic2021-6-9/KSO_Medins_pz/movies/quick_temp/000114 TMBL-ROV 2000 Säckenrevet Tape 55_720.mp4: 608x736 Done. (0.036s)\n",
      "video 3/3 (224/251) /cephyr/NOBACKUP/groups/snic2021-6-9/KSO_Medins_pz/movies/quick_temp/000114 TMBL-ROV 2000 Säckenrevet Tape 55_720.mp4: 608x736 Done. (0.036s)\n",
      "video 3/3 (225/251) /cephyr/NOBACKUP/groups/snic2021-6-9/KSO_Medins_pz/movies/quick_temp/000114 TMBL-ROV 2000 Säckenrevet Tape 55_720.mp4: 608x736 Done. (0.036s)\n",
      "video 3/3 (226/251) /cephyr/NOBACKUP/groups/snic2021-6-9/KSO_Medins_pz/movies/quick_temp/000114 TMBL-ROV 2000 Säckenrevet Tape 55_720.mp4: 608x736 Done. (0.036s)\n",
      "video 3/3 (227/251) /cephyr/NOBACKUP/groups/snic2021-6-9/KSO_Medins_pz/movies/quick_temp/000114 TMBL-ROV 2000 Säckenrevet Tape 55_720.mp4: 608x736 Done. (0.036s)\n",
      "video 3/3 (228/251) /cephyr/NOBACKUP/groups/snic2021-6-9/KSO_Medins_pz/movies/quick_temp/000114 TMBL-ROV 2000 Säckenrevet Tape 55_720.mp4: 608x736 Done. (0.036s)\n",
      "video 3/3 (229/251) /cephyr/NOBACKUP/groups/snic2021-6-9/KSO_Medins_pz/movies/quick_temp/000114 TMBL-ROV 2000 Säckenrevet Tape 55_720.mp4: 608x736 Done. (0.036s)\n",
      "video 3/3 (230/251) /cephyr/NOBACKUP/groups/snic2021-6-9/KSO_Medins_pz/movies/quick_temp/000114 TMBL-ROV 2000 Säckenrevet Tape 55_720.mp4: 608x736 Done. (0.036s)\n",
      "video 3/3 (231/251) /cephyr/NOBACKUP/groups/snic2021-6-9/KSO_Medins_pz/movies/quick_temp/000114 TMBL-ROV 2000 Säckenrevet Tape 55_720.mp4: 608x736 Done. (0.036s)\n",
      "video 3/3 (232/251) /cephyr/NOBACKUP/groups/snic2021-6-9/KSO_Medins_pz/movies/quick_temp/000114 TMBL-ROV 2000 Säckenrevet Tape 55_720.mp4: 608x736 Done. (0.036s)\n",
      "video 3/3 (233/251) /cephyr/NOBACKUP/groups/snic2021-6-9/KSO_Medins_pz/movies/quick_temp/000114 TMBL-ROV 2000 Säckenrevet Tape 55_720.mp4: 608x736 Done. (0.036s)\n"
     ]
    },
    {
     "name": "stdout",
     "output_type": "stream",
     "text": [
      "video 3/3 (234/251) /cephyr/NOBACKUP/groups/snic2021-6-9/KSO_Medins_pz/movies/quick_temp/000114 TMBL-ROV 2000 Säckenrevet Tape 55_720.mp4: 608x736 Done. (0.036s)\n",
      "video 3/3 (235/251) /cephyr/NOBACKUP/groups/snic2021-6-9/KSO_Medins_pz/movies/quick_temp/000114 TMBL-ROV 2000 Säckenrevet Tape 55_720.mp4: 608x736 Done. (0.036s)\n",
      "video 3/3 (236/251) /cephyr/NOBACKUP/groups/snic2021-6-9/KSO_Medins_pz/movies/quick_temp/000114 TMBL-ROV 2000 Säckenrevet Tape 55_720.mp4: 608x736 Done. (0.036s)\n",
      "video 3/3 (237/251) /cephyr/NOBACKUP/groups/snic2021-6-9/KSO_Medins_pz/movies/quick_temp/000114 TMBL-ROV 2000 Säckenrevet Tape 55_720.mp4: 608x736 Done. (0.036s)\n",
      "video 3/3 (238/251) /cephyr/NOBACKUP/groups/snic2021-6-9/KSO_Medins_pz/movies/quick_temp/000114 TMBL-ROV 2000 Säckenrevet Tape 55_720.mp4: 608x736 Done. (0.036s)\n",
      "video 3/3 (239/251) /cephyr/NOBACKUP/groups/snic2021-6-9/KSO_Medins_pz/movies/quick_temp/000114 TMBL-ROV 2000 Säckenrevet Tape 55_720.mp4: 608x736 Done. (0.036s)\n",
      "video 3/3 (240/251) /cephyr/NOBACKUP/groups/snic2021-6-9/KSO_Medins_pz/movies/quick_temp/000114 TMBL-ROV 2000 Säckenrevet Tape 55_720.mp4: 608x736 Done. (0.036s)\n",
      "video 3/3 (241/251) /cephyr/NOBACKUP/groups/snic2021-6-9/KSO_Medins_pz/movies/quick_temp/000114 TMBL-ROV 2000 Säckenrevet Tape 55_720.mp4: 608x736 Done. (0.036s)\n",
      "video 3/3 (242/251) /cephyr/NOBACKUP/groups/snic2021-6-9/KSO_Medins_pz/movies/quick_temp/000114 TMBL-ROV 2000 Säckenrevet Tape 55_720.mp4: 608x736 Done. (0.036s)\n",
      "video 3/3 (243/251) /cephyr/NOBACKUP/groups/snic2021-6-9/KSO_Medins_pz/movies/quick_temp/000114 TMBL-ROV 2000 Säckenrevet Tape 55_720.mp4: 608x736 Done. (0.036s)\n",
      "video 3/3 (244/251) /cephyr/NOBACKUP/groups/snic2021-6-9/KSO_Medins_pz/movies/quick_temp/000114 TMBL-ROV 2000 Säckenrevet Tape 55_720.mp4: 608x736 Done. (0.036s)\n",
      "video 3/3 (245/251) /cephyr/NOBACKUP/groups/snic2021-6-9/KSO_Medins_pz/movies/quick_temp/000114 TMBL-ROV 2000 Säckenrevet Tape 55_720.mp4: 608x736 Done. (0.036s)\n",
      "video 3/3 (246/251) /cephyr/NOBACKUP/groups/snic2021-6-9/KSO_Medins_pz/movies/quick_temp/000114 TMBL-ROV 2000 Säckenrevet Tape 55_720.mp4: 608x736 Done. (0.036s)\n",
      "video 3/3 (247/251) /cephyr/NOBACKUP/groups/snic2021-6-9/KSO_Medins_pz/movies/quick_temp/000114 TMBL-ROV 2000 Säckenrevet Tape 55_720.mp4: 608x736 Done. (0.036s)\n",
      "video 3/3 (248/251) /cephyr/NOBACKUP/groups/snic2021-6-9/KSO_Medins_pz/movies/quick_temp/000114 TMBL-ROV 2000 Säckenrevet Tape 55_720.mp4: 608x736 Done. (0.036s)\n",
      "video 3/3 (249/251) /cephyr/NOBACKUP/groups/snic2021-6-9/KSO_Medins_pz/movies/quick_temp/000114 TMBL-ROV 2000 Säckenrevet Tape 55_720.mp4: 608x736 Done. (0.036s)\n",
      "video 3/3 (250/251) /cephyr/NOBACKUP/groups/snic2021-6-9/KSO_Medins_pz/movies/quick_temp/000114 TMBL-ROV 2000 Säckenrevet Tape 55_720.mp4: 608x736 Done. (0.036s)\n",
      "video 3/3 (251/251) /cephyr/NOBACKUP/groups/snic2021-6-9/KSO_Medins_pz/movies/quick_temp/000114 TMBL-ROV 2000 Säckenrevet Tape 55_720.mp4: 608x736 Done. (0.036s)\n",
      "Results saved to /cephyr/NOBACKUP/groups/snic2021-6-9/tmp_dir/medins_runs/detect10\n",
      "0 labels saved to /cephyr/NOBACKUP/groups/snic2021-6-9/tmp_dir/medins_runs/detect10/labels\n",
      "Done. (287.697s)\n"
     ]
    }
   ],
   "source": [
    "detect.run(weights=artifact_dir+\"/best.pt\", \n",
    "           source=fc.selected,\n",
    "           imgsz=720, conf_thres=0.7, save_txt=True, \n",
    "           project=save_dir.selected,\n",
    "           name=\"detect\")"
   ]
  },
  {
   "cell_type": "markdown",
   "id": "19fd1c41",
   "metadata": {},
   "source": [
    "### View model output"
   ]
  },
  {
   "cell_type": "code",
   "execution_count": 187,
   "id": "890ce983",
   "metadata": {
    "scrolled": true
   },
   "outputs": [
    {
     "data": {
      "application/vnd.jupyter.widget-view+json": {
       "model_id": "3edfa8995364426abe905014e21070c8",
       "version_major": 2,
       "version_minor": 0
      },
      "text/plain": [
       "FileChooser(path='/cephyr/NOBACKUP/groups/snic2021-6-9/tmp_dir/medins_runs', filename='', title='HTML(value='C…"
      ]
     },
     "metadata": {},
     "output_type": "display_data"
    }
   ],
   "source": [
    "eval_dir = t_utils.choose_folder(\"/cephyr/NOBACKUP/groups/snic2021-6-9/tmp_dir/medins_runs/\", \"runs output\")"
   ]
  },
  {
   "cell_type": "code",
   "execution_count": 188,
   "id": "4d54a6b8",
   "metadata": {
    "scrolled": false
   },
   "outputs": [
    {
     "data": {
      "application/vnd.jupyter.widget-view+json": {
       "model_id": "16320c8b98f34797a1cbcaa825ce5b56",
       "version_major": 2,
       "version_minor": 0
      },
      "text/plain": [
       "Dropdown(description='Select file:', layout=Layout(width='50%'), options=('/cephyr/NOBACKUP/groups/snic2021-6-…"
      ]
     },
     "metadata": {},
     "output_type": "display_data"
    },
    {
     "data": {
      "application/vnd.jupyter.widget-view+json": {
       "model_id": "62866b24673e49ddb8ff6156aaa44f6f",
       "version_major": 2,
       "version_minor": 0
      },
      "text/plain": [
       "Output()"
      ]
     },
     "metadata": {},
     "output_type": "display_data"
    }
   ],
   "source": [
    "t6.choose_files(eval_dir.selected)"
   ]
  },
  {
   "cell_type": "code",
   "execution_count": null,
   "id": "racial-richardson",
   "metadata": {},
   "outputs": [],
   "source": [
    "# END "
   ]
  }
 ],
 "metadata": {
  "kernelspec": {
   "display_name": "Python 3",
   "language": "python",
   "name": "python3"
  },
  "language_info": {
   "codemirror_mode": {
    "name": "ipython",
    "version": 3
   },
   "file_extension": ".py",
   "mimetype": "text/x-python",
   "name": "python",
   "nbconvert_exporter": "python",
   "pygments_lexer": "ipython3",
   "version": "3.8.8"
  }
 },
 "nbformat": 4,
 "nbformat_minor": 5
}
